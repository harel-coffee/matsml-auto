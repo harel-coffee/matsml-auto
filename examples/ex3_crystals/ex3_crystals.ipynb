{
 "cells": [
  {
   "cell_type": "markdown",
   "metadata": {},
   "source": [
    "# Example 2: Fingerprint atomic crystal structures and learning their energy \n",
    "\n",
    "#### Huan Tran\n",
    "\n",
    "The main objective of this example is to get a small dataset of atomic crystal structures and their energy, fingerprint them, and develop some ML models using different learning algorithms. "
   ]
  },
  {
   "cell_type": "markdown",
   "metadata": {},
   "source": [
    "### 1. Download data\n",
    "The dataset contains 329 equilibrium structures of 13 different stoichiometries of Mg and Si, whose energy was computed using DFT. This dataset was reported in [T. D. Huan, <em>Pressure-stabilized binary compounds of magnesium and silicon</em>, Phys. Rev. Materials <strong>2</strong>, 023803 (2018)]. It will be obtained from www.matsml.org. More information on the avaiable datasets can be found at www.matsml.org as well."
   ]
  },
  {
   "cell_type": "code",
   "execution_count": 1,
   "metadata": {
    "scrolled": true
   },
   "outputs": [
    {
     "name": "stdout",
     "output_type": "stream",
     "text": [
      "  matsML, v1.2.0\n",
      "  *****\n",
      "  Load requested dataset(s)\n",
      "  Data saved in crystals_MgSi\n",
      "                file_name     target\n",
      "0    mg2si_struct_01.vasp  -8.924797\n",
      "1    mg2si_struct_02.vasp -34.985707\n",
      "2    mg2si_struct_03.vasp -17.246812\n",
      "3    mg2si_struct_04.vasp -34.062642\n",
      "4    mg2si_struct_05.vasp -34.035175\n",
      "..                    ...        ...\n",
      "324   mgsi_struct_30.vasp -40.698471\n",
      "325   mgsi_struct_31.vasp -40.598719\n",
      "326   mgsi_struct_32.vasp -40.499177\n",
      "327   mgsi_struct_33.vasp  -6.706034\n",
      "328   mgsi_struct_34.vasp -40.362384\n",
      "\n",
      "[329 rows x 2 columns]\n"
     ]
    }
   ],
   "source": [
    "from matsml.data import Datasets\n",
    "import os\n",
    "import pandas as pd\n",
    "\n",
    "# Load data\n",
    "ds_name='crystals_MgSi'\n",
    "data=Datasets(ds_name=ds_name)\n",
    "data.load_dataset()\n",
    "\n",
    "# have a look at the content\n",
    "print (pd.read_csv(os.path.join(os.getcwd(),str(ds_name),'summary.csv')))"
   ]
  },
  {
   "cell_type": "markdown",
   "metadata": {},
   "source": [
    "### 2. Fingerprint the obtained data\n",
    "Two kinds of crystal fingerprints will be used in this example\n",
    "\n",
    "1. Ewald sum matrix [Fe. Faber, A. Lindmaa, O. Anatole von Lilienfeld, and R. Armiento. <em>Crystal structure representations for machine learning models of formation energies</em> Int. J. Quantum Chem., 115, 1094 (2015)] is an analogy to the Coulomb matrix for molecules, and its size also depends on the number of atoms of the structure. We used a similar projection on a set of Gaussian. Keyword for this fingerprint is __pesm_crystals__.\n",
    "\n",
    "2. Smooth Overlap of Atomic Positions (SOAP) [S. De, A. P. Bartók, G. Csányi, and M. Ceriotti, <em>Comparing molecules and solids across structural and alchemical space</em>, Phys. Chem. Chem. Phys. __18__, 13754 (2016)] is a more sophisticated fingerprint. Different from the Ewald sum matrix which is defined for the whole system, SOAP is defined for each atom. Herein, for simplicity, the atomic fingerprints are added up to make the fingerprint for the whole system. In some ML potential, the SOAP fingerprints are used in a different way, involving the \"atomic energy\". The keyword for SOAP in matsML is __soap_crystals__."
   ]
  },
  {
   "cell_type": "code",
   "execution_count": 2,
   "metadata": {},
   "outputs": [
    {
     "name": "stdout",
     "output_type": "stream",
     "text": [
      "  Atomic structure fingerprinting\n",
      "    summary                      /home/huan/work/matsml/examples/ex3_crystals/crystals_MgSi/summary.csv\n",
      "    data_loc                     /home/huan/work/matsml/examples/ex3_crystals/crystals_MgSi\n",
      "    fp_type                      pesm_crystals\n",
      "    fp_file                      fp_crystals_MgSi_pesm.csv\n",
      "    fp_dim                       20\n",
      "    verbosity                    0\n",
      "  Read input\n",
      "    num_structs                  329\n",
      "  Computing Ewald sum Matrix\n",
      "    [==                                                ] 4%"
     ]
    },
    {
     "name": "stderr",
     "output_type": "stream",
     "text": [
      "/home/huan/.local/lib/python3.9/site-packages/ase/utils/__init__.py:62: FutureWarning: Please use atoms.cell.reciprocal()\n",
      "  warnings.warn(warning)\n"
     ]
    },
    {
     "name": "stdout",
     "output_type": "stream",
     "text": [
      "    [==================================================] 100%\n",
      "  Projecting Ewald sum matrix to create fingerprints\n",
      "    [=                                                 ] 1%"
     ]
    },
    {
     "name": "stderr",
     "output_type": "stream",
     "text": [
      "/home/huan/miniconda3/envs/tf/lib/python3.9/site-packages/matsml-1.0.1-py3.9.egg/matsml/fingerprint.py:284: FutureWarning: The frame.append method is deprecated and will be removed from pandas in a future version. Use pandas.concat instead.\n",
      "  pesm = pesm.append(pd.DataFrame(np.array(gcm).reshape((1, fp_dim+2)),\n",
      "/home/huan/miniconda3/envs/tf/lib/python3.9/site-packages/matsml-1.0.1-py3.9.egg/matsml/fingerprint.py:284: FutureWarning: The frame.append method is deprecated and will be removed from pandas in a future version. Use pandas.concat instead.\n",
      "  pesm = pesm.append(pd.DataFrame(np.array(gcm).reshape((1, fp_dim+2)),\n"
     ]
    },
    {
     "name": "stdout",
     "output_type": "stream",
     "text": [
      "    [=                                                 ] 2%"
     ]
    },
    {
     "name": "stderr",
     "output_type": "stream",
     "text": [
      "/home/huan/miniconda3/envs/tf/lib/python3.9/site-packages/matsml-1.0.1-py3.9.egg/matsml/fingerprint.py:284: FutureWarning: The frame.append method is deprecated and will be removed from pandas in a future version. Use pandas.concat instead.\n",
      "  pesm = pesm.append(pd.DataFrame(np.array(gcm).reshape((1, fp_dim+2)),\n",
      "/home/huan/miniconda3/envs/tf/lib/python3.9/site-packages/matsml-1.0.1-py3.9.egg/matsml/fingerprint.py:284: FutureWarning: The frame.append method is deprecated and will be removed from pandas in a future version. Use pandas.concat instead.\n",
      "  pesm = pesm.append(pd.DataFrame(np.array(gcm).reshape((1, fp_dim+2)),\n"
     ]
    },
    {
     "name": "stdout",
     "output_type": "stream",
     "text": [
      "    [=                                                 ] 2%"
     ]
    },
    {
     "name": "stderr",
     "output_type": "stream",
     "text": [
      "/home/huan/miniconda3/envs/tf/lib/python3.9/site-packages/matsml-1.0.1-py3.9.egg/matsml/fingerprint.py:284: FutureWarning: The frame.append method is deprecated and will be removed from pandas in a future version. Use pandas.concat instead.\n",
      "  pesm = pesm.append(pd.DataFrame(np.array(gcm).reshape((1, fp_dim+2)),\n",
      "/home/huan/miniconda3/envs/tf/lib/python3.9/site-packages/matsml-1.0.1-py3.9.egg/matsml/fingerprint.py:284: FutureWarning: The frame.append method is deprecated and will be removed from pandas in a future version. Use pandas.concat instead.\n",
      "  pesm = pesm.append(pd.DataFrame(np.array(gcm).reshape((1, fp_dim+2)),\n"
     ]
    },
    {
     "name": "stdout",
     "output_type": "stream",
     "text": [
      "    [==                                                ] 3%"
     ]
    },
    {
     "name": "stderr",
     "output_type": "stream",
     "text": [
      "/home/huan/miniconda3/envs/tf/lib/python3.9/site-packages/matsml-1.0.1-py3.9.egg/matsml/fingerprint.py:284: FutureWarning: The frame.append method is deprecated and will be removed from pandas in a future version. Use pandas.concat instead.\n",
      "  pesm = pesm.append(pd.DataFrame(np.array(gcm).reshape((1, fp_dim+2)),\n",
      "/home/huan/miniconda3/envs/tf/lib/python3.9/site-packages/matsml-1.0.1-py3.9.egg/matsml/fingerprint.py:284: FutureWarning: The frame.append method is deprecated and will be removed from pandas in a future version. Use pandas.concat instead.\n",
      "  pesm = pesm.append(pd.DataFrame(np.array(gcm).reshape((1, fp_dim+2)),\n"
     ]
    },
    {
     "name": "stdout",
     "output_type": "stream",
     "text": [
      "    [==                                                ] 4%"
     ]
    },
    {
     "name": "stderr",
     "output_type": "stream",
     "text": [
      "/home/huan/miniconda3/envs/tf/lib/python3.9/site-packages/matsml-1.0.1-py3.9.egg/matsml/fingerprint.py:284: FutureWarning: The frame.append method is deprecated and will be removed from pandas in a future version. Use pandas.concat instead.\n",
      "  pesm = pesm.append(pd.DataFrame(np.array(gcm).reshape((1, fp_dim+2)),\n",
      "/home/huan/miniconda3/envs/tf/lib/python3.9/site-packages/matsml-1.0.1-py3.9.egg/matsml/fingerprint.py:284: FutureWarning: The frame.append method is deprecated and will be removed from pandas in a future version. Use pandas.concat instead.\n",
      "  pesm = pesm.append(pd.DataFrame(np.array(gcm).reshape((1, fp_dim+2)),\n"
     ]
    },
    {
     "name": "stdout",
     "output_type": "stream",
     "text": [
      "    [==                                                ] 4%"
     ]
    },
    {
     "name": "stderr",
     "output_type": "stream",
     "text": [
      "/home/huan/miniconda3/envs/tf/lib/python3.9/site-packages/matsml-1.0.1-py3.9.egg/matsml/fingerprint.py:284: FutureWarning: The frame.append method is deprecated and will be removed from pandas in a future version. Use pandas.concat instead.\n",
      "  pesm = pesm.append(pd.DataFrame(np.array(gcm).reshape((1, fp_dim+2)),\n",
      "/home/huan/miniconda3/envs/tf/lib/python3.9/site-packages/matsml-1.0.1-py3.9.egg/matsml/fingerprint.py:284: FutureWarning: The frame.append method is deprecated and will be removed from pandas in a future version. Use pandas.concat instead.\n",
      "  pesm = pesm.append(pd.DataFrame(np.array(gcm).reshape((1, fp_dim+2)),\n"
     ]
    },
    {
     "name": "stdout",
     "output_type": "stream",
     "text": [
      "    [===                                               ] 5%"
     ]
    },
    {
     "name": "stderr",
     "output_type": "stream",
     "text": [
      "/home/huan/miniconda3/envs/tf/lib/python3.9/site-packages/matsml-1.0.1-py3.9.egg/matsml/fingerprint.py:284: FutureWarning: The frame.append method is deprecated and will be removed from pandas in a future version. Use pandas.concat instead.\n",
      "  pesm = pesm.append(pd.DataFrame(np.array(gcm).reshape((1, fp_dim+2)),\n",
      "/home/huan/miniconda3/envs/tf/lib/python3.9/site-packages/matsml-1.0.1-py3.9.egg/matsml/fingerprint.py:284: FutureWarning: The frame.append method is deprecated and will be removed from pandas in a future version. Use pandas.concat instead.\n",
      "  pesm = pesm.append(pd.DataFrame(np.array(gcm).reshape((1, fp_dim+2)),\n"
     ]
    },
    {
     "name": "stdout",
     "output_type": "stream",
     "text": [
      "    [===                                               ] 5%"
     ]
    },
    {
     "name": "stderr",
     "output_type": "stream",
     "text": [
      "/home/huan/miniconda3/envs/tf/lib/python3.9/site-packages/matsml-1.0.1-py3.9.egg/matsml/fingerprint.py:284: FutureWarning: The frame.append method is deprecated and will be removed from pandas in a future version. Use pandas.concat instead.\n",
      "  pesm = pesm.append(pd.DataFrame(np.array(gcm).reshape((1, fp_dim+2)),\n",
      "/home/huan/miniconda3/envs/tf/lib/python3.9/site-packages/matsml-1.0.1-py3.9.egg/matsml/fingerprint.py:284: FutureWarning: The frame.append method is deprecated and will be removed from pandas in a future version. Use pandas.concat instead.\n",
      "  pesm = pesm.append(pd.DataFrame(np.array(gcm).reshape((1, fp_dim+2)),\n"
     ]
    },
    {
     "name": "stdout",
     "output_type": "stream",
     "text": [
      "    [===                                               ] 6%"
     ]
    },
    {
     "name": "stderr",
     "output_type": "stream",
     "text": [
      "/home/huan/miniconda3/envs/tf/lib/python3.9/site-packages/matsml-1.0.1-py3.9.egg/matsml/fingerprint.py:284: FutureWarning: The frame.append method is deprecated and will be removed from pandas in a future version. Use pandas.concat instead.\n",
      "  pesm = pesm.append(pd.DataFrame(np.array(gcm).reshape((1, fp_dim+2)),\n",
      "/home/huan/miniconda3/envs/tf/lib/python3.9/site-packages/matsml-1.0.1-py3.9.egg/matsml/fingerprint.py:284: FutureWarning: The frame.append method is deprecated and will be removed from pandas in a future version. Use pandas.concat instead.\n",
      "  pesm = pesm.append(pd.DataFrame(np.array(gcm).reshape((1, fp_dim+2)),\n"
     ]
    },
    {
     "name": "stdout",
     "output_type": "stream",
     "text": [
      "    [====                                              ] 7%"
     ]
    },
    {
     "name": "stderr",
     "output_type": "stream",
     "text": [
      "/home/huan/miniconda3/envs/tf/lib/python3.9/site-packages/matsml-1.0.1-py3.9.egg/matsml/fingerprint.py:284: FutureWarning: The frame.append method is deprecated and will be removed from pandas in a future version. Use pandas.concat instead.\n",
      "  pesm = pesm.append(pd.DataFrame(np.array(gcm).reshape((1, fp_dim+2)),\n",
      "/home/huan/miniconda3/envs/tf/lib/python3.9/site-packages/matsml-1.0.1-py3.9.egg/matsml/fingerprint.py:284: FutureWarning: The frame.append method is deprecated and will be removed from pandas in a future version. Use pandas.concat instead.\n",
      "  pesm = pesm.append(pd.DataFrame(np.array(gcm).reshape((1, fp_dim+2)),\n"
     ]
    },
    {
     "name": "stdout",
     "output_type": "stream",
     "text": [
      "    [====                                              ] 7%"
     ]
    },
    {
     "name": "stderr",
     "output_type": "stream",
     "text": [
      "/home/huan/miniconda3/envs/tf/lib/python3.9/site-packages/matsml-1.0.1-py3.9.egg/matsml/fingerprint.py:284: FutureWarning: The frame.append method is deprecated and will be removed from pandas in a future version. Use pandas.concat instead.\n",
      "  pesm = pesm.append(pd.DataFrame(np.array(gcm).reshape((1, fp_dim+2)),\n",
      "/home/huan/miniconda3/envs/tf/lib/python3.9/site-packages/matsml-1.0.1-py3.9.egg/matsml/fingerprint.py:284: FutureWarning: The frame.append method is deprecated and will be removed from pandas in a future version. Use pandas.concat instead.\n",
      "  pesm = pesm.append(pd.DataFrame(np.array(gcm).reshape((1, fp_dim+2)),\n"
     ]
    },
    {
     "name": "stdout",
     "output_type": "stream",
     "text": [
      "    [====                                              ] 8%"
     ]
    },
    {
     "name": "stderr",
     "output_type": "stream",
     "text": [
      "/home/huan/miniconda3/envs/tf/lib/python3.9/site-packages/matsml-1.0.1-py3.9.egg/matsml/fingerprint.py:284: FutureWarning: The frame.append method is deprecated and will be removed from pandas in a future version. Use pandas.concat instead.\n",
      "  pesm = pesm.append(pd.DataFrame(np.array(gcm).reshape((1, fp_dim+2)),\n",
      "/home/huan/miniconda3/envs/tf/lib/python3.9/site-packages/matsml-1.0.1-py3.9.egg/matsml/fingerprint.py:284: FutureWarning: The frame.append method is deprecated and will be removed from pandas in a future version. Use pandas.concat instead.\n",
      "  pesm = pesm.append(pd.DataFrame(np.array(gcm).reshape((1, fp_dim+2)),\n"
     ]
    },
    {
     "name": "stdout",
     "output_type": "stream",
     "text": [
      "    [====                                              ] 8%"
     ]
    },
    {
     "name": "stderr",
     "output_type": "stream",
     "text": [
      "/home/huan/miniconda3/envs/tf/lib/python3.9/site-packages/matsml-1.0.1-py3.9.egg/matsml/fingerprint.py:284: FutureWarning: The frame.append method is deprecated and will be removed from pandas in a future version. Use pandas.concat instead.\n",
      "  pesm = pesm.append(pd.DataFrame(np.array(gcm).reshape((1, fp_dim+2)),\n",
      "/home/huan/miniconda3/envs/tf/lib/python3.9/site-packages/matsml-1.0.1-py3.9.egg/matsml/fingerprint.py:284: FutureWarning: The frame.append method is deprecated and will be removed from pandas in a future version. Use pandas.concat instead.\n",
      "  pesm = pesm.append(pd.DataFrame(np.array(gcm).reshape((1, fp_dim+2)),\n"
     ]
    },
    {
     "name": "stdout",
     "output_type": "stream",
     "text": [
      "    [=====                                             ] 9%"
     ]
    },
    {
     "name": "stderr",
     "output_type": "stream",
     "text": [
      "/home/huan/miniconda3/envs/tf/lib/python3.9/site-packages/matsml-1.0.1-py3.9.egg/matsml/fingerprint.py:284: FutureWarning: The frame.append method is deprecated and will be removed from pandas in a future version. Use pandas.concat instead.\n",
      "  pesm = pesm.append(pd.DataFrame(np.array(gcm).reshape((1, fp_dim+2)),\n",
      "/home/huan/miniconda3/envs/tf/lib/python3.9/site-packages/matsml-1.0.1-py3.9.egg/matsml/fingerprint.py:284: FutureWarning: The frame.append method is deprecated and will be removed from pandas in a future version. Use pandas.concat instead.\n",
      "  pesm = pesm.append(pd.DataFrame(np.array(gcm).reshape((1, fp_dim+2)),\n"
     ]
    },
    {
     "name": "stdout",
     "output_type": "stream",
     "text": [
      "    [=====                                             ] 10%"
     ]
    },
    {
     "name": "stderr",
     "output_type": "stream",
     "text": [
      "/home/huan/miniconda3/envs/tf/lib/python3.9/site-packages/matsml-1.0.1-py3.9.egg/matsml/fingerprint.py:284: FutureWarning: The frame.append method is deprecated and will be removed from pandas in a future version. Use pandas.concat instead.\n",
      "  pesm = pesm.append(pd.DataFrame(np.array(gcm).reshape((1, fp_dim+2)),\n",
      "/home/huan/miniconda3/envs/tf/lib/python3.9/site-packages/matsml-1.0.1-py3.9.egg/matsml/fingerprint.py:284: FutureWarning: The frame.append method is deprecated and will be removed from pandas in a future version. Use pandas.concat instead.\n",
      "  pesm = pesm.append(pd.DataFrame(np.array(gcm).reshape((1, fp_dim+2)),\n"
     ]
    },
    {
     "name": "stdout",
     "output_type": "stream",
     "text": [
      "    [=====                                             ] 10%"
     ]
    },
    {
     "name": "stderr",
     "output_type": "stream",
     "text": [
      "/home/huan/miniconda3/envs/tf/lib/python3.9/site-packages/matsml-1.0.1-py3.9.egg/matsml/fingerprint.py:284: FutureWarning: The frame.append method is deprecated and will be removed from pandas in a future version. Use pandas.concat instead.\n",
      "  pesm = pesm.append(pd.DataFrame(np.array(gcm).reshape((1, fp_dim+2)),\n",
      "/home/huan/miniconda3/envs/tf/lib/python3.9/site-packages/matsml-1.0.1-py3.9.egg/matsml/fingerprint.py:284: FutureWarning: The frame.append method is deprecated and will be removed from pandas in a future version. Use pandas.concat instead.\n",
      "  pesm = pesm.append(pd.DataFrame(np.array(gcm).reshape((1, fp_dim+2)),\n"
     ]
    },
    {
     "name": "stdout",
     "output_type": "stream",
     "text": [
      "    [======                                            ] 11%"
     ]
    },
    {
     "name": "stderr",
     "output_type": "stream",
     "text": [
      "/home/huan/miniconda3/envs/tf/lib/python3.9/site-packages/matsml-1.0.1-py3.9.egg/matsml/fingerprint.py:284: FutureWarning: The frame.append method is deprecated and will be removed from pandas in a future version. Use pandas.concat instead.\n",
      "  pesm = pesm.append(pd.DataFrame(np.array(gcm).reshape((1, fp_dim+2)),\n",
      "/home/huan/miniconda3/envs/tf/lib/python3.9/site-packages/matsml-1.0.1-py3.9.egg/matsml/fingerprint.py:284: FutureWarning: The frame.append method is deprecated and will be removed from pandas in a future version. Use pandas.concat instead.\n",
      "  pesm = pesm.append(pd.DataFrame(np.array(gcm).reshape((1, fp_dim+2)),\n"
     ]
    },
    {
     "name": "stdout",
     "output_type": "stream",
     "text": [
      "    [======                                            ] 11%"
     ]
    },
    {
     "name": "stderr",
     "output_type": "stream",
     "text": [
      "/home/huan/miniconda3/envs/tf/lib/python3.9/site-packages/matsml-1.0.1-py3.9.egg/matsml/fingerprint.py:284: FutureWarning: The frame.append method is deprecated and will be removed from pandas in a future version. Use pandas.concat instead.\n",
      "  pesm = pesm.append(pd.DataFrame(np.array(gcm).reshape((1, fp_dim+2)),\n",
      "/home/huan/miniconda3/envs/tf/lib/python3.9/site-packages/matsml-1.0.1-py3.9.egg/matsml/fingerprint.py:284: FutureWarning: The frame.append method is deprecated and will be removed from pandas in a future version. Use pandas.concat instead.\n",
      "  pesm = pesm.append(pd.DataFrame(np.array(gcm).reshape((1, fp_dim+2)),\n"
     ]
    },
    {
     "name": "stdout",
     "output_type": "stream",
     "text": [
      "    [======                                            ] 12%"
     ]
    },
    {
     "name": "stderr",
     "output_type": "stream",
     "text": [
      "/home/huan/miniconda3/envs/tf/lib/python3.9/site-packages/matsml-1.0.1-py3.9.egg/matsml/fingerprint.py:284: FutureWarning: The frame.append method is deprecated and will be removed from pandas in a future version. Use pandas.concat instead.\n",
      "  pesm = pesm.append(pd.DataFrame(np.array(gcm).reshape((1, fp_dim+2)),\n",
      "/home/huan/miniconda3/envs/tf/lib/python3.9/site-packages/matsml-1.0.1-py3.9.egg/matsml/fingerprint.py:284: FutureWarning: The frame.append method is deprecated and will be removed from pandas in a future version. Use pandas.concat instead.\n",
      "  pesm = pesm.append(pd.DataFrame(np.array(gcm).reshape((1, fp_dim+2)),\n"
     ]
    },
    {
     "name": "stdout",
     "output_type": "stream",
     "text": [
      "    [=======                                           ] 13%"
     ]
    },
    {
     "name": "stderr",
     "output_type": "stream",
     "text": [
      "/home/huan/miniconda3/envs/tf/lib/python3.9/site-packages/matsml-1.0.1-py3.9.egg/matsml/fingerprint.py:284: FutureWarning: The frame.append method is deprecated and will be removed from pandas in a future version. Use pandas.concat instead.\n",
      "  pesm = pesm.append(pd.DataFrame(np.array(gcm).reshape((1, fp_dim+2)),\n",
      "/home/huan/miniconda3/envs/tf/lib/python3.9/site-packages/matsml-1.0.1-py3.9.egg/matsml/fingerprint.py:284: FutureWarning: The frame.append method is deprecated and will be removed from pandas in a future version. Use pandas.concat instead.\n",
      "  pesm = pesm.append(pd.DataFrame(np.array(gcm).reshape((1, fp_dim+2)),\n"
     ]
    },
    {
     "name": "stdout",
     "output_type": "stream",
     "text": [
      "    [=======                                           ] 13%"
     ]
    },
    {
     "name": "stderr",
     "output_type": "stream",
     "text": [
      "/home/huan/miniconda3/envs/tf/lib/python3.9/site-packages/matsml-1.0.1-py3.9.egg/matsml/fingerprint.py:284: FutureWarning: The frame.append method is deprecated and will be removed from pandas in a future version. Use pandas.concat instead.\n",
      "  pesm = pesm.append(pd.DataFrame(np.array(gcm).reshape((1, fp_dim+2)),\n",
      "/home/huan/miniconda3/envs/tf/lib/python3.9/site-packages/matsml-1.0.1-py3.9.egg/matsml/fingerprint.py:284: FutureWarning: The frame.append method is deprecated and will be removed from pandas in a future version. Use pandas.concat instead.\n",
      "  pesm = pesm.append(pd.DataFrame(np.array(gcm).reshape((1, fp_dim+2)),\n"
     ]
    },
    {
     "name": "stdout",
     "output_type": "stream",
     "text": [
      "    [=======                                           ] 14%"
     ]
    },
    {
     "name": "stderr",
     "output_type": "stream",
     "text": [
      "/home/huan/miniconda3/envs/tf/lib/python3.9/site-packages/matsml-1.0.1-py3.9.egg/matsml/fingerprint.py:284: FutureWarning: The frame.append method is deprecated and will be removed from pandas in a future version. Use pandas.concat instead.\n",
      "  pesm = pesm.append(pd.DataFrame(np.array(gcm).reshape((1, fp_dim+2)),\n",
      "/home/huan/miniconda3/envs/tf/lib/python3.9/site-packages/matsml-1.0.1-py3.9.egg/matsml/fingerprint.py:284: FutureWarning: The frame.append method is deprecated and will be removed from pandas in a future version. Use pandas.concat instead.\n",
      "  pesm = pesm.append(pd.DataFrame(np.array(gcm).reshape((1, fp_dim+2)),\n"
     ]
    },
    {
     "name": "stdout",
     "output_type": "stream",
     "text": [
      "    [=======                                           ] 14%"
     ]
    },
    {
     "name": "stderr",
     "output_type": "stream",
     "text": [
      "/home/huan/miniconda3/envs/tf/lib/python3.9/site-packages/matsml-1.0.1-py3.9.egg/matsml/fingerprint.py:284: FutureWarning: The frame.append method is deprecated and will be removed from pandas in a future version. Use pandas.concat instead.\n",
      "  pesm = pesm.append(pd.DataFrame(np.array(gcm).reshape((1, fp_dim+2)),\n",
      "/home/huan/miniconda3/envs/tf/lib/python3.9/site-packages/matsml-1.0.1-py3.9.egg/matsml/fingerprint.py:284: FutureWarning: The frame.append method is deprecated and will be removed from pandas in a future version. Use pandas.concat instead.\n",
      "  pesm = pesm.append(pd.DataFrame(np.array(gcm).reshape((1, fp_dim+2)),\n"
     ]
    },
    {
     "name": "stdout",
     "output_type": "stream",
     "text": [
      "    [========                                          ] 15%"
     ]
    },
    {
     "name": "stderr",
     "output_type": "stream",
     "text": [
      "/home/huan/miniconda3/envs/tf/lib/python3.9/site-packages/matsml-1.0.1-py3.9.egg/matsml/fingerprint.py:284: FutureWarning: The frame.append method is deprecated and will be removed from pandas in a future version. Use pandas.concat instead.\n",
      "  pesm = pesm.append(pd.DataFrame(np.array(gcm).reshape((1, fp_dim+2)),\n",
      "/home/huan/miniconda3/envs/tf/lib/python3.9/site-packages/matsml-1.0.1-py3.9.egg/matsml/fingerprint.py:284: FutureWarning: The frame.append method is deprecated and will be removed from pandas in a future version. Use pandas.concat instead.\n",
      "  pesm = pesm.append(pd.DataFrame(np.array(gcm).reshape((1, fp_dim+2)),\n"
     ]
    },
    {
     "name": "stdout",
     "output_type": "stream",
     "text": [
      "    [========                                          ] 16%"
     ]
    },
    {
     "name": "stderr",
     "output_type": "stream",
     "text": [
      "/home/huan/miniconda3/envs/tf/lib/python3.9/site-packages/matsml-1.0.1-py3.9.egg/matsml/fingerprint.py:284: FutureWarning: The frame.append method is deprecated and will be removed from pandas in a future version. Use pandas.concat instead.\n",
      "  pesm = pesm.append(pd.DataFrame(np.array(gcm).reshape((1, fp_dim+2)),\n",
      "/home/huan/miniconda3/envs/tf/lib/python3.9/site-packages/matsml-1.0.1-py3.9.egg/matsml/fingerprint.py:284: FutureWarning: The frame.append method is deprecated and will be removed from pandas in a future version. Use pandas.concat instead.\n",
      "  pesm = pesm.append(pd.DataFrame(np.array(gcm).reshape((1, fp_dim+2)),\n"
     ]
    },
    {
     "name": "stdout",
     "output_type": "stream",
     "text": [
      "    [========                                          ] 16%"
     ]
    },
    {
     "name": "stderr",
     "output_type": "stream",
     "text": [
      "/home/huan/miniconda3/envs/tf/lib/python3.9/site-packages/matsml-1.0.1-py3.9.egg/matsml/fingerprint.py:284: FutureWarning: The frame.append method is deprecated and will be removed from pandas in a future version. Use pandas.concat instead.\n",
      "  pesm = pesm.append(pd.DataFrame(np.array(gcm).reshape((1, fp_dim+2)),\n",
      "/home/huan/miniconda3/envs/tf/lib/python3.9/site-packages/matsml-1.0.1-py3.9.egg/matsml/fingerprint.py:284: FutureWarning: The frame.append method is deprecated and will be removed from pandas in a future version. Use pandas.concat instead.\n",
      "  pesm = pesm.append(pd.DataFrame(np.array(gcm).reshape((1, fp_dim+2)),\n"
     ]
    },
    {
     "name": "stdout",
     "output_type": "stream",
     "text": [
      "    [=========                                         ] 17%"
     ]
    },
    {
     "name": "stderr",
     "output_type": "stream",
     "text": [
      "/home/huan/miniconda3/envs/tf/lib/python3.9/site-packages/matsml-1.0.1-py3.9.egg/matsml/fingerprint.py:284: FutureWarning: The frame.append method is deprecated and will be removed from pandas in a future version. Use pandas.concat instead.\n",
      "  pesm = pesm.append(pd.DataFrame(np.array(gcm).reshape((1, fp_dim+2)),\n",
      "/home/huan/miniconda3/envs/tf/lib/python3.9/site-packages/matsml-1.0.1-py3.9.egg/matsml/fingerprint.py:284: FutureWarning: The frame.append method is deprecated and will be removed from pandas in a future version. Use pandas.concat instead.\n",
      "  pesm = pesm.append(pd.DataFrame(np.array(gcm).reshape((1, fp_dim+2)),\n"
     ]
    },
    {
     "name": "stdout",
     "output_type": "stream",
     "text": [
      "    [=========                                         ] 18%"
     ]
    },
    {
     "name": "stderr",
     "output_type": "stream",
     "text": [
      "/home/huan/miniconda3/envs/tf/lib/python3.9/site-packages/matsml-1.0.1-py3.9.egg/matsml/fingerprint.py:284: FutureWarning: The frame.append method is deprecated and will be removed from pandas in a future version. Use pandas.concat instead.\n",
      "  pesm = pesm.append(pd.DataFrame(np.array(gcm).reshape((1, fp_dim+2)),\n",
      "/home/huan/miniconda3/envs/tf/lib/python3.9/site-packages/matsml-1.0.1-py3.9.egg/matsml/fingerprint.py:284: FutureWarning: The frame.append method is deprecated and will be removed from pandas in a future version. Use pandas.concat instead.\n",
      "  pesm = pesm.append(pd.DataFrame(np.array(gcm).reshape((1, fp_dim+2)),\n"
     ]
    },
    {
     "name": "stdout",
     "output_type": "stream",
     "text": [
      "    [=========                                         ] 18%"
     ]
    },
    {
     "name": "stderr",
     "output_type": "stream",
     "text": [
      "/home/huan/miniconda3/envs/tf/lib/python3.9/site-packages/matsml-1.0.1-py3.9.egg/matsml/fingerprint.py:284: FutureWarning: The frame.append method is deprecated and will be removed from pandas in a future version. Use pandas.concat instead.\n",
      "  pesm = pesm.append(pd.DataFrame(np.array(gcm).reshape((1, fp_dim+2)),\n",
      "/home/huan/miniconda3/envs/tf/lib/python3.9/site-packages/matsml-1.0.1-py3.9.egg/matsml/fingerprint.py:284: FutureWarning: The frame.append method is deprecated and will be removed from pandas in a future version. Use pandas.concat instead.\n",
      "  pesm = pesm.append(pd.DataFrame(np.array(gcm).reshape((1, fp_dim+2)),\n"
     ]
    },
    {
     "name": "stdout",
     "output_type": "stream",
     "text": [
      "    [==========                                        ] 19%"
     ]
    },
    {
     "name": "stderr",
     "output_type": "stream",
     "text": [
      "/home/huan/miniconda3/envs/tf/lib/python3.9/site-packages/matsml-1.0.1-py3.9.egg/matsml/fingerprint.py:284: FutureWarning: The frame.append method is deprecated and will be removed from pandas in a future version. Use pandas.concat instead.\n",
      "  pesm = pesm.append(pd.DataFrame(np.array(gcm).reshape((1, fp_dim+2)),\n",
      "/home/huan/miniconda3/envs/tf/lib/python3.9/site-packages/matsml-1.0.1-py3.9.egg/matsml/fingerprint.py:284: FutureWarning: The frame.append method is deprecated and will be removed from pandas in a future version. Use pandas.concat instead.\n",
      "  pesm = pesm.append(pd.DataFrame(np.array(gcm).reshape((1, fp_dim+2)),\n"
     ]
    },
    {
     "name": "stdout",
     "output_type": "stream",
     "text": [
      "    [==========                                        ] 19%"
     ]
    },
    {
     "name": "stderr",
     "output_type": "stream",
     "text": [
      "/home/huan/miniconda3/envs/tf/lib/python3.9/site-packages/matsml-1.0.1-py3.9.egg/matsml/fingerprint.py:284: FutureWarning: The frame.append method is deprecated and will be removed from pandas in a future version. Use pandas.concat instead.\n",
      "  pesm = pesm.append(pd.DataFrame(np.array(gcm).reshape((1, fp_dim+2)),\n",
      "/home/huan/miniconda3/envs/tf/lib/python3.9/site-packages/matsml-1.0.1-py3.9.egg/matsml/fingerprint.py:284: FutureWarning: The frame.append method is deprecated and will be removed from pandas in a future version. Use pandas.concat instead.\n",
      "  pesm = pesm.append(pd.DataFrame(np.array(gcm).reshape((1, fp_dim+2)),\n"
     ]
    },
    {
     "name": "stdout",
     "output_type": "stream",
     "text": [
      "    [==========                                        ] 20%"
     ]
    },
    {
     "name": "stderr",
     "output_type": "stream",
     "text": [
      "/home/huan/miniconda3/envs/tf/lib/python3.9/site-packages/matsml-1.0.1-py3.9.egg/matsml/fingerprint.py:284: FutureWarning: The frame.append method is deprecated and will be removed from pandas in a future version. Use pandas.concat instead.\n",
      "  pesm = pesm.append(pd.DataFrame(np.array(gcm).reshape((1, fp_dim+2)),\n",
      "/home/huan/miniconda3/envs/tf/lib/python3.9/site-packages/matsml-1.0.1-py3.9.egg/matsml/fingerprint.py:284: FutureWarning: The frame.append method is deprecated and will be removed from pandas in a future version. Use pandas.concat instead.\n",
      "  pesm = pesm.append(pd.DataFrame(np.array(gcm).reshape((1, fp_dim+2)),\n"
     ]
    },
    {
     "name": "stdout",
     "output_type": "stream",
     "text": [
      "    [===========                                       ] 21%"
     ]
    },
    {
     "name": "stderr",
     "output_type": "stream",
     "text": [
      "/home/huan/miniconda3/envs/tf/lib/python3.9/site-packages/matsml-1.0.1-py3.9.egg/matsml/fingerprint.py:284: FutureWarning: The frame.append method is deprecated and will be removed from pandas in a future version. Use pandas.concat instead.\n",
      "  pesm = pesm.append(pd.DataFrame(np.array(gcm).reshape((1, fp_dim+2)),\n",
      "/home/huan/miniconda3/envs/tf/lib/python3.9/site-packages/matsml-1.0.1-py3.9.egg/matsml/fingerprint.py:284: FutureWarning: The frame.append method is deprecated and will be removed from pandas in a future version. Use pandas.concat instead.\n",
      "  pesm = pesm.append(pd.DataFrame(np.array(gcm).reshape((1, fp_dim+2)),\n"
     ]
    },
    {
     "name": "stdout",
     "output_type": "stream",
     "text": [
      "    [===========                                       ] 21%"
     ]
    },
    {
     "name": "stderr",
     "output_type": "stream",
     "text": [
      "/home/huan/miniconda3/envs/tf/lib/python3.9/site-packages/matsml-1.0.1-py3.9.egg/matsml/fingerprint.py:284: FutureWarning: The frame.append method is deprecated and will be removed from pandas in a future version. Use pandas.concat instead.\n",
      "  pesm = pesm.append(pd.DataFrame(np.array(gcm).reshape((1, fp_dim+2)),\n",
      "/home/huan/miniconda3/envs/tf/lib/python3.9/site-packages/matsml-1.0.1-py3.9.egg/matsml/fingerprint.py:284: FutureWarning: The frame.append method is deprecated and will be removed from pandas in a future version. Use pandas.concat instead.\n",
      "  pesm = pesm.append(pd.DataFrame(np.array(gcm).reshape((1, fp_dim+2)),\n"
     ]
    },
    {
     "name": "stdout",
     "output_type": "stream",
     "text": [
      "    [===========                                       ] 22%"
     ]
    },
    {
     "name": "stderr",
     "output_type": "stream",
     "text": [
      "/home/huan/miniconda3/envs/tf/lib/python3.9/site-packages/matsml-1.0.1-py3.9.egg/matsml/fingerprint.py:284: FutureWarning: The frame.append method is deprecated and will be removed from pandas in a future version. Use pandas.concat instead.\n",
      "  pesm = pesm.append(pd.DataFrame(np.array(gcm).reshape((1, fp_dim+2)),\n",
      "/home/huan/miniconda3/envs/tf/lib/python3.9/site-packages/matsml-1.0.1-py3.9.egg/matsml/fingerprint.py:284: FutureWarning: The frame.append method is deprecated and will be removed from pandas in a future version. Use pandas.concat instead.\n",
      "  pesm = pesm.append(pd.DataFrame(np.array(gcm).reshape((1, fp_dim+2)),\n"
     ]
    },
    {
     "name": "stdout",
     "output_type": "stream",
     "text": [
      "    [===========                                       ] 22%"
     ]
    },
    {
     "name": "stderr",
     "output_type": "stream",
     "text": [
      "/home/huan/miniconda3/envs/tf/lib/python3.9/site-packages/matsml-1.0.1-py3.9.egg/matsml/fingerprint.py:284: FutureWarning: The frame.append method is deprecated and will be removed from pandas in a future version. Use pandas.concat instead.\n",
      "  pesm = pesm.append(pd.DataFrame(np.array(gcm).reshape((1, fp_dim+2)),\n",
      "/home/huan/miniconda3/envs/tf/lib/python3.9/site-packages/matsml-1.0.1-py3.9.egg/matsml/fingerprint.py:284: FutureWarning: The frame.append method is deprecated and will be removed from pandas in a future version. Use pandas.concat instead.\n",
      "  pesm = pesm.append(pd.DataFrame(np.array(gcm).reshape((1, fp_dim+2)),\n"
     ]
    },
    {
     "name": "stdout",
     "output_type": "stream",
     "text": [
      "    [============                                      ] 23%"
     ]
    },
    {
     "name": "stderr",
     "output_type": "stream",
     "text": [
      "/home/huan/miniconda3/envs/tf/lib/python3.9/site-packages/matsml-1.0.1-py3.9.egg/matsml/fingerprint.py:284: FutureWarning: The frame.append method is deprecated and will be removed from pandas in a future version. Use pandas.concat instead.\n",
      "  pesm = pesm.append(pd.DataFrame(np.array(gcm).reshape((1, fp_dim+2)),\n",
      "/home/huan/miniconda3/envs/tf/lib/python3.9/site-packages/matsml-1.0.1-py3.9.egg/matsml/fingerprint.py:284: FutureWarning: The frame.append method is deprecated and will be removed from pandas in a future version. Use pandas.concat instead.\n",
      "  pesm = pesm.append(pd.DataFrame(np.array(gcm).reshape((1, fp_dim+2)),\n"
     ]
    },
    {
     "name": "stdout",
     "output_type": "stream",
     "text": [
      "    [============                                      ] 24%"
     ]
    },
    {
     "name": "stderr",
     "output_type": "stream",
     "text": [
      "/home/huan/miniconda3/envs/tf/lib/python3.9/site-packages/matsml-1.0.1-py3.9.egg/matsml/fingerprint.py:284: FutureWarning: The frame.append method is deprecated and will be removed from pandas in a future version. Use pandas.concat instead.\n",
      "  pesm = pesm.append(pd.DataFrame(np.array(gcm).reshape((1, fp_dim+2)),\n",
      "/home/huan/miniconda3/envs/tf/lib/python3.9/site-packages/matsml-1.0.1-py3.9.egg/matsml/fingerprint.py:284: FutureWarning: The frame.append method is deprecated and will be removed from pandas in a future version. Use pandas.concat instead.\n",
      "  pesm = pesm.append(pd.DataFrame(np.array(gcm).reshape((1, fp_dim+2)),\n"
     ]
    },
    {
     "name": "stdout",
     "output_type": "stream",
     "text": [
      "    [============                                      ] 24%"
     ]
    },
    {
     "name": "stderr",
     "output_type": "stream",
     "text": [
      "/home/huan/miniconda3/envs/tf/lib/python3.9/site-packages/matsml-1.0.1-py3.9.egg/matsml/fingerprint.py:284: FutureWarning: The frame.append method is deprecated and will be removed from pandas in a future version. Use pandas.concat instead.\n",
      "  pesm = pesm.append(pd.DataFrame(np.array(gcm).reshape((1, fp_dim+2)),\n",
      "/home/huan/miniconda3/envs/tf/lib/python3.9/site-packages/matsml-1.0.1-py3.9.egg/matsml/fingerprint.py:284: FutureWarning: The frame.append method is deprecated and will be removed from pandas in a future version. Use pandas.concat instead.\n",
      "  pesm = pesm.append(pd.DataFrame(np.array(gcm).reshape((1, fp_dim+2)),\n"
     ]
    },
    {
     "name": "stdout",
     "output_type": "stream",
     "text": [
      "    [=============                                     ] 25%"
     ]
    },
    {
     "name": "stderr",
     "output_type": "stream",
     "text": [
      "/home/huan/miniconda3/envs/tf/lib/python3.9/site-packages/matsml-1.0.1-py3.9.egg/matsml/fingerprint.py:284: FutureWarning: The frame.append method is deprecated and will be removed from pandas in a future version. Use pandas.concat instead.\n",
      "  pesm = pesm.append(pd.DataFrame(np.array(gcm).reshape((1, fp_dim+2)),\n",
      "/home/huan/miniconda3/envs/tf/lib/python3.9/site-packages/matsml-1.0.1-py3.9.egg/matsml/fingerprint.py:284: FutureWarning: The frame.append method is deprecated and will be removed from pandas in a future version. Use pandas.concat instead.\n",
      "  pesm = pesm.append(pd.DataFrame(np.array(gcm).reshape((1, fp_dim+2)),\n"
     ]
    },
    {
     "name": "stdout",
     "output_type": "stream",
     "text": [
      "    [=============                                     ] 25%"
     ]
    },
    {
     "name": "stderr",
     "output_type": "stream",
     "text": [
      "/home/huan/miniconda3/envs/tf/lib/python3.9/site-packages/matsml-1.0.1-py3.9.egg/matsml/fingerprint.py:284: FutureWarning: The frame.append method is deprecated and will be removed from pandas in a future version. Use pandas.concat instead.\n",
      "  pesm = pesm.append(pd.DataFrame(np.array(gcm).reshape((1, fp_dim+2)),\n",
      "/home/huan/miniconda3/envs/tf/lib/python3.9/site-packages/matsml-1.0.1-py3.9.egg/matsml/fingerprint.py:284: FutureWarning: The frame.append method is deprecated and will be removed from pandas in a future version. Use pandas.concat instead.\n",
      "  pesm = pesm.append(pd.DataFrame(np.array(gcm).reshape((1, fp_dim+2)),\n"
     ]
    },
    {
     "name": "stdout",
     "output_type": "stream",
     "text": [
      "    [=============                                     ] 26%"
     ]
    },
    {
     "name": "stderr",
     "output_type": "stream",
     "text": [
      "/home/huan/miniconda3/envs/tf/lib/python3.9/site-packages/matsml-1.0.1-py3.9.egg/matsml/fingerprint.py:284: FutureWarning: The frame.append method is deprecated and will be removed from pandas in a future version. Use pandas.concat instead.\n",
      "  pesm = pesm.append(pd.DataFrame(np.array(gcm).reshape((1, fp_dim+2)),\n",
      "/home/huan/miniconda3/envs/tf/lib/python3.9/site-packages/matsml-1.0.1-py3.9.egg/matsml/fingerprint.py:284: FutureWarning: The frame.append method is deprecated and will be removed from pandas in a future version. Use pandas.concat instead.\n",
      "  pesm = pesm.append(pd.DataFrame(np.array(gcm).reshape((1, fp_dim+2)),\n"
     ]
    },
    {
     "name": "stdout",
     "output_type": "stream",
     "text": [
      "    [==============                                    ] 27%"
     ]
    },
    {
     "name": "stderr",
     "output_type": "stream",
     "text": [
      "/home/huan/miniconda3/envs/tf/lib/python3.9/site-packages/matsml-1.0.1-py3.9.egg/matsml/fingerprint.py:284: FutureWarning: The frame.append method is deprecated and will be removed from pandas in a future version. Use pandas.concat instead.\n",
      "  pesm = pesm.append(pd.DataFrame(np.array(gcm).reshape((1, fp_dim+2)),\n",
      "/home/huan/miniconda3/envs/tf/lib/python3.9/site-packages/matsml-1.0.1-py3.9.egg/matsml/fingerprint.py:284: FutureWarning: The frame.append method is deprecated and will be removed from pandas in a future version. Use pandas.concat instead.\n",
      "  pesm = pesm.append(pd.DataFrame(np.array(gcm).reshape((1, fp_dim+2)),\n"
     ]
    },
    {
     "name": "stdout",
     "output_type": "stream",
     "text": [
      "    [==============                                    ] 27%"
     ]
    },
    {
     "name": "stderr",
     "output_type": "stream",
     "text": [
      "/home/huan/miniconda3/envs/tf/lib/python3.9/site-packages/matsml-1.0.1-py3.9.egg/matsml/fingerprint.py:284: FutureWarning: The frame.append method is deprecated and will be removed from pandas in a future version. Use pandas.concat instead.\n",
      "  pesm = pesm.append(pd.DataFrame(np.array(gcm).reshape((1, fp_dim+2)),\n",
      "/home/huan/miniconda3/envs/tf/lib/python3.9/site-packages/matsml-1.0.1-py3.9.egg/matsml/fingerprint.py:284: FutureWarning: The frame.append method is deprecated and will be removed from pandas in a future version. Use pandas.concat instead.\n",
      "  pesm = pesm.append(pd.DataFrame(np.array(gcm).reshape((1, fp_dim+2)),\n"
     ]
    },
    {
     "name": "stdout",
     "output_type": "stream",
     "text": [
      "    [==============                                    ] 28%"
     ]
    },
    {
     "name": "stderr",
     "output_type": "stream",
     "text": [
      "/home/huan/miniconda3/envs/tf/lib/python3.9/site-packages/matsml-1.0.1-py3.9.egg/matsml/fingerprint.py:284: FutureWarning: The frame.append method is deprecated and will be removed from pandas in a future version. Use pandas.concat instead.\n",
      "  pesm = pesm.append(pd.DataFrame(np.array(gcm).reshape((1, fp_dim+2)),\n",
      "/home/huan/miniconda3/envs/tf/lib/python3.9/site-packages/matsml-1.0.1-py3.9.egg/matsml/fingerprint.py:284: FutureWarning: The frame.append method is deprecated and will be removed from pandas in a future version. Use pandas.concat instead.\n",
      "  pesm = pesm.append(pd.DataFrame(np.array(gcm).reshape((1, fp_dim+2)),\n"
     ]
    },
    {
     "name": "stdout",
     "output_type": "stream",
     "text": [
      "    [==============                                    ] 28%"
     ]
    },
    {
     "name": "stderr",
     "output_type": "stream",
     "text": [
      "/home/huan/miniconda3/envs/tf/lib/python3.9/site-packages/matsml-1.0.1-py3.9.egg/matsml/fingerprint.py:284: FutureWarning: The frame.append method is deprecated and will be removed from pandas in a future version. Use pandas.concat instead.\n",
      "  pesm = pesm.append(pd.DataFrame(np.array(gcm).reshape((1, fp_dim+2)),\n",
      "/home/huan/miniconda3/envs/tf/lib/python3.9/site-packages/matsml-1.0.1-py3.9.egg/matsml/fingerprint.py:284: FutureWarning: The frame.append method is deprecated and will be removed from pandas in a future version. Use pandas.concat instead.\n",
      "  pesm = pesm.append(pd.DataFrame(np.array(gcm).reshape((1, fp_dim+2)),\n"
     ]
    },
    {
     "name": "stdout",
     "output_type": "stream",
     "text": [
      "    [===============                                   ] 29%"
     ]
    },
    {
     "name": "stderr",
     "output_type": "stream",
     "text": [
      "/home/huan/miniconda3/envs/tf/lib/python3.9/site-packages/matsml-1.0.1-py3.9.egg/matsml/fingerprint.py:284: FutureWarning: The frame.append method is deprecated and will be removed from pandas in a future version. Use pandas.concat instead.\n",
      "  pesm = pesm.append(pd.DataFrame(np.array(gcm).reshape((1, fp_dim+2)),\n",
      "/home/huan/miniconda3/envs/tf/lib/python3.9/site-packages/matsml-1.0.1-py3.9.egg/matsml/fingerprint.py:284: FutureWarning: The frame.append method is deprecated and will be removed from pandas in a future version. Use pandas.concat instead.\n",
      "  pesm = pesm.append(pd.DataFrame(np.array(gcm).reshape((1, fp_dim+2)),\n"
     ]
    },
    {
     "name": "stdout",
     "output_type": "stream",
     "text": [
      "    [===============                                   ] 30%"
     ]
    },
    {
     "name": "stderr",
     "output_type": "stream",
     "text": [
      "/home/huan/miniconda3/envs/tf/lib/python3.9/site-packages/matsml-1.0.1-py3.9.egg/matsml/fingerprint.py:284: FutureWarning: The frame.append method is deprecated and will be removed from pandas in a future version. Use pandas.concat instead.\n",
      "  pesm = pesm.append(pd.DataFrame(np.array(gcm).reshape((1, fp_dim+2)),\n",
      "/home/huan/miniconda3/envs/tf/lib/python3.9/site-packages/matsml-1.0.1-py3.9.egg/matsml/fingerprint.py:284: FutureWarning: The frame.append method is deprecated and will be removed from pandas in a future version. Use pandas.concat instead.\n",
      "  pesm = pesm.append(pd.DataFrame(np.array(gcm).reshape((1, fp_dim+2)),\n"
     ]
    },
    {
     "name": "stdout",
     "output_type": "stream",
     "text": [
      "    [===============                                   ] 30%"
     ]
    },
    {
     "name": "stderr",
     "output_type": "stream",
     "text": [
      "/home/huan/miniconda3/envs/tf/lib/python3.9/site-packages/matsml-1.0.1-py3.9.egg/matsml/fingerprint.py:284: FutureWarning: The frame.append method is deprecated and will be removed from pandas in a future version. Use pandas.concat instead.\n",
      "  pesm = pesm.append(pd.DataFrame(np.array(gcm).reshape((1, fp_dim+2)),\n",
      "/home/huan/miniconda3/envs/tf/lib/python3.9/site-packages/matsml-1.0.1-py3.9.egg/matsml/fingerprint.py:284: FutureWarning: The frame.append method is deprecated and will be removed from pandas in a future version. Use pandas.concat instead.\n",
      "  pesm = pesm.append(pd.DataFrame(np.array(gcm).reshape((1, fp_dim+2)),\n"
     ]
    },
    {
     "name": "stdout",
     "output_type": "stream",
     "text": [
      "    [================                                  ] 31%"
     ]
    },
    {
     "name": "stderr",
     "output_type": "stream",
     "text": [
      "/home/huan/miniconda3/envs/tf/lib/python3.9/site-packages/matsml-1.0.1-py3.9.egg/matsml/fingerprint.py:284: FutureWarning: The frame.append method is deprecated and will be removed from pandas in a future version. Use pandas.concat instead.\n",
      "  pesm = pesm.append(pd.DataFrame(np.array(gcm).reshape((1, fp_dim+2)),\n",
      "/home/huan/miniconda3/envs/tf/lib/python3.9/site-packages/matsml-1.0.1-py3.9.egg/matsml/fingerprint.py:284: FutureWarning: The frame.append method is deprecated and will be removed from pandas in a future version. Use pandas.concat instead.\n",
      "  pesm = pesm.append(pd.DataFrame(np.array(gcm).reshape((1, fp_dim+2)),\n"
     ]
    },
    {
     "name": "stdout",
     "output_type": "stream",
     "text": [
      "    [================                                  ] 32%"
     ]
    },
    {
     "name": "stderr",
     "output_type": "stream",
     "text": [
      "/home/huan/miniconda3/envs/tf/lib/python3.9/site-packages/matsml-1.0.1-py3.9.egg/matsml/fingerprint.py:284: FutureWarning: The frame.append method is deprecated and will be removed from pandas in a future version. Use pandas.concat instead.\n",
      "  pesm = pesm.append(pd.DataFrame(np.array(gcm).reshape((1, fp_dim+2)),\n",
      "/home/huan/miniconda3/envs/tf/lib/python3.9/site-packages/matsml-1.0.1-py3.9.egg/matsml/fingerprint.py:284: FutureWarning: The frame.append method is deprecated and will be removed from pandas in a future version. Use pandas.concat instead.\n",
      "  pesm = pesm.append(pd.DataFrame(np.array(gcm).reshape((1, fp_dim+2)),\n"
     ]
    },
    {
     "name": "stdout",
     "output_type": "stream",
     "text": [
      "    [================                                  ] 32%"
     ]
    },
    {
     "name": "stderr",
     "output_type": "stream",
     "text": [
      "/home/huan/miniconda3/envs/tf/lib/python3.9/site-packages/matsml-1.0.1-py3.9.egg/matsml/fingerprint.py:284: FutureWarning: The frame.append method is deprecated and will be removed from pandas in a future version. Use pandas.concat instead.\n",
      "  pesm = pesm.append(pd.DataFrame(np.array(gcm).reshape((1, fp_dim+2)),\n",
      "/home/huan/miniconda3/envs/tf/lib/python3.9/site-packages/matsml-1.0.1-py3.9.egg/matsml/fingerprint.py:284: FutureWarning: The frame.append method is deprecated and will be removed from pandas in a future version. Use pandas.concat instead.\n",
      "  pesm = pesm.append(pd.DataFrame(np.array(gcm).reshape((1, fp_dim+2)),\n"
     ]
    },
    {
     "name": "stdout",
     "output_type": "stream",
     "text": [
      "    [=================                                 ] 33%"
     ]
    },
    {
     "name": "stderr",
     "output_type": "stream",
     "text": [
      "/home/huan/miniconda3/envs/tf/lib/python3.9/site-packages/matsml-1.0.1-py3.9.egg/matsml/fingerprint.py:284: FutureWarning: The frame.append method is deprecated and will be removed from pandas in a future version. Use pandas.concat instead.\n",
      "  pesm = pesm.append(pd.DataFrame(np.array(gcm).reshape((1, fp_dim+2)),\n",
      "/home/huan/miniconda3/envs/tf/lib/python3.9/site-packages/matsml-1.0.1-py3.9.egg/matsml/fingerprint.py:284: FutureWarning: The frame.append method is deprecated and will be removed from pandas in a future version. Use pandas.concat instead.\n",
      "  pesm = pesm.append(pd.DataFrame(np.array(gcm).reshape((1, fp_dim+2)),\n"
     ]
    },
    {
     "name": "stdout",
     "output_type": "stream",
     "text": [
      "    [=================                                 ] 33%"
     ]
    },
    {
     "name": "stderr",
     "output_type": "stream",
     "text": [
      "/home/huan/miniconda3/envs/tf/lib/python3.9/site-packages/matsml-1.0.1-py3.9.egg/matsml/fingerprint.py:284: FutureWarning: The frame.append method is deprecated and will be removed from pandas in a future version. Use pandas.concat instead.\n",
      "  pesm = pesm.append(pd.DataFrame(np.array(gcm).reshape((1, fp_dim+2)),\n",
      "/home/huan/miniconda3/envs/tf/lib/python3.9/site-packages/matsml-1.0.1-py3.9.egg/matsml/fingerprint.py:284: FutureWarning: The frame.append method is deprecated and will be removed from pandas in a future version. Use pandas.concat instead.\n",
      "  pesm = pesm.append(pd.DataFrame(np.array(gcm).reshape((1, fp_dim+2)),\n"
     ]
    },
    {
     "name": "stdout",
     "output_type": "stream",
     "text": [
      "    [=================                                 ] 34%"
     ]
    },
    {
     "name": "stderr",
     "output_type": "stream",
     "text": [
      "/home/huan/miniconda3/envs/tf/lib/python3.9/site-packages/matsml-1.0.1-py3.9.egg/matsml/fingerprint.py:284: FutureWarning: The frame.append method is deprecated and will be removed from pandas in a future version. Use pandas.concat instead.\n",
      "  pesm = pesm.append(pd.DataFrame(np.array(gcm).reshape((1, fp_dim+2)),\n",
      "/home/huan/miniconda3/envs/tf/lib/python3.9/site-packages/matsml-1.0.1-py3.9.egg/matsml/fingerprint.py:284: FutureWarning: The frame.append method is deprecated and will be removed from pandas in a future version. Use pandas.concat instead.\n",
      "  pesm = pesm.append(pd.DataFrame(np.array(gcm).reshape((1, fp_dim+2)),\n"
     ]
    },
    {
     "name": "stdout",
     "output_type": "stream",
     "text": [
      "    [==================                                ] 35%"
     ]
    },
    {
     "name": "stderr",
     "output_type": "stream",
     "text": [
      "/home/huan/miniconda3/envs/tf/lib/python3.9/site-packages/matsml-1.0.1-py3.9.egg/matsml/fingerprint.py:284: FutureWarning: The frame.append method is deprecated and will be removed from pandas in a future version. Use pandas.concat instead.\n",
      "  pesm = pesm.append(pd.DataFrame(np.array(gcm).reshape((1, fp_dim+2)),\n",
      "/home/huan/miniconda3/envs/tf/lib/python3.9/site-packages/matsml-1.0.1-py3.9.egg/matsml/fingerprint.py:284: FutureWarning: The frame.append method is deprecated and will be removed from pandas in a future version. Use pandas.concat instead.\n",
      "  pesm = pesm.append(pd.DataFrame(np.array(gcm).reshape((1, fp_dim+2)),\n"
     ]
    },
    {
     "name": "stdout",
     "output_type": "stream",
     "text": [
      "    [==================                                ] 35%"
     ]
    },
    {
     "name": "stderr",
     "output_type": "stream",
     "text": [
      "/home/huan/miniconda3/envs/tf/lib/python3.9/site-packages/matsml-1.0.1-py3.9.egg/matsml/fingerprint.py:284: FutureWarning: The frame.append method is deprecated and will be removed from pandas in a future version. Use pandas.concat instead.\n",
      "  pesm = pesm.append(pd.DataFrame(np.array(gcm).reshape((1, fp_dim+2)),\n",
      "/home/huan/miniconda3/envs/tf/lib/python3.9/site-packages/matsml-1.0.1-py3.9.egg/matsml/fingerprint.py:284: FutureWarning: The frame.append method is deprecated and will be removed from pandas in a future version. Use pandas.concat instead.\n",
      "  pesm = pesm.append(pd.DataFrame(np.array(gcm).reshape((1, fp_dim+2)),\n"
     ]
    },
    {
     "name": "stdout",
     "output_type": "stream",
     "text": [
      "    [==================                                ] 36%"
     ]
    },
    {
     "name": "stderr",
     "output_type": "stream",
     "text": [
      "/home/huan/miniconda3/envs/tf/lib/python3.9/site-packages/matsml-1.0.1-py3.9.egg/matsml/fingerprint.py:284: FutureWarning: The frame.append method is deprecated and will be removed from pandas in a future version. Use pandas.concat instead.\n",
      "  pesm = pesm.append(pd.DataFrame(np.array(gcm).reshape((1, fp_dim+2)),\n",
      "/home/huan/miniconda3/envs/tf/lib/python3.9/site-packages/matsml-1.0.1-py3.9.egg/matsml/fingerprint.py:284: FutureWarning: The frame.append method is deprecated and will be removed from pandas in a future version. Use pandas.concat instead.\n",
      "  pesm = pesm.append(pd.DataFrame(np.array(gcm).reshape((1, fp_dim+2)),\n"
     ]
    },
    {
     "name": "stdout",
     "output_type": "stream",
     "text": [
      "    [==================                                ] 36%"
     ]
    },
    {
     "name": "stderr",
     "output_type": "stream",
     "text": [
      "/home/huan/miniconda3/envs/tf/lib/python3.9/site-packages/matsml-1.0.1-py3.9.egg/matsml/fingerprint.py:284: FutureWarning: The frame.append method is deprecated and will be removed from pandas in a future version. Use pandas.concat instead.\n",
      "  pesm = pesm.append(pd.DataFrame(np.array(gcm).reshape((1, fp_dim+2)),\n",
      "/home/huan/miniconda3/envs/tf/lib/python3.9/site-packages/matsml-1.0.1-py3.9.egg/matsml/fingerprint.py:284: FutureWarning: The frame.append method is deprecated and will be removed from pandas in a future version. Use pandas.concat instead.\n",
      "  pesm = pesm.append(pd.DataFrame(np.array(gcm).reshape((1, fp_dim+2)),\n"
     ]
    },
    {
     "name": "stdout",
     "output_type": "stream",
     "text": [
      "    [===================                               ] 37%"
     ]
    },
    {
     "name": "stderr",
     "output_type": "stream",
     "text": [
      "/home/huan/miniconda3/envs/tf/lib/python3.9/site-packages/matsml-1.0.1-py3.9.egg/matsml/fingerprint.py:284: FutureWarning: The frame.append method is deprecated and will be removed from pandas in a future version. Use pandas.concat instead.\n",
      "  pesm = pesm.append(pd.DataFrame(np.array(gcm).reshape((1, fp_dim+2)),\n",
      "/home/huan/miniconda3/envs/tf/lib/python3.9/site-packages/matsml-1.0.1-py3.9.egg/matsml/fingerprint.py:284: FutureWarning: The frame.append method is deprecated and will be removed from pandas in a future version. Use pandas.concat instead.\n",
      "  pesm = pesm.append(pd.DataFrame(np.array(gcm).reshape((1, fp_dim+2)),\n"
     ]
    },
    {
     "name": "stdout",
     "output_type": "stream",
     "text": [
      "    [===================                               ] 38%"
     ]
    },
    {
     "name": "stderr",
     "output_type": "stream",
     "text": [
      "/home/huan/miniconda3/envs/tf/lib/python3.9/site-packages/matsml-1.0.1-py3.9.egg/matsml/fingerprint.py:284: FutureWarning: The frame.append method is deprecated and will be removed from pandas in a future version. Use pandas.concat instead.\n",
      "  pesm = pesm.append(pd.DataFrame(np.array(gcm).reshape((1, fp_dim+2)),\n",
      "/home/huan/miniconda3/envs/tf/lib/python3.9/site-packages/matsml-1.0.1-py3.9.egg/matsml/fingerprint.py:284: FutureWarning: The frame.append method is deprecated and will be removed from pandas in a future version. Use pandas.concat instead.\n",
      "  pesm = pesm.append(pd.DataFrame(np.array(gcm).reshape((1, fp_dim+2)),\n"
     ]
    },
    {
     "name": "stdout",
     "output_type": "stream",
     "text": [
      "    [===================                               ] 38%"
     ]
    },
    {
     "name": "stderr",
     "output_type": "stream",
     "text": [
      "/home/huan/miniconda3/envs/tf/lib/python3.9/site-packages/matsml-1.0.1-py3.9.egg/matsml/fingerprint.py:284: FutureWarning: The frame.append method is deprecated and will be removed from pandas in a future version. Use pandas.concat instead.\n",
      "  pesm = pesm.append(pd.DataFrame(np.array(gcm).reshape((1, fp_dim+2)),\n",
      "/home/huan/miniconda3/envs/tf/lib/python3.9/site-packages/matsml-1.0.1-py3.9.egg/matsml/fingerprint.py:284: FutureWarning: The frame.append method is deprecated and will be removed from pandas in a future version. Use pandas.concat instead.\n",
      "  pesm = pesm.append(pd.DataFrame(np.array(gcm).reshape((1, fp_dim+2)),\n"
     ]
    },
    {
     "name": "stdout",
     "output_type": "stream",
     "text": [
      "    [====================                              ] 39%"
     ]
    },
    {
     "name": "stderr",
     "output_type": "stream",
     "text": [
      "/home/huan/miniconda3/envs/tf/lib/python3.9/site-packages/matsml-1.0.1-py3.9.egg/matsml/fingerprint.py:284: FutureWarning: The frame.append method is deprecated and will be removed from pandas in a future version. Use pandas.concat instead.\n",
      "  pesm = pesm.append(pd.DataFrame(np.array(gcm).reshape((1, fp_dim+2)),\n",
      "/home/huan/miniconda3/envs/tf/lib/python3.9/site-packages/matsml-1.0.1-py3.9.egg/matsml/fingerprint.py:284: FutureWarning: The frame.append method is deprecated and will be removed from pandas in a future version. Use pandas.concat instead.\n",
      "  pesm = pesm.append(pd.DataFrame(np.array(gcm).reshape((1, fp_dim+2)),\n"
     ]
    },
    {
     "name": "stdout",
     "output_type": "stream",
     "text": [
      "    [====================                              ] 39%"
     ]
    },
    {
     "name": "stderr",
     "output_type": "stream",
     "text": [
      "/home/huan/miniconda3/envs/tf/lib/python3.9/site-packages/matsml-1.0.1-py3.9.egg/matsml/fingerprint.py:284: FutureWarning: The frame.append method is deprecated and will be removed from pandas in a future version. Use pandas.concat instead.\n",
      "  pesm = pesm.append(pd.DataFrame(np.array(gcm).reshape((1, fp_dim+2)),\n",
      "/home/huan/miniconda3/envs/tf/lib/python3.9/site-packages/matsml-1.0.1-py3.9.egg/matsml/fingerprint.py:284: FutureWarning: The frame.append method is deprecated and will be removed from pandas in a future version. Use pandas.concat instead.\n",
      "  pesm = pesm.append(pd.DataFrame(np.array(gcm).reshape((1, fp_dim+2)),\n"
     ]
    },
    {
     "name": "stdout",
     "output_type": "stream",
     "text": [
      "    [====================                              ] 40%"
     ]
    },
    {
     "name": "stderr",
     "output_type": "stream",
     "text": [
      "/home/huan/miniconda3/envs/tf/lib/python3.9/site-packages/matsml-1.0.1-py3.9.egg/matsml/fingerprint.py:284: FutureWarning: The frame.append method is deprecated and will be removed from pandas in a future version. Use pandas.concat instead.\n",
      "  pesm = pesm.append(pd.DataFrame(np.array(gcm).reshape((1, fp_dim+2)),\n",
      "/home/huan/miniconda3/envs/tf/lib/python3.9/site-packages/matsml-1.0.1-py3.9.egg/matsml/fingerprint.py:284: FutureWarning: The frame.append method is deprecated and will be removed from pandas in a future version. Use pandas.concat instead.\n",
      "  pesm = pesm.append(pd.DataFrame(np.array(gcm).reshape((1, fp_dim+2)),\n"
     ]
    },
    {
     "name": "stdout",
     "output_type": "stream",
     "text": [
      "    [=====================                             ] 41%"
     ]
    },
    {
     "name": "stderr",
     "output_type": "stream",
     "text": [
      "/home/huan/miniconda3/envs/tf/lib/python3.9/site-packages/matsml-1.0.1-py3.9.egg/matsml/fingerprint.py:284: FutureWarning: The frame.append method is deprecated and will be removed from pandas in a future version. Use pandas.concat instead.\n",
      "  pesm = pesm.append(pd.DataFrame(np.array(gcm).reshape((1, fp_dim+2)),\n",
      "/home/huan/miniconda3/envs/tf/lib/python3.9/site-packages/matsml-1.0.1-py3.9.egg/matsml/fingerprint.py:284: FutureWarning: The frame.append method is deprecated and will be removed from pandas in a future version. Use pandas.concat instead.\n",
      "  pesm = pesm.append(pd.DataFrame(np.array(gcm).reshape((1, fp_dim+2)),\n"
     ]
    },
    {
     "name": "stdout",
     "output_type": "stream",
     "text": [
      "    [=====================                             ] 41%"
     ]
    },
    {
     "name": "stderr",
     "output_type": "stream",
     "text": [
      "/home/huan/miniconda3/envs/tf/lib/python3.9/site-packages/matsml-1.0.1-py3.9.egg/matsml/fingerprint.py:284: FutureWarning: The frame.append method is deprecated and will be removed from pandas in a future version. Use pandas.concat instead.\n",
      "  pesm = pesm.append(pd.DataFrame(np.array(gcm).reshape((1, fp_dim+2)),\n",
      "/home/huan/miniconda3/envs/tf/lib/python3.9/site-packages/matsml-1.0.1-py3.9.egg/matsml/fingerprint.py:284: FutureWarning: The frame.append method is deprecated and will be removed from pandas in a future version. Use pandas.concat instead.\n",
      "  pesm = pesm.append(pd.DataFrame(np.array(gcm).reshape((1, fp_dim+2)),\n"
     ]
    },
    {
     "name": "stdout",
     "output_type": "stream",
     "text": [
      "    [=====================                             ] 42%"
     ]
    },
    {
     "name": "stderr",
     "output_type": "stream",
     "text": [
      "/home/huan/miniconda3/envs/tf/lib/python3.9/site-packages/matsml-1.0.1-py3.9.egg/matsml/fingerprint.py:284: FutureWarning: The frame.append method is deprecated and will be removed from pandas in a future version. Use pandas.concat instead.\n",
      "  pesm = pesm.append(pd.DataFrame(np.array(gcm).reshape((1, fp_dim+2)),\n",
      "/home/huan/miniconda3/envs/tf/lib/python3.9/site-packages/matsml-1.0.1-py3.9.egg/matsml/fingerprint.py:284: FutureWarning: The frame.append method is deprecated and will be removed from pandas in a future version. Use pandas.concat instead.\n",
      "  pesm = pesm.append(pd.DataFrame(np.array(gcm).reshape((1, fp_dim+2)),\n"
     ]
    },
    {
     "name": "stdout",
     "output_type": "stream",
     "text": [
      "    [=====================                             ] 42%"
     ]
    },
    {
     "name": "stderr",
     "output_type": "stream",
     "text": [
      "/home/huan/miniconda3/envs/tf/lib/python3.9/site-packages/matsml-1.0.1-py3.9.egg/matsml/fingerprint.py:284: FutureWarning: The frame.append method is deprecated and will be removed from pandas in a future version. Use pandas.concat instead.\n",
      "  pesm = pesm.append(pd.DataFrame(np.array(gcm).reshape((1, fp_dim+2)),\n",
      "/home/huan/miniconda3/envs/tf/lib/python3.9/site-packages/matsml-1.0.1-py3.9.egg/matsml/fingerprint.py:284: FutureWarning: The frame.append method is deprecated and will be removed from pandas in a future version. Use pandas.concat instead.\n",
      "  pesm = pesm.append(pd.DataFrame(np.array(gcm).reshape((1, fp_dim+2)),\n"
     ]
    },
    {
     "name": "stdout",
     "output_type": "stream",
     "text": [
      "    [======================                            ] 43%"
     ]
    },
    {
     "name": "stderr",
     "output_type": "stream",
     "text": [
      "/home/huan/miniconda3/envs/tf/lib/python3.9/site-packages/matsml-1.0.1-py3.9.egg/matsml/fingerprint.py:284: FutureWarning: The frame.append method is deprecated and will be removed from pandas in a future version. Use pandas.concat instead.\n",
      "  pesm = pesm.append(pd.DataFrame(np.array(gcm).reshape((1, fp_dim+2)),\n",
      "/home/huan/miniconda3/envs/tf/lib/python3.9/site-packages/matsml-1.0.1-py3.9.egg/matsml/fingerprint.py:284: FutureWarning: The frame.append method is deprecated and will be removed from pandas in a future version. Use pandas.concat instead.\n",
      "  pesm = pesm.append(pd.DataFrame(np.array(gcm).reshape((1, fp_dim+2)),\n"
     ]
    },
    {
     "name": "stdout",
     "output_type": "stream",
     "text": [
      "    [======================                            ] 44%"
     ]
    },
    {
     "name": "stderr",
     "output_type": "stream",
     "text": [
      "/home/huan/miniconda3/envs/tf/lib/python3.9/site-packages/matsml-1.0.1-py3.9.egg/matsml/fingerprint.py:284: FutureWarning: The frame.append method is deprecated and will be removed from pandas in a future version. Use pandas.concat instead.\n",
      "  pesm = pesm.append(pd.DataFrame(np.array(gcm).reshape((1, fp_dim+2)),\n",
      "/home/huan/miniconda3/envs/tf/lib/python3.9/site-packages/matsml-1.0.1-py3.9.egg/matsml/fingerprint.py:284: FutureWarning: The frame.append method is deprecated and will be removed from pandas in a future version. Use pandas.concat instead.\n",
      "  pesm = pesm.append(pd.DataFrame(np.array(gcm).reshape((1, fp_dim+2)),\n"
     ]
    },
    {
     "name": "stdout",
     "output_type": "stream",
     "text": [
      "    [======================                            ] 44%"
     ]
    },
    {
     "name": "stderr",
     "output_type": "stream",
     "text": [
      "/home/huan/miniconda3/envs/tf/lib/python3.9/site-packages/matsml-1.0.1-py3.9.egg/matsml/fingerprint.py:284: FutureWarning: The frame.append method is deprecated and will be removed from pandas in a future version. Use pandas.concat instead.\n",
      "  pesm = pesm.append(pd.DataFrame(np.array(gcm).reshape((1, fp_dim+2)),\n",
      "/home/huan/miniconda3/envs/tf/lib/python3.9/site-packages/matsml-1.0.1-py3.9.egg/matsml/fingerprint.py:284: FutureWarning: The frame.append method is deprecated and will be removed from pandas in a future version. Use pandas.concat instead.\n",
      "  pesm = pesm.append(pd.DataFrame(np.array(gcm).reshape((1, fp_dim+2)),\n"
     ]
    },
    {
     "name": "stdout",
     "output_type": "stream",
     "text": [
      "    [=======================                           ] 45%"
     ]
    },
    {
     "name": "stderr",
     "output_type": "stream",
     "text": [
      "/home/huan/miniconda3/envs/tf/lib/python3.9/site-packages/matsml-1.0.1-py3.9.egg/matsml/fingerprint.py:284: FutureWarning: The frame.append method is deprecated and will be removed from pandas in a future version. Use pandas.concat instead.\n",
      "  pesm = pesm.append(pd.DataFrame(np.array(gcm).reshape((1, fp_dim+2)),\n",
      "/home/huan/miniconda3/envs/tf/lib/python3.9/site-packages/matsml-1.0.1-py3.9.egg/matsml/fingerprint.py:284: FutureWarning: The frame.append method is deprecated and will be removed from pandas in a future version. Use pandas.concat instead.\n",
      "  pesm = pesm.append(pd.DataFrame(np.array(gcm).reshape((1, fp_dim+2)),\n"
     ]
    },
    {
     "name": "stdout",
     "output_type": "stream",
     "text": [
      "    [=======================                           ] 45%"
     ]
    },
    {
     "name": "stderr",
     "output_type": "stream",
     "text": [
      "/home/huan/miniconda3/envs/tf/lib/python3.9/site-packages/matsml-1.0.1-py3.9.egg/matsml/fingerprint.py:284: FutureWarning: The frame.append method is deprecated and will be removed from pandas in a future version. Use pandas.concat instead.\n",
      "  pesm = pesm.append(pd.DataFrame(np.array(gcm).reshape((1, fp_dim+2)),\n",
      "/home/huan/miniconda3/envs/tf/lib/python3.9/site-packages/matsml-1.0.1-py3.9.egg/matsml/fingerprint.py:284: FutureWarning: The frame.append method is deprecated and will be removed from pandas in a future version. Use pandas.concat instead.\n",
      "  pesm = pesm.append(pd.DataFrame(np.array(gcm).reshape((1, fp_dim+2)),\n"
     ]
    },
    {
     "name": "stdout",
     "output_type": "stream",
     "text": [
      "    [=======================                           ] 46%"
     ]
    },
    {
     "name": "stderr",
     "output_type": "stream",
     "text": [
      "/home/huan/miniconda3/envs/tf/lib/python3.9/site-packages/matsml-1.0.1-py3.9.egg/matsml/fingerprint.py:284: FutureWarning: The frame.append method is deprecated and will be removed from pandas in a future version. Use pandas.concat instead.\n",
      "  pesm = pesm.append(pd.DataFrame(np.array(gcm).reshape((1, fp_dim+2)),\n",
      "/home/huan/miniconda3/envs/tf/lib/python3.9/site-packages/matsml-1.0.1-py3.9.egg/matsml/fingerprint.py:284: FutureWarning: The frame.append method is deprecated and will be removed from pandas in a future version. Use pandas.concat instead.\n",
      "  pesm = pesm.append(pd.DataFrame(np.array(gcm).reshape((1, fp_dim+2)),\n"
     ]
    },
    {
     "name": "stdout",
     "output_type": "stream",
     "text": [
      "    [========================                          ] 47%"
     ]
    },
    {
     "name": "stderr",
     "output_type": "stream",
     "text": [
      "/home/huan/miniconda3/envs/tf/lib/python3.9/site-packages/matsml-1.0.1-py3.9.egg/matsml/fingerprint.py:284: FutureWarning: The frame.append method is deprecated and will be removed from pandas in a future version. Use pandas.concat instead.\n",
      "  pesm = pesm.append(pd.DataFrame(np.array(gcm).reshape((1, fp_dim+2)),\n",
      "/home/huan/miniconda3/envs/tf/lib/python3.9/site-packages/matsml-1.0.1-py3.9.egg/matsml/fingerprint.py:284: FutureWarning: The frame.append method is deprecated and will be removed from pandas in a future version. Use pandas.concat instead.\n",
      "  pesm = pesm.append(pd.DataFrame(np.array(gcm).reshape((1, fp_dim+2)),\n"
     ]
    },
    {
     "name": "stdout",
     "output_type": "stream",
     "text": [
      "    [========================                          ] 47%"
     ]
    },
    {
     "name": "stderr",
     "output_type": "stream",
     "text": [
      "/home/huan/miniconda3/envs/tf/lib/python3.9/site-packages/matsml-1.0.1-py3.9.egg/matsml/fingerprint.py:284: FutureWarning: The frame.append method is deprecated and will be removed from pandas in a future version. Use pandas.concat instead.\n",
      "  pesm = pesm.append(pd.DataFrame(np.array(gcm).reshape((1, fp_dim+2)),\n",
      "/home/huan/miniconda3/envs/tf/lib/python3.9/site-packages/matsml-1.0.1-py3.9.egg/matsml/fingerprint.py:284: FutureWarning: The frame.append method is deprecated and will be removed from pandas in a future version. Use pandas.concat instead.\n",
      "  pesm = pesm.append(pd.DataFrame(np.array(gcm).reshape((1, fp_dim+2)),\n"
     ]
    },
    {
     "name": "stdout",
     "output_type": "stream",
     "text": [
      "    [========================                          ] 48%"
     ]
    },
    {
     "name": "stderr",
     "output_type": "stream",
     "text": [
      "/home/huan/miniconda3/envs/tf/lib/python3.9/site-packages/matsml-1.0.1-py3.9.egg/matsml/fingerprint.py:284: FutureWarning: The frame.append method is deprecated and will be removed from pandas in a future version. Use pandas.concat instead.\n",
      "  pesm = pesm.append(pd.DataFrame(np.array(gcm).reshape((1, fp_dim+2)),\n",
      "/home/huan/miniconda3/envs/tf/lib/python3.9/site-packages/matsml-1.0.1-py3.9.egg/matsml/fingerprint.py:284: FutureWarning: The frame.append method is deprecated and will be removed from pandas in a future version. Use pandas.concat instead.\n",
      "  pesm = pesm.append(pd.DataFrame(np.array(gcm).reshape((1, fp_dim+2)),\n"
     ]
    },
    {
     "name": "stdout",
     "output_type": "stream",
     "text": [
      "    [=========================                         ] 49%"
     ]
    },
    {
     "name": "stderr",
     "output_type": "stream",
     "text": [
      "/home/huan/miniconda3/envs/tf/lib/python3.9/site-packages/matsml-1.0.1-py3.9.egg/matsml/fingerprint.py:284: FutureWarning: The frame.append method is deprecated and will be removed from pandas in a future version. Use pandas.concat instead.\n",
      "  pesm = pesm.append(pd.DataFrame(np.array(gcm).reshape((1, fp_dim+2)),\n",
      "/home/huan/miniconda3/envs/tf/lib/python3.9/site-packages/matsml-1.0.1-py3.9.egg/matsml/fingerprint.py:284: FutureWarning: The frame.append method is deprecated and will be removed from pandas in a future version. Use pandas.concat instead.\n",
      "  pesm = pesm.append(pd.DataFrame(np.array(gcm).reshape((1, fp_dim+2)),\n"
     ]
    },
    {
     "name": "stdout",
     "output_type": "stream",
     "text": [
      "    [=========================                         ] 49%"
     ]
    },
    {
     "name": "stderr",
     "output_type": "stream",
     "text": [
      "/home/huan/miniconda3/envs/tf/lib/python3.9/site-packages/matsml-1.0.1-py3.9.egg/matsml/fingerprint.py:284: FutureWarning: The frame.append method is deprecated and will be removed from pandas in a future version. Use pandas.concat instead.\n",
      "  pesm = pesm.append(pd.DataFrame(np.array(gcm).reshape((1, fp_dim+2)),\n",
      "/home/huan/miniconda3/envs/tf/lib/python3.9/site-packages/matsml-1.0.1-py3.9.egg/matsml/fingerprint.py:284: FutureWarning: The frame.append method is deprecated and will be removed from pandas in a future version. Use pandas.concat instead.\n",
      "  pesm = pesm.append(pd.DataFrame(np.array(gcm).reshape((1, fp_dim+2)),\n"
     ]
    },
    {
     "name": "stdout",
     "output_type": "stream",
     "text": [
      "    [=========================                         ] 50%"
     ]
    },
    {
     "name": "stderr",
     "output_type": "stream",
     "text": [
      "/home/huan/miniconda3/envs/tf/lib/python3.9/site-packages/matsml-1.0.1-py3.9.egg/matsml/fingerprint.py:284: FutureWarning: The frame.append method is deprecated and will be removed from pandas in a future version. Use pandas.concat instead.\n",
      "  pesm = pesm.append(pd.DataFrame(np.array(gcm).reshape((1, fp_dim+2)),\n",
      "/home/huan/miniconda3/envs/tf/lib/python3.9/site-packages/matsml-1.0.1-py3.9.egg/matsml/fingerprint.py:284: FutureWarning: The frame.append method is deprecated and will be removed from pandas in a future version. Use pandas.concat instead.\n",
      "  pesm = pesm.append(pd.DataFrame(np.array(gcm).reshape((1, fp_dim+2)),\n"
     ]
    },
    {
     "name": "stdout",
     "output_type": "stream",
     "text": [
      "    [=========================                         ] 50%"
     ]
    },
    {
     "name": "stderr",
     "output_type": "stream",
     "text": [
      "/home/huan/miniconda3/envs/tf/lib/python3.9/site-packages/matsml-1.0.1-py3.9.egg/matsml/fingerprint.py:284: FutureWarning: The frame.append method is deprecated and will be removed from pandas in a future version. Use pandas.concat instead.\n",
      "  pesm = pesm.append(pd.DataFrame(np.array(gcm).reshape((1, fp_dim+2)),\n",
      "/home/huan/miniconda3/envs/tf/lib/python3.9/site-packages/matsml-1.0.1-py3.9.egg/matsml/fingerprint.py:284: FutureWarning: The frame.append method is deprecated and will be removed from pandas in a future version. Use pandas.concat instead.\n",
      "  pesm = pesm.append(pd.DataFrame(np.array(gcm).reshape((1, fp_dim+2)),\n"
     ]
    },
    {
     "name": "stdout",
     "output_type": "stream",
     "text": [
      "    [==========================                        ] 51%"
     ]
    },
    {
     "name": "stderr",
     "output_type": "stream",
     "text": [
      "/home/huan/miniconda3/envs/tf/lib/python3.9/site-packages/matsml-1.0.1-py3.9.egg/matsml/fingerprint.py:284: FutureWarning: The frame.append method is deprecated and will be removed from pandas in a future version. Use pandas.concat instead.\n",
      "  pesm = pesm.append(pd.DataFrame(np.array(gcm).reshape((1, fp_dim+2)),\n",
      "/home/huan/miniconda3/envs/tf/lib/python3.9/site-packages/matsml-1.0.1-py3.9.egg/matsml/fingerprint.py:284: FutureWarning: The frame.append method is deprecated and will be removed from pandas in a future version. Use pandas.concat instead.\n",
      "  pesm = pesm.append(pd.DataFrame(np.array(gcm).reshape((1, fp_dim+2)),\n"
     ]
    },
    {
     "name": "stdout",
     "output_type": "stream",
     "text": [
      "    [==========================                        ] 52%"
     ]
    },
    {
     "name": "stderr",
     "output_type": "stream",
     "text": [
      "/home/huan/miniconda3/envs/tf/lib/python3.9/site-packages/matsml-1.0.1-py3.9.egg/matsml/fingerprint.py:284: FutureWarning: The frame.append method is deprecated and will be removed from pandas in a future version. Use pandas.concat instead.\n",
      "  pesm = pesm.append(pd.DataFrame(np.array(gcm).reshape((1, fp_dim+2)),\n",
      "/home/huan/miniconda3/envs/tf/lib/python3.9/site-packages/matsml-1.0.1-py3.9.egg/matsml/fingerprint.py:284: FutureWarning: The frame.append method is deprecated and will be removed from pandas in a future version. Use pandas.concat instead.\n",
      "  pesm = pesm.append(pd.DataFrame(np.array(gcm).reshape((1, fp_dim+2)),\n"
     ]
    },
    {
     "name": "stdout",
     "output_type": "stream",
     "text": [
      "    [==========================                        ] 52%"
     ]
    },
    {
     "name": "stderr",
     "output_type": "stream",
     "text": [
      "/home/huan/miniconda3/envs/tf/lib/python3.9/site-packages/matsml-1.0.1-py3.9.egg/matsml/fingerprint.py:284: FutureWarning: The frame.append method is deprecated and will be removed from pandas in a future version. Use pandas.concat instead.\n",
      "  pesm = pesm.append(pd.DataFrame(np.array(gcm).reshape((1, fp_dim+2)),\n",
      "/home/huan/miniconda3/envs/tf/lib/python3.9/site-packages/matsml-1.0.1-py3.9.egg/matsml/fingerprint.py:284: FutureWarning: The frame.append method is deprecated and will be removed from pandas in a future version. Use pandas.concat instead.\n",
      "  pesm = pesm.append(pd.DataFrame(np.array(gcm).reshape((1, fp_dim+2)),\n"
     ]
    },
    {
     "name": "stdout",
     "output_type": "stream",
     "text": [
      "    [===========================                       ] 53%"
     ]
    },
    {
     "name": "stderr",
     "output_type": "stream",
     "text": [
      "/home/huan/miniconda3/envs/tf/lib/python3.9/site-packages/matsml-1.0.1-py3.9.egg/matsml/fingerprint.py:284: FutureWarning: The frame.append method is deprecated and will be removed from pandas in a future version. Use pandas.concat instead.\n",
      "  pesm = pesm.append(pd.DataFrame(np.array(gcm).reshape((1, fp_dim+2)),\n",
      "/home/huan/miniconda3/envs/tf/lib/python3.9/site-packages/matsml-1.0.1-py3.9.egg/matsml/fingerprint.py:284: FutureWarning: The frame.append method is deprecated and will be removed from pandas in a future version. Use pandas.concat instead.\n",
      "  pesm = pesm.append(pd.DataFrame(np.array(gcm).reshape((1, fp_dim+2)),\n"
     ]
    },
    {
     "name": "stdout",
     "output_type": "stream",
     "text": [
      "    [===========================                       ] 53%"
     ]
    },
    {
     "name": "stderr",
     "output_type": "stream",
     "text": [
      "/home/huan/miniconda3/envs/tf/lib/python3.9/site-packages/matsml-1.0.1-py3.9.egg/matsml/fingerprint.py:284: FutureWarning: The frame.append method is deprecated and will be removed from pandas in a future version. Use pandas.concat instead.\n",
      "  pesm = pesm.append(pd.DataFrame(np.array(gcm).reshape((1, fp_dim+2)),\n",
      "/home/huan/miniconda3/envs/tf/lib/python3.9/site-packages/matsml-1.0.1-py3.9.egg/matsml/fingerprint.py:284: FutureWarning: The frame.append method is deprecated and will be removed from pandas in a future version. Use pandas.concat instead.\n",
      "  pesm = pesm.append(pd.DataFrame(np.array(gcm).reshape((1, fp_dim+2)),\n"
     ]
    },
    {
     "name": "stdout",
     "output_type": "stream",
     "text": [
      "    [===========================                       ] 54%"
     ]
    },
    {
     "name": "stderr",
     "output_type": "stream",
     "text": [
      "/home/huan/miniconda3/envs/tf/lib/python3.9/site-packages/matsml-1.0.1-py3.9.egg/matsml/fingerprint.py:284: FutureWarning: The frame.append method is deprecated and will be removed from pandas in a future version. Use pandas.concat instead.\n",
      "  pesm = pesm.append(pd.DataFrame(np.array(gcm).reshape((1, fp_dim+2)),\n",
      "/home/huan/miniconda3/envs/tf/lib/python3.9/site-packages/matsml-1.0.1-py3.9.egg/matsml/fingerprint.py:284: FutureWarning: The frame.append method is deprecated and will be removed from pandas in a future version. Use pandas.concat instead.\n",
      "  pesm = pesm.append(pd.DataFrame(np.array(gcm).reshape((1, fp_dim+2)),\n"
     ]
    },
    {
     "name": "stdout",
     "output_type": "stream",
     "text": [
      "    [============================                      ] 55%"
     ]
    },
    {
     "name": "stderr",
     "output_type": "stream",
     "text": [
      "/home/huan/miniconda3/envs/tf/lib/python3.9/site-packages/matsml-1.0.1-py3.9.egg/matsml/fingerprint.py:284: FutureWarning: The frame.append method is deprecated and will be removed from pandas in a future version. Use pandas.concat instead.\n",
      "  pesm = pesm.append(pd.DataFrame(np.array(gcm).reshape((1, fp_dim+2)),\n",
      "/home/huan/miniconda3/envs/tf/lib/python3.9/site-packages/matsml-1.0.1-py3.9.egg/matsml/fingerprint.py:284: FutureWarning: The frame.append method is deprecated and will be removed from pandas in a future version. Use pandas.concat instead.\n",
      "  pesm = pesm.append(pd.DataFrame(np.array(gcm).reshape((1, fp_dim+2)),\n"
     ]
    },
    {
     "name": "stdout",
     "output_type": "stream",
     "text": [
      "    [============================                      ] 55%"
     ]
    },
    {
     "name": "stderr",
     "output_type": "stream",
     "text": [
      "/home/huan/miniconda3/envs/tf/lib/python3.9/site-packages/matsml-1.0.1-py3.9.egg/matsml/fingerprint.py:284: FutureWarning: The frame.append method is deprecated and will be removed from pandas in a future version. Use pandas.concat instead.\n",
      "  pesm = pesm.append(pd.DataFrame(np.array(gcm).reshape((1, fp_dim+2)),\n",
      "/home/huan/miniconda3/envs/tf/lib/python3.9/site-packages/matsml-1.0.1-py3.9.egg/matsml/fingerprint.py:284: FutureWarning: The frame.append method is deprecated and will be removed from pandas in a future version. Use pandas.concat instead.\n",
      "  pesm = pesm.append(pd.DataFrame(np.array(gcm).reshape((1, fp_dim+2)),\n"
     ]
    },
    {
     "name": "stdout",
     "output_type": "stream",
     "text": [
      "    [============================                      ] 56%"
     ]
    },
    {
     "name": "stderr",
     "output_type": "stream",
     "text": [
      "/home/huan/miniconda3/envs/tf/lib/python3.9/site-packages/matsml-1.0.1-py3.9.egg/matsml/fingerprint.py:284: FutureWarning: The frame.append method is deprecated and will be removed from pandas in a future version. Use pandas.concat instead.\n",
      "  pesm = pesm.append(pd.DataFrame(np.array(gcm).reshape((1, fp_dim+2)),\n",
      "/home/huan/miniconda3/envs/tf/lib/python3.9/site-packages/matsml-1.0.1-py3.9.egg/matsml/fingerprint.py:284: FutureWarning: The frame.append method is deprecated and will be removed from pandas in a future version. Use pandas.concat instead.\n",
      "  pesm = pesm.append(pd.DataFrame(np.array(gcm).reshape((1, fp_dim+2)),\n"
     ]
    },
    {
     "name": "stdout",
     "output_type": "stream",
     "text": [
      "    [============================                      ] 56%"
     ]
    },
    {
     "name": "stderr",
     "output_type": "stream",
     "text": [
      "/home/huan/miniconda3/envs/tf/lib/python3.9/site-packages/matsml-1.0.1-py3.9.egg/matsml/fingerprint.py:284: FutureWarning: The frame.append method is deprecated and will be removed from pandas in a future version. Use pandas.concat instead.\n",
      "  pesm = pesm.append(pd.DataFrame(np.array(gcm).reshape((1, fp_dim+2)),\n",
      "/home/huan/miniconda3/envs/tf/lib/python3.9/site-packages/matsml-1.0.1-py3.9.egg/matsml/fingerprint.py:284: FutureWarning: The frame.append method is deprecated and will be removed from pandas in a future version. Use pandas.concat instead.\n",
      "  pesm = pesm.append(pd.DataFrame(np.array(gcm).reshape((1, fp_dim+2)),\n"
     ]
    },
    {
     "name": "stdout",
     "output_type": "stream",
     "text": [
      "    [=============================                     ] 57%"
     ]
    },
    {
     "name": "stderr",
     "output_type": "stream",
     "text": [
      "/home/huan/miniconda3/envs/tf/lib/python3.9/site-packages/matsml-1.0.1-py3.9.egg/matsml/fingerprint.py:284: FutureWarning: The frame.append method is deprecated and will be removed from pandas in a future version. Use pandas.concat instead.\n",
      "  pesm = pesm.append(pd.DataFrame(np.array(gcm).reshape((1, fp_dim+2)),\n",
      "/home/huan/miniconda3/envs/tf/lib/python3.9/site-packages/matsml-1.0.1-py3.9.egg/matsml/fingerprint.py:284: FutureWarning: The frame.append method is deprecated and will be removed from pandas in a future version. Use pandas.concat instead.\n",
      "  pesm = pesm.append(pd.DataFrame(np.array(gcm).reshape((1, fp_dim+2)),\n"
     ]
    },
    {
     "name": "stdout",
     "output_type": "stream",
     "text": [
      "    [=============================                     ] 58%"
     ]
    },
    {
     "name": "stderr",
     "output_type": "stream",
     "text": [
      "/home/huan/miniconda3/envs/tf/lib/python3.9/site-packages/matsml-1.0.1-py3.9.egg/matsml/fingerprint.py:284: FutureWarning: The frame.append method is deprecated and will be removed from pandas in a future version. Use pandas.concat instead.\n",
      "  pesm = pesm.append(pd.DataFrame(np.array(gcm).reshape((1, fp_dim+2)),\n",
      "/home/huan/miniconda3/envs/tf/lib/python3.9/site-packages/matsml-1.0.1-py3.9.egg/matsml/fingerprint.py:284: FutureWarning: The frame.append method is deprecated and will be removed from pandas in a future version. Use pandas.concat instead.\n",
      "  pesm = pesm.append(pd.DataFrame(np.array(gcm).reshape((1, fp_dim+2)),\n"
     ]
    },
    {
     "name": "stdout",
     "output_type": "stream",
     "text": [
      "    [=============================                     ] 58%"
     ]
    },
    {
     "name": "stderr",
     "output_type": "stream",
     "text": [
      "/home/huan/miniconda3/envs/tf/lib/python3.9/site-packages/matsml-1.0.1-py3.9.egg/matsml/fingerprint.py:284: FutureWarning: The frame.append method is deprecated and will be removed from pandas in a future version. Use pandas.concat instead.\n",
      "  pesm = pesm.append(pd.DataFrame(np.array(gcm).reshape((1, fp_dim+2)),\n",
      "/home/huan/miniconda3/envs/tf/lib/python3.9/site-packages/matsml-1.0.1-py3.9.egg/matsml/fingerprint.py:284: FutureWarning: The frame.append method is deprecated and will be removed from pandas in a future version. Use pandas.concat instead.\n",
      "  pesm = pesm.append(pd.DataFrame(np.array(gcm).reshape((1, fp_dim+2)),\n"
     ]
    },
    {
     "name": "stdout",
     "output_type": "stream",
     "text": [
      "    [==============================                    ] 59%"
     ]
    },
    {
     "name": "stderr",
     "output_type": "stream",
     "text": [
      "/home/huan/miniconda3/envs/tf/lib/python3.9/site-packages/matsml-1.0.1-py3.9.egg/matsml/fingerprint.py:284: FutureWarning: The frame.append method is deprecated and will be removed from pandas in a future version. Use pandas.concat instead.\n",
      "  pesm = pesm.append(pd.DataFrame(np.array(gcm).reshape((1, fp_dim+2)),\n",
      "/home/huan/miniconda3/envs/tf/lib/python3.9/site-packages/matsml-1.0.1-py3.9.egg/matsml/fingerprint.py:284: FutureWarning: The frame.append method is deprecated and will be removed from pandas in a future version. Use pandas.concat instead.\n",
      "  pesm = pesm.append(pd.DataFrame(np.array(gcm).reshape((1, fp_dim+2)),\n"
     ]
    },
    {
     "name": "stdout",
     "output_type": "stream",
     "text": [
      "    [==============================                    ] 59%"
     ]
    },
    {
     "name": "stderr",
     "output_type": "stream",
     "text": [
      "/home/huan/miniconda3/envs/tf/lib/python3.9/site-packages/matsml-1.0.1-py3.9.egg/matsml/fingerprint.py:284: FutureWarning: The frame.append method is deprecated and will be removed from pandas in a future version. Use pandas.concat instead.\n",
      "  pesm = pesm.append(pd.DataFrame(np.array(gcm).reshape((1, fp_dim+2)),\n",
      "/home/huan/miniconda3/envs/tf/lib/python3.9/site-packages/matsml-1.0.1-py3.9.egg/matsml/fingerprint.py:284: FutureWarning: The frame.append method is deprecated and will be removed from pandas in a future version. Use pandas.concat instead.\n",
      "  pesm = pesm.append(pd.DataFrame(np.array(gcm).reshape((1, fp_dim+2)),\n"
     ]
    },
    {
     "name": "stdout",
     "output_type": "stream",
     "text": [
      "    [==============================                    ] 60%"
     ]
    },
    {
     "name": "stderr",
     "output_type": "stream",
     "text": [
      "/home/huan/miniconda3/envs/tf/lib/python3.9/site-packages/matsml-1.0.1-py3.9.egg/matsml/fingerprint.py:284: FutureWarning: The frame.append method is deprecated and will be removed from pandas in a future version. Use pandas.concat instead.\n",
      "  pesm = pesm.append(pd.DataFrame(np.array(gcm).reshape((1, fp_dim+2)),\n",
      "/home/huan/miniconda3/envs/tf/lib/python3.9/site-packages/matsml-1.0.1-py3.9.egg/matsml/fingerprint.py:284: FutureWarning: The frame.append method is deprecated and will be removed from pandas in a future version. Use pandas.concat instead.\n",
      "  pesm = pesm.append(pd.DataFrame(np.array(gcm).reshape((1, fp_dim+2)),\n"
     ]
    },
    {
     "name": "stdout",
     "output_type": "stream",
     "text": [
      "    [===============================                   ] 61%"
     ]
    },
    {
     "name": "stderr",
     "output_type": "stream",
     "text": [
      "/home/huan/miniconda3/envs/tf/lib/python3.9/site-packages/matsml-1.0.1-py3.9.egg/matsml/fingerprint.py:284: FutureWarning: The frame.append method is deprecated and will be removed from pandas in a future version. Use pandas.concat instead.\n",
      "  pesm = pesm.append(pd.DataFrame(np.array(gcm).reshape((1, fp_dim+2)),\n",
      "/home/huan/miniconda3/envs/tf/lib/python3.9/site-packages/matsml-1.0.1-py3.9.egg/matsml/fingerprint.py:284: FutureWarning: The frame.append method is deprecated and will be removed from pandas in a future version. Use pandas.concat instead.\n",
      "  pesm = pesm.append(pd.DataFrame(np.array(gcm).reshape((1, fp_dim+2)),\n"
     ]
    },
    {
     "name": "stdout",
     "output_type": "stream",
     "text": [
      "    [===============================                   ] 61%"
     ]
    },
    {
     "name": "stderr",
     "output_type": "stream",
     "text": [
      "/home/huan/miniconda3/envs/tf/lib/python3.9/site-packages/matsml-1.0.1-py3.9.egg/matsml/fingerprint.py:284: FutureWarning: The frame.append method is deprecated and will be removed from pandas in a future version. Use pandas.concat instead.\n",
      "  pesm = pesm.append(pd.DataFrame(np.array(gcm).reshape((1, fp_dim+2)),\n",
      "/home/huan/miniconda3/envs/tf/lib/python3.9/site-packages/matsml-1.0.1-py3.9.egg/matsml/fingerprint.py:284: FutureWarning: The frame.append method is deprecated and will be removed from pandas in a future version. Use pandas.concat instead.\n",
      "  pesm = pesm.append(pd.DataFrame(np.array(gcm).reshape((1, fp_dim+2)),\n"
     ]
    },
    {
     "name": "stdout",
     "output_type": "stream",
     "text": [
      "    [===============================                   ] 62%"
     ]
    },
    {
     "name": "stderr",
     "output_type": "stream",
     "text": [
      "/home/huan/miniconda3/envs/tf/lib/python3.9/site-packages/matsml-1.0.1-py3.9.egg/matsml/fingerprint.py:284: FutureWarning: The frame.append method is deprecated and will be removed from pandas in a future version. Use pandas.concat instead.\n",
      "  pesm = pesm.append(pd.DataFrame(np.array(gcm).reshape((1, fp_dim+2)),\n",
      "/home/huan/miniconda3/envs/tf/lib/python3.9/site-packages/matsml-1.0.1-py3.9.egg/matsml/fingerprint.py:284: FutureWarning: The frame.append method is deprecated and will be removed from pandas in a future version. Use pandas.concat instead.\n",
      "  pesm = pesm.append(pd.DataFrame(np.array(gcm).reshape((1, fp_dim+2)),\n"
     ]
    },
    {
     "name": "stdout",
     "output_type": "stream",
     "text": [
      "    [================================                  ] 63%"
     ]
    },
    {
     "name": "stderr",
     "output_type": "stream",
     "text": [
      "/home/huan/miniconda3/envs/tf/lib/python3.9/site-packages/matsml-1.0.1-py3.9.egg/matsml/fingerprint.py:284: FutureWarning: The frame.append method is deprecated and will be removed from pandas in a future version. Use pandas.concat instead.\n",
      "  pesm = pesm.append(pd.DataFrame(np.array(gcm).reshape((1, fp_dim+2)),\n",
      "/home/huan/miniconda3/envs/tf/lib/python3.9/site-packages/matsml-1.0.1-py3.9.egg/matsml/fingerprint.py:284: FutureWarning: The frame.append method is deprecated and will be removed from pandas in a future version. Use pandas.concat instead.\n",
      "  pesm = pesm.append(pd.DataFrame(np.array(gcm).reshape((1, fp_dim+2)),\n"
     ]
    },
    {
     "name": "stdout",
     "output_type": "stream",
     "text": [
      "    [================================                  ] 63%"
     ]
    },
    {
     "name": "stderr",
     "output_type": "stream",
     "text": [
      "/home/huan/miniconda3/envs/tf/lib/python3.9/site-packages/matsml-1.0.1-py3.9.egg/matsml/fingerprint.py:284: FutureWarning: The frame.append method is deprecated and will be removed from pandas in a future version. Use pandas.concat instead.\n",
      "  pesm = pesm.append(pd.DataFrame(np.array(gcm).reshape((1, fp_dim+2)),\n",
      "/home/huan/miniconda3/envs/tf/lib/python3.9/site-packages/matsml-1.0.1-py3.9.egg/matsml/fingerprint.py:284: FutureWarning: The frame.append method is deprecated and will be removed from pandas in a future version. Use pandas.concat instead.\n",
      "  pesm = pesm.append(pd.DataFrame(np.array(gcm).reshape((1, fp_dim+2)),\n"
     ]
    },
    {
     "name": "stdout",
     "output_type": "stream",
     "text": [
      "    [================================                  ] 64%"
     ]
    },
    {
     "name": "stderr",
     "output_type": "stream",
     "text": [
      "/home/huan/miniconda3/envs/tf/lib/python3.9/site-packages/matsml-1.0.1-py3.9.egg/matsml/fingerprint.py:284: FutureWarning: The frame.append method is deprecated and will be removed from pandas in a future version. Use pandas.concat instead.\n",
      "  pesm = pesm.append(pd.DataFrame(np.array(gcm).reshape((1, fp_dim+2)),\n",
      "/home/huan/miniconda3/envs/tf/lib/python3.9/site-packages/matsml-1.0.1-py3.9.egg/matsml/fingerprint.py:284: FutureWarning: The frame.append method is deprecated and will be removed from pandas in a future version. Use pandas.concat instead.\n",
      "  pesm = pesm.append(pd.DataFrame(np.array(gcm).reshape((1, fp_dim+2)),\n"
     ]
    },
    {
     "name": "stdout",
     "output_type": "stream",
     "text": [
      "    [================================                  ] 64%"
     ]
    },
    {
     "name": "stderr",
     "output_type": "stream",
     "text": [
      "/home/huan/miniconda3/envs/tf/lib/python3.9/site-packages/matsml-1.0.1-py3.9.egg/matsml/fingerprint.py:284: FutureWarning: The frame.append method is deprecated and will be removed from pandas in a future version. Use pandas.concat instead.\n",
      "  pesm = pesm.append(pd.DataFrame(np.array(gcm).reshape((1, fp_dim+2)),\n",
      "/home/huan/miniconda3/envs/tf/lib/python3.9/site-packages/matsml-1.0.1-py3.9.egg/matsml/fingerprint.py:284: FutureWarning: The frame.append method is deprecated and will be removed from pandas in a future version. Use pandas.concat instead.\n",
      "  pesm = pesm.append(pd.DataFrame(np.array(gcm).reshape((1, fp_dim+2)),\n"
     ]
    },
    {
     "name": "stdout",
     "output_type": "stream",
     "text": [
      "    [=================================                 ] 65%"
     ]
    },
    {
     "name": "stderr",
     "output_type": "stream",
     "text": [
      "/home/huan/miniconda3/envs/tf/lib/python3.9/site-packages/matsml-1.0.1-py3.9.egg/matsml/fingerprint.py:284: FutureWarning: The frame.append method is deprecated and will be removed from pandas in a future version. Use pandas.concat instead.\n",
      "  pesm = pesm.append(pd.DataFrame(np.array(gcm).reshape((1, fp_dim+2)),\n",
      "/home/huan/miniconda3/envs/tf/lib/python3.9/site-packages/matsml-1.0.1-py3.9.egg/matsml/fingerprint.py:284: FutureWarning: The frame.append method is deprecated and will be removed from pandas in a future version. Use pandas.concat instead.\n",
      "  pesm = pesm.append(pd.DataFrame(np.array(gcm).reshape((1, fp_dim+2)),\n"
     ]
    },
    {
     "name": "stdout",
     "output_type": "stream",
     "text": [
      "    [=================================                 ] 66%"
     ]
    },
    {
     "name": "stderr",
     "output_type": "stream",
     "text": [
      "/home/huan/miniconda3/envs/tf/lib/python3.9/site-packages/matsml-1.0.1-py3.9.egg/matsml/fingerprint.py:284: FutureWarning: The frame.append method is deprecated and will be removed from pandas in a future version. Use pandas.concat instead.\n",
      "  pesm = pesm.append(pd.DataFrame(np.array(gcm).reshape((1, fp_dim+2)),\n",
      "/home/huan/miniconda3/envs/tf/lib/python3.9/site-packages/matsml-1.0.1-py3.9.egg/matsml/fingerprint.py:284: FutureWarning: The frame.append method is deprecated and will be removed from pandas in a future version. Use pandas.concat instead.\n",
      "  pesm = pesm.append(pd.DataFrame(np.array(gcm).reshape((1, fp_dim+2)),\n"
     ]
    },
    {
     "name": "stdout",
     "output_type": "stream",
     "text": [
      "    [=================================                 ] 66%"
     ]
    },
    {
     "name": "stderr",
     "output_type": "stream",
     "text": [
      "/home/huan/miniconda3/envs/tf/lib/python3.9/site-packages/matsml-1.0.1-py3.9.egg/matsml/fingerprint.py:284: FutureWarning: The frame.append method is deprecated and will be removed from pandas in a future version. Use pandas.concat instead.\n",
      "  pesm = pesm.append(pd.DataFrame(np.array(gcm).reshape((1, fp_dim+2)),\n",
      "/home/huan/miniconda3/envs/tf/lib/python3.9/site-packages/matsml-1.0.1-py3.9.egg/matsml/fingerprint.py:284: FutureWarning: The frame.append method is deprecated and will be removed from pandas in a future version. Use pandas.concat instead.\n",
      "  pesm = pesm.append(pd.DataFrame(np.array(gcm).reshape((1, fp_dim+2)),\n"
     ]
    },
    {
     "name": "stdout",
     "output_type": "stream",
     "text": [
      "    [==================================                ] 67%"
     ]
    },
    {
     "name": "stderr",
     "output_type": "stream",
     "text": [
      "/home/huan/miniconda3/envs/tf/lib/python3.9/site-packages/matsml-1.0.1-py3.9.egg/matsml/fingerprint.py:284: FutureWarning: The frame.append method is deprecated and will be removed from pandas in a future version. Use pandas.concat instead.\n",
      "  pesm = pesm.append(pd.DataFrame(np.array(gcm).reshape((1, fp_dim+2)),\n",
      "/home/huan/miniconda3/envs/tf/lib/python3.9/site-packages/matsml-1.0.1-py3.9.egg/matsml/fingerprint.py:284: FutureWarning: The frame.append method is deprecated and will be removed from pandas in a future version. Use pandas.concat instead.\n",
      "  pesm = pesm.append(pd.DataFrame(np.array(gcm).reshape((1, fp_dim+2)),\n"
     ]
    },
    {
     "name": "stdout",
     "output_type": "stream",
     "text": [
      "    [==================================                ] 67%"
     ]
    },
    {
     "name": "stderr",
     "output_type": "stream",
     "text": [
      "/home/huan/miniconda3/envs/tf/lib/python3.9/site-packages/matsml-1.0.1-py3.9.egg/matsml/fingerprint.py:284: FutureWarning: The frame.append method is deprecated and will be removed from pandas in a future version. Use pandas.concat instead.\n",
      "  pesm = pesm.append(pd.DataFrame(np.array(gcm).reshape((1, fp_dim+2)),\n",
      "/home/huan/miniconda3/envs/tf/lib/python3.9/site-packages/matsml-1.0.1-py3.9.egg/matsml/fingerprint.py:284: FutureWarning: The frame.append method is deprecated and will be removed from pandas in a future version. Use pandas.concat instead.\n",
      "  pesm = pesm.append(pd.DataFrame(np.array(gcm).reshape((1, fp_dim+2)),\n"
     ]
    },
    {
     "name": "stdout",
     "output_type": "stream",
     "text": [
      "    [==================================                ] 68%"
     ]
    },
    {
     "name": "stderr",
     "output_type": "stream",
     "text": [
      "/home/huan/miniconda3/envs/tf/lib/python3.9/site-packages/matsml-1.0.1-py3.9.egg/matsml/fingerprint.py:284: FutureWarning: The frame.append method is deprecated and will be removed from pandas in a future version. Use pandas.concat instead.\n",
      "  pesm = pesm.append(pd.DataFrame(np.array(gcm).reshape((1, fp_dim+2)),\n",
      "/home/huan/miniconda3/envs/tf/lib/python3.9/site-packages/matsml-1.0.1-py3.9.egg/matsml/fingerprint.py:284: FutureWarning: The frame.append method is deprecated and will be removed from pandas in a future version. Use pandas.concat instead.\n",
      "  pesm = pesm.append(pd.DataFrame(np.array(gcm).reshape((1, fp_dim+2)),\n"
     ]
    },
    {
     "name": "stdout",
     "output_type": "stream",
     "text": [
      "    [===================================               ] 69%"
     ]
    },
    {
     "name": "stderr",
     "output_type": "stream",
     "text": [
      "/home/huan/miniconda3/envs/tf/lib/python3.9/site-packages/matsml-1.0.1-py3.9.egg/matsml/fingerprint.py:284: FutureWarning: The frame.append method is deprecated and will be removed from pandas in a future version. Use pandas.concat instead.\n",
      "  pesm = pesm.append(pd.DataFrame(np.array(gcm).reshape((1, fp_dim+2)),\n",
      "/home/huan/miniconda3/envs/tf/lib/python3.9/site-packages/matsml-1.0.1-py3.9.egg/matsml/fingerprint.py:284: FutureWarning: The frame.append method is deprecated and will be removed from pandas in a future version. Use pandas.concat instead.\n",
      "  pesm = pesm.append(pd.DataFrame(np.array(gcm).reshape((1, fp_dim+2)),\n"
     ]
    },
    {
     "name": "stdout",
     "output_type": "stream",
     "text": [
      "    [===================================               ] 69%"
     ]
    },
    {
     "name": "stderr",
     "output_type": "stream",
     "text": [
      "/home/huan/miniconda3/envs/tf/lib/python3.9/site-packages/matsml-1.0.1-py3.9.egg/matsml/fingerprint.py:284: FutureWarning: The frame.append method is deprecated and will be removed from pandas in a future version. Use pandas.concat instead.\n",
      "  pesm = pesm.append(pd.DataFrame(np.array(gcm).reshape((1, fp_dim+2)),\n",
      "/home/huan/miniconda3/envs/tf/lib/python3.9/site-packages/matsml-1.0.1-py3.9.egg/matsml/fingerprint.py:284: FutureWarning: The frame.append method is deprecated and will be removed from pandas in a future version. Use pandas.concat instead.\n",
      "  pesm = pesm.append(pd.DataFrame(np.array(gcm).reshape((1, fp_dim+2)),\n"
     ]
    },
    {
     "name": "stdout",
     "output_type": "stream",
     "text": [
      "    [===================================               ] 70%"
     ]
    },
    {
     "name": "stderr",
     "output_type": "stream",
     "text": [
      "/home/huan/miniconda3/envs/tf/lib/python3.9/site-packages/matsml-1.0.1-py3.9.egg/matsml/fingerprint.py:284: FutureWarning: The frame.append method is deprecated and will be removed from pandas in a future version. Use pandas.concat instead.\n",
      "  pesm = pesm.append(pd.DataFrame(np.array(gcm).reshape((1, fp_dim+2)),\n",
      "/home/huan/miniconda3/envs/tf/lib/python3.9/site-packages/matsml-1.0.1-py3.9.egg/matsml/fingerprint.py:284: FutureWarning: The frame.append method is deprecated and will be removed from pandas in a future version. Use pandas.concat instead.\n",
      "  pesm = pesm.append(pd.DataFrame(np.array(gcm).reshape((1, fp_dim+2)),\n"
     ]
    },
    {
     "name": "stdout",
     "output_type": "stream",
     "text": [
      "    [===================================               ] 70%"
     ]
    },
    {
     "name": "stderr",
     "output_type": "stream",
     "text": [
      "/home/huan/miniconda3/envs/tf/lib/python3.9/site-packages/matsml-1.0.1-py3.9.egg/matsml/fingerprint.py:284: FutureWarning: The frame.append method is deprecated and will be removed from pandas in a future version. Use pandas.concat instead.\n",
      "  pesm = pesm.append(pd.DataFrame(np.array(gcm).reshape((1, fp_dim+2)),\n",
      "/home/huan/miniconda3/envs/tf/lib/python3.9/site-packages/matsml-1.0.1-py3.9.egg/matsml/fingerprint.py:284: FutureWarning: The frame.append method is deprecated and will be removed from pandas in a future version. Use pandas.concat instead.\n",
      "  pesm = pesm.append(pd.DataFrame(np.array(gcm).reshape((1, fp_dim+2)),\n"
     ]
    },
    {
     "name": "stdout",
     "output_type": "stream",
     "text": [
      "    [====================================              ] 71%"
     ]
    },
    {
     "name": "stderr",
     "output_type": "stream",
     "text": [
      "/home/huan/miniconda3/envs/tf/lib/python3.9/site-packages/matsml-1.0.1-py3.9.egg/matsml/fingerprint.py:284: FutureWarning: The frame.append method is deprecated and will be removed from pandas in a future version. Use pandas.concat instead.\n",
      "  pesm = pesm.append(pd.DataFrame(np.array(gcm).reshape((1, fp_dim+2)),\n",
      "/home/huan/miniconda3/envs/tf/lib/python3.9/site-packages/matsml-1.0.1-py3.9.egg/matsml/fingerprint.py:284: FutureWarning: The frame.append method is deprecated and will be removed from pandas in a future version. Use pandas.concat instead.\n",
      "  pesm = pesm.append(pd.DataFrame(np.array(gcm).reshape((1, fp_dim+2)),\n"
     ]
    },
    {
     "name": "stdout",
     "output_type": "stream",
     "text": [
      "    [====================================              ] 72%"
     ]
    },
    {
     "name": "stderr",
     "output_type": "stream",
     "text": [
      "/home/huan/miniconda3/envs/tf/lib/python3.9/site-packages/matsml-1.0.1-py3.9.egg/matsml/fingerprint.py:284: FutureWarning: The frame.append method is deprecated and will be removed from pandas in a future version. Use pandas.concat instead.\n",
      "  pesm = pesm.append(pd.DataFrame(np.array(gcm).reshape((1, fp_dim+2)),\n",
      "/home/huan/miniconda3/envs/tf/lib/python3.9/site-packages/matsml-1.0.1-py3.9.egg/matsml/fingerprint.py:284: FutureWarning: The frame.append method is deprecated and will be removed from pandas in a future version. Use pandas.concat instead.\n",
      "  pesm = pesm.append(pd.DataFrame(np.array(gcm).reshape((1, fp_dim+2)),\n"
     ]
    },
    {
     "name": "stdout",
     "output_type": "stream",
     "text": [
      "    [====================================              ] 72%"
     ]
    },
    {
     "name": "stderr",
     "output_type": "stream",
     "text": [
      "/home/huan/miniconda3/envs/tf/lib/python3.9/site-packages/matsml-1.0.1-py3.9.egg/matsml/fingerprint.py:284: FutureWarning: The frame.append method is deprecated and will be removed from pandas in a future version. Use pandas.concat instead.\n",
      "  pesm = pesm.append(pd.DataFrame(np.array(gcm).reshape((1, fp_dim+2)),\n",
      "/home/huan/miniconda3/envs/tf/lib/python3.9/site-packages/matsml-1.0.1-py3.9.egg/matsml/fingerprint.py:284: FutureWarning: The frame.append method is deprecated and will be removed from pandas in a future version. Use pandas.concat instead.\n",
      "  pesm = pesm.append(pd.DataFrame(np.array(gcm).reshape((1, fp_dim+2)),\n"
     ]
    },
    {
     "name": "stdout",
     "output_type": "stream",
     "text": [
      "    [=====================================             ] 73%"
     ]
    },
    {
     "name": "stderr",
     "output_type": "stream",
     "text": [
      "/home/huan/miniconda3/envs/tf/lib/python3.9/site-packages/matsml-1.0.1-py3.9.egg/matsml/fingerprint.py:284: FutureWarning: The frame.append method is deprecated and will be removed from pandas in a future version. Use pandas.concat instead.\n",
      "  pesm = pesm.append(pd.DataFrame(np.array(gcm).reshape((1, fp_dim+2)),\n",
      "/home/huan/miniconda3/envs/tf/lib/python3.9/site-packages/matsml-1.0.1-py3.9.egg/matsml/fingerprint.py:284: FutureWarning: The frame.append method is deprecated and will be removed from pandas in a future version. Use pandas.concat instead.\n",
      "  pesm = pesm.append(pd.DataFrame(np.array(gcm).reshape((1, fp_dim+2)),\n"
     ]
    },
    {
     "name": "stdout",
     "output_type": "stream",
     "text": [
      "    [=====================================             ] 73%"
     ]
    },
    {
     "name": "stderr",
     "output_type": "stream",
     "text": [
      "/home/huan/miniconda3/envs/tf/lib/python3.9/site-packages/matsml-1.0.1-py3.9.egg/matsml/fingerprint.py:284: FutureWarning: The frame.append method is deprecated and will be removed from pandas in a future version. Use pandas.concat instead.\n",
      "  pesm = pesm.append(pd.DataFrame(np.array(gcm).reshape((1, fp_dim+2)),\n",
      "/home/huan/miniconda3/envs/tf/lib/python3.9/site-packages/matsml-1.0.1-py3.9.egg/matsml/fingerprint.py:284: FutureWarning: The frame.append method is deprecated and will be removed from pandas in a future version. Use pandas.concat instead.\n",
      "  pesm = pesm.append(pd.DataFrame(np.array(gcm).reshape((1, fp_dim+2)),\n"
     ]
    },
    {
     "name": "stdout",
     "output_type": "stream",
     "text": [
      "    [=====================================             ] 74%"
     ]
    },
    {
     "name": "stderr",
     "output_type": "stream",
     "text": [
      "/home/huan/miniconda3/envs/tf/lib/python3.9/site-packages/matsml-1.0.1-py3.9.egg/matsml/fingerprint.py:284: FutureWarning: The frame.append method is deprecated and will be removed from pandas in a future version. Use pandas.concat instead.\n",
      "  pesm = pesm.append(pd.DataFrame(np.array(gcm).reshape((1, fp_dim+2)),\n",
      "/home/huan/miniconda3/envs/tf/lib/python3.9/site-packages/matsml-1.0.1-py3.9.egg/matsml/fingerprint.py:284: FutureWarning: The frame.append method is deprecated and will be removed from pandas in a future version. Use pandas.concat instead.\n",
      "  pesm = pesm.append(pd.DataFrame(np.array(gcm).reshape((1, fp_dim+2)),\n"
     ]
    },
    {
     "name": "stdout",
     "output_type": "stream",
     "text": [
      "    [======================================            ] 75%"
     ]
    },
    {
     "name": "stderr",
     "output_type": "stream",
     "text": [
      "/home/huan/miniconda3/envs/tf/lib/python3.9/site-packages/matsml-1.0.1-py3.9.egg/matsml/fingerprint.py:284: FutureWarning: The frame.append method is deprecated and will be removed from pandas in a future version. Use pandas.concat instead.\n",
      "  pesm = pesm.append(pd.DataFrame(np.array(gcm).reshape((1, fp_dim+2)),\n",
      "/home/huan/miniconda3/envs/tf/lib/python3.9/site-packages/matsml-1.0.1-py3.9.egg/matsml/fingerprint.py:284: FutureWarning: The frame.append method is deprecated and will be removed from pandas in a future version. Use pandas.concat instead.\n",
      "  pesm = pesm.append(pd.DataFrame(np.array(gcm).reshape((1, fp_dim+2)),\n"
     ]
    },
    {
     "name": "stdout",
     "output_type": "stream",
     "text": [
      "    [======================================            ] 75%"
     ]
    },
    {
     "name": "stderr",
     "output_type": "stream",
     "text": [
      "/home/huan/miniconda3/envs/tf/lib/python3.9/site-packages/matsml-1.0.1-py3.9.egg/matsml/fingerprint.py:284: FutureWarning: The frame.append method is deprecated and will be removed from pandas in a future version. Use pandas.concat instead.\n",
      "  pesm = pesm.append(pd.DataFrame(np.array(gcm).reshape((1, fp_dim+2)),\n",
      "/home/huan/miniconda3/envs/tf/lib/python3.9/site-packages/matsml-1.0.1-py3.9.egg/matsml/fingerprint.py:284: FutureWarning: The frame.append method is deprecated and will be removed from pandas in a future version. Use pandas.concat instead.\n",
      "  pesm = pesm.append(pd.DataFrame(np.array(gcm).reshape((1, fp_dim+2)),\n"
     ]
    },
    {
     "name": "stdout",
     "output_type": "stream",
     "text": [
      "    [======================================            ] 76%"
     ]
    },
    {
     "name": "stderr",
     "output_type": "stream",
     "text": [
      "/home/huan/miniconda3/envs/tf/lib/python3.9/site-packages/matsml-1.0.1-py3.9.egg/matsml/fingerprint.py:284: FutureWarning: The frame.append method is deprecated and will be removed from pandas in a future version. Use pandas.concat instead.\n",
      "  pesm = pesm.append(pd.DataFrame(np.array(gcm).reshape((1, fp_dim+2)),\n",
      "/home/huan/miniconda3/envs/tf/lib/python3.9/site-packages/matsml-1.0.1-py3.9.egg/matsml/fingerprint.py:284: FutureWarning: The frame.append method is deprecated and will be removed from pandas in a future version. Use pandas.concat instead.\n",
      "  pesm = pesm.append(pd.DataFrame(np.array(gcm).reshape((1, fp_dim+2)),\n"
     ]
    },
    {
     "name": "stdout",
     "output_type": "stream",
     "text": [
      "    [======================================            ] 76%"
     ]
    },
    {
     "name": "stderr",
     "output_type": "stream",
     "text": [
      "/home/huan/miniconda3/envs/tf/lib/python3.9/site-packages/matsml-1.0.1-py3.9.egg/matsml/fingerprint.py:284: FutureWarning: The frame.append method is deprecated and will be removed from pandas in a future version. Use pandas.concat instead.\n",
      "  pesm = pesm.append(pd.DataFrame(np.array(gcm).reshape((1, fp_dim+2)),\n",
      "/home/huan/miniconda3/envs/tf/lib/python3.9/site-packages/matsml-1.0.1-py3.9.egg/matsml/fingerprint.py:284: FutureWarning: The frame.append method is deprecated and will be removed from pandas in a future version. Use pandas.concat instead.\n",
      "  pesm = pesm.append(pd.DataFrame(np.array(gcm).reshape((1, fp_dim+2)),\n"
     ]
    },
    {
     "name": "stdout",
     "output_type": "stream",
     "text": [
      "    [=======================================           ] 77%"
     ]
    },
    {
     "name": "stderr",
     "output_type": "stream",
     "text": [
      "/home/huan/miniconda3/envs/tf/lib/python3.9/site-packages/matsml-1.0.1-py3.9.egg/matsml/fingerprint.py:284: FutureWarning: The frame.append method is deprecated and will be removed from pandas in a future version. Use pandas.concat instead.\n",
      "  pesm = pesm.append(pd.DataFrame(np.array(gcm).reshape((1, fp_dim+2)),\n",
      "/home/huan/miniconda3/envs/tf/lib/python3.9/site-packages/matsml-1.0.1-py3.9.egg/matsml/fingerprint.py:284: FutureWarning: The frame.append method is deprecated and will be removed from pandas in a future version. Use pandas.concat instead.\n",
      "  pesm = pesm.append(pd.DataFrame(np.array(gcm).reshape((1, fp_dim+2)),\n"
     ]
    },
    {
     "name": "stdout",
     "output_type": "stream",
     "text": [
      "    [=======================================           ] 78%"
     ]
    },
    {
     "name": "stderr",
     "output_type": "stream",
     "text": [
      "/home/huan/miniconda3/envs/tf/lib/python3.9/site-packages/matsml-1.0.1-py3.9.egg/matsml/fingerprint.py:284: FutureWarning: The frame.append method is deprecated and will be removed from pandas in a future version. Use pandas.concat instead.\n",
      "  pesm = pesm.append(pd.DataFrame(np.array(gcm).reshape((1, fp_dim+2)),\n",
      "/home/huan/miniconda3/envs/tf/lib/python3.9/site-packages/matsml-1.0.1-py3.9.egg/matsml/fingerprint.py:284: FutureWarning: The frame.append method is deprecated and will be removed from pandas in a future version. Use pandas.concat instead.\n",
      "  pesm = pesm.append(pd.DataFrame(np.array(gcm).reshape((1, fp_dim+2)),\n"
     ]
    },
    {
     "name": "stdout",
     "output_type": "stream",
     "text": [
      "    [=======================================           ] 78%"
     ]
    },
    {
     "name": "stderr",
     "output_type": "stream",
     "text": [
      "/home/huan/miniconda3/envs/tf/lib/python3.9/site-packages/matsml-1.0.1-py3.9.egg/matsml/fingerprint.py:284: FutureWarning: The frame.append method is deprecated and will be removed from pandas in a future version. Use pandas.concat instead.\n",
      "  pesm = pesm.append(pd.DataFrame(np.array(gcm).reshape((1, fp_dim+2)),\n",
      "/home/huan/miniconda3/envs/tf/lib/python3.9/site-packages/matsml-1.0.1-py3.9.egg/matsml/fingerprint.py:284: FutureWarning: The frame.append method is deprecated and will be removed from pandas in a future version. Use pandas.concat instead.\n",
      "  pesm = pesm.append(pd.DataFrame(np.array(gcm).reshape((1, fp_dim+2)),\n"
     ]
    },
    {
     "name": "stdout",
     "output_type": "stream",
     "text": [
      "    [========================================          ] 79%"
     ]
    },
    {
     "name": "stderr",
     "output_type": "stream",
     "text": [
      "/home/huan/miniconda3/envs/tf/lib/python3.9/site-packages/matsml-1.0.1-py3.9.egg/matsml/fingerprint.py:284: FutureWarning: The frame.append method is deprecated and will be removed from pandas in a future version. Use pandas.concat instead.\n",
      "  pesm = pesm.append(pd.DataFrame(np.array(gcm).reshape((1, fp_dim+2)),\n",
      "/home/huan/miniconda3/envs/tf/lib/python3.9/site-packages/matsml-1.0.1-py3.9.egg/matsml/fingerprint.py:284: FutureWarning: The frame.append method is deprecated and will be removed from pandas in a future version. Use pandas.concat instead.\n",
      "  pesm = pesm.append(pd.DataFrame(np.array(gcm).reshape((1, fp_dim+2)),\n"
     ]
    },
    {
     "name": "stdout",
     "output_type": "stream",
     "text": [
      "    [========================================          ] 80%"
     ]
    },
    {
     "name": "stderr",
     "output_type": "stream",
     "text": [
      "/home/huan/miniconda3/envs/tf/lib/python3.9/site-packages/matsml-1.0.1-py3.9.egg/matsml/fingerprint.py:284: FutureWarning: The frame.append method is deprecated and will be removed from pandas in a future version. Use pandas.concat instead.\n",
      "  pesm = pesm.append(pd.DataFrame(np.array(gcm).reshape((1, fp_dim+2)),\n",
      "/home/huan/miniconda3/envs/tf/lib/python3.9/site-packages/matsml-1.0.1-py3.9.egg/matsml/fingerprint.py:284: FutureWarning: The frame.append method is deprecated and will be removed from pandas in a future version. Use pandas.concat instead.\n",
      "  pesm = pesm.append(pd.DataFrame(np.array(gcm).reshape((1, fp_dim+2)),\n"
     ]
    },
    {
     "name": "stdout",
     "output_type": "stream",
     "text": [
      "    [========================================          ] 80%"
     ]
    },
    {
     "name": "stderr",
     "output_type": "stream",
     "text": [
      "/home/huan/miniconda3/envs/tf/lib/python3.9/site-packages/matsml-1.0.1-py3.9.egg/matsml/fingerprint.py:284: FutureWarning: The frame.append method is deprecated and will be removed from pandas in a future version. Use pandas.concat instead.\n",
      "  pesm = pesm.append(pd.DataFrame(np.array(gcm).reshape((1, fp_dim+2)),\n",
      "/home/huan/miniconda3/envs/tf/lib/python3.9/site-packages/matsml-1.0.1-py3.9.egg/matsml/fingerprint.py:284: FutureWarning: The frame.append method is deprecated and will be removed from pandas in a future version. Use pandas.concat instead.\n",
      "  pesm = pesm.append(pd.DataFrame(np.array(gcm).reshape((1, fp_dim+2)),\n"
     ]
    },
    {
     "name": "stdout",
     "output_type": "stream",
     "text": [
      "    [=========================================         ] 81%"
     ]
    },
    {
     "name": "stderr",
     "output_type": "stream",
     "text": [
      "/home/huan/miniconda3/envs/tf/lib/python3.9/site-packages/matsml-1.0.1-py3.9.egg/matsml/fingerprint.py:284: FutureWarning: The frame.append method is deprecated and will be removed from pandas in a future version. Use pandas.concat instead.\n",
      "  pesm = pesm.append(pd.DataFrame(np.array(gcm).reshape((1, fp_dim+2)),\n",
      "/home/huan/miniconda3/envs/tf/lib/python3.9/site-packages/matsml-1.0.1-py3.9.egg/matsml/fingerprint.py:284: FutureWarning: The frame.append method is deprecated and will be removed from pandas in a future version. Use pandas.concat instead.\n",
      "  pesm = pesm.append(pd.DataFrame(np.array(gcm).reshape((1, fp_dim+2)),\n"
     ]
    },
    {
     "name": "stdout",
     "output_type": "stream",
     "text": [
      "    [=========================================         ] 81%"
     ]
    },
    {
     "name": "stderr",
     "output_type": "stream",
     "text": [
      "/home/huan/miniconda3/envs/tf/lib/python3.9/site-packages/matsml-1.0.1-py3.9.egg/matsml/fingerprint.py:284: FutureWarning: The frame.append method is deprecated and will be removed from pandas in a future version. Use pandas.concat instead.\n",
      "  pesm = pesm.append(pd.DataFrame(np.array(gcm).reshape((1, fp_dim+2)),\n",
      "/home/huan/miniconda3/envs/tf/lib/python3.9/site-packages/matsml-1.0.1-py3.9.egg/matsml/fingerprint.py:284: FutureWarning: The frame.append method is deprecated and will be removed from pandas in a future version. Use pandas.concat instead.\n",
      "  pesm = pesm.append(pd.DataFrame(np.array(gcm).reshape((1, fp_dim+2)),\n"
     ]
    },
    {
     "name": "stdout",
     "output_type": "stream",
     "text": [
      "    [=========================================         ] 82%"
     ]
    },
    {
     "name": "stderr",
     "output_type": "stream",
     "text": [
      "/home/huan/miniconda3/envs/tf/lib/python3.9/site-packages/matsml-1.0.1-py3.9.egg/matsml/fingerprint.py:284: FutureWarning: The frame.append method is deprecated and will be removed from pandas in a future version. Use pandas.concat instead.\n",
      "  pesm = pesm.append(pd.DataFrame(np.array(gcm).reshape((1, fp_dim+2)),\n",
      "/home/huan/miniconda3/envs/tf/lib/python3.9/site-packages/matsml-1.0.1-py3.9.egg/matsml/fingerprint.py:284: FutureWarning: The frame.append method is deprecated and will be removed from pandas in a future version. Use pandas.concat instead.\n",
      "  pesm = pesm.append(pd.DataFrame(np.array(gcm).reshape((1, fp_dim+2)),\n"
     ]
    },
    {
     "name": "stdout",
     "output_type": "stream",
     "text": [
      "    [==========================================        ] 83%"
     ]
    },
    {
     "name": "stderr",
     "output_type": "stream",
     "text": [
      "/home/huan/miniconda3/envs/tf/lib/python3.9/site-packages/matsml-1.0.1-py3.9.egg/matsml/fingerprint.py:284: FutureWarning: The frame.append method is deprecated and will be removed from pandas in a future version. Use pandas.concat instead.\n",
      "  pesm = pesm.append(pd.DataFrame(np.array(gcm).reshape((1, fp_dim+2)),\n",
      "/home/huan/miniconda3/envs/tf/lib/python3.9/site-packages/matsml-1.0.1-py3.9.egg/matsml/fingerprint.py:284: FutureWarning: The frame.append method is deprecated and will be removed from pandas in a future version. Use pandas.concat instead.\n",
      "  pesm = pesm.append(pd.DataFrame(np.array(gcm).reshape((1, fp_dim+2)),\n"
     ]
    },
    {
     "name": "stdout",
     "output_type": "stream",
     "text": [
      "    [==========================================        ] 83%"
     ]
    },
    {
     "name": "stderr",
     "output_type": "stream",
     "text": [
      "/home/huan/miniconda3/envs/tf/lib/python3.9/site-packages/matsml-1.0.1-py3.9.egg/matsml/fingerprint.py:284: FutureWarning: The frame.append method is deprecated and will be removed from pandas in a future version. Use pandas.concat instead.\n",
      "  pesm = pesm.append(pd.DataFrame(np.array(gcm).reshape((1, fp_dim+2)),\n",
      "/home/huan/miniconda3/envs/tf/lib/python3.9/site-packages/matsml-1.0.1-py3.9.egg/matsml/fingerprint.py:284: FutureWarning: The frame.append method is deprecated and will be removed from pandas in a future version. Use pandas.concat instead.\n",
      "  pesm = pesm.append(pd.DataFrame(np.array(gcm).reshape((1, fp_dim+2)),\n"
     ]
    },
    {
     "name": "stdout",
     "output_type": "stream",
     "text": [
      "    [==========================================        ] 84%"
     ]
    },
    {
     "name": "stderr",
     "output_type": "stream",
     "text": [
      "/home/huan/miniconda3/envs/tf/lib/python3.9/site-packages/matsml-1.0.1-py3.9.egg/matsml/fingerprint.py:284: FutureWarning: The frame.append method is deprecated and will be removed from pandas in a future version. Use pandas.concat instead.\n",
      "  pesm = pesm.append(pd.DataFrame(np.array(gcm).reshape((1, fp_dim+2)),\n",
      "/home/huan/miniconda3/envs/tf/lib/python3.9/site-packages/matsml-1.0.1-py3.9.egg/matsml/fingerprint.py:284: FutureWarning: The frame.append method is deprecated and will be removed from pandas in a future version. Use pandas.concat instead.\n",
      "  pesm = pesm.append(pd.DataFrame(np.array(gcm).reshape((1, fp_dim+2)),\n"
     ]
    },
    {
     "name": "stdout",
     "output_type": "stream",
     "text": [
      "    [==========================================        ] 84%"
     ]
    },
    {
     "name": "stderr",
     "output_type": "stream",
     "text": [
      "/home/huan/miniconda3/envs/tf/lib/python3.9/site-packages/matsml-1.0.1-py3.9.egg/matsml/fingerprint.py:284: FutureWarning: The frame.append method is deprecated and will be removed from pandas in a future version. Use pandas.concat instead.\n",
      "  pesm = pesm.append(pd.DataFrame(np.array(gcm).reshape((1, fp_dim+2)),\n",
      "/home/huan/miniconda3/envs/tf/lib/python3.9/site-packages/matsml-1.0.1-py3.9.egg/matsml/fingerprint.py:284: FutureWarning: The frame.append method is deprecated and will be removed from pandas in a future version. Use pandas.concat instead.\n",
      "  pesm = pesm.append(pd.DataFrame(np.array(gcm).reshape((1, fp_dim+2)),\n"
     ]
    },
    {
     "name": "stdout",
     "output_type": "stream",
     "text": [
      "    [===========================================       ] 85%"
     ]
    },
    {
     "name": "stderr",
     "output_type": "stream",
     "text": [
      "/home/huan/miniconda3/envs/tf/lib/python3.9/site-packages/matsml-1.0.1-py3.9.egg/matsml/fingerprint.py:284: FutureWarning: The frame.append method is deprecated and will be removed from pandas in a future version. Use pandas.concat instead.\n",
      "  pesm = pesm.append(pd.DataFrame(np.array(gcm).reshape((1, fp_dim+2)),\n",
      "/home/huan/miniconda3/envs/tf/lib/python3.9/site-packages/matsml-1.0.1-py3.9.egg/matsml/fingerprint.py:284: FutureWarning: The frame.append method is deprecated and will be removed from pandas in a future version. Use pandas.concat instead.\n",
      "  pesm = pesm.append(pd.DataFrame(np.array(gcm).reshape((1, fp_dim+2)),\n"
     ]
    },
    {
     "name": "stdout",
     "output_type": "stream",
     "text": [
      "    [===========================================       ] 86%"
     ]
    },
    {
     "name": "stderr",
     "output_type": "stream",
     "text": [
      "/home/huan/miniconda3/envs/tf/lib/python3.9/site-packages/matsml-1.0.1-py3.9.egg/matsml/fingerprint.py:284: FutureWarning: The frame.append method is deprecated and will be removed from pandas in a future version. Use pandas.concat instead.\n",
      "  pesm = pesm.append(pd.DataFrame(np.array(gcm).reshape((1, fp_dim+2)),\n",
      "/home/huan/miniconda3/envs/tf/lib/python3.9/site-packages/matsml-1.0.1-py3.9.egg/matsml/fingerprint.py:284: FutureWarning: The frame.append method is deprecated and will be removed from pandas in a future version. Use pandas.concat instead.\n",
      "  pesm = pesm.append(pd.DataFrame(np.array(gcm).reshape((1, fp_dim+2)),\n"
     ]
    },
    {
     "name": "stdout",
     "output_type": "stream",
     "text": [
      "    [===========================================       ] 86%"
     ]
    },
    {
     "name": "stderr",
     "output_type": "stream",
     "text": [
      "/home/huan/miniconda3/envs/tf/lib/python3.9/site-packages/matsml-1.0.1-py3.9.egg/matsml/fingerprint.py:284: FutureWarning: The frame.append method is deprecated and will be removed from pandas in a future version. Use pandas.concat instead.\n",
      "  pesm = pesm.append(pd.DataFrame(np.array(gcm).reshape((1, fp_dim+2)),\n",
      "/home/huan/miniconda3/envs/tf/lib/python3.9/site-packages/matsml-1.0.1-py3.9.egg/matsml/fingerprint.py:284: FutureWarning: The frame.append method is deprecated and will be removed from pandas in a future version. Use pandas.concat instead.\n",
      "  pesm = pesm.append(pd.DataFrame(np.array(gcm).reshape((1, fp_dim+2)),\n"
     ]
    },
    {
     "name": "stdout",
     "output_type": "stream",
     "text": [
      "    [============================================      ] 87%"
     ]
    },
    {
     "name": "stderr",
     "output_type": "stream",
     "text": [
      "/home/huan/miniconda3/envs/tf/lib/python3.9/site-packages/matsml-1.0.1-py3.9.egg/matsml/fingerprint.py:284: FutureWarning: The frame.append method is deprecated and will be removed from pandas in a future version. Use pandas.concat instead.\n",
      "  pesm = pesm.append(pd.DataFrame(np.array(gcm).reshape((1, fp_dim+2)),\n",
      "/home/huan/miniconda3/envs/tf/lib/python3.9/site-packages/matsml-1.0.1-py3.9.egg/matsml/fingerprint.py:284: FutureWarning: The frame.append method is deprecated and will be removed from pandas in a future version. Use pandas.concat instead.\n",
      "  pesm = pesm.append(pd.DataFrame(np.array(gcm).reshape((1, fp_dim+2)),\n"
     ]
    },
    {
     "name": "stdout",
     "output_type": "stream",
     "text": [
      "    [============================================      ] 87%"
     ]
    },
    {
     "name": "stderr",
     "output_type": "stream",
     "text": [
      "/home/huan/miniconda3/envs/tf/lib/python3.9/site-packages/matsml-1.0.1-py3.9.egg/matsml/fingerprint.py:284: FutureWarning: The frame.append method is deprecated and will be removed from pandas in a future version. Use pandas.concat instead.\n",
      "  pesm = pesm.append(pd.DataFrame(np.array(gcm).reshape((1, fp_dim+2)),\n",
      "/home/huan/miniconda3/envs/tf/lib/python3.9/site-packages/matsml-1.0.1-py3.9.egg/matsml/fingerprint.py:284: FutureWarning: The frame.append method is deprecated and will be removed from pandas in a future version. Use pandas.concat instead.\n",
      "  pesm = pesm.append(pd.DataFrame(np.array(gcm).reshape((1, fp_dim+2)),\n"
     ]
    },
    {
     "name": "stdout",
     "output_type": "stream",
     "text": [
      "    [============================================      ] 88%"
     ]
    },
    {
     "name": "stderr",
     "output_type": "stream",
     "text": [
      "/home/huan/miniconda3/envs/tf/lib/python3.9/site-packages/matsml-1.0.1-py3.9.egg/matsml/fingerprint.py:284: FutureWarning: The frame.append method is deprecated and will be removed from pandas in a future version. Use pandas.concat instead.\n",
      "  pesm = pesm.append(pd.DataFrame(np.array(gcm).reshape((1, fp_dim+2)),\n",
      "/home/huan/miniconda3/envs/tf/lib/python3.9/site-packages/matsml-1.0.1-py3.9.egg/matsml/fingerprint.py:284: FutureWarning: The frame.append method is deprecated and will be removed from pandas in a future version. Use pandas.concat instead.\n",
      "  pesm = pesm.append(pd.DataFrame(np.array(gcm).reshape((1, fp_dim+2)),\n"
     ]
    },
    {
     "name": "stdout",
     "output_type": "stream",
     "text": [
      "    [=============================================     ] 89%"
     ]
    },
    {
     "name": "stderr",
     "output_type": "stream",
     "text": [
      "/home/huan/miniconda3/envs/tf/lib/python3.9/site-packages/matsml-1.0.1-py3.9.egg/matsml/fingerprint.py:284: FutureWarning: The frame.append method is deprecated and will be removed from pandas in a future version. Use pandas.concat instead.\n",
      "  pesm = pesm.append(pd.DataFrame(np.array(gcm).reshape((1, fp_dim+2)),\n",
      "/home/huan/miniconda3/envs/tf/lib/python3.9/site-packages/matsml-1.0.1-py3.9.egg/matsml/fingerprint.py:284: FutureWarning: The frame.append method is deprecated and will be removed from pandas in a future version. Use pandas.concat instead.\n",
      "  pesm = pesm.append(pd.DataFrame(np.array(gcm).reshape((1, fp_dim+2)),\n"
     ]
    },
    {
     "name": "stdout",
     "output_type": "stream",
     "text": [
      "    [=============================================     ] 89%"
     ]
    },
    {
     "name": "stderr",
     "output_type": "stream",
     "text": [
      "/home/huan/miniconda3/envs/tf/lib/python3.9/site-packages/matsml-1.0.1-py3.9.egg/matsml/fingerprint.py:284: FutureWarning: The frame.append method is deprecated and will be removed from pandas in a future version. Use pandas.concat instead.\n",
      "  pesm = pesm.append(pd.DataFrame(np.array(gcm).reshape((1, fp_dim+2)),\n",
      "/home/huan/miniconda3/envs/tf/lib/python3.9/site-packages/matsml-1.0.1-py3.9.egg/matsml/fingerprint.py:284: FutureWarning: The frame.append method is deprecated and will be removed from pandas in a future version. Use pandas.concat instead.\n",
      "  pesm = pesm.append(pd.DataFrame(np.array(gcm).reshape((1, fp_dim+2)),\n"
     ]
    },
    {
     "name": "stdout",
     "output_type": "stream",
     "text": [
      "    [=============================================     ] 90%"
     ]
    },
    {
     "name": "stderr",
     "output_type": "stream",
     "text": [
      "/home/huan/miniconda3/envs/tf/lib/python3.9/site-packages/matsml-1.0.1-py3.9.egg/matsml/fingerprint.py:284: FutureWarning: The frame.append method is deprecated and will be removed from pandas in a future version. Use pandas.concat instead.\n",
      "  pesm = pesm.append(pd.DataFrame(np.array(gcm).reshape((1, fp_dim+2)),\n",
      "/home/huan/miniconda3/envs/tf/lib/python3.9/site-packages/matsml-1.0.1-py3.9.egg/matsml/fingerprint.py:284: FutureWarning: The frame.append method is deprecated and will be removed from pandas in a future version. Use pandas.concat instead.\n",
      "  pesm = pesm.append(pd.DataFrame(np.array(gcm).reshape((1, fp_dim+2)),\n"
     ]
    },
    {
     "name": "stdout",
     "output_type": "stream",
     "text": [
      "    [=============================================     ] 90%"
     ]
    },
    {
     "name": "stderr",
     "output_type": "stream",
     "text": [
      "/home/huan/miniconda3/envs/tf/lib/python3.9/site-packages/matsml-1.0.1-py3.9.egg/matsml/fingerprint.py:284: FutureWarning: The frame.append method is deprecated and will be removed from pandas in a future version. Use pandas.concat instead.\n",
      "  pesm = pesm.append(pd.DataFrame(np.array(gcm).reshape((1, fp_dim+2)),\n",
      "/home/huan/miniconda3/envs/tf/lib/python3.9/site-packages/matsml-1.0.1-py3.9.egg/matsml/fingerprint.py:284: FutureWarning: The frame.append method is deprecated and will be removed from pandas in a future version. Use pandas.concat instead.\n",
      "  pesm = pesm.append(pd.DataFrame(np.array(gcm).reshape((1, fp_dim+2)),\n"
     ]
    },
    {
     "name": "stdout",
     "output_type": "stream",
     "text": [
      "    [==============================================    ] 91%"
     ]
    },
    {
     "name": "stderr",
     "output_type": "stream",
     "text": [
      "/home/huan/miniconda3/envs/tf/lib/python3.9/site-packages/matsml-1.0.1-py3.9.egg/matsml/fingerprint.py:284: FutureWarning: The frame.append method is deprecated and will be removed from pandas in a future version. Use pandas.concat instead.\n",
      "  pesm = pesm.append(pd.DataFrame(np.array(gcm).reshape((1, fp_dim+2)),\n",
      "/home/huan/miniconda3/envs/tf/lib/python3.9/site-packages/matsml-1.0.1-py3.9.egg/matsml/fingerprint.py:284: FutureWarning: The frame.append method is deprecated and will be removed from pandas in a future version. Use pandas.concat instead.\n",
      "  pesm = pesm.append(pd.DataFrame(np.array(gcm).reshape((1, fp_dim+2)),\n"
     ]
    },
    {
     "name": "stdout",
     "output_type": "stream",
     "text": [
      "    [==============================================    ] 92%"
     ]
    },
    {
     "name": "stderr",
     "output_type": "stream",
     "text": [
      "/home/huan/miniconda3/envs/tf/lib/python3.9/site-packages/matsml-1.0.1-py3.9.egg/matsml/fingerprint.py:284: FutureWarning: The frame.append method is deprecated and will be removed from pandas in a future version. Use pandas.concat instead.\n",
      "  pesm = pesm.append(pd.DataFrame(np.array(gcm).reshape((1, fp_dim+2)),\n",
      "/home/huan/miniconda3/envs/tf/lib/python3.9/site-packages/matsml-1.0.1-py3.9.egg/matsml/fingerprint.py:284: FutureWarning: The frame.append method is deprecated and will be removed from pandas in a future version. Use pandas.concat instead.\n",
      "  pesm = pesm.append(pd.DataFrame(np.array(gcm).reshape((1, fp_dim+2)),\n"
     ]
    },
    {
     "name": "stdout",
     "output_type": "stream",
     "text": [
      "    [==============================================    ] 92%"
     ]
    },
    {
     "name": "stderr",
     "output_type": "stream",
     "text": [
      "/home/huan/miniconda3/envs/tf/lib/python3.9/site-packages/matsml-1.0.1-py3.9.egg/matsml/fingerprint.py:284: FutureWarning: The frame.append method is deprecated and will be removed from pandas in a future version. Use pandas.concat instead.\n",
      "  pesm = pesm.append(pd.DataFrame(np.array(gcm).reshape((1, fp_dim+2)),\n",
      "/home/huan/miniconda3/envs/tf/lib/python3.9/site-packages/matsml-1.0.1-py3.9.egg/matsml/fingerprint.py:284: FutureWarning: The frame.append method is deprecated and will be removed from pandas in a future version. Use pandas.concat instead.\n",
      "  pesm = pesm.append(pd.DataFrame(np.array(gcm).reshape((1, fp_dim+2)),\n"
     ]
    },
    {
     "name": "stdout",
     "output_type": "stream",
     "text": [
      "    [===============================================   ] 93%"
     ]
    },
    {
     "name": "stderr",
     "output_type": "stream",
     "text": [
      "/home/huan/miniconda3/envs/tf/lib/python3.9/site-packages/matsml-1.0.1-py3.9.egg/matsml/fingerprint.py:284: FutureWarning: The frame.append method is deprecated and will be removed from pandas in a future version. Use pandas.concat instead.\n",
      "  pesm = pesm.append(pd.DataFrame(np.array(gcm).reshape((1, fp_dim+2)),\n",
      "/home/huan/miniconda3/envs/tf/lib/python3.9/site-packages/matsml-1.0.1-py3.9.egg/matsml/fingerprint.py:284: FutureWarning: The frame.append method is deprecated and will be removed from pandas in a future version. Use pandas.concat instead.\n",
      "  pesm = pesm.append(pd.DataFrame(np.array(gcm).reshape((1, fp_dim+2)),\n"
     ]
    },
    {
     "name": "stdout",
     "output_type": "stream",
     "text": [
      "    [===============================================   ] 94%"
     ]
    },
    {
     "name": "stderr",
     "output_type": "stream",
     "text": [
      "/home/huan/miniconda3/envs/tf/lib/python3.9/site-packages/matsml-1.0.1-py3.9.egg/matsml/fingerprint.py:284: FutureWarning: The frame.append method is deprecated and will be removed from pandas in a future version. Use pandas.concat instead.\n",
      "  pesm = pesm.append(pd.DataFrame(np.array(gcm).reshape((1, fp_dim+2)),\n",
      "/home/huan/miniconda3/envs/tf/lib/python3.9/site-packages/matsml-1.0.1-py3.9.egg/matsml/fingerprint.py:284: FutureWarning: The frame.append method is deprecated and will be removed from pandas in a future version. Use pandas.concat instead.\n",
      "  pesm = pesm.append(pd.DataFrame(np.array(gcm).reshape((1, fp_dim+2)),\n"
     ]
    },
    {
     "name": "stdout",
     "output_type": "stream",
     "text": [
      "    [===============================================   ] 94%"
     ]
    },
    {
     "name": "stderr",
     "output_type": "stream",
     "text": [
      "/home/huan/miniconda3/envs/tf/lib/python3.9/site-packages/matsml-1.0.1-py3.9.egg/matsml/fingerprint.py:284: FutureWarning: The frame.append method is deprecated and will be removed from pandas in a future version. Use pandas.concat instead.\n",
      "  pesm = pesm.append(pd.DataFrame(np.array(gcm).reshape((1, fp_dim+2)),\n",
      "/home/huan/miniconda3/envs/tf/lib/python3.9/site-packages/matsml-1.0.1-py3.9.egg/matsml/fingerprint.py:284: FutureWarning: The frame.append method is deprecated and will be removed from pandas in a future version. Use pandas.concat instead.\n",
      "  pesm = pesm.append(pd.DataFrame(np.array(gcm).reshape((1, fp_dim+2)),\n"
     ]
    },
    {
     "name": "stdout",
     "output_type": "stream",
     "text": [
      "    [================================================  ] 95%"
     ]
    },
    {
     "name": "stderr",
     "output_type": "stream",
     "text": [
      "/home/huan/miniconda3/envs/tf/lib/python3.9/site-packages/matsml-1.0.1-py3.9.egg/matsml/fingerprint.py:284: FutureWarning: The frame.append method is deprecated and will be removed from pandas in a future version. Use pandas.concat instead.\n",
      "  pesm = pesm.append(pd.DataFrame(np.array(gcm).reshape((1, fp_dim+2)),\n",
      "/home/huan/miniconda3/envs/tf/lib/python3.9/site-packages/matsml-1.0.1-py3.9.egg/matsml/fingerprint.py:284: FutureWarning: The frame.append method is deprecated and will be removed from pandas in a future version. Use pandas.concat instead.\n",
      "  pesm = pesm.append(pd.DataFrame(np.array(gcm).reshape((1, fp_dim+2)),\n"
     ]
    },
    {
     "name": "stdout",
     "output_type": "stream",
     "text": [
      "    [================================================  ] 95%"
     ]
    },
    {
     "name": "stderr",
     "output_type": "stream",
     "text": [
      "/home/huan/miniconda3/envs/tf/lib/python3.9/site-packages/matsml-1.0.1-py3.9.egg/matsml/fingerprint.py:284: FutureWarning: The frame.append method is deprecated and will be removed from pandas in a future version. Use pandas.concat instead.\n",
      "  pesm = pesm.append(pd.DataFrame(np.array(gcm).reshape((1, fp_dim+2)),\n",
      "/home/huan/miniconda3/envs/tf/lib/python3.9/site-packages/matsml-1.0.1-py3.9.egg/matsml/fingerprint.py:284: FutureWarning: The frame.append method is deprecated and will be removed from pandas in a future version. Use pandas.concat instead.\n",
      "  pesm = pesm.append(pd.DataFrame(np.array(gcm).reshape((1, fp_dim+2)),\n"
     ]
    },
    {
     "name": "stdout",
     "output_type": "stream",
     "text": [
      "    [================================================  ] 96%"
     ]
    },
    {
     "name": "stderr",
     "output_type": "stream",
     "text": [
      "/home/huan/miniconda3/envs/tf/lib/python3.9/site-packages/matsml-1.0.1-py3.9.egg/matsml/fingerprint.py:284: FutureWarning: The frame.append method is deprecated and will be removed from pandas in a future version. Use pandas.concat instead.\n",
      "  pesm = pesm.append(pd.DataFrame(np.array(gcm).reshape((1, fp_dim+2)),\n",
      "/home/huan/miniconda3/envs/tf/lib/python3.9/site-packages/matsml-1.0.1-py3.9.egg/matsml/fingerprint.py:284: FutureWarning: The frame.append method is deprecated and will be removed from pandas in a future version. Use pandas.concat instead.\n",
      "  pesm = pesm.append(pd.DataFrame(np.array(gcm).reshape((1, fp_dim+2)),\n"
     ]
    },
    {
     "name": "stdout",
     "output_type": "stream",
     "text": [
      "    [================================================= ] 97%"
     ]
    },
    {
     "name": "stderr",
     "output_type": "stream",
     "text": [
      "/home/huan/miniconda3/envs/tf/lib/python3.9/site-packages/matsml-1.0.1-py3.9.egg/matsml/fingerprint.py:284: FutureWarning: The frame.append method is deprecated and will be removed from pandas in a future version. Use pandas.concat instead.\n",
      "  pesm = pesm.append(pd.DataFrame(np.array(gcm).reshape((1, fp_dim+2)),\n",
      "/home/huan/miniconda3/envs/tf/lib/python3.9/site-packages/matsml-1.0.1-py3.9.egg/matsml/fingerprint.py:284: FutureWarning: The frame.append method is deprecated and will be removed from pandas in a future version. Use pandas.concat instead.\n",
      "  pesm = pesm.append(pd.DataFrame(np.array(gcm).reshape((1, fp_dim+2)),\n"
     ]
    },
    {
     "name": "stdout",
     "output_type": "stream",
     "text": [
      "    [================================================= ] 97%"
     ]
    },
    {
     "name": "stderr",
     "output_type": "stream",
     "text": [
      "/home/huan/miniconda3/envs/tf/lib/python3.9/site-packages/matsml-1.0.1-py3.9.egg/matsml/fingerprint.py:284: FutureWarning: The frame.append method is deprecated and will be removed from pandas in a future version. Use pandas.concat instead.\n",
      "  pesm = pesm.append(pd.DataFrame(np.array(gcm).reshape((1, fp_dim+2)),\n",
      "/home/huan/miniconda3/envs/tf/lib/python3.9/site-packages/matsml-1.0.1-py3.9.egg/matsml/fingerprint.py:284: FutureWarning: The frame.append method is deprecated and will be removed from pandas in a future version. Use pandas.concat instead.\n",
      "  pesm = pesm.append(pd.DataFrame(np.array(gcm).reshape((1, fp_dim+2)),\n"
     ]
    },
    {
     "name": "stdout",
     "output_type": "stream",
     "text": [
      "    [================================================= ] 98%"
     ]
    },
    {
     "name": "stderr",
     "output_type": "stream",
     "text": [
      "/home/huan/miniconda3/envs/tf/lib/python3.9/site-packages/matsml-1.0.1-py3.9.egg/matsml/fingerprint.py:284: FutureWarning: The frame.append method is deprecated and will be removed from pandas in a future version. Use pandas.concat instead.\n",
      "  pesm = pesm.append(pd.DataFrame(np.array(gcm).reshape((1, fp_dim+2)),\n",
      "/home/huan/miniconda3/envs/tf/lib/python3.9/site-packages/matsml-1.0.1-py3.9.egg/matsml/fingerprint.py:284: FutureWarning: The frame.append method is deprecated and will be removed from pandas in a future version. Use pandas.concat instead.\n",
      "  pesm = pesm.append(pd.DataFrame(np.array(gcm).reshape((1, fp_dim+2)),\n"
     ]
    },
    {
     "name": "stdout",
     "output_type": "stream",
     "text": [
      "    [================================================= ] 98%"
     ]
    },
    {
     "name": "stderr",
     "output_type": "stream",
     "text": [
      "/home/huan/miniconda3/envs/tf/lib/python3.9/site-packages/matsml-1.0.1-py3.9.egg/matsml/fingerprint.py:284: FutureWarning: The frame.append method is deprecated and will be removed from pandas in a future version. Use pandas.concat instead.\n",
      "  pesm = pesm.append(pd.DataFrame(np.array(gcm).reshape((1, fp_dim+2)),\n",
      "/home/huan/miniconda3/envs/tf/lib/python3.9/site-packages/matsml-1.0.1-py3.9.egg/matsml/fingerprint.py:284: FutureWarning: The frame.append method is deprecated and will be removed from pandas in a future version. Use pandas.concat instead.\n",
      "  pesm = pesm.append(pd.DataFrame(np.array(gcm).reshape((1, fp_dim+2)),\n"
     ]
    },
    {
     "name": "stdout",
     "output_type": "stream",
     "text": [
      "    [==================================================] 99%"
     ]
    },
    {
     "name": "stderr",
     "output_type": "stream",
     "text": [
      "/home/huan/miniconda3/envs/tf/lib/python3.9/site-packages/matsml-1.0.1-py3.9.egg/matsml/fingerprint.py:284: FutureWarning: The frame.append method is deprecated and will be removed from pandas in a future version. Use pandas.concat instead.\n",
      "  pesm = pesm.append(pd.DataFrame(np.array(gcm).reshape((1, fp_dim+2)),\n",
      "/home/huan/miniconda3/envs/tf/lib/python3.9/site-packages/matsml-1.0.1-py3.9.egg/matsml/fingerprint.py:284: FutureWarning: The frame.append method is deprecated and will be removed from pandas in a future version. Use pandas.concat instead.\n",
      "  pesm = pesm.append(pd.DataFrame(np.array(gcm).reshape((1, fp_dim+2)),\n"
     ]
    },
    {
     "name": "stdout",
     "output_type": "stream",
     "text": [
      "    [==================================================] 100%"
     ]
    },
    {
     "name": "stderr",
     "output_type": "stream",
     "text": [
      "/home/huan/miniconda3/envs/tf/lib/python3.9/site-packages/matsml-1.0.1-py3.9.egg/matsml/fingerprint.py:284: FutureWarning: The frame.append method is deprecated and will be removed from pandas in a future version. Use pandas.concat instead.\n",
      "  pesm = pesm.append(pd.DataFrame(np.array(gcm).reshape((1, fp_dim+2)),\n",
      "/home/huan/miniconda3/envs/tf/lib/python3.9/site-packages/matsml-1.0.1-py3.9.egg/matsml/fingerprint.py:284: FutureWarning: The frame.append method is deprecated and will be removed from pandas in a future version. Use pandas.concat instead.\n",
      "  pesm = pesm.append(pd.DataFrame(np.array(gcm).reshape((1, fp_dim+2)),\n"
     ]
    },
    {
     "name": "stdout",
     "output_type": "stream",
     "text": [
      "    [==================================================] 100%"
     ]
    },
    {
     "name": "stderr",
     "output_type": "stream",
     "text": [
      "/home/huan/miniconda3/envs/tf/lib/python3.9/site-packages/matsml-1.0.1-py3.9.egg/matsml/fingerprint.py:284: FutureWarning: The frame.append method is deprecated and will be removed from pandas in a future version. Use pandas.concat instead.\n",
      "  pesm = pesm.append(pd.DataFrame(np.array(gcm).reshape((1, fp_dim+2)),\n",
      "/home/huan/miniconda3/envs/tf/lib/python3.9/site-packages/matsml-1.0.1-py3.9.egg/matsml/fingerprint.py:284: FutureWarning: The frame.append method is deprecated and will be removed from pandas in a future version. Use pandas.concat instead.\n",
      "  pesm = pesm.append(pd.DataFrame(np.array(gcm).reshape((1, fp_dim+2)),\n"
     ]
    },
    {
     "name": "stdout",
     "output_type": "stream",
     "text": [
      "\n",
      "  Done fingerprinting, results saved in fp_crystals_MgSi_pesm.csv\n",
      "  Atomic structure fingerprinting\n",
      "    summary                      /home/huan/work/matsml/examples/ex3_crystals/crystals_MgSi/summary.csv\n",
      "    data_loc                     /home/huan/work/matsml/examples/ex3_crystals/crystals_MgSi\n",
      "    fp_type                      soap_crystals\n",
      "    fp_file                      fp_crystals_MgSi_soap.csv\n",
      "    fp_dim                       20\n",
      "    verbosity                    0\n",
      "  Read input\n",
      "    num_structs                  329\n"
     ]
    },
    {
     "name": "stderr",
     "output_type": "stream",
     "text": [
      "/home/huan/miniconda3/envs/tf/lib/python3.9/site-packages/matsml-1.0.1-py3.9.egg/matsml/fingerprint.py:284: FutureWarning: The frame.append method is deprecated and will be removed from pandas in a future version. Use pandas.concat instead.\n",
      "  pesm = pesm.append(pd.DataFrame(np.array(gcm).reshape((1, fp_dim+2)),\n"
     ]
    },
    {
     "name": "stdout",
     "output_type": "stream",
     "text": [
      "  Computing SOAP fingerprint with DScribe\n",
      "    [==                                                ] 4%"
     ]
    },
    {
     "name": "stderr",
     "output_type": "stream",
     "text": [
      "/home/huan/miniconda3/envs/tf/lib/python3.9/site-packages/matsml-1.0.1-py3.9.egg/matsml/fingerprint.py:417: FutureWarning: The frame.append method is deprecated and will be removed from pandas in a future version. Use pandas.concat instead.\n",
      "  soap = soap.append(pd.DataFrame(np.array(this_soap).\n",
      "/home/huan/miniconda3/envs/tf/lib/python3.9/site-packages/matsml-1.0.1-py3.9.egg/matsml/fingerprint.py:417: FutureWarning: The frame.append method is deprecated and will be removed from pandas in a future version. Use pandas.concat instead.\n",
      "  soap = soap.append(pd.DataFrame(np.array(this_soap).\n",
      "/home/huan/miniconda3/envs/tf/lib/python3.9/site-packages/matsml-1.0.1-py3.9.egg/matsml/fingerprint.py:417: FutureWarning: The frame.append method is deprecated and will be removed from pandas in a future version. Use pandas.concat instead.\n",
      "  soap = soap.append(pd.DataFrame(np.array(this_soap).\n",
      "/home/huan/miniconda3/envs/tf/lib/python3.9/site-packages/matsml-1.0.1-py3.9.egg/matsml/fingerprint.py:417: FutureWarning: The frame.append method is deprecated and will be removed from pandas in a future version. Use pandas.concat instead.\n",
      "  soap = soap.append(pd.DataFrame(np.array(this_soap).\n",
      "/home/huan/miniconda3/envs/tf/lib/python3.9/site-packages/matsml-1.0.1-py3.9.egg/matsml/fingerprint.py:417: FutureWarning: The frame.append method is deprecated and will be removed from pandas in a future version. Use pandas.concat instead.\n",
      "  soap = soap.append(pd.DataFrame(np.array(this_soap).\n",
      "/home/huan/miniconda3/envs/tf/lib/python3.9/site-packages/matsml-1.0.1-py3.9.egg/matsml/fingerprint.py:417: FutureWarning: The frame.append method is deprecated and will be removed from pandas in a future version. Use pandas.concat instead.\n",
      "  soap = soap.append(pd.DataFrame(np.array(this_soap).\n",
      "/home/huan/miniconda3/envs/tf/lib/python3.9/site-packages/matsml-1.0.1-py3.9.egg/matsml/fingerprint.py:417: FutureWarning: The frame.append method is deprecated and will be removed from pandas in a future version. Use pandas.concat instead.\n",
      "  soap = soap.append(pd.DataFrame(np.array(this_soap).\n",
      "/home/huan/miniconda3/envs/tf/lib/python3.9/site-packages/matsml-1.0.1-py3.9.egg/matsml/fingerprint.py:417: FutureWarning: The frame.append method is deprecated and will be removed from pandas in a future version. Use pandas.concat instead.\n",
      "  soap = soap.append(pd.DataFrame(np.array(this_soap).\n",
      "/home/huan/miniconda3/envs/tf/lib/python3.9/site-packages/matsml-1.0.1-py3.9.egg/matsml/fingerprint.py:417: FutureWarning: The frame.append method is deprecated and will be removed from pandas in a future version. Use pandas.concat instead.\n",
      "  soap = soap.append(pd.DataFrame(np.array(this_soap).\n",
      "/home/huan/miniconda3/envs/tf/lib/python3.9/site-packages/matsml-1.0.1-py3.9.egg/matsml/fingerprint.py:417: FutureWarning: The frame.append method is deprecated and will be removed from pandas in a future version. Use pandas.concat instead.\n",
      "  soap = soap.append(pd.DataFrame(np.array(this_soap).\n"
     ]
    },
    {
     "name": "stdout",
     "output_type": "stream",
     "text": [
      "    [====                                              ] 7%"
     ]
    },
    {
     "name": "stderr",
     "output_type": "stream",
     "text": [
      "/home/huan/miniconda3/envs/tf/lib/python3.9/site-packages/matsml-1.0.1-py3.9.egg/matsml/fingerprint.py:417: FutureWarning: The frame.append method is deprecated and will be removed from pandas in a future version. Use pandas.concat instead.\n",
      "  soap = soap.append(pd.DataFrame(np.array(this_soap).\n",
      "/home/huan/miniconda3/envs/tf/lib/python3.9/site-packages/matsml-1.0.1-py3.9.egg/matsml/fingerprint.py:417: FutureWarning: The frame.append method is deprecated and will be removed from pandas in a future version. Use pandas.concat instead.\n",
      "  soap = soap.append(pd.DataFrame(np.array(this_soap).\n",
      "/home/huan/miniconda3/envs/tf/lib/python3.9/site-packages/matsml-1.0.1-py3.9.egg/matsml/fingerprint.py:417: FutureWarning: The frame.append method is deprecated and will be removed from pandas in a future version. Use pandas.concat instead.\n",
      "  soap = soap.append(pd.DataFrame(np.array(this_soap).\n",
      "/home/huan/miniconda3/envs/tf/lib/python3.9/site-packages/matsml-1.0.1-py3.9.egg/matsml/fingerprint.py:417: FutureWarning: The frame.append method is deprecated and will be removed from pandas in a future version. Use pandas.concat instead.\n",
      "  soap = soap.append(pd.DataFrame(np.array(this_soap).\n",
      "/home/huan/miniconda3/envs/tf/lib/python3.9/site-packages/matsml-1.0.1-py3.9.egg/matsml/fingerprint.py:417: FutureWarning: The frame.append method is deprecated and will be removed from pandas in a future version. Use pandas.concat instead.\n",
      "  soap = soap.append(pd.DataFrame(np.array(this_soap).\n",
      "/home/huan/miniconda3/envs/tf/lib/python3.9/site-packages/matsml-1.0.1-py3.9.egg/matsml/fingerprint.py:417: FutureWarning: The frame.append method is deprecated and will be removed from pandas in a future version. Use pandas.concat instead.\n",
      "  soap = soap.append(pd.DataFrame(np.array(this_soap).\n",
      "/home/huan/miniconda3/envs/tf/lib/python3.9/site-packages/matsml-1.0.1-py3.9.egg/matsml/fingerprint.py:417: FutureWarning: The frame.append method is deprecated and will be removed from pandas in a future version. Use pandas.concat instead.\n",
      "  soap = soap.append(pd.DataFrame(np.array(this_soap).\n",
      "/home/huan/miniconda3/envs/tf/lib/python3.9/site-packages/matsml-1.0.1-py3.9.egg/matsml/fingerprint.py:417: FutureWarning: The frame.append method is deprecated and will be removed from pandas in a future version. Use pandas.concat instead.\n",
      "  soap = soap.append(pd.DataFrame(np.array(this_soap).\n",
      "/home/huan/miniconda3/envs/tf/lib/python3.9/site-packages/matsml-1.0.1-py3.9.egg/matsml/fingerprint.py:417: FutureWarning: The frame.append method is deprecated and will be removed from pandas in a future version. Use pandas.concat instead.\n",
      "  soap = soap.append(pd.DataFrame(np.array(this_soap).\n",
      "/home/huan/miniconda3/envs/tf/lib/python3.9/site-packages/matsml-1.0.1-py3.9.egg/matsml/fingerprint.py:417: FutureWarning: The frame.append method is deprecated and will be removed from pandas in a future version. Use pandas.concat instead.\n",
      "  soap = soap.append(pd.DataFrame(np.array(this_soap).\n"
     ]
    },
    {
     "name": "stdout",
     "output_type": "stream",
     "text": [
      "    [=====                                             ] 9%"
     ]
    },
    {
     "name": "stderr",
     "output_type": "stream",
     "text": [
      "/home/huan/miniconda3/envs/tf/lib/python3.9/site-packages/matsml-1.0.1-py3.9.egg/matsml/fingerprint.py:417: FutureWarning: The frame.append method is deprecated and will be removed from pandas in a future version. Use pandas.concat instead.\n",
      "  soap = soap.append(pd.DataFrame(np.array(this_soap).\n",
      "/home/huan/miniconda3/envs/tf/lib/python3.9/site-packages/matsml-1.0.1-py3.9.egg/matsml/fingerprint.py:417: FutureWarning: The frame.append method is deprecated and will be removed from pandas in a future version. Use pandas.concat instead.\n",
      "  soap = soap.append(pd.DataFrame(np.array(this_soap).\n",
      "/home/huan/miniconda3/envs/tf/lib/python3.9/site-packages/matsml-1.0.1-py3.9.egg/matsml/fingerprint.py:417: FutureWarning: The frame.append method is deprecated and will be removed from pandas in a future version. Use pandas.concat instead.\n",
      "  soap = soap.append(pd.DataFrame(np.array(this_soap).\n",
      "/home/huan/miniconda3/envs/tf/lib/python3.9/site-packages/matsml-1.0.1-py3.9.egg/matsml/fingerprint.py:417: FutureWarning: The frame.append method is deprecated and will be removed from pandas in a future version. Use pandas.concat instead.\n",
      "  soap = soap.append(pd.DataFrame(np.array(this_soap).\n",
      "/home/huan/miniconda3/envs/tf/lib/python3.9/site-packages/matsml-1.0.1-py3.9.egg/matsml/fingerprint.py:417: FutureWarning: The frame.append method is deprecated and will be removed from pandas in a future version. Use pandas.concat instead.\n",
      "  soap = soap.append(pd.DataFrame(np.array(this_soap).\n",
      "/home/huan/miniconda3/envs/tf/lib/python3.9/site-packages/matsml-1.0.1-py3.9.egg/matsml/fingerprint.py:417: FutureWarning: The frame.append method is deprecated and will be removed from pandas in a future version. Use pandas.concat instead.\n",
      "  soap = soap.append(pd.DataFrame(np.array(this_soap).\n",
      "/home/huan/miniconda3/envs/tf/lib/python3.9/site-packages/matsml-1.0.1-py3.9.egg/matsml/fingerprint.py:417: FutureWarning: The frame.append method is deprecated and will be removed from pandas in a future version. Use pandas.concat instead.\n",
      "  soap = soap.append(pd.DataFrame(np.array(this_soap).\n",
      "/home/huan/miniconda3/envs/tf/lib/python3.9/site-packages/matsml-1.0.1-py3.9.egg/matsml/fingerprint.py:417: FutureWarning: The frame.append method is deprecated and will be removed from pandas in a future version. Use pandas.concat instead.\n",
      "  soap = soap.append(pd.DataFrame(np.array(this_soap).\n",
      "/home/huan/miniconda3/envs/tf/lib/python3.9/site-packages/matsml-1.0.1-py3.9.egg/matsml/fingerprint.py:417: FutureWarning: The frame.append method is deprecated and will be removed from pandas in a future version. Use pandas.concat instead.\n",
      "  soap = soap.append(pd.DataFrame(np.array(this_soap).\n"
     ]
    },
    {
     "name": "stdout",
     "output_type": "stream",
     "text": [
      "    [======                                            ] 12%"
     ]
    },
    {
     "name": "stderr",
     "output_type": "stream",
     "text": [
      "/home/huan/miniconda3/envs/tf/lib/python3.9/site-packages/matsml-1.0.1-py3.9.egg/matsml/fingerprint.py:417: FutureWarning: The frame.append method is deprecated and will be removed from pandas in a future version. Use pandas.concat instead.\n",
      "  soap = soap.append(pd.DataFrame(np.array(this_soap).\n",
      "/home/huan/miniconda3/envs/tf/lib/python3.9/site-packages/matsml-1.0.1-py3.9.egg/matsml/fingerprint.py:417: FutureWarning: The frame.append method is deprecated and will be removed from pandas in a future version. Use pandas.concat instead.\n",
      "  soap = soap.append(pd.DataFrame(np.array(this_soap).\n",
      "/home/huan/miniconda3/envs/tf/lib/python3.9/site-packages/matsml-1.0.1-py3.9.egg/matsml/fingerprint.py:417: FutureWarning: The frame.append method is deprecated and will be removed from pandas in a future version. Use pandas.concat instead.\n",
      "  soap = soap.append(pd.DataFrame(np.array(this_soap).\n",
      "/home/huan/miniconda3/envs/tf/lib/python3.9/site-packages/matsml-1.0.1-py3.9.egg/matsml/fingerprint.py:417: FutureWarning: The frame.append method is deprecated and will be removed from pandas in a future version. Use pandas.concat instead.\n",
      "  soap = soap.append(pd.DataFrame(np.array(this_soap).\n",
      "/home/huan/miniconda3/envs/tf/lib/python3.9/site-packages/matsml-1.0.1-py3.9.egg/matsml/fingerprint.py:417: FutureWarning: The frame.append method is deprecated and will be removed from pandas in a future version. Use pandas.concat instead.\n",
      "  soap = soap.append(pd.DataFrame(np.array(this_soap).\n",
      "/home/huan/miniconda3/envs/tf/lib/python3.9/site-packages/matsml-1.0.1-py3.9.egg/matsml/fingerprint.py:417: FutureWarning: The frame.append method is deprecated and will be removed from pandas in a future version. Use pandas.concat instead.\n",
      "  soap = soap.append(pd.DataFrame(np.array(this_soap).\n",
      "/home/huan/miniconda3/envs/tf/lib/python3.9/site-packages/matsml-1.0.1-py3.9.egg/matsml/fingerprint.py:417: FutureWarning: The frame.append method is deprecated and will be removed from pandas in a future version. Use pandas.concat instead.\n",
      "  soap = soap.append(pd.DataFrame(np.array(this_soap).\n",
      "/home/huan/miniconda3/envs/tf/lib/python3.9/site-packages/matsml-1.0.1-py3.9.egg/matsml/fingerprint.py:417: FutureWarning: The frame.append method is deprecated and will be removed from pandas in a future version. Use pandas.concat instead.\n",
      "  soap = soap.append(pd.DataFrame(np.array(this_soap).\n",
      "/home/huan/miniconda3/envs/tf/lib/python3.9/site-packages/matsml-1.0.1-py3.9.egg/matsml/fingerprint.py:417: FutureWarning: The frame.append method is deprecated and will be removed from pandas in a future version. Use pandas.concat instead.\n",
      "  soap = soap.append(pd.DataFrame(np.array(this_soap).\n"
     ]
    },
    {
     "name": "stdout",
     "output_type": "stream",
     "text": [
      "    [========                                          ] 15%"
     ]
    },
    {
     "name": "stderr",
     "output_type": "stream",
     "text": [
      "/home/huan/miniconda3/envs/tf/lib/python3.9/site-packages/matsml-1.0.1-py3.9.egg/matsml/fingerprint.py:417: FutureWarning: The frame.append method is deprecated and will be removed from pandas in a future version. Use pandas.concat instead.\n",
      "  soap = soap.append(pd.DataFrame(np.array(this_soap).\n",
      "/home/huan/miniconda3/envs/tf/lib/python3.9/site-packages/matsml-1.0.1-py3.9.egg/matsml/fingerprint.py:417: FutureWarning: The frame.append method is deprecated and will be removed from pandas in a future version. Use pandas.concat instead.\n",
      "  soap = soap.append(pd.DataFrame(np.array(this_soap).\n",
      "/home/huan/miniconda3/envs/tf/lib/python3.9/site-packages/matsml-1.0.1-py3.9.egg/matsml/fingerprint.py:417: FutureWarning: The frame.append method is deprecated and will be removed from pandas in a future version. Use pandas.concat instead.\n",
      "  soap = soap.append(pd.DataFrame(np.array(this_soap).\n",
      "/home/huan/miniconda3/envs/tf/lib/python3.9/site-packages/matsml-1.0.1-py3.9.egg/matsml/fingerprint.py:417: FutureWarning: The frame.append method is deprecated and will be removed from pandas in a future version. Use pandas.concat instead.\n",
      "  soap = soap.append(pd.DataFrame(np.array(this_soap).\n",
      "/home/huan/miniconda3/envs/tf/lib/python3.9/site-packages/matsml-1.0.1-py3.9.egg/matsml/fingerprint.py:417: FutureWarning: The frame.append method is deprecated and will be removed from pandas in a future version. Use pandas.concat instead.\n",
      "  soap = soap.append(pd.DataFrame(np.array(this_soap).\n",
      "/home/huan/miniconda3/envs/tf/lib/python3.9/site-packages/matsml-1.0.1-py3.9.egg/matsml/fingerprint.py:417: FutureWarning: The frame.append method is deprecated and will be removed from pandas in a future version. Use pandas.concat instead.\n",
      "  soap = soap.append(pd.DataFrame(np.array(this_soap).\n",
      "/home/huan/miniconda3/envs/tf/lib/python3.9/site-packages/matsml-1.0.1-py3.9.egg/matsml/fingerprint.py:417: FutureWarning: The frame.append method is deprecated and will be removed from pandas in a future version. Use pandas.concat instead.\n",
      "  soap = soap.append(pd.DataFrame(np.array(this_soap).\n",
      "/home/huan/miniconda3/envs/tf/lib/python3.9/site-packages/matsml-1.0.1-py3.9.egg/matsml/fingerprint.py:417: FutureWarning: The frame.append method is deprecated and will be removed from pandas in a future version. Use pandas.concat instead.\n",
      "  soap = soap.append(pd.DataFrame(np.array(this_soap).\n",
      "/home/huan/miniconda3/envs/tf/lib/python3.9/site-packages/matsml-1.0.1-py3.9.egg/matsml/fingerprint.py:417: FutureWarning: The frame.append method is deprecated and will be removed from pandas in a future version. Use pandas.concat instead.\n",
      "  soap = soap.append(pd.DataFrame(np.array(this_soap).\n"
     ]
    },
    {
     "name": "stdout",
     "output_type": "stream",
     "text": [
      "    [=========                                         ] 18%"
     ]
    },
    {
     "name": "stderr",
     "output_type": "stream",
     "text": [
      "/home/huan/miniconda3/envs/tf/lib/python3.9/site-packages/matsml-1.0.1-py3.9.egg/matsml/fingerprint.py:417: FutureWarning: The frame.append method is deprecated and will be removed from pandas in a future version. Use pandas.concat instead.\n",
      "  soap = soap.append(pd.DataFrame(np.array(this_soap).\n",
      "/home/huan/miniconda3/envs/tf/lib/python3.9/site-packages/matsml-1.0.1-py3.9.egg/matsml/fingerprint.py:417: FutureWarning: The frame.append method is deprecated and will be removed from pandas in a future version. Use pandas.concat instead.\n",
      "  soap = soap.append(pd.DataFrame(np.array(this_soap).\n",
      "/home/huan/miniconda3/envs/tf/lib/python3.9/site-packages/matsml-1.0.1-py3.9.egg/matsml/fingerprint.py:417: FutureWarning: The frame.append method is deprecated and will be removed from pandas in a future version. Use pandas.concat instead.\n",
      "  soap = soap.append(pd.DataFrame(np.array(this_soap).\n",
      "/home/huan/miniconda3/envs/tf/lib/python3.9/site-packages/matsml-1.0.1-py3.9.egg/matsml/fingerprint.py:417: FutureWarning: The frame.append method is deprecated and will be removed from pandas in a future version. Use pandas.concat instead.\n",
      "  soap = soap.append(pd.DataFrame(np.array(this_soap).\n",
      "/home/huan/miniconda3/envs/tf/lib/python3.9/site-packages/matsml-1.0.1-py3.9.egg/matsml/fingerprint.py:417: FutureWarning: The frame.append method is deprecated and will be removed from pandas in a future version. Use pandas.concat instead.\n",
      "  soap = soap.append(pd.DataFrame(np.array(this_soap).\n",
      "/home/huan/miniconda3/envs/tf/lib/python3.9/site-packages/matsml-1.0.1-py3.9.egg/matsml/fingerprint.py:417: FutureWarning: The frame.append method is deprecated and will be removed from pandas in a future version. Use pandas.concat instead.\n",
      "  soap = soap.append(pd.DataFrame(np.array(this_soap).\n",
      "/home/huan/miniconda3/envs/tf/lib/python3.9/site-packages/matsml-1.0.1-py3.9.egg/matsml/fingerprint.py:417: FutureWarning: The frame.append method is deprecated and will be removed from pandas in a future version. Use pandas.concat instead.\n",
      "  soap = soap.append(pd.DataFrame(np.array(this_soap).\n",
      "/home/huan/miniconda3/envs/tf/lib/python3.9/site-packages/matsml-1.0.1-py3.9.egg/matsml/fingerprint.py:417: FutureWarning: The frame.append method is deprecated and will be removed from pandas in a future version. Use pandas.concat instead.\n",
      "  soap = soap.append(pd.DataFrame(np.array(this_soap).\n",
      "/home/huan/miniconda3/envs/tf/lib/python3.9/site-packages/matsml-1.0.1-py3.9.egg/matsml/fingerprint.py:417: FutureWarning: The frame.append method is deprecated and will be removed from pandas in a future version. Use pandas.concat instead.\n",
      "  soap = soap.append(pd.DataFrame(np.array(this_soap).\n"
     ]
    },
    {
     "name": "stdout",
     "output_type": "stream",
     "text": [
      "    [==========                                        ] 20%"
     ]
    },
    {
     "name": "stderr",
     "output_type": "stream",
     "text": [
      "/home/huan/miniconda3/envs/tf/lib/python3.9/site-packages/matsml-1.0.1-py3.9.egg/matsml/fingerprint.py:417: FutureWarning: The frame.append method is deprecated and will be removed from pandas in a future version. Use pandas.concat instead.\n",
      "  soap = soap.append(pd.DataFrame(np.array(this_soap).\n",
      "/home/huan/miniconda3/envs/tf/lib/python3.9/site-packages/matsml-1.0.1-py3.9.egg/matsml/fingerprint.py:417: FutureWarning: The frame.append method is deprecated and will be removed from pandas in a future version. Use pandas.concat instead.\n",
      "  soap = soap.append(pd.DataFrame(np.array(this_soap).\n",
      "/home/huan/miniconda3/envs/tf/lib/python3.9/site-packages/matsml-1.0.1-py3.9.egg/matsml/fingerprint.py:417: FutureWarning: The frame.append method is deprecated and will be removed from pandas in a future version. Use pandas.concat instead.\n",
      "  soap = soap.append(pd.DataFrame(np.array(this_soap).\n",
      "/home/huan/miniconda3/envs/tf/lib/python3.9/site-packages/matsml-1.0.1-py3.9.egg/matsml/fingerprint.py:417: FutureWarning: The frame.append method is deprecated and will be removed from pandas in a future version. Use pandas.concat instead.\n",
      "  soap = soap.append(pd.DataFrame(np.array(this_soap).\n",
      "/home/huan/miniconda3/envs/tf/lib/python3.9/site-packages/matsml-1.0.1-py3.9.egg/matsml/fingerprint.py:417: FutureWarning: The frame.append method is deprecated and will be removed from pandas in a future version. Use pandas.concat instead.\n",
      "  soap = soap.append(pd.DataFrame(np.array(this_soap).\n",
      "/home/huan/miniconda3/envs/tf/lib/python3.9/site-packages/matsml-1.0.1-py3.9.egg/matsml/fingerprint.py:417: FutureWarning: The frame.append method is deprecated and will be removed from pandas in a future version. Use pandas.concat instead.\n",
      "  soap = soap.append(pd.DataFrame(np.array(this_soap).\n",
      "/home/huan/miniconda3/envs/tf/lib/python3.9/site-packages/matsml-1.0.1-py3.9.egg/matsml/fingerprint.py:417: FutureWarning: The frame.append method is deprecated and will be removed from pandas in a future version. Use pandas.concat instead.\n",
      "  soap = soap.append(pd.DataFrame(np.array(this_soap).\n",
      "/home/huan/miniconda3/envs/tf/lib/python3.9/site-packages/matsml-1.0.1-py3.9.egg/matsml/fingerprint.py:417: FutureWarning: The frame.append method is deprecated and will be removed from pandas in a future version. Use pandas.concat instead.\n",
      "  soap = soap.append(pd.DataFrame(np.array(this_soap).\n",
      "/home/huan/miniconda3/envs/tf/lib/python3.9/site-packages/matsml-1.0.1-py3.9.egg/matsml/fingerprint.py:417: FutureWarning: The frame.append method is deprecated and will be removed from pandas in a future version. Use pandas.concat instead.\n",
      "  soap = soap.append(pd.DataFrame(np.array(this_soap).\n"
     ]
    },
    {
     "name": "stdout",
     "output_type": "stream",
     "text": [
      "    [============                                      ] 23%"
     ]
    },
    {
     "name": "stderr",
     "output_type": "stream",
     "text": [
      "/home/huan/miniconda3/envs/tf/lib/python3.9/site-packages/matsml-1.0.1-py3.9.egg/matsml/fingerprint.py:417: FutureWarning: The frame.append method is deprecated and will be removed from pandas in a future version. Use pandas.concat instead.\n",
      "  soap = soap.append(pd.DataFrame(np.array(this_soap).\n",
      "/home/huan/miniconda3/envs/tf/lib/python3.9/site-packages/matsml-1.0.1-py3.9.egg/matsml/fingerprint.py:417: FutureWarning: The frame.append method is deprecated and will be removed from pandas in a future version. Use pandas.concat instead.\n",
      "  soap = soap.append(pd.DataFrame(np.array(this_soap).\n",
      "/home/huan/miniconda3/envs/tf/lib/python3.9/site-packages/matsml-1.0.1-py3.9.egg/matsml/fingerprint.py:417: FutureWarning: The frame.append method is deprecated and will be removed from pandas in a future version. Use pandas.concat instead.\n",
      "  soap = soap.append(pd.DataFrame(np.array(this_soap).\n",
      "/home/huan/miniconda3/envs/tf/lib/python3.9/site-packages/matsml-1.0.1-py3.9.egg/matsml/fingerprint.py:417: FutureWarning: The frame.append method is deprecated and will be removed from pandas in a future version. Use pandas.concat instead.\n",
      "  soap = soap.append(pd.DataFrame(np.array(this_soap).\n",
      "/home/huan/miniconda3/envs/tf/lib/python3.9/site-packages/matsml-1.0.1-py3.9.egg/matsml/fingerprint.py:417: FutureWarning: The frame.append method is deprecated and will be removed from pandas in a future version. Use pandas.concat instead.\n",
      "  soap = soap.append(pd.DataFrame(np.array(this_soap).\n",
      "/home/huan/miniconda3/envs/tf/lib/python3.9/site-packages/matsml-1.0.1-py3.9.egg/matsml/fingerprint.py:417: FutureWarning: The frame.append method is deprecated and will be removed from pandas in a future version. Use pandas.concat instead.\n",
      "  soap = soap.append(pd.DataFrame(np.array(this_soap).\n",
      "/home/huan/miniconda3/envs/tf/lib/python3.9/site-packages/matsml-1.0.1-py3.9.egg/matsml/fingerprint.py:417: FutureWarning: The frame.append method is deprecated and will be removed from pandas in a future version. Use pandas.concat instead.\n",
      "  soap = soap.append(pd.DataFrame(np.array(this_soap).\n",
      "/home/huan/miniconda3/envs/tf/lib/python3.9/site-packages/matsml-1.0.1-py3.9.egg/matsml/fingerprint.py:417: FutureWarning: The frame.append method is deprecated and will be removed from pandas in a future version. Use pandas.concat instead.\n",
      "  soap = soap.append(pd.DataFrame(np.array(this_soap).\n",
      "/home/huan/miniconda3/envs/tf/lib/python3.9/site-packages/matsml-1.0.1-py3.9.egg/matsml/fingerprint.py:417: FutureWarning: The frame.append method is deprecated and will be removed from pandas in a future version. Use pandas.concat instead.\n",
      "  soap = soap.append(pd.DataFrame(np.array(this_soap).\n"
     ]
    },
    {
     "name": "stdout",
     "output_type": "stream",
     "text": [
      "    [=============                                     ] 26%"
     ]
    },
    {
     "name": "stderr",
     "output_type": "stream",
     "text": [
      "/home/huan/miniconda3/envs/tf/lib/python3.9/site-packages/matsml-1.0.1-py3.9.egg/matsml/fingerprint.py:417: FutureWarning: The frame.append method is deprecated and will be removed from pandas in a future version. Use pandas.concat instead.\n",
      "  soap = soap.append(pd.DataFrame(np.array(this_soap).\n",
      "/home/huan/miniconda3/envs/tf/lib/python3.9/site-packages/matsml-1.0.1-py3.9.egg/matsml/fingerprint.py:417: FutureWarning: The frame.append method is deprecated and will be removed from pandas in a future version. Use pandas.concat instead.\n",
      "  soap = soap.append(pd.DataFrame(np.array(this_soap).\n",
      "/home/huan/miniconda3/envs/tf/lib/python3.9/site-packages/matsml-1.0.1-py3.9.egg/matsml/fingerprint.py:417: FutureWarning: The frame.append method is deprecated and will be removed from pandas in a future version. Use pandas.concat instead.\n",
      "  soap = soap.append(pd.DataFrame(np.array(this_soap).\n",
      "/home/huan/miniconda3/envs/tf/lib/python3.9/site-packages/matsml-1.0.1-py3.9.egg/matsml/fingerprint.py:417: FutureWarning: The frame.append method is deprecated and will be removed from pandas in a future version. Use pandas.concat instead.\n",
      "  soap = soap.append(pd.DataFrame(np.array(this_soap).\n",
      "/home/huan/miniconda3/envs/tf/lib/python3.9/site-packages/matsml-1.0.1-py3.9.egg/matsml/fingerprint.py:417: FutureWarning: The frame.append method is deprecated and will be removed from pandas in a future version. Use pandas.concat instead.\n",
      "  soap = soap.append(pd.DataFrame(np.array(this_soap).\n",
      "/home/huan/miniconda3/envs/tf/lib/python3.9/site-packages/matsml-1.0.1-py3.9.egg/matsml/fingerprint.py:417: FutureWarning: The frame.append method is deprecated and will be removed from pandas in a future version. Use pandas.concat instead.\n",
      "  soap = soap.append(pd.DataFrame(np.array(this_soap).\n",
      "/home/huan/miniconda3/envs/tf/lib/python3.9/site-packages/matsml-1.0.1-py3.9.egg/matsml/fingerprint.py:417: FutureWarning: The frame.append method is deprecated and will be removed from pandas in a future version. Use pandas.concat instead.\n",
      "  soap = soap.append(pd.DataFrame(np.array(this_soap).\n",
      "/home/huan/miniconda3/envs/tf/lib/python3.9/site-packages/matsml-1.0.1-py3.9.egg/matsml/fingerprint.py:417: FutureWarning: The frame.append method is deprecated and will be removed from pandas in a future version. Use pandas.concat instead.\n",
      "  soap = soap.append(pd.DataFrame(np.array(this_soap).\n",
      "/home/huan/miniconda3/envs/tf/lib/python3.9/site-packages/matsml-1.0.1-py3.9.egg/matsml/fingerprint.py:417: FutureWarning: The frame.append method is deprecated and will be removed from pandas in a future version. Use pandas.concat instead.\n",
      "  soap = soap.append(pd.DataFrame(np.array(this_soap).\n"
     ]
    },
    {
     "name": "stdout",
     "output_type": "stream",
     "text": [
      "    [==============                                    ] 28%"
     ]
    },
    {
     "name": "stderr",
     "output_type": "stream",
     "text": [
      "/home/huan/miniconda3/envs/tf/lib/python3.9/site-packages/matsml-1.0.1-py3.9.egg/matsml/fingerprint.py:417: FutureWarning: The frame.append method is deprecated and will be removed from pandas in a future version. Use pandas.concat instead.\n",
      "  soap = soap.append(pd.DataFrame(np.array(this_soap).\n",
      "/home/huan/miniconda3/envs/tf/lib/python3.9/site-packages/matsml-1.0.1-py3.9.egg/matsml/fingerprint.py:417: FutureWarning: The frame.append method is deprecated and will be removed from pandas in a future version. Use pandas.concat instead.\n",
      "  soap = soap.append(pd.DataFrame(np.array(this_soap).\n",
      "/home/huan/miniconda3/envs/tf/lib/python3.9/site-packages/matsml-1.0.1-py3.9.egg/matsml/fingerprint.py:417: FutureWarning: The frame.append method is deprecated and will be removed from pandas in a future version. Use pandas.concat instead.\n",
      "  soap = soap.append(pd.DataFrame(np.array(this_soap).\n",
      "/home/huan/miniconda3/envs/tf/lib/python3.9/site-packages/matsml-1.0.1-py3.9.egg/matsml/fingerprint.py:417: FutureWarning: The frame.append method is deprecated and will be removed from pandas in a future version. Use pandas.concat instead.\n",
      "  soap = soap.append(pd.DataFrame(np.array(this_soap).\n",
      "/home/huan/miniconda3/envs/tf/lib/python3.9/site-packages/matsml-1.0.1-py3.9.egg/matsml/fingerprint.py:417: FutureWarning: The frame.append method is deprecated and will be removed from pandas in a future version. Use pandas.concat instead.\n",
      "  soap = soap.append(pd.DataFrame(np.array(this_soap).\n",
      "/home/huan/miniconda3/envs/tf/lib/python3.9/site-packages/matsml-1.0.1-py3.9.egg/matsml/fingerprint.py:417: FutureWarning: The frame.append method is deprecated and will be removed from pandas in a future version. Use pandas.concat instead.\n",
      "  soap = soap.append(pd.DataFrame(np.array(this_soap).\n",
      "/home/huan/miniconda3/envs/tf/lib/python3.9/site-packages/matsml-1.0.1-py3.9.egg/matsml/fingerprint.py:417: FutureWarning: The frame.append method is deprecated and will be removed from pandas in a future version. Use pandas.concat instead.\n",
      "  soap = soap.append(pd.DataFrame(np.array(this_soap).\n",
      "/home/huan/miniconda3/envs/tf/lib/python3.9/site-packages/matsml-1.0.1-py3.9.egg/matsml/fingerprint.py:417: FutureWarning: The frame.append method is deprecated and will be removed from pandas in a future version. Use pandas.concat instead.\n",
      "  soap = soap.append(pd.DataFrame(np.array(this_soap).\n",
      "/home/huan/miniconda3/envs/tf/lib/python3.9/site-packages/matsml-1.0.1-py3.9.egg/matsml/fingerprint.py:417: FutureWarning: The frame.append method is deprecated and will be removed from pandas in a future version. Use pandas.concat instead.\n",
      "  soap = soap.append(pd.DataFrame(np.array(this_soap).\n"
     ]
    },
    {
     "name": "stdout",
     "output_type": "stream",
     "text": [
      "    [================                                  ] 31%"
     ]
    },
    {
     "name": "stderr",
     "output_type": "stream",
     "text": [
      "/home/huan/miniconda3/envs/tf/lib/python3.9/site-packages/matsml-1.0.1-py3.9.egg/matsml/fingerprint.py:417: FutureWarning: The frame.append method is deprecated and will be removed from pandas in a future version. Use pandas.concat instead.\n",
      "  soap = soap.append(pd.DataFrame(np.array(this_soap).\n",
      "/home/huan/miniconda3/envs/tf/lib/python3.9/site-packages/matsml-1.0.1-py3.9.egg/matsml/fingerprint.py:417: FutureWarning: The frame.append method is deprecated and will be removed from pandas in a future version. Use pandas.concat instead.\n",
      "  soap = soap.append(pd.DataFrame(np.array(this_soap).\n",
      "/home/huan/miniconda3/envs/tf/lib/python3.9/site-packages/matsml-1.0.1-py3.9.egg/matsml/fingerprint.py:417: FutureWarning: The frame.append method is deprecated and will be removed from pandas in a future version. Use pandas.concat instead.\n",
      "  soap = soap.append(pd.DataFrame(np.array(this_soap).\n",
      "/home/huan/miniconda3/envs/tf/lib/python3.9/site-packages/matsml-1.0.1-py3.9.egg/matsml/fingerprint.py:417: FutureWarning: The frame.append method is deprecated and will be removed from pandas in a future version. Use pandas.concat instead.\n",
      "  soap = soap.append(pd.DataFrame(np.array(this_soap).\n",
      "/home/huan/miniconda3/envs/tf/lib/python3.9/site-packages/matsml-1.0.1-py3.9.egg/matsml/fingerprint.py:417: FutureWarning: The frame.append method is deprecated and will be removed from pandas in a future version. Use pandas.concat instead.\n",
      "  soap = soap.append(pd.DataFrame(np.array(this_soap).\n",
      "/home/huan/miniconda3/envs/tf/lib/python3.9/site-packages/matsml-1.0.1-py3.9.egg/matsml/fingerprint.py:417: FutureWarning: The frame.append method is deprecated and will be removed from pandas in a future version. Use pandas.concat instead.\n",
      "  soap = soap.append(pd.DataFrame(np.array(this_soap).\n",
      "/home/huan/miniconda3/envs/tf/lib/python3.9/site-packages/matsml-1.0.1-py3.9.egg/matsml/fingerprint.py:417: FutureWarning: The frame.append method is deprecated and will be removed from pandas in a future version. Use pandas.concat instead.\n",
      "  soap = soap.append(pd.DataFrame(np.array(this_soap).\n",
      "/home/huan/miniconda3/envs/tf/lib/python3.9/site-packages/matsml-1.0.1-py3.9.egg/matsml/fingerprint.py:417: FutureWarning: The frame.append method is deprecated and will be removed from pandas in a future version. Use pandas.concat instead.\n",
      "  soap = soap.append(pd.DataFrame(np.array(this_soap).\n",
      "/home/huan/miniconda3/envs/tf/lib/python3.9/site-packages/matsml-1.0.1-py3.9.egg/matsml/fingerprint.py:417: FutureWarning: The frame.append method is deprecated and will be removed from pandas in a future version. Use pandas.concat instead.\n",
      "  soap = soap.append(pd.DataFrame(np.array(this_soap).\n"
     ]
    },
    {
     "name": "stdout",
     "output_type": "stream",
     "text": [
      "    [=================                                 ] 33%"
     ]
    },
    {
     "name": "stderr",
     "output_type": "stream",
     "text": [
      "/home/huan/miniconda3/envs/tf/lib/python3.9/site-packages/matsml-1.0.1-py3.9.egg/matsml/fingerprint.py:417: FutureWarning: The frame.append method is deprecated and will be removed from pandas in a future version. Use pandas.concat instead.\n",
      "  soap = soap.append(pd.DataFrame(np.array(this_soap).\n",
      "/home/huan/miniconda3/envs/tf/lib/python3.9/site-packages/matsml-1.0.1-py3.9.egg/matsml/fingerprint.py:417: FutureWarning: The frame.append method is deprecated and will be removed from pandas in a future version. Use pandas.concat instead.\n",
      "  soap = soap.append(pd.DataFrame(np.array(this_soap).\n",
      "/home/huan/miniconda3/envs/tf/lib/python3.9/site-packages/matsml-1.0.1-py3.9.egg/matsml/fingerprint.py:417: FutureWarning: The frame.append method is deprecated and will be removed from pandas in a future version. Use pandas.concat instead.\n",
      "  soap = soap.append(pd.DataFrame(np.array(this_soap).\n",
      "/home/huan/miniconda3/envs/tf/lib/python3.9/site-packages/matsml-1.0.1-py3.9.egg/matsml/fingerprint.py:417: FutureWarning: The frame.append method is deprecated and will be removed from pandas in a future version. Use pandas.concat instead.\n",
      "  soap = soap.append(pd.DataFrame(np.array(this_soap).\n",
      "/home/huan/miniconda3/envs/tf/lib/python3.9/site-packages/matsml-1.0.1-py3.9.egg/matsml/fingerprint.py:417: FutureWarning: The frame.append method is deprecated and will be removed from pandas in a future version. Use pandas.concat instead.\n",
      "  soap = soap.append(pd.DataFrame(np.array(this_soap).\n",
      "/home/huan/miniconda3/envs/tf/lib/python3.9/site-packages/matsml-1.0.1-py3.9.egg/matsml/fingerprint.py:417: FutureWarning: The frame.append method is deprecated and will be removed from pandas in a future version. Use pandas.concat instead.\n",
      "  soap = soap.append(pd.DataFrame(np.array(this_soap).\n",
      "/home/huan/miniconda3/envs/tf/lib/python3.9/site-packages/matsml-1.0.1-py3.9.egg/matsml/fingerprint.py:417: FutureWarning: The frame.append method is deprecated and will be removed from pandas in a future version. Use pandas.concat instead.\n",
      "  soap = soap.append(pd.DataFrame(np.array(this_soap).\n"
     ]
    },
    {
     "name": "stdout",
     "output_type": "stream",
     "text": [
      "    [==================                                ] 36%"
     ]
    },
    {
     "name": "stderr",
     "output_type": "stream",
     "text": [
      "/home/huan/miniconda3/envs/tf/lib/python3.9/site-packages/matsml-1.0.1-py3.9.egg/matsml/fingerprint.py:417: FutureWarning: The frame.append method is deprecated and will be removed from pandas in a future version. Use pandas.concat instead.\n",
      "  soap = soap.append(pd.DataFrame(np.array(this_soap).\n",
      "/home/huan/miniconda3/envs/tf/lib/python3.9/site-packages/matsml-1.0.1-py3.9.egg/matsml/fingerprint.py:417: FutureWarning: The frame.append method is deprecated and will be removed from pandas in a future version. Use pandas.concat instead.\n",
      "  soap = soap.append(pd.DataFrame(np.array(this_soap).\n",
      "/home/huan/miniconda3/envs/tf/lib/python3.9/site-packages/matsml-1.0.1-py3.9.egg/matsml/fingerprint.py:417: FutureWarning: The frame.append method is deprecated and will be removed from pandas in a future version. Use pandas.concat instead.\n",
      "  soap = soap.append(pd.DataFrame(np.array(this_soap).\n",
      "/home/huan/miniconda3/envs/tf/lib/python3.9/site-packages/matsml-1.0.1-py3.9.egg/matsml/fingerprint.py:417: FutureWarning: The frame.append method is deprecated and will be removed from pandas in a future version. Use pandas.concat instead.\n",
      "  soap = soap.append(pd.DataFrame(np.array(this_soap).\n",
      "/home/huan/miniconda3/envs/tf/lib/python3.9/site-packages/matsml-1.0.1-py3.9.egg/matsml/fingerprint.py:417: FutureWarning: The frame.append method is deprecated and will be removed from pandas in a future version. Use pandas.concat instead.\n",
      "  soap = soap.append(pd.DataFrame(np.array(this_soap).\n",
      "/home/huan/miniconda3/envs/tf/lib/python3.9/site-packages/matsml-1.0.1-py3.9.egg/matsml/fingerprint.py:417: FutureWarning: The frame.append method is deprecated and will be removed from pandas in a future version. Use pandas.concat instead.\n",
      "  soap = soap.append(pd.DataFrame(np.array(this_soap).\n",
      "/home/huan/miniconda3/envs/tf/lib/python3.9/site-packages/matsml-1.0.1-py3.9.egg/matsml/fingerprint.py:417: FutureWarning: The frame.append method is deprecated and will be removed from pandas in a future version. Use pandas.concat instead.\n",
      "  soap = soap.append(pd.DataFrame(np.array(this_soap).\n",
      "/home/huan/miniconda3/envs/tf/lib/python3.9/site-packages/matsml-1.0.1-py3.9.egg/matsml/fingerprint.py:417: FutureWarning: The frame.append method is deprecated and will be removed from pandas in a future version. Use pandas.concat instead.\n",
      "  soap = soap.append(pd.DataFrame(np.array(this_soap).\n"
     ]
    },
    {
     "name": "stdout",
     "output_type": "stream",
     "text": [
      "    [===================                               ] 38%"
     ]
    },
    {
     "name": "stderr",
     "output_type": "stream",
     "text": [
      "/home/huan/miniconda3/envs/tf/lib/python3.9/site-packages/matsml-1.0.1-py3.9.egg/matsml/fingerprint.py:417: FutureWarning: The frame.append method is deprecated and will be removed from pandas in a future version. Use pandas.concat instead.\n",
      "  soap = soap.append(pd.DataFrame(np.array(this_soap).\n",
      "/home/huan/miniconda3/envs/tf/lib/python3.9/site-packages/matsml-1.0.1-py3.9.egg/matsml/fingerprint.py:417: FutureWarning: The frame.append method is deprecated and will be removed from pandas in a future version. Use pandas.concat instead.\n",
      "  soap = soap.append(pd.DataFrame(np.array(this_soap).\n",
      "/home/huan/miniconda3/envs/tf/lib/python3.9/site-packages/matsml-1.0.1-py3.9.egg/matsml/fingerprint.py:417: FutureWarning: The frame.append method is deprecated and will be removed from pandas in a future version. Use pandas.concat instead.\n",
      "  soap = soap.append(pd.DataFrame(np.array(this_soap).\n",
      "/home/huan/miniconda3/envs/tf/lib/python3.9/site-packages/matsml-1.0.1-py3.9.egg/matsml/fingerprint.py:417: FutureWarning: The frame.append method is deprecated and will be removed from pandas in a future version. Use pandas.concat instead.\n",
      "  soap = soap.append(pd.DataFrame(np.array(this_soap).\n",
      "/home/huan/miniconda3/envs/tf/lib/python3.9/site-packages/matsml-1.0.1-py3.9.egg/matsml/fingerprint.py:417: FutureWarning: The frame.append method is deprecated and will be removed from pandas in a future version. Use pandas.concat instead.\n",
      "  soap = soap.append(pd.DataFrame(np.array(this_soap).\n",
      "/home/huan/miniconda3/envs/tf/lib/python3.9/site-packages/matsml-1.0.1-py3.9.egg/matsml/fingerprint.py:417: FutureWarning: The frame.append method is deprecated and will be removed from pandas in a future version. Use pandas.concat instead.\n",
      "  soap = soap.append(pd.DataFrame(np.array(this_soap).\n",
      "/home/huan/miniconda3/envs/tf/lib/python3.9/site-packages/matsml-1.0.1-py3.9.egg/matsml/fingerprint.py:417: FutureWarning: The frame.append method is deprecated and will be removed from pandas in a future version. Use pandas.concat instead.\n",
      "  soap = soap.append(pd.DataFrame(np.array(this_soap).\n"
     ]
    },
    {
     "name": "stdout",
     "output_type": "stream",
     "text": [
      "    [====================                              ] 40%"
     ]
    },
    {
     "name": "stderr",
     "output_type": "stream",
     "text": [
      "/home/huan/miniconda3/envs/tf/lib/python3.9/site-packages/matsml-1.0.1-py3.9.egg/matsml/fingerprint.py:417: FutureWarning: The frame.append method is deprecated and will be removed from pandas in a future version. Use pandas.concat instead.\n",
      "  soap = soap.append(pd.DataFrame(np.array(this_soap).\n",
      "/home/huan/miniconda3/envs/tf/lib/python3.9/site-packages/matsml-1.0.1-py3.9.egg/matsml/fingerprint.py:417: FutureWarning: The frame.append method is deprecated and will be removed from pandas in a future version. Use pandas.concat instead.\n",
      "  soap = soap.append(pd.DataFrame(np.array(this_soap).\n",
      "/home/huan/miniconda3/envs/tf/lib/python3.9/site-packages/matsml-1.0.1-py3.9.egg/matsml/fingerprint.py:417: FutureWarning: The frame.append method is deprecated and will be removed from pandas in a future version. Use pandas.concat instead.\n",
      "  soap = soap.append(pd.DataFrame(np.array(this_soap).\n",
      "/home/huan/miniconda3/envs/tf/lib/python3.9/site-packages/matsml-1.0.1-py3.9.egg/matsml/fingerprint.py:417: FutureWarning: The frame.append method is deprecated and will be removed from pandas in a future version. Use pandas.concat instead.\n",
      "  soap = soap.append(pd.DataFrame(np.array(this_soap).\n",
      "/home/huan/miniconda3/envs/tf/lib/python3.9/site-packages/matsml-1.0.1-py3.9.egg/matsml/fingerprint.py:417: FutureWarning: The frame.append method is deprecated and will be removed from pandas in a future version. Use pandas.concat instead.\n",
      "  soap = soap.append(pd.DataFrame(np.array(this_soap).\n",
      "/home/huan/miniconda3/envs/tf/lib/python3.9/site-packages/matsml-1.0.1-py3.9.egg/matsml/fingerprint.py:417: FutureWarning: The frame.append method is deprecated and will be removed from pandas in a future version. Use pandas.concat instead.\n",
      "  soap = soap.append(pd.DataFrame(np.array(this_soap).\n",
      "/home/huan/miniconda3/envs/tf/lib/python3.9/site-packages/matsml-1.0.1-py3.9.egg/matsml/fingerprint.py:417: FutureWarning: The frame.append method is deprecated and will be removed from pandas in a future version. Use pandas.concat instead.\n",
      "  soap = soap.append(pd.DataFrame(np.array(this_soap).\n"
     ]
    },
    {
     "name": "stdout",
     "output_type": "stream",
     "text": [
      "    [=====================                             ] 42%"
     ]
    },
    {
     "name": "stderr",
     "output_type": "stream",
     "text": [
      "/home/huan/miniconda3/envs/tf/lib/python3.9/site-packages/matsml-1.0.1-py3.9.egg/matsml/fingerprint.py:417: FutureWarning: The frame.append method is deprecated and will be removed from pandas in a future version. Use pandas.concat instead.\n",
      "  soap = soap.append(pd.DataFrame(np.array(this_soap).\n",
      "/home/huan/miniconda3/envs/tf/lib/python3.9/site-packages/matsml-1.0.1-py3.9.egg/matsml/fingerprint.py:417: FutureWarning: The frame.append method is deprecated and will be removed from pandas in a future version. Use pandas.concat instead.\n",
      "  soap = soap.append(pd.DataFrame(np.array(this_soap).\n",
      "/home/huan/miniconda3/envs/tf/lib/python3.9/site-packages/matsml-1.0.1-py3.9.egg/matsml/fingerprint.py:417: FutureWarning: The frame.append method is deprecated and will be removed from pandas in a future version. Use pandas.concat instead.\n",
      "  soap = soap.append(pd.DataFrame(np.array(this_soap).\n",
      "/home/huan/miniconda3/envs/tf/lib/python3.9/site-packages/matsml-1.0.1-py3.9.egg/matsml/fingerprint.py:417: FutureWarning: The frame.append method is deprecated and will be removed from pandas in a future version. Use pandas.concat instead.\n",
      "  soap = soap.append(pd.DataFrame(np.array(this_soap).\n",
      "/home/huan/miniconda3/envs/tf/lib/python3.9/site-packages/matsml-1.0.1-py3.9.egg/matsml/fingerprint.py:417: FutureWarning: The frame.append method is deprecated and will be removed from pandas in a future version. Use pandas.concat instead.\n",
      "  soap = soap.append(pd.DataFrame(np.array(this_soap).\n",
      "/home/huan/miniconda3/envs/tf/lib/python3.9/site-packages/matsml-1.0.1-py3.9.egg/matsml/fingerprint.py:417: FutureWarning: The frame.append method is deprecated and will be removed from pandas in a future version. Use pandas.concat instead.\n",
      "  soap = soap.append(pd.DataFrame(np.array(this_soap).\n",
      "/home/huan/miniconda3/envs/tf/lib/python3.9/site-packages/matsml-1.0.1-py3.9.egg/matsml/fingerprint.py:417: FutureWarning: The frame.append method is deprecated and will be removed from pandas in a future version. Use pandas.concat instead.\n",
      "  soap = soap.append(pd.DataFrame(np.array(this_soap).\n"
     ]
    },
    {
     "name": "stdout",
     "output_type": "stream",
     "text": [
      "    [======================                            ] 44%"
     ]
    },
    {
     "name": "stderr",
     "output_type": "stream",
     "text": [
      "/home/huan/miniconda3/envs/tf/lib/python3.9/site-packages/matsml-1.0.1-py3.9.egg/matsml/fingerprint.py:417: FutureWarning: The frame.append method is deprecated and will be removed from pandas in a future version. Use pandas.concat instead.\n",
      "  soap = soap.append(pd.DataFrame(np.array(this_soap).\n",
      "/home/huan/miniconda3/envs/tf/lib/python3.9/site-packages/matsml-1.0.1-py3.9.egg/matsml/fingerprint.py:417: FutureWarning: The frame.append method is deprecated and will be removed from pandas in a future version. Use pandas.concat instead.\n",
      "  soap = soap.append(pd.DataFrame(np.array(this_soap).\n",
      "/home/huan/miniconda3/envs/tf/lib/python3.9/site-packages/matsml-1.0.1-py3.9.egg/matsml/fingerprint.py:417: FutureWarning: The frame.append method is deprecated and will be removed from pandas in a future version. Use pandas.concat instead.\n",
      "  soap = soap.append(pd.DataFrame(np.array(this_soap).\n",
      "/home/huan/miniconda3/envs/tf/lib/python3.9/site-packages/matsml-1.0.1-py3.9.egg/matsml/fingerprint.py:417: FutureWarning: The frame.append method is deprecated and will be removed from pandas in a future version. Use pandas.concat instead.\n",
      "  soap = soap.append(pd.DataFrame(np.array(this_soap).\n",
      "/home/huan/miniconda3/envs/tf/lib/python3.9/site-packages/matsml-1.0.1-py3.9.egg/matsml/fingerprint.py:417: FutureWarning: The frame.append method is deprecated and will be removed from pandas in a future version. Use pandas.concat instead.\n",
      "  soap = soap.append(pd.DataFrame(np.array(this_soap).\n",
      "/home/huan/miniconda3/envs/tf/lib/python3.9/site-packages/matsml-1.0.1-py3.9.egg/matsml/fingerprint.py:417: FutureWarning: The frame.append method is deprecated and will be removed from pandas in a future version. Use pandas.concat instead.\n",
      "  soap = soap.append(pd.DataFrame(np.array(this_soap).\n",
      "/home/huan/miniconda3/envs/tf/lib/python3.9/site-packages/matsml-1.0.1-py3.9.egg/matsml/fingerprint.py:417: FutureWarning: The frame.append method is deprecated and will be removed from pandas in a future version. Use pandas.concat instead.\n",
      "  soap = soap.append(pd.DataFrame(np.array(this_soap).\n"
     ]
    },
    {
     "name": "stdout",
     "output_type": "stream",
     "text": [
      "    [=======================                           ] 46%"
     ]
    },
    {
     "name": "stderr",
     "output_type": "stream",
     "text": [
      "/home/huan/miniconda3/envs/tf/lib/python3.9/site-packages/matsml-1.0.1-py3.9.egg/matsml/fingerprint.py:417: FutureWarning: The frame.append method is deprecated and will be removed from pandas in a future version. Use pandas.concat instead.\n",
      "  soap = soap.append(pd.DataFrame(np.array(this_soap).\n",
      "/home/huan/miniconda3/envs/tf/lib/python3.9/site-packages/matsml-1.0.1-py3.9.egg/matsml/fingerprint.py:417: FutureWarning: The frame.append method is deprecated and will be removed from pandas in a future version. Use pandas.concat instead.\n",
      "  soap = soap.append(pd.DataFrame(np.array(this_soap).\n",
      "/home/huan/miniconda3/envs/tf/lib/python3.9/site-packages/matsml-1.0.1-py3.9.egg/matsml/fingerprint.py:417: FutureWarning: The frame.append method is deprecated and will be removed from pandas in a future version. Use pandas.concat instead.\n",
      "  soap = soap.append(pd.DataFrame(np.array(this_soap).\n",
      "/home/huan/miniconda3/envs/tf/lib/python3.9/site-packages/matsml-1.0.1-py3.9.egg/matsml/fingerprint.py:417: FutureWarning: The frame.append method is deprecated and will be removed from pandas in a future version. Use pandas.concat instead.\n",
      "  soap = soap.append(pd.DataFrame(np.array(this_soap).\n",
      "/home/huan/miniconda3/envs/tf/lib/python3.9/site-packages/matsml-1.0.1-py3.9.egg/matsml/fingerprint.py:417: FutureWarning: The frame.append method is deprecated and will be removed from pandas in a future version. Use pandas.concat instead.\n",
      "  soap = soap.append(pd.DataFrame(np.array(this_soap).\n",
      "/home/huan/miniconda3/envs/tf/lib/python3.9/site-packages/matsml-1.0.1-py3.9.egg/matsml/fingerprint.py:417: FutureWarning: The frame.append method is deprecated and will be removed from pandas in a future version. Use pandas.concat instead.\n",
      "  soap = soap.append(pd.DataFrame(np.array(this_soap).\n",
      "/home/huan/miniconda3/envs/tf/lib/python3.9/site-packages/matsml-1.0.1-py3.9.egg/matsml/fingerprint.py:417: FutureWarning: The frame.append method is deprecated and will be removed from pandas in a future version. Use pandas.concat instead.\n",
      "  soap = soap.append(pd.DataFrame(np.array(this_soap).\n"
     ]
    },
    {
     "name": "stdout",
     "output_type": "stream",
     "text": [
      "    [=========================                         ] 49%"
     ]
    },
    {
     "name": "stderr",
     "output_type": "stream",
     "text": [
      "/home/huan/miniconda3/envs/tf/lib/python3.9/site-packages/matsml-1.0.1-py3.9.egg/matsml/fingerprint.py:417: FutureWarning: The frame.append method is deprecated and will be removed from pandas in a future version. Use pandas.concat instead.\n",
      "  soap = soap.append(pd.DataFrame(np.array(this_soap).\n",
      "/home/huan/miniconda3/envs/tf/lib/python3.9/site-packages/matsml-1.0.1-py3.9.egg/matsml/fingerprint.py:417: FutureWarning: The frame.append method is deprecated and will be removed from pandas in a future version. Use pandas.concat instead.\n",
      "  soap = soap.append(pd.DataFrame(np.array(this_soap).\n",
      "/home/huan/miniconda3/envs/tf/lib/python3.9/site-packages/matsml-1.0.1-py3.9.egg/matsml/fingerprint.py:417: FutureWarning: The frame.append method is deprecated and will be removed from pandas in a future version. Use pandas.concat instead.\n",
      "  soap = soap.append(pd.DataFrame(np.array(this_soap).\n",
      "/home/huan/miniconda3/envs/tf/lib/python3.9/site-packages/matsml-1.0.1-py3.9.egg/matsml/fingerprint.py:417: FutureWarning: The frame.append method is deprecated and will be removed from pandas in a future version. Use pandas.concat instead.\n",
      "  soap = soap.append(pd.DataFrame(np.array(this_soap).\n",
      "/home/huan/miniconda3/envs/tf/lib/python3.9/site-packages/matsml-1.0.1-py3.9.egg/matsml/fingerprint.py:417: FutureWarning: The frame.append method is deprecated and will be removed from pandas in a future version. Use pandas.concat instead.\n",
      "  soap = soap.append(pd.DataFrame(np.array(this_soap).\n",
      "/home/huan/miniconda3/envs/tf/lib/python3.9/site-packages/matsml-1.0.1-py3.9.egg/matsml/fingerprint.py:417: FutureWarning: The frame.append method is deprecated and will be removed from pandas in a future version. Use pandas.concat instead.\n",
      "  soap = soap.append(pd.DataFrame(np.array(this_soap).\n",
      "/home/huan/miniconda3/envs/tf/lib/python3.9/site-packages/matsml-1.0.1-py3.9.egg/matsml/fingerprint.py:417: FutureWarning: The frame.append method is deprecated and will be removed from pandas in a future version. Use pandas.concat instead.\n",
      "  soap = soap.append(pd.DataFrame(np.array(this_soap).\n"
     ]
    },
    {
     "name": "stdout",
     "output_type": "stream",
     "text": [
      "    [==========================                        ] 51%"
     ]
    },
    {
     "name": "stderr",
     "output_type": "stream",
     "text": [
      "/home/huan/miniconda3/envs/tf/lib/python3.9/site-packages/matsml-1.0.1-py3.9.egg/matsml/fingerprint.py:417: FutureWarning: The frame.append method is deprecated and will be removed from pandas in a future version. Use pandas.concat instead.\n",
      "  soap = soap.append(pd.DataFrame(np.array(this_soap).\n",
      "/home/huan/miniconda3/envs/tf/lib/python3.9/site-packages/matsml-1.0.1-py3.9.egg/matsml/fingerprint.py:417: FutureWarning: The frame.append method is deprecated and will be removed from pandas in a future version. Use pandas.concat instead.\n",
      "  soap = soap.append(pd.DataFrame(np.array(this_soap).\n",
      "/home/huan/miniconda3/envs/tf/lib/python3.9/site-packages/matsml-1.0.1-py3.9.egg/matsml/fingerprint.py:417: FutureWarning: The frame.append method is deprecated and will be removed from pandas in a future version. Use pandas.concat instead.\n",
      "  soap = soap.append(pd.DataFrame(np.array(this_soap).\n",
      "/home/huan/miniconda3/envs/tf/lib/python3.9/site-packages/matsml-1.0.1-py3.9.egg/matsml/fingerprint.py:417: FutureWarning: The frame.append method is deprecated and will be removed from pandas in a future version. Use pandas.concat instead.\n",
      "  soap = soap.append(pd.DataFrame(np.array(this_soap).\n",
      "/home/huan/miniconda3/envs/tf/lib/python3.9/site-packages/matsml-1.0.1-py3.9.egg/matsml/fingerprint.py:417: FutureWarning: The frame.append method is deprecated and will be removed from pandas in a future version. Use pandas.concat instead.\n",
      "  soap = soap.append(pd.DataFrame(np.array(this_soap).\n",
      "/home/huan/miniconda3/envs/tf/lib/python3.9/site-packages/matsml-1.0.1-py3.9.egg/matsml/fingerprint.py:417: FutureWarning: The frame.append method is deprecated and will be removed from pandas in a future version. Use pandas.concat instead.\n",
      "  soap = soap.append(pd.DataFrame(np.array(this_soap).\n",
      "/home/huan/miniconda3/envs/tf/lib/python3.9/site-packages/matsml-1.0.1-py3.9.egg/matsml/fingerprint.py:417: FutureWarning: The frame.append method is deprecated and will be removed from pandas in a future version. Use pandas.concat instead.\n",
      "  soap = soap.append(pd.DataFrame(np.array(this_soap).\n"
     ]
    },
    {
     "name": "stdout",
     "output_type": "stream",
     "text": [
      "    [===========================                       ] 53%"
     ]
    },
    {
     "name": "stderr",
     "output_type": "stream",
     "text": [
      "/home/huan/miniconda3/envs/tf/lib/python3.9/site-packages/matsml-1.0.1-py3.9.egg/matsml/fingerprint.py:417: FutureWarning: The frame.append method is deprecated and will be removed from pandas in a future version. Use pandas.concat instead.\n",
      "  soap = soap.append(pd.DataFrame(np.array(this_soap).\n",
      "/home/huan/miniconda3/envs/tf/lib/python3.9/site-packages/matsml-1.0.1-py3.9.egg/matsml/fingerprint.py:417: FutureWarning: The frame.append method is deprecated and will be removed from pandas in a future version. Use pandas.concat instead.\n",
      "  soap = soap.append(pd.DataFrame(np.array(this_soap).\n",
      "/home/huan/miniconda3/envs/tf/lib/python3.9/site-packages/matsml-1.0.1-py3.9.egg/matsml/fingerprint.py:417: FutureWarning: The frame.append method is deprecated and will be removed from pandas in a future version. Use pandas.concat instead.\n",
      "  soap = soap.append(pd.DataFrame(np.array(this_soap).\n",
      "/home/huan/miniconda3/envs/tf/lib/python3.9/site-packages/matsml-1.0.1-py3.9.egg/matsml/fingerprint.py:417: FutureWarning: The frame.append method is deprecated and will be removed from pandas in a future version. Use pandas.concat instead.\n",
      "  soap = soap.append(pd.DataFrame(np.array(this_soap).\n",
      "/home/huan/miniconda3/envs/tf/lib/python3.9/site-packages/matsml-1.0.1-py3.9.egg/matsml/fingerprint.py:417: FutureWarning: The frame.append method is deprecated and will be removed from pandas in a future version. Use pandas.concat instead.\n",
      "  soap = soap.append(pd.DataFrame(np.array(this_soap).\n",
      "/home/huan/miniconda3/envs/tf/lib/python3.9/site-packages/matsml-1.0.1-py3.9.egg/matsml/fingerprint.py:417: FutureWarning: The frame.append method is deprecated and will be removed from pandas in a future version. Use pandas.concat instead.\n",
      "  soap = soap.append(pd.DataFrame(np.array(this_soap).\n",
      "/home/huan/miniconda3/envs/tf/lib/python3.9/site-packages/matsml-1.0.1-py3.9.egg/matsml/fingerprint.py:417: FutureWarning: The frame.append method is deprecated and will be removed from pandas in a future version. Use pandas.concat instead.\n",
      "  soap = soap.append(pd.DataFrame(np.array(this_soap).\n"
     ]
    },
    {
     "name": "stdout",
     "output_type": "stream",
     "text": [
      "    [============================                      ] 55%"
     ]
    },
    {
     "name": "stderr",
     "output_type": "stream",
     "text": [
      "/home/huan/miniconda3/envs/tf/lib/python3.9/site-packages/matsml-1.0.1-py3.9.egg/matsml/fingerprint.py:417: FutureWarning: The frame.append method is deprecated and will be removed from pandas in a future version. Use pandas.concat instead.\n",
      "  soap = soap.append(pd.DataFrame(np.array(this_soap).\n",
      "/home/huan/miniconda3/envs/tf/lib/python3.9/site-packages/matsml-1.0.1-py3.9.egg/matsml/fingerprint.py:417: FutureWarning: The frame.append method is deprecated and will be removed from pandas in a future version. Use pandas.concat instead.\n",
      "  soap = soap.append(pd.DataFrame(np.array(this_soap).\n",
      "/home/huan/miniconda3/envs/tf/lib/python3.9/site-packages/matsml-1.0.1-py3.9.egg/matsml/fingerprint.py:417: FutureWarning: The frame.append method is deprecated and will be removed from pandas in a future version. Use pandas.concat instead.\n",
      "  soap = soap.append(pd.DataFrame(np.array(this_soap).\n",
      "/home/huan/miniconda3/envs/tf/lib/python3.9/site-packages/matsml-1.0.1-py3.9.egg/matsml/fingerprint.py:417: FutureWarning: The frame.append method is deprecated and will be removed from pandas in a future version. Use pandas.concat instead.\n",
      "  soap = soap.append(pd.DataFrame(np.array(this_soap).\n",
      "/home/huan/miniconda3/envs/tf/lib/python3.9/site-packages/matsml-1.0.1-py3.9.egg/matsml/fingerprint.py:417: FutureWarning: The frame.append method is deprecated and will be removed from pandas in a future version. Use pandas.concat instead.\n",
      "  soap = soap.append(pd.DataFrame(np.array(this_soap).\n",
      "/home/huan/miniconda3/envs/tf/lib/python3.9/site-packages/matsml-1.0.1-py3.9.egg/matsml/fingerprint.py:417: FutureWarning: The frame.append method is deprecated and will be removed from pandas in a future version. Use pandas.concat instead.\n",
      "  soap = soap.append(pd.DataFrame(np.array(this_soap).\n"
     ]
    },
    {
     "name": "stdout",
     "output_type": "stream",
     "text": [
      "    [============================                      ] 56%"
     ]
    },
    {
     "name": "stderr",
     "output_type": "stream",
     "text": [
      "/home/huan/miniconda3/envs/tf/lib/python3.9/site-packages/matsml-1.0.1-py3.9.egg/matsml/fingerprint.py:417: FutureWarning: The frame.append method is deprecated and will be removed from pandas in a future version. Use pandas.concat instead.\n",
      "  soap = soap.append(pd.DataFrame(np.array(this_soap).\n",
      "/home/huan/miniconda3/envs/tf/lib/python3.9/site-packages/matsml-1.0.1-py3.9.egg/matsml/fingerprint.py:417: FutureWarning: The frame.append method is deprecated and will be removed from pandas in a future version. Use pandas.concat instead.\n",
      "  soap = soap.append(pd.DataFrame(np.array(this_soap).\n",
      "/home/huan/miniconda3/envs/tf/lib/python3.9/site-packages/matsml-1.0.1-py3.9.egg/matsml/fingerprint.py:417: FutureWarning: The frame.append method is deprecated and will be removed from pandas in a future version. Use pandas.concat instead.\n",
      "  soap = soap.append(pd.DataFrame(np.array(this_soap).\n",
      "/home/huan/miniconda3/envs/tf/lib/python3.9/site-packages/matsml-1.0.1-py3.9.egg/matsml/fingerprint.py:417: FutureWarning: The frame.append method is deprecated and will be removed from pandas in a future version. Use pandas.concat instead.\n",
      "  soap = soap.append(pd.DataFrame(np.array(this_soap).\n",
      "/home/huan/miniconda3/envs/tf/lib/python3.9/site-packages/matsml-1.0.1-py3.9.egg/matsml/fingerprint.py:417: FutureWarning: The frame.append method is deprecated and will be removed from pandas in a future version. Use pandas.concat instead.\n",
      "  soap = soap.append(pd.DataFrame(np.array(this_soap).\n",
      "/home/huan/miniconda3/envs/tf/lib/python3.9/site-packages/matsml-1.0.1-py3.9.egg/matsml/fingerprint.py:417: FutureWarning: The frame.append method is deprecated and will be removed from pandas in a future version. Use pandas.concat instead.\n",
      "  soap = soap.append(pd.DataFrame(np.array(this_soap).\n"
     ]
    },
    {
     "name": "stdout",
     "output_type": "stream",
     "text": [
      "    [==============================                    ] 59%"
     ]
    },
    {
     "name": "stderr",
     "output_type": "stream",
     "text": [
      "/home/huan/miniconda3/envs/tf/lib/python3.9/site-packages/matsml-1.0.1-py3.9.egg/matsml/fingerprint.py:417: FutureWarning: The frame.append method is deprecated and will be removed from pandas in a future version. Use pandas.concat instead.\n",
      "  soap = soap.append(pd.DataFrame(np.array(this_soap).\n",
      "/home/huan/miniconda3/envs/tf/lib/python3.9/site-packages/matsml-1.0.1-py3.9.egg/matsml/fingerprint.py:417: FutureWarning: The frame.append method is deprecated and will be removed from pandas in a future version. Use pandas.concat instead.\n",
      "  soap = soap.append(pd.DataFrame(np.array(this_soap).\n",
      "/home/huan/miniconda3/envs/tf/lib/python3.9/site-packages/matsml-1.0.1-py3.9.egg/matsml/fingerprint.py:417: FutureWarning: The frame.append method is deprecated and will be removed from pandas in a future version. Use pandas.concat instead.\n",
      "  soap = soap.append(pd.DataFrame(np.array(this_soap).\n",
      "/home/huan/miniconda3/envs/tf/lib/python3.9/site-packages/matsml-1.0.1-py3.9.egg/matsml/fingerprint.py:417: FutureWarning: The frame.append method is deprecated and will be removed from pandas in a future version. Use pandas.concat instead.\n",
      "  soap = soap.append(pd.DataFrame(np.array(this_soap).\n",
      "/home/huan/miniconda3/envs/tf/lib/python3.9/site-packages/matsml-1.0.1-py3.9.egg/matsml/fingerprint.py:417: FutureWarning: The frame.append method is deprecated and will be removed from pandas in a future version. Use pandas.concat instead.\n",
      "  soap = soap.append(pd.DataFrame(np.array(this_soap).\n",
      "/home/huan/miniconda3/envs/tf/lib/python3.9/site-packages/matsml-1.0.1-py3.9.egg/matsml/fingerprint.py:417: FutureWarning: The frame.append method is deprecated and will be removed from pandas in a future version. Use pandas.concat instead.\n",
      "  soap = soap.append(pd.DataFrame(np.array(this_soap).\n",
      "/home/huan/miniconda3/envs/tf/lib/python3.9/site-packages/matsml-1.0.1-py3.9.egg/matsml/fingerprint.py:417: FutureWarning: The frame.append method is deprecated and will be removed from pandas in a future version. Use pandas.concat instead.\n",
      "  soap = soap.append(pd.DataFrame(np.array(this_soap).\n"
     ]
    },
    {
     "name": "stdout",
     "output_type": "stream",
     "text": [
      "    [==============================                    ] 60%"
     ]
    },
    {
     "name": "stderr",
     "output_type": "stream",
     "text": [
      "/home/huan/miniconda3/envs/tf/lib/python3.9/site-packages/matsml-1.0.1-py3.9.egg/matsml/fingerprint.py:417: FutureWarning: The frame.append method is deprecated and will be removed from pandas in a future version. Use pandas.concat instead.\n",
      "  soap = soap.append(pd.DataFrame(np.array(this_soap).\n",
      "/home/huan/miniconda3/envs/tf/lib/python3.9/site-packages/matsml-1.0.1-py3.9.egg/matsml/fingerprint.py:417: FutureWarning: The frame.append method is deprecated and will be removed from pandas in a future version. Use pandas.concat instead.\n",
      "  soap = soap.append(pd.DataFrame(np.array(this_soap).\n",
      "/home/huan/miniconda3/envs/tf/lib/python3.9/site-packages/matsml-1.0.1-py3.9.egg/matsml/fingerprint.py:417: FutureWarning: The frame.append method is deprecated and will be removed from pandas in a future version. Use pandas.concat instead.\n",
      "  soap = soap.append(pd.DataFrame(np.array(this_soap).\n",
      "/home/huan/miniconda3/envs/tf/lib/python3.9/site-packages/matsml-1.0.1-py3.9.egg/matsml/fingerprint.py:417: FutureWarning: The frame.append method is deprecated and will be removed from pandas in a future version. Use pandas.concat instead.\n",
      "  soap = soap.append(pd.DataFrame(np.array(this_soap).\n",
      "/home/huan/miniconda3/envs/tf/lib/python3.9/site-packages/matsml-1.0.1-py3.9.egg/matsml/fingerprint.py:417: FutureWarning: The frame.append method is deprecated and will be removed from pandas in a future version. Use pandas.concat instead.\n",
      "  soap = soap.append(pd.DataFrame(np.array(this_soap).\n",
      "/home/huan/miniconda3/envs/tf/lib/python3.9/site-packages/matsml-1.0.1-py3.9.egg/matsml/fingerprint.py:417: FutureWarning: The frame.append method is deprecated and will be removed from pandas in a future version. Use pandas.concat instead.\n",
      "  soap = soap.append(pd.DataFrame(np.array(this_soap).\n"
     ]
    },
    {
     "name": "stdout",
     "output_type": "stream",
     "text": [
      "    [================================                  ] 63%"
     ]
    },
    {
     "name": "stderr",
     "output_type": "stream",
     "text": [
      "/home/huan/miniconda3/envs/tf/lib/python3.9/site-packages/matsml-1.0.1-py3.9.egg/matsml/fingerprint.py:417: FutureWarning: The frame.append method is deprecated and will be removed from pandas in a future version. Use pandas.concat instead.\n",
      "  soap = soap.append(pd.DataFrame(np.array(this_soap).\n",
      "/home/huan/miniconda3/envs/tf/lib/python3.9/site-packages/matsml-1.0.1-py3.9.egg/matsml/fingerprint.py:417: FutureWarning: The frame.append method is deprecated and will be removed from pandas in a future version. Use pandas.concat instead.\n",
      "  soap = soap.append(pd.DataFrame(np.array(this_soap).\n",
      "/home/huan/miniconda3/envs/tf/lib/python3.9/site-packages/matsml-1.0.1-py3.9.egg/matsml/fingerprint.py:417: FutureWarning: The frame.append method is deprecated and will be removed from pandas in a future version. Use pandas.concat instead.\n",
      "  soap = soap.append(pd.DataFrame(np.array(this_soap).\n",
      "/home/huan/miniconda3/envs/tf/lib/python3.9/site-packages/matsml-1.0.1-py3.9.egg/matsml/fingerprint.py:417: FutureWarning: The frame.append method is deprecated and will be removed from pandas in a future version. Use pandas.concat instead.\n",
      "  soap = soap.append(pd.DataFrame(np.array(this_soap).\n",
      "/home/huan/miniconda3/envs/tf/lib/python3.9/site-packages/matsml-1.0.1-py3.9.egg/matsml/fingerprint.py:417: FutureWarning: The frame.append method is deprecated and will be removed from pandas in a future version. Use pandas.concat instead.\n",
      "  soap = soap.append(pd.DataFrame(np.array(this_soap).\n",
      "/home/huan/miniconda3/envs/tf/lib/python3.9/site-packages/matsml-1.0.1-py3.9.egg/matsml/fingerprint.py:417: FutureWarning: The frame.append method is deprecated and will be removed from pandas in a future version. Use pandas.concat instead.\n",
      "  soap = soap.append(pd.DataFrame(np.array(this_soap).\n",
      "/home/huan/miniconda3/envs/tf/lib/python3.9/site-packages/matsml-1.0.1-py3.9.egg/matsml/fingerprint.py:417: FutureWarning: The frame.append method is deprecated and will be removed from pandas in a future version. Use pandas.concat instead.\n",
      "  soap = soap.append(pd.DataFrame(np.array(this_soap).\n",
      "/home/huan/miniconda3/envs/tf/lib/python3.9/site-packages/matsml-1.0.1-py3.9.egg/matsml/fingerprint.py:417: FutureWarning: The frame.append method is deprecated and will be removed from pandas in a future version. Use pandas.concat instead.\n",
      "  soap = soap.append(pd.DataFrame(np.array(this_soap).\n"
     ]
    },
    {
     "name": "stdout",
     "output_type": "stream",
     "text": [
      "    [=================================                 ] 65%"
     ]
    },
    {
     "name": "stderr",
     "output_type": "stream",
     "text": [
      "/home/huan/miniconda3/envs/tf/lib/python3.9/site-packages/matsml-1.0.1-py3.9.egg/matsml/fingerprint.py:417: FutureWarning: The frame.append method is deprecated and will be removed from pandas in a future version. Use pandas.concat instead.\n",
      "  soap = soap.append(pd.DataFrame(np.array(this_soap).\n",
      "/home/huan/miniconda3/envs/tf/lib/python3.9/site-packages/matsml-1.0.1-py3.9.egg/matsml/fingerprint.py:417: FutureWarning: The frame.append method is deprecated and will be removed from pandas in a future version. Use pandas.concat instead.\n",
      "  soap = soap.append(pd.DataFrame(np.array(this_soap).\n",
      "/home/huan/miniconda3/envs/tf/lib/python3.9/site-packages/matsml-1.0.1-py3.9.egg/matsml/fingerprint.py:417: FutureWarning: The frame.append method is deprecated and will be removed from pandas in a future version. Use pandas.concat instead.\n",
      "  soap = soap.append(pd.DataFrame(np.array(this_soap).\n",
      "/home/huan/miniconda3/envs/tf/lib/python3.9/site-packages/matsml-1.0.1-py3.9.egg/matsml/fingerprint.py:417: FutureWarning: The frame.append method is deprecated and will be removed from pandas in a future version. Use pandas.concat instead.\n",
      "  soap = soap.append(pd.DataFrame(np.array(this_soap).\n",
      "/home/huan/miniconda3/envs/tf/lib/python3.9/site-packages/matsml-1.0.1-py3.9.egg/matsml/fingerprint.py:417: FutureWarning: The frame.append method is deprecated and will be removed from pandas in a future version. Use pandas.concat instead.\n",
      "  soap = soap.append(pd.DataFrame(np.array(this_soap).\n",
      "/home/huan/miniconda3/envs/tf/lib/python3.9/site-packages/matsml-1.0.1-py3.9.egg/matsml/fingerprint.py:417: FutureWarning: The frame.append method is deprecated and will be removed from pandas in a future version. Use pandas.concat instead.\n",
      "  soap = soap.append(pd.DataFrame(np.array(this_soap).\n",
      "/home/huan/miniconda3/envs/tf/lib/python3.9/site-packages/matsml-1.0.1-py3.9.egg/matsml/fingerprint.py:417: FutureWarning: The frame.append method is deprecated and will be removed from pandas in a future version. Use pandas.concat instead.\n",
      "  soap = soap.append(pd.DataFrame(np.array(this_soap).\n"
     ]
    },
    {
     "name": "stdout",
     "output_type": "stream",
     "text": [
      "    [==================================                ] 67%"
     ]
    },
    {
     "name": "stderr",
     "output_type": "stream",
     "text": [
      "/home/huan/miniconda3/envs/tf/lib/python3.9/site-packages/matsml-1.0.1-py3.9.egg/matsml/fingerprint.py:417: FutureWarning: The frame.append method is deprecated and will be removed from pandas in a future version. Use pandas.concat instead.\n",
      "  soap = soap.append(pd.DataFrame(np.array(this_soap).\n",
      "/home/huan/miniconda3/envs/tf/lib/python3.9/site-packages/matsml-1.0.1-py3.9.egg/matsml/fingerprint.py:417: FutureWarning: The frame.append method is deprecated and will be removed from pandas in a future version. Use pandas.concat instead.\n",
      "  soap = soap.append(pd.DataFrame(np.array(this_soap).\n",
      "/home/huan/miniconda3/envs/tf/lib/python3.9/site-packages/matsml-1.0.1-py3.9.egg/matsml/fingerprint.py:417: FutureWarning: The frame.append method is deprecated and will be removed from pandas in a future version. Use pandas.concat instead.\n",
      "  soap = soap.append(pd.DataFrame(np.array(this_soap).\n",
      "/home/huan/miniconda3/envs/tf/lib/python3.9/site-packages/matsml-1.0.1-py3.9.egg/matsml/fingerprint.py:417: FutureWarning: The frame.append method is deprecated and will be removed from pandas in a future version. Use pandas.concat instead.\n",
      "  soap = soap.append(pd.DataFrame(np.array(this_soap).\n",
      "/home/huan/miniconda3/envs/tf/lib/python3.9/site-packages/matsml-1.0.1-py3.9.egg/matsml/fingerprint.py:417: FutureWarning: The frame.append method is deprecated and will be removed from pandas in a future version. Use pandas.concat instead.\n",
      "  soap = soap.append(pd.DataFrame(np.array(this_soap).\n",
      "/home/huan/miniconda3/envs/tf/lib/python3.9/site-packages/matsml-1.0.1-py3.9.egg/matsml/fingerprint.py:417: FutureWarning: The frame.append method is deprecated and will be removed from pandas in a future version. Use pandas.concat instead.\n",
      "  soap = soap.append(pd.DataFrame(np.array(this_soap).\n"
     ]
    },
    {
     "name": "stdout",
     "output_type": "stream",
     "text": [
      "    [===================================               ] 69%"
     ]
    },
    {
     "name": "stderr",
     "output_type": "stream",
     "text": [
      "/home/huan/miniconda3/envs/tf/lib/python3.9/site-packages/matsml-1.0.1-py3.9.egg/matsml/fingerprint.py:417: FutureWarning: The frame.append method is deprecated and will be removed from pandas in a future version. Use pandas.concat instead.\n",
      "  soap = soap.append(pd.DataFrame(np.array(this_soap).\n",
      "/home/huan/miniconda3/envs/tf/lib/python3.9/site-packages/matsml-1.0.1-py3.9.egg/matsml/fingerprint.py:417: FutureWarning: The frame.append method is deprecated and will be removed from pandas in a future version. Use pandas.concat instead.\n",
      "  soap = soap.append(pd.DataFrame(np.array(this_soap).\n",
      "/home/huan/miniconda3/envs/tf/lib/python3.9/site-packages/matsml-1.0.1-py3.9.egg/matsml/fingerprint.py:417: FutureWarning: The frame.append method is deprecated and will be removed from pandas in a future version. Use pandas.concat instead.\n",
      "  soap = soap.append(pd.DataFrame(np.array(this_soap).\n",
      "/home/huan/miniconda3/envs/tf/lib/python3.9/site-packages/matsml-1.0.1-py3.9.egg/matsml/fingerprint.py:417: FutureWarning: The frame.append method is deprecated and will be removed from pandas in a future version. Use pandas.concat instead.\n",
      "  soap = soap.append(pd.DataFrame(np.array(this_soap).\n",
      "/home/huan/miniconda3/envs/tf/lib/python3.9/site-packages/matsml-1.0.1-py3.9.egg/matsml/fingerprint.py:417: FutureWarning: The frame.append method is deprecated and will be removed from pandas in a future version. Use pandas.concat instead.\n",
      "  soap = soap.append(pd.DataFrame(np.array(this_soap).\n",
      "/home/huan/miniconda3/envs/tf/lib/python3.9/site-packages/matsml-1.0.1-py3.9.egg/matsml/fingerprint.py:417: FutureWarning: The frame.append method is deprecated and will be removed from pandas in a future version. Use pandas.concat instead.\n",
      "  soap = soap.append(pd.DataFrame(np.array(this_soap).\n"
     ]
    },
    {
     "name": "stdout",
     "output_type": "stream",
     "text": [
      "    [===================================               ] 70%"
     ]
    },
    {
     "name": "stderr",
     "output_type": "stream",
     "text": [
      "/home/huan/miniconda3/envs/tf/lib/python3.9/site-packages/matsml-1.0.1-py3.9.egg/matsml/fingerprint.py:417: FutureWarning: The frame.append method is deprecated and will be removed from pandas in a future version. Use pandas.concat instead.\n",
      "  soap = soap.append(pd.DataFrame(np.array(this_soap).\n",
      "/home/huan/miniconda3/envs/tf/lib/python3.9/site-packages/matsml-1.0.1-py3.9.egg/matsml/fingerprint.py:417: FutureWarning: The frame.append method is deprecated and will be removed from pandas in a future version. Use pandas.concat instead.\n",
      "  soap = soap.append(pd.DataFrame(np.array(this_soap).\n",
      "/home/huan/miniconda3/envs/tf/lib/python3.9/site-packages/matsml-1.0.1-py3.9.egg/matsml/fingerprint.py:417: FutureWarning: The frame.append method is deprecated and will be removed from pandas in a future version. Use pandas.concat instead.\n",
      "  soap = soap.append(pd.DataFrame(np.array(this_soap).\n",
      "/home/huan/miniconda3/envs/tf/lib/python3.9/site-packages/matsml-1.0.1-py3.9.egg/matsml/fingerprint.py:417: FutureWarning: The frame.append method is deprecated and will be removed from pandas in a future version. Use pandas.concat instead.\n",
      "  soap = soap.append(pd.DataFrame(np.array(this_soap).\n",
      "/home/huan/miniconda3/envs/tf/lib/python3.9/site-packages/matsml-1.0.1-py3.9.egg/matsml/fingerprint.py:417: FutureWarning: The frame.append method is deprecated and will be removed from pandas in a future version. Use pandas.concat instead.\n",
      "  soap = soap.append(pd.DataFrame(np.array(this_soap).\n",
      "/home/huan/miniconda3/envs/tf/lib/python3.9/site-packages/matsml-1.0.1-py3.9.egg/matsml/fingerprint.py:417: FutureWarning: The frame.append method is deprecated and will be removed from pandas in a future version. Use pandas.concat instead.\n",
      "  soap = soap.append(pd.DataFrame(np.array(this_soap).\n",
      "/home/huan/miniconda3/envs/tf/lib/python3.9/site-packages/matsml-1.0.1-py3.9.egg/matsml/fingerprint.py:417: FutureWarning: The frame.append method is deprecated and will be removed from pandas in a future version. Use pandas.concat instead.\n",
      "  soap = soap.append(pd.DataFrame(np.array(this_soap).\n"
     ]
    },
    {
     "name": "stdout",
     "output_type": "stream",
     "text": [
      "    [=====================================             ] 73%"
     ]
    },
    {
     "name": "stderr",
     "output_type": "stream",
     "text": [
      "/home/huan/miniconda3/envs/tf/lib/python3.9/site-packages/matsml-1.0.1-py3.9.egg/matsml/fingerprint.py:417: FutureWarning: The frame.append method is deprecated and will be removed from pandas in a future version. Use pandas.concat instead.\n",
      "  soap = soap.append(pd.DataFrame(np.array(this_soap).\n",
      "/home/huan/miniconda3/envs/tf/lib/python3.9/site-packages/matsml-1.0.1-py3.9.egg/matsml/fingerprint.py:417: FutureWarning: The frame.append method is deprecated and will be removed from pandas in a future version. Use pandas.concat instead.\n",
      "  soap = soap.append(pd.DataFrame(np.array(this_soap).\n",
      "/home/huan/miniconda3/envs/tf/lib/python3.9/site-packages/matsml-1.0.1-py3.9.egg/matsml/fingerprint.py:417: FutureWarning: The frame.append method is deprecated and will be removed from pandas in a future version. Use pandas.concat instead.\n",
      "  soap = soap.append(pd.DataFrame(np.array(this_soap).\n",
      "/home/huan/miniconda3/envs/tf/lib/python3.9/site-packages/matsml-1.0.1-py3.9.egg/matsml/fingerprint.py:417: FutureWarning: The frame.append method is deprecated and will be removed from pandas in a future version. Use pandas.concat instead.\n",
      "  soap = soap.append(pd.DataFrame(np.array(this_soap).\n",
      "/home/huan/miniconda3/envs/tf/lib/python3.9/site-packages/matsml-1.0.1-py3.9.egg/matsml/fingerprint.py:417: FutureWarning: The frame.append method is deprecated and will be removed from pandas in a future version. Use pandas.concat instead.\n",
      "  soap = soap.append(pd.DataFrame(np.array(this_soap).\n",
      "/home/huan/miniconda3/envs/tf/lib/python3.9/site-packages/matsml-1.0.1-py3.9.egg/matsml/fingerprint.py:417: FutureWarning: The frame.append method is deprecated and will be removed from pandas in a future version. Use pandas.concat instead.\n",
      "  soap = soap.append(pd.DataFrame(np.array(this_soap).\n",
      "/home/huan/miniconda3/envs/tf/lib/python3.9/site-packages/matsml-1.0.1-py3.9.egg/matsml/fingerprint.py:417: FutureWarning: The frame.append method is deprecated and will be removed from pandas in a future version. Use pandas.concat instead.\n",
      "  soap = soap.append(pd.DataFrame(np.array(this_soap).\n",
      "/home/huan/miniconda3/envs/tf/lib/python3.9/site-packages/matsml-1.0.1-py3.9.egg/matsml/fingerprint.py:417: FutureWarning: The frame.append method is deprecated and will be removed from pandas in a future version. Use pandas.concat instead.\n",
      "  soap = soap.append(pd.DataFrame(np.array(this_soap).\n"
     ]
    },
    {
     "name": "stdout",
     "output_type": "stream",
     "text": [
      "    [======================================            ] 75%"
     ]
    },
    {
     "name": "stderr",
     "output_type": "stream",
     "text": [
      "/home/huan/miniconda3/envs/tf/lib/python3.9/site-packages/matsml-1.0.1-py3.9.egg/matsml/fingerprint.py:417: FutureWarning: The frame.append method is deprecated and will be removed from pandas in a future version. Use pandas.concat instead.\n",
      "  soap = soap.append(pd.DataFrame(np.array(this_soap).\n",
      "/home/huan/miniconda3/envs/tf/lib/python3.9/site-packages/matsml-1.0.1-py3.9.egg/matsml/fingerprint.py:417: FutureWarning: The frame.append method is deprecated and will be removed from pandas in a future version. Use pandas.concat instead.\n",
      "  soap = soap.append(pd.DataFrame(np.array(this_soap).\n",
      "/home/huan/miniconda3/envs/tf/lib/python3.9/site-packages/matsml-1.0.1-py3.9.egg/matsml/fingerprint.py:417: FutureWarning: The frame.append method is deprecated and will be removed from pandas in a future version. Use pandas.concat instead.\n",
      "  soap = soap.append(pd.DataFrame(np.array(this_soap).\n",
      "/home/huan/miniconda3/envs/tf/lib/python3.9/site-packages/matsml-1.0.1-py3.9.egg/matsml/fingerprint.py:417: FutureWarning: The frame.append method is deprecated and will be removed from pandas in a future version. Use pandas.concat instead.\n",
      "  soap = soap.append(pd.DataFrame(np.array(this_soap).\n",
      "/home/huan/miniconda3/envs/tf/lib/python3.9/site-packages/matsml-1.0.1-py3.9.egg/matsml/fingerprint.py:417: FutureWarning: The frame.append method is deprecated and will be removed from pandas in a future version. Use pandas.concat instead.\n",
      "  soap = soap.append(pd.DataFrame(np.array(this_soap).\n",
      "/home/huan/miniconda3/envs/tf/lib/python3.9/site-packages/matsml-1.0.1-py3.9.egg/matsml/fingerprint.py:417: FutureWarning: The frame.append method is deprecated and will be removed from pandas in a future version. Use pandas.concat instead.\n",
      "  soap = soap.append(pd.DataFrame(np.array(this_soap).\n",
      "/home/huan/miniconda3/envs/tf/lib/python3.9/site-packages/matsml-1.0.1-py3.9.egg/matsml/fingerprint.py:417: FutureWarning: The frame.append method is deprecated and will be removed from pandas in a future version. Use pandas.concat instead.\n",
      "  soap = soap.append(pd.DataFrame(np.array(this_soap).\n"
     ]
    },
    {
     "name": "stdout",
     "output_type": "stream",
     "text": [
      "    [=======================================           ] 77%"
     ]
    },
    {
     "name": "stderr",
     "output_type": "stream",
     "text": [
      "/home/huan/miniconda3/envs/tf/lib/python3.9/site-packages/matsml-1.0.1-py3.9.egg/matsml/fingerprint.py:417: FutureWarning: The frame.append method is deprecated and will be removed from pandas in a future version. Use pandas.concat instead.\n",
      "  soap = soap.append(pd.DataFrame(np.array(this_soap).\n",
      "/home/huan/miniconda3/envs/tf/lib/python3.9/site-packages/matsml-1.0.1-py3.9.egg/matsml/fingerprint.py:417: FutureWarning: The frame.append method is deprecated and will be removed from pandas in a future version. Use pandas.concat instead.\n",
      "  soap = soap.append(pd.DataFrame(np.array(this_soap).\n",
      "/home/huan/miniconda3/envs/tf/lib/python3.9/site-packages/matsml-1.0.1-py3.9.egg/matsml/fingerprint.py:417: FutureWarning: The frame.append method is deprecated and will be removed from pandas in a future version. Use pandas.concat instead.\n",
      "  soap = soap.append(pd.DataFrame(np.array(this_soap).\n",
      "/home/huan/miniconda3/envs/tf/lib/python3.9/site-packages/matsml-1.0.1-py3.9.egg/matsml/fingerprint.py:417: FutureWarning: The frame.append method is deprecated and will be removed from pandas in a future version. Use pandas.concat instead.\n",
      "  soap = soap.append(pd.DataFrame(np.array(this_soap).\n",
      "/home/huan/miniconda3/envs/tf/lib/python3.9/site-packages/matsml-1.0.1-py3.9.egg/matsml/fingerprint.py:417: FutureWarning: The frame.append method is deprecated and will be removed from pandas in a future version. Use pandas.concat instead.\n",
      "  soap = soap.append(pd.DataFrame(np.array(this_soap).\n",
      "/home/huan/miniconda3/envs/tf/lib/python3.9/site-packages/matsml-1.0.1-py3.9.egg/matsml/fingerprint.py:417: FutureWarning: The frame.append method is deprecated and will be removed from pandas in a future version. Use pandas.concat instead.\n",
      "  soap = soap.append(pd.DataFrame(np.array(this_soap).\n",
      "/home/huan/miniconda3/envs/tf/lib/python3.9/site-packages/matsml-1.0.1-py3.9.egg/matsml/fingerprint.py:417: FutureWarning: The frame.append method is deprecated and will be removed from pandas in a future version. Use pandas.concat instead.\n",
      "  soap = soap.append(pd.DataFrame(np.array(this_soap).\n",
      "/home/huan/miniconda3/envs/tf/lib/python3.9/site-packages/matsml-1.0.1-py3.9.egg/matsml/fingerprint.py:417: FutureWarning: The frame.append method is deprecated and will be removed from pandas in a future version. Use pandas.concat instead.\n",
      "  soap = soap.append(pd.DataFrame(np.array(this_soap).\n"
     ]
    },
    {
     "name": "stdout",
     "output_type": "stream",
     "text": [
      "    [========================================          ] 80%"
     ]
    },
    {
     "name": "stderr",
     "output_type": "stream",
     "text": [
      "/home/huan/miniconda3/envs/tf/lib/python3.9/site-packages/matsml-1.0.1-py3.9.egg/matsml/fingerprint.py:417: FutureWarning: The frame.append method is deprecated and will be removed from pandas in a future version. Use pandas.concat instead.\n",
      "  soap = soap.append(pd.DataFrame(np.array(this_soap).\n",
      "/home/huan/miniconda3/envs/tf/lib/python3.9/site-packages/matsml-1.0.1-py3.9.egg/matsml/fingerprint.py:417: FutureWarning: The frame.append method is deprecated and will be removed from pandas in a future version. Use pandas.concat instead.\n",
      "  soap = soap.append(pd.DataFrame(np.array(this_soap).\n",
      "/home/huan/miniconda3/envs/tf/lib/python3.9/site-packages/matsml-1.0.1-py3.9.egg/matsml/fingerprint.py:417: FutureWarning: The frame.append method is deprecated and will be removed from pandas in a future version. Use pandas.concat instead.\n",
      "  soap = soap.append(pd.DataFrame(np.array(this_soap).\n",
      "/home/huan/miniconda3/envs/tf/lib/python3.9/site-packages/matsml-1.0.1-py3.9.egg/matsml/fingerprint.py:417: FutureWarning: The frame.append method is deprecated and will be removed from pandas in a future version. Use pandas.concat instead.\n",
      "  soap = soap.append(pd.DataFrame(np.array(this_soap).\n",
      "/home/huan/miniconda3/envs/tf/lib/python3.9/site-packages/matsml-1.0.1-py3.9.egg/matsml/fingerprint.py:417: FutureWarning: The frame.append method is deprecated and will be removed from pandas in a future version. Use pandas.concat instead.\n",
      "  soap = soap.append(pd.DataFrame(np.array(this_soap).\n",
      "/home/huan/miniconda3/envs/tf/lib/python3.9/site-packages/matsml-1.0.1-py3.9.egg/matsml/fingerprint.py:417: FutureWarning: The frame.append method is deprecated and will be removed from pandas in a future version. Use pandas.concat instead.\n",
      "  soap = soap.append(pd.DataFrame(np.array(this_soap).\n",
      "/home/huan/miniconda3/envs/tf/lib/python3.9/site-packages/matsml-1.0.1-py3.9.egg/matsml/fingerprint.py:417: FutureWarning: The frame.append method is deprecated and will be removed from pandas in a future version. Use pandas.concat instead.\n",
      "  soap = soap.append(pd.DataFrame(np.array(this_soap).\n",
      "/home/huan/miniconda3/envs/tf/lib/python3.9/site-packages/matsml-1.0.1-py3.9.egg/matsml/fingerprint.py:417: FutureWarning: The frame.append method is deprecated and will be removed from pandas in a future version. Use pandas.concat instead.\n",
      "  soap = soap.append(pd.DataFrame(np.array(this_soap).\n"
     ]
    },
    {
     "name": "stdout",
     "output_type": "stream",
     "text": [
      "    [=========================================         ] 82%"
     ]
    },
    {
     "name": "stderr",
     "output_type": "stream",
     "text": [
      "/home/huan/miniconda3/envs/tf/lib/python3.9/site-packages/matsml-1.0.1-py3.9.egg/matsml/fingerprint.py:417: FutureWarning: The frame.append method is deprecated and will be removed from pandas in a future version. Use pandas.concat instead.\n",
      "  soap = soap.append(pd.DataFrame(np.array(this_soap).\n",
      "/home/huan/miniconda3/envs/tf/lib/python3.9/site-packages/matsml-1.0.1-py3.9.egg/matsml/fingerprint.py:417: FutureWarning: The frame.append method is deprecated and will be removed from pandas in a future version. Use pandas.concat instead.\n",
      "  soap = soap.append(pd.DataFrame(np.array(this_soap).\n",
      "/home/huan/miniconda3/envs/tf/lib/python3.9/site-packages/matsml-1.0.1-py3.9.egg/matsml/fingerprint.py:417: FutureWarning: The frame.append method is deprecated and will be removed from pandas in a future version. Use pandas.concat instead.\n",
      "  soap = soap.append(pd.DataFrame(np.array(this_soap).\n",
      "/home/huan/miniconda3/envs/tf/lib/python3.9/site-packages/matsml-1.0.1-py3.9.egg/matsml/fingerprint.py:417: FutureWarning: The frame.append method is deprecated and will be removed from pandas in a future version. Use pandas.concat instead.\n",
      "  soap = soap.append(pd.DataFrame(np.array(this_soap).\n",
      "/home/huan/miniconda3/envs/tf/lib/python3.9/site-packages/matsml-1.0.1-py3.9.egg/matsml/fingerprint.py:417: FutureWarning: The frame.append method is deprecated and will be removed from pandas in a future version. Use pandas.concat instead.\n",
      "  soap = soap.append(pd.DataFrame(np.array(this_soap).\n",
      "/home/huan/miniconda3/envs/tf/lib/python3.9/site-packages/matsml-1.0.1-py3.9.egg/matsml/fingerprint.py:417: FutureWarning: The frame.append method is deprecated and will be removed from pandas in a future version. Use pandas.concat instead.\n",
      "  soap = soap.append(pd.DataFrame(np.array(this_soap).\n",
      "/home/huan/miniconda3/envs/tf/lib/python3.9/site-packages/matsml-1.0.1-py3.9.egg/matsml/fingerprint.py:417: FutureWarning: The frame.append method is deprecated and will be removed from pandas in a future version. Use pandas.concat instead.\n",
      "  soap = soap.append(pd.DataFrame(np.array(this_soap).\n"
     ]
    },
    {
     "name": "stdout",
     "output_type": "stream",
     "text": [
      "    [==========================================        ] 84%"
     ]
    },
    {
     "name": "stderr",
     "output_type": "stream",
     "text": [
      "/home/huan/miniconda3/envs/tf/lib/python3.9/site-packages/matsml-1.0.1-py3.9.egg/matsml/fingerprint.py:417: FutureWarning: The frame.append method is deprecated and will be removed from pandas in a future version. Use pandas.concat instead.\n",
      "  soap = soap.append(pd.DataFrame(np.array(this_soap).\n",
      "/home/huan/miniconda3/envs/tf/lib/python3.9/site-packages/matsml-1.0.1-py3.9.egg/matsml/fingerprint.py:417: FutureWarning: The frame.append method is deprecated and will be removed from pandas in a future version. Use pandas.concat instead.\n",
      "  soap = soap.append(pd.DataFrame(np.array(this_soap).\n",
      "/home/huan/miniconda3/envs/tf/lib/python3.9/site-packages/matsml-1.0.1-py3.9.egg/matsml/fingerprint.py:417: FutureWarning: The frame.append method is deprecated and will be removed from pandas in a future version. Use pandas.concat instead.\n",
      "  soap = soap.append(pd.DataFrame(np.array(this_soap).\n",
      "/home/huan/miniconda3/envs/tf/lib/python3.9/site-packages/matsml-1.0.1-py3.9.egg/matsml/fingerprint.py:417: FutureWarning: The frame.append method is deprecated and will be removed from pandas in a future version. Use pandas.concat instead.\n",
      "  soap = soap.append(pd.DataFrame(np.array(this_soap).\n",
      "/home/huan/miniconda3/envs/tf/lib/python3.9/site-packages/matsml-1.0.1-py3.9.egg/matsml/fingerprint.py:417: FutureWarning: The frame.append method is deprecated and will be removed from pandas in a future version. Use pandas.concat instead.\n",
      "  soap = soap.append(pd.DataFrame(np.array(this_soap).\n",
      "/home/huan/miniconda3/envs/tf/lib/python3.9/site-packages/matsml-1.0.1-py3.9.egg/matsml/fingerprint.py:417: FutureWarning: The frame.append method is deprecated and will be removed from pandas in a future version. Use pandas.concat instead.\n",
      "  soap = soap.append(pd.DataFrame(np.array(this_soap).\n",
      "/home/huan/miniconda3/envs/tf/lib/python3.9/site-packages/matsml-1.0.1-py3.9.egg/matsml/fingerprint.py:417: FutureWarning: The frame.append method is deprecated and will be removed from pandas in a future version. Use pandas.concat instead.\n",
      "  soap = soap.append(pd.DataFrame(np.array(this_soap).\n"
     ]
    },
    {
     "name": "stdout",
     "output_type": "stream",
     "text": [
      "    [===========================================       ] 86%"
     ]
    },
    {
     "name": "stderr",
     "output_type": "stream",
     "text": [
      "/home/huan/miniconda3/envs/tf/lib/python3.9/site-packages/matsml-1.0.1-py3.9.egg/matsml/fingerprint.py:417: FutureWarning: The frame.append method is deprecated and will be removed from pandas in a future version. Use pandas.concat instead.\n",
      "  soap = soap.append(pd.DataFrame(np.array(this_soap).\n",
      "/home/huan/miniconda3/envs/tf/lib/python3.9/site-packages/matsml-1.0.1-py3.9.egg/matsml/fingerprint.py:417: FutureWarning: The frame.append method is deprecated and will be removed from pandas in a future version. Use pandas.concat instead.\n",
      "  soap = soap.append(pd.DataFrame(np.array(this_soap).\n",
      "/home/huan/miniconda3/envs/tf/lib/python3.9/site-packages/matsml-1.0.1-py3.9.egg/matsml/fingerprint.py:417: FutureWarning: The frame.append method is deprecated and will be removed from pandas in a future version. Use pandas.concat instead.\n",
      "  soap = soap.append(pd.DataFrame(np.array(this_soap).\n",
      "/home/huan/miniconda3/envs/tf/lib/python3.9/site-packages/matsml-1.0.1-py3.9.egg/matsml/fingerprint.py:417: FutureWarning: The frame.append method is deprecated and will be removed from pandas in a future version. Use pandas.concat instead.\n",
      "  soap = soap.append(pd.DataFrame(np.array(this_soap).\n",
      "/home/huan/miniconda3/envs/tf/lib/python3.9/site-packages/matsml-1.0.1-py3.9.egg/matsml/fingerprint.py:417: FutureWarning: The frame.append method is deprecated and will be removed from pandas in a future version. Use pandas.concat instead.\n",
      "  soap = soap.append(pd.DataFrame(np.array(this_soap).\n",
      "/home/huan/miniconda3/envs/tf/lib/python3.9/site-packages/matsml-1.0.1-py3.9.egg/matsml/fingerprint.py:417: FutureWarning: The frame.append method is deprecated and will be removed from pandas in a future version. Use pandas.concat instead.\n",
      "  soap = soap.append(pd.DataFrame(np.array(this_soap).\n",
      "/home/huan/miniconda3/envs/tf/lib/python3.9/site-packages/matsml-1.0.1-py3.9.egg/matsml/fingerprint.py:417: FutureWarning: The frame.append method is deprecated and will be removed from pandas in a future version. Use pandas.concat instead.\n",
      "  soap = soap.append(pd.DataFrame(np.array(this_soap).\n"
     ]
    },
    {
     "name": "stdout",
     "output_type": "stream",
     "text": [
      "    [=============================================     ] 89%"
     ]
    },
    {
     "name": "stderr",
     "output_type": "stream",
     "text": [
      "/home/huan/miniconda3/envs/tf/lib/python3.9/site-packages/matsml-1.0.1-py3.9.egg/matsml/fingerprint.py:417: FutureWarning: The frame.append method is deprecated and will be removed from pandas in a future version. Use pandas.concat instead.\n",
      "  soap = soap.append(pd.DataFrame(np.array(this_soap).\n",
      "/home/huan/miniconda3/envs/tf/lib/python3.9/site-packages/matsml-1.0.1-py3.9.egg/matsml/fingerprint.py:417: FutureWarning: The frame.append method is deprecated and will be removed from pandas in a future version. Use pandas.concat instead.\n",
      "  soap = soap.append(pd.DataFrame(np.array(this_soap).\n",
      "/home/huan/miniconda3/envs/tf/lib/python3.9/site-packages/matsml-1.0.1-py3.9.egg/matsml/fingerprint.py:417: FutureWarning: The frame.append method is deprecated and will be removed from pandas in a future version. Use pandas.concat instead.\n",
      "  soap = soap.append(pd.DataFrame(np.array(this_soap).\n",
      "/home/huan/miniconda3/envs/tf/lib/python3.9/site-packages/matsml-1.0.1-py3.9.egg/matsml/fingerprint.py:417: FutureWarning: The frame.append method is deprecated and will be removed from pandas in a future version. Use pandas.concat instead.\n",
      "  soap = soap.append(pd.DataFrame(np.array(this_soap).\n",
      "/home/huan/miniconda3/envs/tf/lib/python3.9/site-packages/matsml-1.0.1-py3.9.egg/matsml/fingerprint.py:417: FutureWarning: The frame.append method is deprecated and will be removed from pandas in a future version. Use pandas.concat instead.\n",
      "  soap = soap.append(pd.DataFrame(np.array(this_soap).\n",
      "/home/huan/miniconda3/envs/tf/lib/python3.9/site-packages/matsml-1.0.1-py3.9.egg/matsml/fingerprint.py:417: FutureWarning: The frame.append method is deprecated and will be removed from pandas in a future version. Use pandas.concat instead.\n",
      "  soap = soap.append(pd.DataFrame(np.array(this_soap).\n",
      "/home/huan/miniconda3/envs/tf/lib/python3.9/site-packages/matsml-1.0.1-py3.9.egg/matsml/fingerprint.py:417: FutureWarning: The frame.append method is deprecated and will be removed from pandas in a future version. Use pandas.concat instead.\n",
      "  soap = soap.append(pd.DataFrame(np.array(this_soap).\n"
     ]
    },
    {
     "name": "stdout",
     "output_type": "stream",
     "text": [
      "    [==============================================    ] 91%"
     ]
    },
    {
     "name": "stderr",
     "output_type": "stream",
     "text": [
      "/home/huan/miniconda3/envs/tf/lib/python3.9/site-packages/matsml-1.0.1-py3.9.egg/matsml/fingerprint.py:417: FutureWarning: The frame.append method is deprecated and will be removed from pandas in a future version. Use pandas.concat instead.\n",
      "  soap = soap.append(pd.DataFrame(np.array(this_soap).\n",
      "/home/huan/miniconda3/envs/tf/lib/python3.9/site-packages/matsml-1.0.1-py3.9.egg/matsml/fingerprint.py:417: FutureWarning: The frame.append method is deprecated and will be removed from pandas in a future version. Use pandas.concat instead.\n",
      "  soap = soap.append(pd.DataFrame(np.array(this_soap).\n",
      "/home/huan/miniconda3/envs/tf/lib/python3.9/site-packages/matsml-1.0.1-py3.9.egg/matsml/fingerprint.py:417: FutureWarning: The frame.append method is deprecated and will be removed from pandas in a future version. Use pandas.concat instead.\n",
      "  soap = soap.append(pd.DataFrame(np.array(this_soap).\n",
      "/home/huan/miniconda3/envs/tf/lib/python3.9/site-packages/matsml-1.0.1-py3.9.egg/matsml/fingerprint.py:417: FutureWarning: The frame.append method is deprecated and will be removed from pandas in a future version. Use pandas.concat instead.\n",
      "  soap = soap.append(pd.DataFrame(np.array(this_soap).\n",
      "/home/huan/miniconda3/envs/tf/lib/python3.9/site-packages/matsml-1.0.1-py3.9.egg/matsml/fingerprint.py:417: FutureWarning: The frame.append method is deprecated and will be removed from pandas in a future version. Use pandas.concat instead.\n",
      "  soap = soap.append(pd.DataFrame(np.array(this_soap).\n",
      "/home/huan/miniconda3/envs/tf/lib/python3.9/site-packages/matsml-1.0.1-py3.9.egg/matsml/fingerprint.py:417: FutureWarning: The frame.append method is deprecated and will be removed from pandas in a future version. Use pandas.concat instead.\n",
      "  soap = soap.append(pd.DataFrame(np.array(this_soap).\n",
      "/home/huan/miniconda3/envs/tf/lib/python3.9/site-packages/matsml-1.0.1-py3.9.egg/matsml/fingerprint.py:417: FutureWarning: The frame.append method is deprecated and will be removed from pandas in a future version. Use pandas.concat instead.\n",
      "  soap = soap.append(pd.DataFrame(np.array(this_soap).\n",
      "/home/huan/miniconda3/envs/tf/lib/python3.9/site-packages/matsml-1.0.1-py3.9.egg/matsml/fingerprint.py:417: FutureWarning: The frame.append method is deprecated and will be removed from pandas in a future version. Use pandas.concat instead.\n",
      "  soap = soap.append(pd.DataFrame(np.array(this_soap).\n"
     ]
    },
    {
     "name": "stdout",
     "output_type": "stream",
     "text": [
      "    [===============================================   ] 93%"
     ]
    },
    {
     "name": "stderr",
     "output_type": "stream",
     "text": [
      "/home/huan/miniconda3/envs/tf/lib/python3.9/site-packages/matsml-1.0.1-py3.9.egg/matsml/fingerprint.py:417: FutureWarning: The frame.append method is deprecated and will be removed from pandas in a future version. Use pandas.concat instead.\n",
      "  soap = soap.append(pd.DataFrame(np.array(this_soap).\n",
      "/home/huan/miniconda3/envs/tf/lib/python3.9/site-packages/matsml-1.0.1-py3.9.egg/matsml/fingerprint.py:417: FutureWarning: The frame.append method is deprecated and will be removed from pandas in a future version. Use pandas.concat instead.\n",
      "  soap = soap.append(pd.DataFrame(np.array(this_soap).\n",
      "/home/huan/miniconda3/envs/tf/lib/python3.9/site-packages/matsml-1.0.1-py3.9.egg/matsml/fingerprint.py:417: FutureWarning: The frame.append method is deprecated and will be removed from pandas in a future version. Use pandas.concat instead.\n",
      "  soap = soap.append(pd.DataFrame(np.array(this_soap).\n",
      "/home/huan/miniconda3/envs/tf/lib/python3.9/site-packages/matsml-1.0.1-py3.9.egg/matsml/fingerprint.py:417: FutureWarning: The frame.append method is deprecated and will be removed from pandas in a future version. Use pandas.concat instead.\n",
      "  soap = soap.append(pd.DataFrame(np.array(this_soap).\n",
      "/home/huan/miniconda3/envs/tf/lib/python3.9/site-packages/matsml-1.0.1-py3.9.egg/matsml/fingerprint.py:417: FutureWarning: The frame.append method is deprecated and will be removed from pandas in a future version. Use pandas.concat instead.\n",
      "  soap = soap.append(pd.DataFrame(np.array(this_soap).\n",
      "/home/huan/miniconda3/envs/tf/lib/python3.9/site-packages/matsml-1.0.1-py3.9.egg/matsml/fingerprint.py:417: FutureWarning: The frame.append method is deprecated and will be removed from pandas in a future version. Use pandas.concat instead.\n",
      "  soap = soap.append(pd.DataFrame(np.array(this_soap).\n",
      "/home/huan/miniconda3/envs/tf/lib/python3.9/site-packages/matsml-1.0.1-py3.9.egg/matsml/fingerprint.py:417: FutureWarning: The frame.append method is deprecated and will be removed from pandas in a future version. Use pandas.concat instead.\n",
      "  soap = soap.append(pd.DataFrame(np.array(this_soap).\n"
     ]
    },
    {
     "name": "stdout",
     "output_type": "stream",
     "text": [
      "    [================================================  ] 95%"
     ]
    },
    {
     "name": "stderr",
     "output_type": "stream",
     "text": [
      "/home/huan/miniconda3/envs/tf/lib/python3.9/site-packages/matsml-1.0.1-py3.9.egg/matsml/fingerprint.py:417: FutureWarning: The frame.append method is deprecated and will be removed from pandas in a future version. Use pandas.concat instead.\n",
      "  soap = soap.append(pd.DataFrame(np.array(this_soap).\n",
      "/home/huan/miniconda3/envs/tf/lib/python3.9/site-packages/matsml-1.0.1-py3.9.egg/matsml/fingerprint.py:417: FutureWarning: The frame.append method is deprecated and will be removed from pandas in a future version. Use pandas.concat instead.\n",
      "  soap = soap.append(pd.DataFrame(np.array(this_soap).\n",
      "/home/huan/miniconda3/envs/tf/lib/python3.9/site-packages/matsml-1.0.1-py3.9.egg/matsml/fingerprint.py:417: FutureWarning: The frame.append method is deprecated and will be removed from pandas in a future version. Use pandas.concat instead.\n",
      "  soap = soap.append(pd.DataFrame(np.array(this_soap).\n",
      "/home/huan/miniconda3/envs/tf/lib/python3.9/site-packages/matsml-1.0.1-py3.9.egg/matsml/fingerprint.py:417: FutureWarning: The frame.append method is deprecated and will be removed from pandas in a future version. Use pandas.concat instead.\n",
      "  soap = soap.append(pd.DataFrame(np.array(this_soap).\n",
      "/home/huan/miniconda3/envs/tf/lib/python3.9/site-packages/matsml-1.0.1-py3.9.egg/matsml/fingerprint.py:417: FutureWarning: The frame.append method is deprecated and will be removed from pandas in a future version. Use pandas.concat instead.\n",
      "  soap = soap.append(pd.DataFrame(np.array(this_soap).\n",
      "/home/huan/miniconda3/envs/tf/lib/python3.9/site-packages/matsml-1.0.1-py3.9.egg/matsml/fingerprint.py:417: FutureWarning: The frame.append method is deprecated and will be removed from pandas in a future version. Use pandas.concat instead.\n",
      "  soap = soap.append(pd.DataFrame(np.array(this_soap).\n",
      "/home/huan/miniconda3/envs/tf/lib/python3.9/site-packages/matsml-1.0.1-py3.9.egg/matsml/fingerprint.py:417: FutureWarning: The frame.append method is deprecated and will be removed from pandas in a future version. Use pandas.concat instead.\n",
      "  soap = soap.append(pd.DataFrame(np.array(this_soap).\n"
     ]
    },
    {
     "name": "stdout",
     "output_type": "stream",
     "text": [
      "    [================================================= ] 97%"
     ]
    },
    {
     "name": "stderr",
     "output_type": "stream",
     "text": [
      "/home/huan/miniconda3/envs/tf/lib/python3.9/site-packages/matsml-1.0.1-py3.9.egg/matsml/fingerprint.py:417: FutureWarning: The frame.append method is deprecated and will be removed from pandas in a future version. Use pandas.concat instead.\n",
      "  soap = soap.append(pd.DataFrame(np.array(this_soap).\n",
      "/home/huan/miniconda3/envs/tf/lib/python3.9/site-packages/matsml-1.0.1-py3.9.egg/matsml/fingerprint.py:417: FutureWarning: The frame.append method is deprecated and will be removed from pandas in a future version. Use pandas.concat instead.\n",
      "  soap = soap.append(pd.DataFrame(np.array(this_soap).\n",
      "/home/huan/miniconda3/envs/tf/lib/python3.9/site-packages/matsml-1.0.1-py3.9.egg/matsml/fingerprint.py:417: FutureWarning: The frame.append method is deprecated and will be removed from pandas in a future version. Use pandas.concat instead.\n",
      "  soap = soap.append(pd.DataFrame(np.array(this_soap).\n",
      "/home/huan/miniconda3/envs/tf/lib/python3.9/site-packages/matsml-1.0.1-py3.9.egg/matsml/fingerprint.py:417: FutureWarning: The frame.append method is deprecated and will be removed from pandas in a future version. Use pandas.concat instead.\n",
      "  soap = soap.append(pd.DataFrame(np.array(this_soap).\n",
      "/home/huan/miniconda3/envs/tf/lib/python3.9/site-packages/matsml-1.0.1-py3.9.egg/matsml/fingerprint.py:417: FutureWarning: The frame.append method is deprecated and will be removed from pandas in a future version. Use pandas.concat instead.\n",
      "  soap = soap.append(pd.DataFrame(np.array(this_soap).\n",
      "/home/huan/miniconda3/envs/tf/lib/python3.9/site-packages/matsml-1.0.1-py3.9.egg/matsml/fingerprint.py:417: FutureWarning: The frame.append method is deprecated and will be removed from pandas in a future version. Use pandas.concat instead.\n",
      "  soap = soap.append(pd.DataFrame(np.array(this_soap).\n",
      "/home/huan/miniconda3/envs/tf/lib/python3.9/site-packages/matsml-1.0.1-py3.9.egg/matsml/fingerprint.py:417: FutureWarning: The frame.append method is deprecated and will be removed from pandas in a future version. Use pandas.concat instead.\n",
      "  soap = soap.append(pd.DataFrame(np.array(this_soap).\n"
     ]
    },
    {
     "name": "stdout",
     "output_type": "stream",
     "text": [
      "    [==================================================] 100%"
     ]
    },
    {
     "name": "stderr",
     "output_type": "stream",
     "text": [
      "/home/huan/miniconda3/envs/tf/lib/python3.9/site-packages/matsml-1.0.1-py3.9.egg/matsml/fingerprint.py:417: FutureWarning: The frame.append method is deprecated and will be removed from pandas in a future version. Use pandas.concat instead.\n",
      "  soap = soap.append(pd.DataFrame(np.array(this_soap).\n",
      "/home/huan/miniconda3/envs/tf/lib/python3.9/site-packages/matsml-1.0.1-py3.9.egg/matsml/fingerprint.py:417: FutureWarning: The frame.append method is deprecated and will be removed from pandas in a future version. Use pandas.concat instead.\n",
      "  soap = soap.append(pd.DataFrame(np.array(this_soap).\n",
      "/home/huan/miniconda3/envs/tf/lib/python3.9/site-packages/matsml-1.0.1-py3.9.egg/matsml/fingerprint.py:417: FutureWarning: The frame.append method is deprecated and will be removed from pandas in a future version. Use pandas.concat instead.\n",
      "  soap = soap.append(pd.DataFrame(np.array(this_soap).\n",
      "/home/huan/miniconda3/envs/tf/lib/python3.9/site-packages/matsml-1.0.1-py3.9.egg/matsml/fingerprint.py:417: FutureWarning: The frame.append method is deprecated and will be removed from pandas in a future version. Use pandas.concat instead.\n",
      "  soap = soap.append(pd.DataFrame(np.array(this_soap).\n",
      "/home/huan/miniconda3/envs/tf/lib/python3.9/site-packages/matsml-1.0.1-py3.9.egg/matsml/fingerprint.py:417: FutureWarning: The frame.append method is deprecated and will be removed from pandas in a future version. Use pandas.concat instead.\n",
      "  soap = soap.append(pd.DataFrame(np.array(this_soap).\n",
      "/home/huan/miniconda3/envs/tf/lib/python3.9/site-packages/matsml-1.0.1-py3.9.egg/matsml/fingerprint.py:417: FutureWarning: The frame.append method is deprecated and will be removed from pandas in a future version. Use pandas.concat instead.\n",
      "  soap = soap.append(pd.DataFrame(np.array(this_soap).\n",
      "/home/huan/miniconda3/envs/tf/lib/python3.9/site-packages/matsml-1.0.1-py3.9.egg/matsml/fingerprint.py:417: FutureWarning: The frame.append method is deprecated and will be removed from pandas in a future version. Use pandas.concat instead.\n",
      "  soap = soap.append(pd.DataFrame(np.array(this_soap).\n"
     ]
    },
    {
     "name": "stdout",
     "output_type": "stream",
     "text": [
      "    [==================================================] 100%\n"
     ]
    },
    {
     "name": "stderr",
     "output_type": "stream",
     "text": [
      "/home/huan/miniconda3/envs/tf/lib/python3.9/site-packages/matsml-1.0.1-py3.9.egg/matsml/fingerprint.py:417: FutureWarning: The frame.append method is deprecated and will be removed from pandas in a future version. Use pandas.concat instead.\n",
      "  soap = soap.append(pd.DataFrame(np.array(this_soap).\n",
      "/home/huan/miniconda3/envs/tf/lib/python3.9/site-packages/matsml-1.0.1-py3.9.egg/matsml/fingerprint.py:417: FutureWarning: The frame.append method is deprecated and will be removed from pandas in a future version. Use pandas.concat instead.\n",
      "  soap = soap.append(pd.DataFrame(np.array(this_soap).\n",
      "/home/huan/miniconda3/envs/tf/lib/python3.9/site-packages/matsml-1.0.1-py3.9.egg/matsml/fingerprint.py:417: FutureWarning: The frame.append method is deprecated and will be removed from pandas in a future version. Use pandas.concat instead.\n",
      "  soap = soap.append(pd.DataFrame(np.array(this_soap).\n"
     ]
    },
    {
     "name": "stdout",
     "output_type": "stream",
     "text": [
      "  Done fingerprinting, results saved in fp_crystals_MgSi_soap.csv\n"
     ]
    }
   ],
   "source": [
    "import pandas as pd\n",
    "from matsml.fingerprint import Fingerprint\n",
    "\n",
    "summary=os.path.join(os.getcwd(),'crystals_MgSi/summary.csv')\n",
    "data_loc=os.path.join(os.getcwd(),'crystals_MgSi')\n",
    "fp_dim=20                              # intended fingerprint dimensionality\n",
    "verbosity=0                            # verbosity, 0 or 1\n",
    "\n",
    "# Edwald sum matrix\n",
    "data_params_pesm={'summary':summary,'data_loc':data_loc,'fp_file':'fp_crystals_MgSi_pesm.csv',\n",
    "    'fp_type':'pesm_crystals','fp_dim':fp_dim,'verbosity':verbosity}\n",
    "\n",
    "fp_pesm=Fingerprint(data_params_pesm)\n",
    "fp_pesm.get_fingerprint()\n",
    "\n",
    "# SOAP\n",
    "data_params_soap={'summary':summary,'data_loc':data_loc,'fp_file':'fp_crystals_MgSi_soap.csv',\n",
    "    'fp_type':'soap_crystals','fp_dim':fp_dim,'verbosity':verbosity}\n",
    "fp_pesm=Fingerprint(data_params_soap)\n",
    "fp_pesm.get_fingerprint()"
   ]
  },
  {
   "cell_type": "markdown",
   "metadata": {},
   "source": [
    "__The fingerprinting step maybe a bit slow for a tutorial because we need to set n_atoms_max=28, which results in quite large Ewald sum matricies. A version of fingerprinted data can also be obtained in case you want to skip this step.__"
   ]
  },
  {
   "cell_type": "code",
   "execution_count": 3,
   "metadata": {},
   "outputs": [
    {
     "name": "stdout",
     "output_type": "stream",
     "text": [
      "  Load requested dataset(s)\n",
      "  Data saved in fp_crystals_MgSi_soap.csv.gz\n",
      "  Data saved in fp_crystals_MgSi_pesm.csv.gz\n",
      "True\n",
      "True\n"
     ]
    }
   ],
   "source": [
    "from matsml.data import Datasets\n",
    "import os\n",
    "import pandas as pd\n",
    "\n",
    "# Load data\n",
    "data=Datasets(ds_soap='fp_crystals_MgSi_soap', ds_pesm='fp_crystals_MgSi_pesm')\n",
    "data.load_dataset()\n",
    "\n",
    "print (os.path.isfile('fp_crystals_MgSi_soap.csv.gz'))\n",
    "print (os.path.isfile('fp_crystals_MgSi_pesm.csv.gz'))"
   ]
  },
  {
   "cell_type": "markdown",
   "metadata": {},
   "source": [
    "### 3. Train several ML models with two fingerprint files just created"
   ]
  },
  {
   "cell_type": "code",
   "execution_count": 4,
   "metadata": {},
   "outputs": [],
   "source": [
    "# data parameters for learning\n",
    "\n",
    "id_col=['id']                              # this is id column in the fingerprint data\n",
    "y_cols=['target']                          # this is y columns \n",
    "comment_cols=[]                            # other columns that are not id, not x, nor y columns\n",
    "n_trains=0.9                               # 90% for training, 15% for validating\n",
    "sampling='random'                          # way of train/test spliting. Random and more\n",
    "x_scaling='minmax'                         \n",
    "y_scaling='minmax'\n",
    "\n",
    "data_params_pesm={'data_file':'fp_crystals_MgSi_pesm.csv','id_col':id_col,'y_cols':y_cols,\n",
    "    'comment_cols':comment_cols,'y_scaling':y_scaling,'x_scaling':x_scaling,'sampling':sampling, \n",
    "    'n_trains':n_trains}\n",
    "\n",
    "data_params_soap={'data_file':'fp_crystals_MgSi_soap.csv','id_col':id_col,'y_cols':y_cols,\n",
    "    'comment_cols':comment_cols,'y_scaling':y_scaling,'x_scaling':x_scaling,'sampling':sampling, \n",
    "    'n_trains':n_trains}"
   ]
  },
  {
   "cell_type": "markdown",
   "metadata": {},
   "source": [
    "#### 3a. Fully-connected NeuralNet"
   ]
  },
  {
   "cell_type": "code",
   "execution_count": 5,
   "metadata": {},
   "outputs": [
    {
     "name": "stdout",
     "output_type": "stream",
     "text": [
      "  \n",
      "  Checking parameters\n",
      "    all passed                   True\n",
      " \n",
      "  Learning fingerprinted/featured data\n",
      "    algorithm                    fully connected NeuralNet w/ TensorFlow\n",
      "    layers                       [4, 4]\n",
      "    activ_funct                  selu\n",
      "    epochs                       2000\n",
      "    optimizer                    nadam\n",
      "    nfold_cv                     5\n",
      "  Read data\n",
      "    data file                    fp_crystals_MgSi_pesm.csv\n",
      "    data size                    329\n",
      "    training size                90.0  %\n",
      "    test size                    10.0  %\n",
      "    x dimensionality             19\n",
      "    y dimensionality             1\n",
      "    y label(s)                   ['target']\n",
      "  Scaling x                      minmax\n",
      "    xscaler saved in             xscaler.pkl\n",
      "  Scaling y                      minmax\n",
      "  Prepare train/test sets        random\n",
      "  Building model                 FCNN\n",
      "  Training model w/ cross validation\n",
      "    cv,rmse_train,rmse_test,rmse_opt: 0 0.061375 0.074022 0.074022\n",
      "    cv,rmse_train,rmse_test,rmse_opt: 1 0.053736 0.080186 0.074022\n",
      "    cv,rmse_train,rmse_test,rmse_opt: 2 0.052714 0.063993 0.063993\n",
      "    cv,rmse_train,rmse_test,rmse_opt: 3 0.052870 0.059197 0.059197\n",
      "    cv,rmse_train,rmse_test,rmse_opt: 4 0.047305 0.078125 0.059197\n",
      "    Optimal ncv:  3 ; optimal NET saved\n",
      "  FCNN trained, now make predictions & invert scaling\n",
      "    unscaling y: minmax\n",
      "       rmse training     target           5.591013\n",
      "    unscaling y: minmax\n",
      "       rmse test         target           19.521175\n",
      "  Predictions made & saved in \"training.csv\" & \"test.csv\"\n",
      "  Plot results in \"training.csv\" & \"test.csv\"\n",
      "    training, (rmse & R2) = ( 5.591 & 0.941 )\n",
      "    test, (rmse & R2) = ( 19.521 & 0.418 )\n",
      "    showing target\n"
     ]
    },
    {
     "data": {
      "image/png": "[encoded data removed]",
      "text/plain": [
       "<Figure size 432x432 with 1 Axes>"
      ]
     },
     "metadata": {
      "needs_background": "light"
     },
     "output_type": "display_data"
    },
    {
     "name": "stdout",
     "output_type": "stream",
     "text": [
      "  \n",
      "  Checking parameters\n",
      "    all passed                   True\n",
      " \n",
      "  Learning fingerprinted/featured data\n",
      "    algorithm                    fully connected NeuralNet w/ TensorFlow\n",
      "    layers                       [4, 4]\n",
      "    activ_funct                  selu\n",
      "    epochs                       2000\n",
      "    optimizer                    nadam\n",
      "    nfold_cv                     5\n",
      "  Read data\n",
      "    data file                    fp_crystals_MgSi_soap.csv\n",
      "    data size                    329\n",
      "    training size                90.0  %\n",
      "    test size                    10.0  %\n",
      "    x dimensionality             735\n",
      "    y dimensionality             1\n",
      "    y label(s)                   ['target']\n",
      "  Scaling x                      minmax\n",
      "    xscaler saved in             xscaler.pkl\n",
      "  Scaling y                      minmax\n",
      "  Prepare train/test sets        random\n",
      "  Building model                 FCNN\n",
      "  Training model w/ cross validation\n",
      "    cv,rmse_train,rmse_test,rmse_opt: 0 0.002674 0.004920 0.004920\n",
      "    cv,rmse_train,rmse_test,rmse_opt: 1 0.001872 0.006370 0.004920\n",
      "    cv,rmse_train,rmse_test,rmse_opt: 2 0.005066 0.006662 0.004920\n",
      "    cv,rmse_train,rmse_test,rmse_opt: 3 0.001261 0.002650 0.002650\n",
      "    cv,rmse_train,rmse_test,rmse_opt: 4 0.002931 0.004103 0.002650\n",
      "    Optimal ncv:  3 ; optimal NET saved\n",
      "  FCNN trained, now make predictions & invert scaling\n",
      "    unscaling y: minmax\n",
      "       rmse training     target           0.168719\n",
      "    unscaling y: minmax\n",
      "       rmse test         target           0.526062\n",
      "  Predictions made & saved in \"training.csv\" & \"test.csv\"\n",
      "  Plot results in \"training.csv\" & \"test.csv\"\n",
      "    training, (rmse & R2) = ( 0.169 & 1.000 )\n",
      "    test, (rmse & R2) = ( 0.526 & 1.000 )\n",
      "    showing target\n"
     ]
    },
    {
     "data": {
      "image/png": "[encoded data removed]",
      "text/plain": [
       "<Figure size 432x432 with 1 Axes>"
      ]
     },
     "metadata": {
      "needs_background": "light"
     },
     "output_type": "display_data"
    }
   ],
   "source": [
    "from matsml.models import FCNN\n",
    "\n",
    "# Model parameters\n",
    "layers=[4,4]                 # list of nodes in hidden layers\n",
    "epochs=2000                  # Epochs\n",
    "nfold_cv=5                   # Number of folds for cross validation\n",
    "use_bias=True                # Use bias term or not\n",
    "model_file='model_nn.pkl'    # Name of the model file to be created\n",
    "verbosity=0                  # Verbosity, 0 or 1\n",
    "batch_size=32                # Default = 32\n",
    "loss='mse'                   \n",
    "activ_funct='selu'           # Options: \"tanh\", \"relu\", and more\n",
    "optimizer='nadam'            # options: \"Nadam\", \"Adam\", and more\n",
    "\n",
    "model_params={'layers':layers,'activ_funct':activ_funct,'epochs':epochs,'nfold_cv':nfold_cv,\n",
    "    'optimizer':optimizer,'use_bias':use_bias,'model_file':model_file,'loss':loss,\n",
    "    'batch_size':batch_size,'verbosity':verbosity,'rmse_cv':False}\n",
    "\n",
    "# PESM\n",
    "model=FCNN(data_params=data_params_pesm,model_params=model_params)\n",
    "model.train()\n",
    "model.plot(pdf_output=False)\n",
    "\n",
    "# SOAP\n",
    "model=FCNN(data_params=data_params_soap,model_params=model_params)\n",
    "model.train()\n",
    "model.plot(pdf_output=False)"
   ]
  },
  {
   "cell_type": "markdown",
   "metadata": {},
   "source": [
    "#### 3b. KRR"
   ]
  },
  {
   "cell_type": "code",
   "execution_count": 6,
   "metadata": {},
   "outputs": [
    {
     "name": "stdout",
     "output_type": "stream",
     "text": [
      "  \n",
      "  Checking parameters\n",
      "    all passed                   True\n",
      " \n",
      "  Learning fingerprinted/featured data\n",
      "    algorithm                    kernel ridge regression w/ scikit-learn\n",
      "    kernel                       rbf\n",
      "    nfold_cv                     5\n",
      "    alpha                        [-2, 5]\n",
      "    gamma                        [-2, 5]\n",
      "    number of alpha/gamma grids  10\n",
      "  Read data\n",
      "    data file                    fp_crystals_MgSi_pesm.csv\n",
      "    data size                    329\n",
      "    training size                90.0  %\n",
      "    test size                    10.0  %\n",
      "    x dimensionality             19\n",
      "    y dimensionality             1\n",
      "    y label(s)                   ['target']\n",
      "  Scaling x                      minmax\n",
      "    xscaler saved in             xscaler.pkl\n",
      "  Scaling y                      minmax\n",
      "  Prepare train/test sets        random\n",
      "  Building model                 KRR\n",
      "  Training model w/ cross validation\n",
      "  KRR model trained, now make predictions & invert scaling\n",
      "    unscaling y: minmax\n",
      "       rmse training     target           7.482715\n",
      "    unscaling y: minmax\n",
      "       rmse test         target           9.442711\n",
      "  Predictions made & saved in \"training.csv\" & \"test.csv\"\n",
      "  Plot results in \"training.csv\" & \"test.csv\"\n",
      "    training, (rmse & R2) = ( 7.483 & 0.893 )\n",
      "    test, (rmse & R2) = ( 9.443 & 0.864 )\n",
      "    showing target\n"
     ]
    },
    {
     "data": {
      "image/png": "[encoded data removed]",
      "text/plain": [
       "<Figure size 432x432 with 1 Axes>"
      ]
     },
     "metadata": {
      "needs_background": "light"
     },
     "output_type": "display_data"
    },
    {
     "name": "stdout",
     "output_type": "stream",
     "text": [
      "  \n",
      "  Checking parameters\n",
      "    all passed                   True\n",
      " \n",
      "  Learning fingerprinted/featured data\n",
      "    algorithm                    kernel ridge regression w/ scikit-learn\n",
      "    kernel                       rbf\n",
      "    nfold_cv                     5\n",
      "    alpha                        [-2, 5]\n",
      "    gamma                        [-2, 5]\n",
      "    number of alpha/gamma grids  10\n",
      "  Read data\n",
      "    data file                    fp_crystals_MgSi_soap.csv\n",
      "    data size                    329\n",
      "    training size                90.0  %\n",
      "    test size                    10.0  %\n",
      "    x dimensionality             735\n",
      "    y dimensionality             1\n",
      "    y label(s)                   ['target']\n",
      "  Scaling x                      minmax\n",
      "    xscaler saved in             xscaler.pkl\n",
      "  Scaling y                      minmax\n",
      "  Prepare train/test sets        random\n",
      "  Building model                 KRR\n",
      "  Training model w/ cross validation\n",
      "  KRR model trained, now make predictions & invert scaling\n",
      "    unscaling y: minmax\n",
      "       rmse training     target           0.40349\n",
      "    unscaling y: minmax\n",
      "       rmse test         target           1.397102\n",
      "  Predictions made & saved in \"training.csv\" & \"test.csv\"\n",
      "  Plot results in \"training.csv\" & \"test.csv\"\n",
      "    training, (rmse & R2) = ( 0.403 & 1.000 )\n",
      "    test, (rmse & R2) = ( 1.397 & 0.997 )\n",
      "    showing target\n"
     ]
    },
    {
     "data": {
      "image/png": "[encoded data removed]",
      "text/plain": [
       "<Figure size 432x432 with 1 Axes>"
      ]
     },
     "metadata": {
      "needs_background": "light"
     },
     "output_type": "display_data"
    }
   ],
   "source": [
    "from matsml.models import KRR\n",
    "\n",
    "# Model parameters\n",
    "nfold_cv = 5                     # Number of folds for cross validation\n",
    "model_file = 'model_krr.pkl'     # Name of the model file to be created\n",
    "alpha = [-2,5]\n",
    "gamma = [-2,5]\n",
    "n_grids = 10\n",
    "kernel = 'rbf'\n",
    "\n",
    "model_params={'kernel':kernel,'nfold_cv':nfold_cv,'model_file':model_file,'alpha':alpha,\n",
    "    'gamma':gamma,'n_grids':n_grids}\n",
    "\n",
    "#PCM\n",
    "model = KRR(data_params=data_params_pesm,model_params=model_params)\n",
    "model.train()\n",
    "model.plot(pdf_output=False)\n",
    "\n",
    "#SOAP\n",
    "model = KRR(data_params=data_params_soap,model_params=model_params)\n",
    "model.train()\n",
    "model.plot(pdf_output=False)"
   ]
  },
  {
   "cell_type": "markdown",
   "metadata": {},
   "source": [
    "#### 3c. GPR"
   ]
  },
  {
   "cell_type": "code",
   "execution_count": 7,
   "metadata": {},
   "outputs": [
    {
     "name": "stdout",
     "output_type": "stream",
     "text": [
      "  \n",
      "  Checking parameters\n",
      "    all passed                   True\n",
      " \n",
      "  Learning fingerprinted/featured data\n",
      "    algorithm                    gaussian process regression w/ scikit-learn\n",
      "    kernel                       RBF\n",
      "    nfold_cv                     5\n",
      "    optimizer                    fmin_l_bfgs_b\n",
      "    n_restarts_optimizer         200\n",
      "    noise_lb                     0.1\n",
      "    noise_ub                     10\n",
      "    rmse_cv                      False\n",
      "  Read data\n",
      "    data file                    fp_crystals_MgSi_pesm.csv\n",
      "    data size                    329\n",
      "    training size                90.0  %\n",
      "    test size                    10.0  %\n",
      "    x dimensionality             19\n",
      "    y dimensionality             1\n",
      "    y label(s)                   ['target']\n",
      "  Scaling x                      minmax\n",
      "    xscaler saved in             xscaler.pkl\n",
      "  Scaling y                      minmax\n",
      "  Prepare train/test sets        random\n",
      "  Training model w/ cross validation\n",
      "    cv,rmse_train,rmse_test,rmse_opt: 0 0.073504 0.069303 0.069303\n",
      "    cv,rmse_train,rmse_test,rmse_opt: 1 0.070231 0.084163 0.069303\n",
      "    cv,rmse_train,rmse_test,rmse_opt: 2 0.069307 0.086828 0.069303\n",
      "    cv,rmse_train,rmse_test,rmse_opt: 3 0.075006 0.064651 0.064651\n",
      "    cv,rmse_train,rmse_test,rmse_opt: 4 0.071894 0.084572 0.064651\n",
      "  GPR model trained, now make predictions & invert scaling\n",
      "    unscaling y: minmax\n",
      "       rmse training     target           7.455885\n",
      "    unscaling y: minmax\n",
      "       rmse test         target           9.26823\n",
      "  Predictions made & saved in \"training.csv\" & \"test.csv\"\n",
      "  Plot results in \"training.csv\" & \"test.csv\"\n",
      "    training, (rmse & R2) = ( 7.456 & 0.894 )\n",
      "    test, (rmse & R2) = ( 9.268 & 0.869 )\n",
      "    showing target\n"
     ]
    },
    {
     "data": {
      "image/png": "[encoded data removed]",
      "text/plain": [
       "<Figure size 432x432 with 1 Axes>"
      ]
     },
     "metadata": {
      "needs_background": "light"
     },
     "output_type": "display_data"
    },
    {
     "name": "stdout",
     "output_type": "stream",
     "text": [
      "  \n",
      "  Checking parameters\n",
      "    all passed                   True\n",
      " \n",
      "  Learning fingerprinted/featured data\n",
      "    algorithm                    gaussian process regression w/ scikit-learn\n",
      "    kernel                       RBF\n",
      "    nfold_cv                     5\n",
      "    optimizer                    fmin_l_bfgs_b\n",
      "    n_restarts_optimizer         200\n",
      "    noise_lb                     0.1\n",
      "    noise_ub                     10\n",
      "    rmse_cv                      False\n",
      "  Read data\n",
      "    data file                    fp_crystals_MgSi_soap.csv\n",
      "    data size                    329\n",
      "    training size                90.0  %\n",
      "    test size                    10.0  %\n",
      "    x dimensionality             735\n",
      "    y dimensionality             1\n",
      "    y label(s)                   ['target']\n",
      "  Scaling x                      minmax\n",
      "    xscaler saved in             xscaler.pkl\n",
      "  Scaling y                      minmax\n",
      "  Prepare train/test sets        random\n",
      "  Training model w/ cross validation\n",
      "    cv,rmse_train,rmse_test,rmse_opt: 0 0.013932 0.019789 0.019789\n",
      "    cv,rmse_train,rmse_test,rmse_opt: 1 0.013962 0.016358 0.016358\n",
      "    cv,rmse_train,rmse_test,rmse_opt: 2 0.013488 0.013662 0.013662\n",
      "    cv,rmse_train,rmse_test,rmse_opt: 3 0.013453 0.013234 0.013234\n",
      "    cv,rmse_train,rmse_test,rmse_opt: 4 0.013587 0.015138 0.013234\n",
      "  GPR model trained, now make predictions & invert scaling\n",
      "    unscaling y: minmax\n",
      "       rmse training     target           1.242337\n",
      "    unscaling y: minmax\n",
      "       rmse test         target           1.248555\n",
      "  Predictions made & saved in \"training.csv\" & \"test.csv\"\n",
      "  Plot results in \"training.csv\" & \"test.csv\"\n",
      "    training, (rmse & R2) = ( 1.242 & 0.997 )\n",
      "    test, (rmse & R2) = ( 1.249 & 0.998 )\n",
      "    showing target\n"
     ]
    },
    {
     "data": {
      "image/png": "[encoded data removed]",
      "text/plain": [
       "<Figure size 432x432 with 1 Axes>"
      ]
     },
     "metadata": {
      "needs_background": "light"
     },
     "output_type": "display_data"
    }
   ],
   "source": [
    "from matsml.models import GPR\n",
    "\n",
    "# Model parameters\n",
    "nfold_cv=5                     # Number of folds for cross validation\n",
    "model_file='model_gpr.pkl'     # Name of the model file to be created\n",
    "verbosity=0\n",
    "rmse_cv=False\n",
    "n_restarts_optimizer=200\n",
    "\n",
    "model_params={'nfold_cv':nfold_cv,'n_restarts_optimizer':n_restarts_optimizer,'model_file':model_file,\n",
    "    'verbosity':verbosity,'rmse_cv':rmse_cv}\n",
    "\n",
    "#PCM\n",
    "model=GPR(data_params=data_params_pesm,model_params=model_params)\n",
    "model.train()\n",
    "model.plot(pdf_output=False)\n",
    "\n",
    "#SOAP\n",
    "model=GPR(data_params=data_params_soap,model_params=model_params)\n",
    "model.train()\n",
    "model.plot(pdf_output=False)"
   ]
  },
  {
   "cell_type": "code",
   "execution_count": null,
   "metadata": {},
   "outputs": [],
   "source": []
  }
 ],
 "metadata": {
  "kernelspec": {
   "display_name": "Python 3",
   "language": "python",
   "name": "python3"
  },
  "language_info": {
   "codemirror_mode": {
    "name": "ipython",
    "version": 3
   },
   "file_extension": ".py",
   "mimetype": "text/x-python",
   "name": "python",
   "nbconvert_exporter": "python",
   "pygments_lexer": "ipython3",
   "version": "3.9.7"
  }
 },
 "nbformat": 4,
 "nbformat_minor": 4
}
