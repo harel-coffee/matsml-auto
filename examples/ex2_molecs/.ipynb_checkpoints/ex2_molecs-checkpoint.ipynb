{
 "cells": [
  {
   "cell_type": "markdown",
   "metadata": {},
   "source": [
    "# Example 2: Fingerpring molecules data and learning energy \n",
    "\n",
    "#### Huan Tran\n",
    "\n",
    "The main objective of this example is to demonstrate a generic workflow of materials, involving (1) obtaining a small dataset of molecules and their energy, (2) fingerprint them, and (3) develop some ML models. "
   ]
  },
  {
   "cell_type": "markdown",
   "metadata": {},
   "source": [
    "### 1. Download a dataset\n",
    "The dataset contains 10,000 non-equilibrium structures of CH$_3$-NH-OH molecules, whose energy was computed using BigDFT package and HGH norm-conserving pseudopotentials. It is available at www.matsml.org."
   ]
  },
  {
   "cell_type": "code",
   "execution_count": 1,
   "metadata": {
    "scrolled": true
   },
   "outputs": [
    {
     "name": "stdout",
     "output_type": "stream",
     "text": [
      "  matsML, v1.0.1\n",
      "  *****\n",
      "  Load requested dataset(s)\n",
      "  Data saved in molecs_CH3NHOH\n",
      "              file_name      target\n",
      "0     CH3NHOH_00001.xyz -940.288539\n",
      "1     CH3NHOH_00002.xyz -940.580380\n",
      "2     CH3NHOH_00003.xyz -940.184809\n",
      "3     CH3NHOH_00004.xyz -940.460977\n",
      "4     CH3NHOH_00005.xyz -940.579457\n",
      "...                 ...         ...\n",
      "9994  CH3NHOH_09996.xyz -940.286083\n",
      "9995  CH3NHOH_09997.xyz -940.744461\n",
      "9996  CH3NHOH_09998.xyz -940.553979\n",
      "9997  CH3NHOH_09999.xyz -940.650902\n",
      "9998  CH3NHOH_10000.xyz -940.059079\n",
      "\n",
      "[9999 rows x 2 columns]\n"
     ]
    }
   ],
   "source": [
    "from matsml.data import Datasets\n",
    "import pandas as pd\n",
    "import os\n",
    "\n",
    "# Load a dataset\n",
    "dataset_name='molecs_CH3NHOH'\n",
    "data=Datasets(dataset_name=dataset_name)\n",
    "data.load_dataset()\n",
    "\n",
    "# have a look at the content\n",
    "print (pd.read_csv(os.path.join(os.getcwd(),str(dataset_name),'summary.csv')))"
   ]
  },
  {
   "cell_type": "markdown",
   "metadata": {},
   "source": [
    "### 2. Fingerprint the obtained data\n",
    "Two kinds of fingerprints will be demonstrated here\n",
    "\n",
    "1. Coulomb matrix (CM) [M. Rupp, A. Tkatchenko, K.-R. Müller, and O. Anatole von Lilienfeld, <em>Fast and accurate modeling of molecular atomization energies with machine learning</em>, Phys. Rev. Lett., 108, 058301 (2012)] is perhaps one of the earliest fingerprints used in materials informatics. It was defined as an $N\\times N$ matrix for a molecule of $N$ atoms. The key advantage of CM is that it is invariant under rotations and translations, required ro represent materials structure as a whole. However, its size depends on the molecule size, making it not directly usable for machine learning. Normally, the eigenvalues of these matricies are computed and sorted, and then zero padding is used to make fixed-size vectors. Here, we defined a projection of these Coulomb matricies onto a set of Gaussian functions, covering the entire range of the Coulomn matrix element values. The results are also a set of fixed-size fingerprints, which are ready for learning. Keyword for this fingerprint is __pcm_molecs__.\n",
    "\n",
    "2. Smooth Overlap of Atomic Positions (SOAP) [S. De, A. P. Bartók, G. Csányi, and M. Ceriotti, <em>Comparing molecules and solids across structural and alchemical space</em>, Phys. Chem. Chem. Phys. __18__, 13754 (2016)] is a more sophisticated fingerprint. Keyword for this fingerprint is __soap_molecs__."
   ]
  },
  {
   "cell_type": "code",
   "execution_count": 2,
   "metadata": {},
   "outputs": [
    {
     "name": "stdout",
     "output_type": "stream",
     "text": [
      "  Atomic structure fingerprinting\n",
      "    summary                      /home/huan/work/matsml/examples/ex2_molecs/molecs_CH3NHOH/summary.csv\n",
      "    data_loc                     /home/huan/work/matsml/examples/ex2_molecs/molecs_CH3NHOH/\n",
      "    fp_type                      pcm_molecs\n",
      "    fp_file                      fp_pcm.csv\n",
      "    fp_dim                       50\n",
      "    verbosity                    0\n",
      "  Read input\n",
      "    num_structs                  9999\n",
      "  Computing Coulomb matrix\n",
      "    [================================                  ] 63%"
     ]
    },
    {
     "name": "stderr",
     "output_type": "stream",
     "text": [
      "ERROR:root:Internal Python error in the inspect module.\n",
      "Below is the traceback from this internal error.\n",
      "\n"
     ]
    },
    {
     "name": "stdout",
     "output_type": "stream",
     "text": [
      "Traceback (most recent call last):\n",
      "  File \"/home/huan/miniconda3/envs/tf/lib/python3.9/site-packages/IPython/core/interactiveshell.py\", line 3457, in run_code\n",
      "    exec(code_obj, self.user_global_ns, self.user_ns)\n",
      "  File \"<ipython-input-2-b43c3d5ea618>\", line 13, in <module>\n",
      "    fp_pcm.get_fingerprint()\n",
      "  File \"/home/huan/miniconda3/envs/tf/lib/python3.9/site-packages/matsml-1.0.1-py3.9.egg/matsml/fingerprint.py\", line 81, in get_fingerprint\n",
      "    fp=self.get_pcm_dsc()\n",
      "  File \"/home/huan/miniconda3/envs/tf/lib/python3.9/site-packages/matsml-1.0.1-py3.9.egg/matsml/fingerprint.py\", line 316, in get_pcm_dsc\n",
      "    progress_bar(k,len(struct_df),'update')\n",
      "  File \"/home/huan/miniconda3/envs/tf/lib/python3.9/site-packages/matsml-1.0.1-py3.9.egg/matsml/io.py\", line 61, in progress_bar\n",
      "    sys.stdout.flush()\n",
      "  File \"/home/huan/miniconda3/envs/tf/lib/python3.9/site-packages/ipykernel/iostream.py\", line 350, in flush\n",
      "    if not evt.wait(self.flush_timeout):\n",
      "  File \"/home/huan/miniconda3/envs/tf/lib/python3.9/threading.py\", line 574, in wait\n",
      "    signaled = self._cond.wait(timeout)\n",
      "  File \"/home/huan/miniconda3/envs/tf/lib/python3.9/threading.py\", line 316, in wait\n",
      "    gotit = waiter.acquire(True, timeout)\n",
      "KeyboardInterrupt\n",
      "\n",
      "During handling of the above exception, another exception occurred:\n",
      "\n",
      "Traceback (most recent call last):\n",
      "  File \"/home/huan/miniconda3/envs/tf/lib/python3.9/site-packages/IPython/core/interactiveshell.py\", line 2077, in showtraceback\n",
      "    stb = value._render_traceback_()\n",
      "AttributeError: 'KeyboardInterrupt' object has no attribute '_render_traceback_'\n",
      "\n",
      "During handling of the above exception, another exception occurred:\n",
      "\n",
      "Traceback (most recent call last):\n",
      "  File \"/home/huan/miniconda3/envs/tf/lib/python3.9/site-packages/IPython/core/ultratb.py\", line 1101, in get_records\n",
      "    return _fixed_getinnerframes(etb, number_of_lines_of_context, tb_offset)\n",
      "  File \"/home/huan/miniconda3/envs/tf/lib/python3.9/site-packages/IPython/core/ultratb.py\", line 248, in wrapped\n",
      "    return f(*args, **kwargs)\n",
      "  File \"/home/huan/miniconda3/envs/tf/lib/python3.9/site-packages/IPython/core/ultratb.py\", line 281, in _fixed_getinnerframes\n",
      "    records = fix_frame_records_filenames(inspect.getinnerframes(etb, context))\n",
      "  File \"/home/huan/miniconda3/envs/tf/lib/python3.9/inspect.py\", line 1541, in getinnerframes\n",
      "    frameinfo = (tb.tb_frame,) + getframeinfo(tb, context)\n",
      "  File \"/home/huan/miniconda3/envs/tf/lib/python3.9/inspect.py\", line 1499, in getframeinfo\n",
      "    filename = getsourcefile(frame) or getfile(frame)\n",
      "  File \"/home/huan/miniconda3/envs/tf/lib/python3.9/inspect.py\", line 709, in getsourcefile\n",
      "    if getattr(getmodule(object, filename), '__loader__', None) is not None:\n",
      "  File \"/home/huan/miniconda3/envs/tf/lib/python3.9/inspect.py\", line 755, in getmodule\n",
      "    os.path.realpath(f)] = module.__name__\n",
      "  File \"/home/huan/miniconda3/envs/tf/lib/python3.9/posixpath.py\", line 392, in realpath\n",
      "    path, ok = _joinrealpath(filename[:0], filename, {})\n",
      "  File \"/home/huan/miniconda3/envs/tf/lib/python3.9/posixpath.py\", line 445, in _joinrealpath\n",
      "    return path, True\n",
      "KeyboardInterrupt\n"
     ]
    },
    {
     "ename": "TypeError",
     "evalue": "object of type 'NoneType' has no len()",
     "output_type": "error",
     "traceback": [
      "\u001b[0;31m---------------------------------------------------------------------------\u001b[0m",
      "\u001b[0;31mKeyboardInterrupt\u001b[0m                         Traceback (most recent call last)",
      "    \u001b[0;31m[... skipping hidden 1 frame]\u001b[0m\n",
      "\u001b[0;32m<ipython-input-2-b43c3d5ea618>\u001b[0m in \u001b[0;36m<module>\u001b[0;34m\u001b[0m\n\u001b[1;32m     12\u001b[0m \u001b[0mfp_pcm\u001b[0m\u001b[0;34m=\u001b[0m\u001b[0mFingerprint\u001b[0m\u001b[0;34m(\u001b[0m\u001b[0mdata_params_pcm\u001b[0m\u001b[0;34m)\u001b[0m\u001b[0;34m\u001b[0m\u001b[0;34m\u001b[0m\u001b[0m\n\u001b[0;32m---> 13\u001b[0;31m \u001b[0mfp_pcm\u001b[0m\u001b[0;34m.\u001b[0m\u001b[0mget_fingerprint\u001b[0m\u001b[0;34m(\u001b[0m\u001b[0;34m)\u001b[0m\u001b[0;34m\u001b[0m\u001b[0;34m\u001b[0m\u001b[0m\n\u001b[0m\u001b[1;32m     14\u001b[0m \u001b[0;34m\u001b[0m\u001b[0m\n",
      "\u001b[0;32m~/miniconda3/envs/tf/lib/python3.9/site-packages/matsml-1.0.1-py3.9.egg/matsml/fingerprint.py\u001b[0m in \u001b[0;36mget_fingerprint\u001b[0;34m(self)\u001b[0m\n\u001b[1;32m     80\u001b[0m         \u001b[0;32melif\u001b[0m \u001b[0mself\u001b[0m\u001b[0;34m.\u001b[0m\u001b[0mfp_type\u001b[0m\u001b[0;34m==\u001b[0m\u001b[0;34m'pcm_molecs'\u001b[0m\u001b[0;34m:\u001b[0m\u001b[0;34m\u001b[0m\u001b[0;34m\u001b[0m\u001b[0m\n\u001b[0;32m---> 81\u001b[0;31m             \u001b[0mfp\u001b[0m\u001b[0;34m=\u001b[0m\u001b[0mself\u001b[0m\u001b[0;34m.\u001b[0m\u001b[0mget_pcm_dsc\u001b[0m\u001b[0;34m(\u001b[0m\u001b[0;34m)\u001b[0m\u001b[0;34m\u001b[0m\u001b[0;34m\u001b[0m\u001b[0m\n\u001b[0m\u001b[1;32m     82\u001b[0m         \u001b[0;32melif\u001b[0m \u001b[0mself\u001b[0m\u001b[0;34m.\u001b[0m\u001b[0mfp_type\u001b[0m\u001b[0;34m==\u001b[0m\u001b[0;34m'soap_molecs'\u001b[0m\u001b[0;34m:\u001b[0m\u001b[0;34m\u001b[0m\u001b[0;34m\u001b[0m\u001b[0m\n",
      "\u001b[0;32m~/miniconda3/envs/tf/lib/python3.9/site-packages/matsml-1.0.1-py3.9.egg/matsml/fingerprint.py\u001b[0m in \u001b[0;36mget_pcm_dsc\u001b[0;34m(self)\u001b[0m\n\u001b[1;32m    315\u001b[0m             \u001b[0;32melif\u001b[0m \u001b[0mself\u001b[0m\u001b[0;34m.\u001b[0m\u001b[0mverbosity\u001b[0m\u001b[0;34m==\u001b[0m\u001b[0;36m0\u001b[0m\u001b[0;34m:\u001b[0m\u001b[0;34m\u001b[0m\u001b[0;34m\u001b[0m\u001b[0m\n\u001b[0;32m--> 316\u001b[0;31m                 \u001b[0mprogress_bar\u001b[0m\u001b[0;34m(\u001b[0m\u001b[0mk\u001b[0m\u001b[0;34m,\u001b[0m\u001b[0mlen\u001b[0m\u001b[0;34m(\u001b[0m\u001b[0mstruct_df\u001b[0m\u001b[0;34m)\u001b[0m\u001b[0;34m,\u001b[0m\u001b[0;34m'update'\u001b[0m\u001b[0;34m)\u001b[0m\u001b[0;34m\u001b[0m\u001b[0;34m\u001b[0m\u001b[0m\n\u001b[0m\u001b[1;32m    317\u001b[0m \u001b[0;34m\u001b[0m\u001b[0m\n",
      "\u001b[0;32m~/miniconda3/envs/tf/lib/python3.9/site-packages/matsml-1.0.1-py3.9.egg/matsml/io.py\u001b[0m in \u001b[0;36mprogress_bar\u001b[0;34m(i_loop, loop_length, action)\u001b[0m\n\u001b[1;32m     60\u001b[0m             1,100),int(100/toolbar_width*i_loop/toolbar_step+1)))\n\u001b[0;32m---> 61\u001b[0;31m         \u001b[0msys\u001b[0m\u001b[0;34m.\u001b[0m\u001b[0mstdout\u001b[0m\u001b[0;34m.\u001b[0m\u001b[0mflush\u001b[0m\u001b[0;34m(\u001b[0m\u001b[0;34m)\u001b[0m\u001b[0;34m\u001b[0m\u001b[0;34m\u001b[0m\u001b[0m\n\u001b[0m\u001b[1;32m     62\u001b[0m     \u001b[0;32melif\u001b[0m \u001b[0maction\u001b[0m\u001b[0;34m==\u001b[0m\u001b[0;34m'finish'\u001b[0m\u001b[0;34m:\u001b[0m\u001b[0;34m\u001b[0m\u001b[0;34m\u001b[0m\u001b[0m\n",
      "\u001b[0;32m~/miniconda3/envs/tf/lib/python3.9/site-packages/ipykernel/iostream.py\u001b[0m in \u001b[0;36mflush\u001b[0;34m(self)\u001b[0m\n\u001b[1;32m    349\u001b[0m                 \u001b[0;31m# and give a timeout to avoid\u001b[0m\u001b[0;34m\u001b[0m\u001b[0;34m\u001b[0m\u001b[0m\n\u001b[0;32m--> 350\u001b[0;31m                 \u001b[0;32mif\u001b[0m \u001b[0;32mnot\u001b[0m \u001b[0mevt\u001b[0m\u001b[0;34m.\u001b[0m\u001b[0mwait\u001b[0m\u001b[0;34m(\u001b[0m\u001b[0mself\u001b[0m\u001b[0;34m.\u001b[0m\u001b[0mflush_timeout\u001b[0m\u001b[0;34m)\u001b[0m\u001b[0;34m:\u001b[0m\u001b[0;34m\u001b[0m\u001b[0;34m\u001b[0m\u001b[0m\n\u001b[0m\u001b[1;32m    351\u001b[0m                     \u001b[0;31m# write directly to __stderr__ instead of warning because\u001b[0m\u001b[0;34m\u001b[0m\u001b[0;34m\u001b[0m\u001b[0m\n",
      "\u001b[0;32m~/miniconda3/envs/tf/lib/python3.9/threading.py\u001b[0m in \u001b[0;36mwait\u001b[0;34m(self, timeout)\u001b[0m\n\u001b[1;32m    573\u001b[0m             \u001b[0;32mif\u001b[0m \u001b[0;32mnot\u001b[0m \u001b[0msignaled\u001b[0m\u001b[0;34m:\u001b[0m\u001b[0;34m\u001b[0m\u001b[0;34m\u001b[0m\u001b[0m\n\u001b[0;32m--> 574\u001b[0;31m                 \u001b[0msignaled\u001b[0m \u001b[0;34m=\u001b[0m \u001b[0mself\u001b[0m\u001b[0;34m.\u001b[0m\u001b[0m_cond\u001b[0m\u001b[0;34m.\u001b[0m\u001b[0mwait\u001b[0m\u001b[0;34m(\u001b[0m\u001b[0mtimeout\u001b[0m\u001b[0;34m)\u001b[0m\u001b[0;34m\u001b[0m\u001b[0;34m\u001b[0m\u001b[0m\n\u001b[0m\u001b[1;32m    575\u001b[0m             \u001b[0;32mreturn\u001b[0m \u001b[0msignaled\u001b[0m\u001b[0;34m\u001b[0m\u001b[0;34m\u001b[0m\u001b[0m\n",
      "\u001b[0;32m~/miniconda3/envs/tf/lib/python3.9/threading.py\u001b[0m in \u001b[0;36mwait\u001b[0;34m(self, timeout)\u001b[0m\n\u001b[1;32m    315\u001b[0m                 \u001b[0;32mif\u001b[0m \u001b[0mtimeout\u001b[0m \u001b[0;34m>\u001b[0m \u001b[0;36m0\u001b[0m\u001b[0;34m:\u001b[0m\u001b[0;34m\u001b[0m\u001b[0;34m\u001b[0m\u001b[0m\n\u001b[0;32m--> 316\u001b[0;31m                     \u001b[0mgotit\u001b[0m \u001b[0;34m=\u001b[0m \u001b[0mwaiter\u001b[0m\u001b[0;34m.\u001b[0m\u001b[0macquire\u001b[0m\u001b[0;34m(\u001b[0m\u001b[0;32mTrue\u001b[0m\u001b[0;34m,\u001b[0m \u001b[0mtimeout\u001b[0m\u001b[0;34m)\u001b[0m\u001b[0;34m\u001b[0m\u001b[0;34m\u001b[0m\u001b[0m\n\u001b[0m\u001b[1;32m    317\u001b[0m                 \u001b[0;32melse\u001b[0m\u001b[0;34m:\u001b[0m\u001b[0;34m\u001b[0m\u001b[0;34m\u001b[0m\u001b[0m\n",
      "\u001b[0;31mKeyboardInterrupt\u001b[0m: ",
      "\nDuring handling of the above exception, another exception occurred:\n",
      "\u001b[0;31mAttributeError\u001b[0m                            Traceback (most recent call last)",
      "\u001b[0;32m~/miniconda3/envs/tf/lib/python3.9/site-packages/IPython/core/interactiveshell.py\u001b[0m in \u001b[0;36mshowtraceback\u001b[0;34m(self, exc_tuple, filename, tb_offset, exception_only, running_compiled_code)\u001b[0m\n\u001b[1;32m   2076\u001b[0m                         \u001b[0;31m# in the engines. This should return a list of strings.\u001b[0m\u001b[0;34m\u001b[0m\u001b[0;34m\u001b[0m\u001b[0m\n\u001b[0;32m-> 2077\u001b[0;31m                         \u001b[0mstb\u001b[0m \u001b[0;34m=\u001b[0m \u001b[0mvalue\u001b[0m\u001b[0;34m.\u001b[0m\u001b[0m_render_traceback_\u001b[0m\u001b[0;34m(\u001b[0m\u001b[0;34m)\u001b[0m\u001b[0;34m\u001b[0m\u001b[0;34m\u001b[0m\u001b[0m\n\u001b[0m\u001b[1;32m   2078\u001b[0m                     \u001b[0;32mexcept\u001b[0m \u001b[0mException\u001b[0m\u001b[0;34m:\u001b[0m\u001b[0;34m\u001b[0m\u001b[0;34m\u001b[0m\u001b[0m\n",
      "\u001b[0;31mAttributeError\u001b[0m: 'KeyboardInterrupt' object has no attribute '_render_traceback_'",
      "\nDuring handling of the above exception, another exception occurred:\n",
      "\u001b[0;31mTypeError\u001b[0m                                 Traceback (most recent call last)",
      "    \u001b[0;31m[... skipping hidden 1 frame]\u001b[0m\n",
      "\u001b[0;32m~/miniconda3/envs/tf/lib/python3.9/site-packages/IPython/core/interactiveshell.py\u001b[0m in \u001b[0;36mshowtraceback\u001b[0;34m(self, exc_tuple, filename, tb_offset, exception_only, running_compiled_code)\u001b[0m\n\u001b[1;32m   2077\u001b[0m                         \u001b[0mstb\u001b[0m \u001b[0;34m=\u001b[0m \u001b[0mvalue\u001b[0m\u001b[0;34m.\u001b[0m\u001b[0m_render_traceback_\u001b[0m\u001b[0;34m(\u001b[0m\u001b[0;34m)\u001b[0m\u001b[0;34m\u001b[0m\u001b[0;34m\u001b[0m\u001b[0m\n\u001b[1;32m   2078\u001b[0m                     \u001b[0;32mexcept\u001b[0m \u001b[0mException\u001b[0m\u001b[0;34m:\u001b[0m\u001b[0;34m\u001b[0m\u001b[0;34m\u001b[0m\u001b[0m\n\u001b[0;32m-> 2079\u001b[0;31m                         stb = self.InteractiveTB.structured_traceback(etype,\n\u001b[0m\u001b[1;32m   2080\u001b[0m                                             value, tb, tb_offset=tb_offset)\n\u001b[1;32m   2081\u001b[0m \u001b[0;34m\u001b[0m\u001b[0m\n",
      "\u001b[0;32m~/miniconda3/envs/tf/lib/python3.9/site-packages/IPython/core/ultratb.py\u001b[0m in \u001b[0;36mstructured_traceback\u001b[0;34m(self, etype, value, tb, tb_offset, number_of_lines_of_context)\u001b[0m\n\u001b[1;32m   1365\u001b[0m         \u001b[0;32melse\u001b[0m\u001b[0;34m:\u001b[0m\u001b[0;34m\u001b[0m\u001b[0;34m\u001b[0m\u001b[0m\n\u001b[1;32m   1366\u001b[0m             \u001b[0mself\u001b[0m\u001b[0;34m.\u001b[0m\u001b[0mtb\u001b[0m \u001b[0;34m=\u001b[0m \u001b[0mtb\u001b[0m\u001b[0;34m\u001b[0m\u001b[0;34m\u001b[0m\u001b[0m\n\u001b[0;32m-> 1367\u001b[0;31m         return FormattedTB.structured_traceback(\n\u001b[0m\u001b[1;32m   1368\u001b[0m             self, etype, value, tb, tb_offset, number_of_lines_of_context)\n\u001b[1;32m   1369\u001b[0m \u001b[0;34m\u001b[0m\u001b[0m\n",
      "\u001b[0;32m~/miniconda3/envs/tf/lib/python3.9/site-packages/IPython/core/ultratb.py\u001b[0m in \u001b[0;36mstructured_traceback\u001b[0;34m(self, etype, value, tb, tb_offset, number_of_lines_of_context)\u001b[0m\n\u001b[1;32m   1265\u001b[0m         \u001b[0;32mif\u001b[0m \u001b[0mmode\u001b[0m \u001b[0;32min\u001b[0m \u001b[0mself\u001b[0m\u001b[0;34m.\u001b[0m\u001b[0mverbose_modes\u001b[0m\u001b[0;34m:\u001b[0m\u001b[0;34m\u001b[0m\u001b[0;34m\u001b[0m\u001b[0m\n\u001b[1;32m   1266\u001b[0m             \u001b[0;31m# Verbose modes need a full traceback\u001b[0m\u001b[0;34m\u001b[0m\u001b[0;34m\u001b[0m\u001b[0m\n\u001b[0;32m-> 1267\u001b[0;31m             return VerboseTB.structured_traceback(\n\u001b[0m\u001b[1;32m   1268\u001b[0m                 \u001b[0mself\u001b[0m\u001b[0;34m,\u001b[0m \u001b[0metype\u001b[0m\u001b[0;34m,\u001b[0m \u001b[0mvalue\u001b[0m\u001b[0;34m,\u001b[0m \u001b[0mtb\u001b[0m\u001b[0;34m,\u001b[0m \u001b[0mtb_offset\u001b[0m\u001b[0;34m,\u001b[0m \u001b[0mnumber_of_lines_of_context\u001b[0m\u001b[0;34m\u001b[0m\u001b[0;34m\u001b[0m\u001b[0m\n\u001b[1;32m   1269\u001b[0m             )\n",
      "\u001b[0;32m~/miniconda3/envs/tf/lib/python3.9/site-packages/IPython/core/ultratb.py\u001b[0m in \u001b[0;36mstructured_traceback\u001b[0;34m(self, etype, evalue, etb, tb_offset, number_of_lines_of_context)\u001b[0m\n\u001b[1;32m   1122\u001b[0m         \u001b[0;34m\"\"\"Return a nice text document describing the traceback.\"\"\"\u001b[0m\u001b[0;34m\u001b[0m\u001b[0;34m\u001b[0m\u001b[0m\n\u001b[1;32m   1123\u001b[0m \u001b[0;34m\u001b[0m\u001b[0m\n\u001b[0;32m-> 1124\u001b[0;31m         formatted_exception = self.format_exception_as_a_whole(etype, evalue, etb, number_of_lines_of_context,\n\u001b[0m\u001b[1;32m   1125\u001b[0m                                                                tb_offset)\n\u001b[1;32m   1126\u001b[0m \u001b[0;34m\u001b[0m\u001b[0m\n",
      "\u001b[0;32m~/miniconda3/envs/tf/lib/python3.9/site-packages/IPython/core/ultratb.py\u001b[0m in \u001b[0;36mformat_exception_as_a_whole\u001b[0;34m(self, etype, evalue, etb, number_of_lines_of_context, tb_offset)\u001b[0m\n\u001b[1;32m   1080\u001b[0m \u001b[0;34m\u001b[0m\u001b[0m\n\u001b[1;32m   1081\u001b[0m \u001b[0;34m\u001b[0m\u001b[0m\n\u001b[0;32m-> 1082\u001b[0;31m         \u001b[0mlast_unique\u001b[0m\u001b[0;34m,\u001b[0m \u001b[0mrecursion_repeat\u001b[0m \u001b[0;34m=\u001b[0m \u001b[0mfind_recursion\u001b[0m\u001b[0;34m(\u001b[0m\u001b[0morig_etype\u001b[0m\u001b[0;34m,\u001b[0m \u001b[0mevalue\u001b[0m\u001b[0;34m,\u001b[0m \u001b[0mrecords\u001b[0m\u001b[0;34m)\u001b[0m\u001b[0;34m\u001b[0m\u001b[0;34m\u001b[0m\u001b[0m\n\u001b[0m\u001b[1;32m   1083\u001b[0m \u001b[0;34m\u001b[0m\u001b[0m\n\u001b[1;32m   1084\u001b[0m         \u001b[0mframes\u001b[0m \u001b[0;34m=\u001b[0m \u001b[0mself\u001b[0m\u001b[0;34m.\u001b[0m\u001b[0mformat_records\u001b[0m\u001b[0;34m(\u001b[0m\u001b[0mrecords\u001b[0m\u001b[0;34m,\u001b[0m \u001b[0mlast_unique\u001b[0m\u001b[0;34m,\u001b[0m \u001b[0mrecursion_repeat\u001b[0m\u001b[0;34m)\u001b[0m\u001b[0;34m\u001b[0m\u001b[0;34m\u001b[0m\u001b[0m\n",
      "\u001b[0;32m~/miniconda3/envs/tf/lib/python3.9/site-packages/IPython/core/ultratb.py\u001b[0m in \u001b[0;36mfind_recursion\u001b[0;34m(etype, value, records)\u001b[0m\n\u001b[1;32m    380\u001b[0m     \u001b[0;31m# first frame (from in to out) that looks different.\u001b[0m\u001b[0;34m\u001b[0m\u001b[0;34m\u001b[0m\u001b[0m\n\u001b[1;32m    381\u001b[0m     \u001b[0;32mif\u001b[0m \u001b[0;32mnot\u001b[0m \u001b[0mis_recursion_error\u001b[0m\u001b[0;34m(\u001b[0m\u001b[0metype\u001b[0m\u001b[0;34m,\u001b[0m \u001b[0mvalue\u001b[0m\u001b[0;34m,\u001b[0m \u001b[0mrecords\u001b[0m\u001b[0;34m)\u001b[0m\u001b[0;34m:\u001b[0m\u001b[0;34m\u001b[0m\u001b[0;34m\u001b[0m\u001b[0m\n\u001b[0;32m--> 382\u001b[0;31m         \u001b[0;32mreturn\u001b[0m \u001b[0mlen\u001b[0m\u001b[0;34m(\u001b[0m\u001b[0mrecords\u001b[0m\u001b[0;34m)\u001b[0m\u001b[0;34m,\u001b[0m \u001b[0;36m0\u001b[0m\u001b[0;34m\u001b[0m\u001b[0;34m\u001b[0m\u001b[0m\n\u001b[0m\u001b[1;32m    383\u001b[0m \u001b[0;34m\u001b[0m\u001b[0m\n\u001b[1;32m    384\u001b[0m     \u001b[0;31m# Select filename, lineno, func_name to track frames with\u001b[0m\u001b[0;34m\u001b[0m\u001b[0;34m\u001b[0m\u001b[0m\n",
      "\u001b[0;31mTypeError\u001b[0m: object of type 'NoneType' has no len()"
     ]
    }
   ],
   "source": [
    "from matsml.fingerprint import Fingerprint\n",
    "\n",
    "summary=os.path.join(os.getcwd(),'molecs_CH3NHOH/summary.csv')\n",
    "data_loc=os.path.join(os.getcwd(),'molecs_CH3NHOH/')\n",
    "fp_dim=50                       # intended fingerprint dimensionality; the final number can be smaller \n",
    "verbosity=0                     # verbosity, 0 or 1\n",
    "\n",
    "#PCM\n",
    "data_params_pcm={'fp_type':'pcm_molecs','summary':summary,'data_loc':data_loc,'fp_file':'fp_pcm.csv',\n",
    "    'fp_dim':fp_dim,'verbosity':verbosity}\n",
    "\n",
    "fp_pcm=Fingerprint(data_params_pcm)\n",
    "fp_pcm.get_fingerprint()\n",
    "\n",
    "# SOAP\n",
    "data_params_soap={'fp_type':'soap_molecs','summary':summary,'data_loc':data_loc, 'fp_file':'fp_soap.csv',\n",
    "    'fp_dim':fp_dim,'verbosity':verbosity}\n",
    "\n",
    "fp_soap=Fingerprint(data_params_soap)\n",
    "fp_soap.get_fingerprint()"
   ]
  },
  {
   "cell_type": "markdown",
   "metadata": {},
   "source": [
    "__The fingerprinting step is slow. A version of fingerprinted data can also be obtained in case you want to skip this step. Pandas can read gzip files fo no need to unzip them.__"
   ]
  },
  {
   "cell_type": "code",
   "execution_count": null,
   "metadata": {},
   "outputs": [],
   "source": [
    "from matsml.data import Datasets\n",
    "import os\n",
    "\n",
    "# Load data\n",
    "data=Datasets(ds1='fp_molecs_CH3NHOH_pcm',ds2='fp_molecs_CH3NHOH_soap')\n",
    "data.load_dataset()\n",
    "\n",
    "print (os.path.isfile('fp_molecs_CH3NHOH_pcm.csv.gz'))\n",
    "print (os.path.isfile('fp_molecs_CH3NHOH_soap.csv.gz'))"
   ]
  },
  {
   "cell_type": "markdown",
   "metadata": {},
   "source": [
    "### 3. Train some ML models with \"fp_pcm.csv\" and \"fp_soap.csv\" just created"
   ]
  },
  {
   "cell_type": "code",
   "execution_count": null,
   "metadata": {},
   "outputs": [],
   "source": [
    "# data parameters for learning\n",
    "\n",
    "id_col=['id']             # column for data ID \n",
    "y_cols=['target']         # columns for (one or more) target properties\n",
    "comment_cols=[]           # comment columns, anything not counted into ID, fingerprints, and target\n",
    "n_trains=0.8              # 80% for training, 20% for validating\n",
    "sampling='random'         # method for train/test spliting\n",
    "x_scaling='minmax'        # method for x scaling\n",
    "y_scaling='minmax'        # method for y scaling\n",
    "\n",
    "# Dict of data parameters\n",
    "data_params_pcm={'data_file':'fp_pcm.csv','id_col':id_col,'y_cols':y_cols,'comment_cols':comment_cols,\n",
    "    'y_scaling':y_scaling,'x_scaling':x_scaling,'sampling':sampling,'n_trains':n_trains}\n",
    "\n",
    "data_params_soap={'data_file':'fp_soap.csv','id_col':id_col,'y_cols':y_cols,'comment_cols':comment_cols,\n",
    "    'y_scaling':y_scaling,'x_scaling':x_scaling,'sampling':sampling,'n_trains':n_trains}"
   ]
  },
  {
   "cell_type": "code",
   "execution_count": null,
   "metadata": {
    "scrolled": true
   },
   "outputs": [],
   "source": [
    "from matsml.models import FCNN\n",
    "\n",
    "# Model parameters\n",
    "layers=[8,8,8]               # list of nodes in hidden layers\n",
    "epochs=200                   # Epochs\n",
    "nfold_cv=5                   # Number of folds for cross validation\n",
    "use_bias=True                # Use bias term or not\n",
    "model_file='model_nn.pkl'    # Name of the model file to be created\n",
    "verbosity=0                  # Verbosity, 0 or 1\n",
    "batch_size=32                # Default = 32\n",
    "loss='mse'\n",
    "activ_funct='selu'           # Options: \"tanh\", \"relu\", and more\n",
    "optimizer='nadam'            # Options: \"Nadam\", \"Adam\", and more\n",
    "\n",
    "# Dict of model parameters\n",
    "model_params={'layers':layers,'activ_funct':activ_funct,'epochs':epochs,'nfold_cv':nfold_cv,\n",
    "    'optimizer':optimizer,'use_bias':use_bias,'model_file':model_file,'loss':loss,'batch_size':batch_size,\n",
    "    'verbosity':verbosity,'rmse_cv':False}\n",
    "\n",
    "# PCM\n",
    "model=FCNN(data_params=data_params_pcm,model_params=model_params)\n",
    "model.train()\n",
    "model.plot(pdf_output=False)\n",
    "\n",
    "#SOAP\n",
    "model=FCNN(data_params=data_params_soap,model_params=model_params)\n",
    "model.train()\n",
    "model.plot(pdf_output=False)"
   ]
  },
  {
   "cell_type": "markdown",
   "metadata": {},
   "source": [
    "### 4. The same flowwork with the CH$_4$ dataset"
   ]
  },
  {
   "cell_type": "code",
   "execution_count": null,
   "metadata": {},
   "outputs": [],
   "source": [
    "# Load data\n",
    "data=Datasets(dataset_name='molecs_CH4')\n",
    "data.load_dataset()\n",
    "print (pd.read_csv('molecs_CH4/summary.csv'))\n",
    "\n",
    "# Fingerprint\n",
    "from matsml.fingerprint import Fingerprint\n",
    "summary=os.path.join(os.getcwd(),'molecs_CH4/summary.csv')\n",
    "data_loc=os.path.join(os.getcwd(),'molecs_CH4/')\n",
    "fp_type='pcm_molecs'                   # projected Coulomb matrix for molecules\n",
    "fp_dim=100                             # intended fingerprint dimensionality; the final number can be smaller \n",
    "verbosity=0                            # verbosity, 0 or 1\n",
    "\n",
    "# PCM\n",
    "data_params_pcm={'fp_type':'pcm_molecs','summary':summary,'data_loc':data_loc,\n",
    "    'fp_file':'fp_CH4_pcm.csv', 'fp_dim':fp_dim,'verbosity':verbosity}\n",
    "\n",
    "fp_pcm=Fingerprint(data_params_pcm)\n",
    "fp_pcm.get_fingerprint()\n",
    "\n",
    "# SOAP\n",
    "data_params_soap={'fp_type':'soap_molecs','summary':summary,'data_loc':data_loc,\n",
    "    'fp_file':'fp_CH4_soap.csv','fp_dim':fp_dim,'verbosity':verbosity}\n",
    "\n",
    "fp_soap=Fingerprint(data_params_soap)\n",
    "fp_soap.get_fingerprint()\n",
    "\n",
    "\n",
    "# Data params\n",
    "id_col=['id']             # column for data ID \n",
    "y_cols=['target']         # columns for (one or more) target properties\n",
    "comment_cols=[]           # comment columns, anything not counted into ID, fingerprints, and target\n",
    "n_trains=0.8              # 80% for training, 20% for validating\n",
    "sampling='random'         # method for train/test spliting\n",
    "x_scaling='minmax'        # method for x scaling\n",
    "y_scaling='minmax'        # method for y scaling\n",
    "\n",
    "# Dict of data parameters\n",
    "data_params_CH4_pcm={'data_file':'fp_CH4_pcm.csv','id_col':id_col,'y_cols':y_cols,'comment_cols':comment_cols,\n",
    "    'y_scaling':y_scaling,'x_scaling':x_scaling,'sampling':sampling,'n_trains':n_trains}\n",
    "\n",
    "data_params_CH4_soap={'data_file':'fp_CH4_soap.csv','id_col':id_col,'y_cols':y_cols,'comment_cols':comment_cols,\n",
    "    'y_scaling':y_scaling,'x_scaling':x_scaling,'sampling':sampling,'n_trains':n_trains}\n",
    "\n",
    "\n",
    "# Models with FCNN\n",
    "from matsml.models import FCNN\n",
    "\n",
    "# Model parameters\n",
    "layers=[4,4]                 # list of nodes in hidden layers\n",
    "epochs=200                   # Epochs\n",
    "nfold_cv=5                   # Number of folds for cross validation\n",
    "use_bias=True                # Use bias term or not\n",
    "model_file='model_nn.pkl'    # Name of the model file to be created\n",
    "verbosity=0                  # Verbosity, 0 or 1\n",
    "batch_size=32                # Default = 32\n",
    "loss='mse'\n",
    "activ_funct='tanh'           # Options: \"tanh\", \"relu\", and more\n",
    "optimizer='nadam'            # options: \"Nadam\", \"Adam\", and more\n",
    "\n",
    "# Dict of model parameters\n",
    "model_params={'layers':layers,'activ_funct':activ_funct,'epochs':epochs,'nfold_cv':nfold_cv,\n",
    "    'optimizer':optimizer,'use_bias':use_bias,'model_file':model_file,'loss':loss,'batch_size':batch_size,\n",
    "    'verbosity':verbosity,'rmse_cv':False}\n",
    "\n",
    "# PCM\n",
    "model=FCNN(data_params=data_params_CH4_pcm,model_params=model_params)\n",
    "model.train()\n",
    "model.plot(pdf_output=False)\n",
    "\n",
    "#SOAP\n",
    "model=FCNN(data_params=data_params_CH4_soap,model_params=model_params)\n",
    "model.train()\n",
    "model.plot(pdf_output=False)"
   ]
  },
  {
   "cell_type": "code",
   "execution_count": null,
   "metadata": {},
   "outputs": [],
   "source": []
  }
 ],
 "metadata": {
  "kernelspec": {
   "display_name": "Python 3",
   "language": "python",
   "name": "python3"
  },
  "language_info": {
   "codemirror_mode": {
    "name": "ipython",
    "version": 3
   },
   "file_extension": ".py",
   "mimetype": "text/x-python",
   "name": "python",
   "nbconvert_exporter": "python",
   "pygments_lexer": "ipython3",
   "version": "3.9.7"
  }
 },
 "nbformat": 4,
 "nbformat_minor": 4
}
