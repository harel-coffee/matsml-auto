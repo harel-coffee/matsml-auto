{
 "cells": [
  {
   "cell_type": "markdown",
   "id": "94f57e08",
   "metadata": {},
   "source": [
    "# Machine-learning models for $\\lambda$ and $\\omega_{\\rm log}$\n",
    "#### Huan Tran, Georgia Institute of Technology, huan.tran@mse.gatech.edu\n",
    "\n",
    "This notebook is a part of [Huan Tran & Tuoc N. Vu, *Machine-learning approach for discovery of conventional superconductors*, published in Phys. Rev. Materials **7**, 054805 (2023)], and is also an example of matsML toolkit. Results obtained here can be found in this work.\n",
    "\n",
    "This notebook prodives two featurized datasets of $\\lambda$ and $\\omega_{\\rm log}$ and the scripts to train some machine-learning (ML) models reported in the Reference above. $\\lambda$ and $\\omega_{\\rm log}$ are two important parameters characterizing the electron-phonon interactions that can be used to compute the critical temperature $T_{\\rm c}$ of a superconducting material in some simple ways, one of which is the McMillan equation [W. L. McMillan, Phys. Rev. **167**, 331 (1968)]. \n",
    "\n",
    "The raw datasets used for [Huan Tran & Tuoc N. Vu, *Machine-learning approach for discovery of conventional superconductors*] and in this notebook were curated from the scientific literature. They contains the materials atomic structures from which $\\lambda$ and $\\omega_{\\rm log}$ were computed using DFPT and reported, mostly in the 2010s and 2020s. Two fearurized datasets (data_lambda.csv and data_omlog.csv) that are provided here were prepared using Matminer and some feature engineering techniques. "
   ]
  },
  {
   "cell_type": "code",
   "execution_count": 1,
   "id": "e522ac15",
   "metadata": {},
   "outputs": [],
   "source": [
    "import os\n",
    "import pandas as pd"
   ]
  },
  {
   "cell_type": "markdown",
   "id": "0e1112cc",
   "metadata": {},
   "source": [
    "### Lambda data and training models "
   ]
  },
  {
   "cell_type": "code",
   "execution_count": 2,
   "id": "5625446b",
   "metadata": {},
   "outputs": [],
   "source": [
    "data_file = \"data_lambda.csv\"\n",
    "id_col=['ind']                    # this is id column in the fingerprint data\n",
    "y_cols=['Lambda']                 # this is y columns\n",
    "comment_cols=[]                   # other columns that are not id, not x, nor y columns\n",
    "\n",
    "n_trains = 1.00                   # 100% for training, 0% for validating\n",
    "sampling = 'random'               # way of train/test spliting. Random, stratified\n",
    "x_scaling='minmax'\n",
    "y_scaling='logpos'\n",
    "\n",
    "data_params = {'data_file': data_file, 'id_col':id_col, 'y_cols':y_cols, \n",
    "               'comment_cols':comment_cols, 'y_scaling':y_scaling, \n",
    "               'x_scaling':x_scaling, 'sampling':sampling, 'n_trains':n_trains}"
   ]
  },
  {
   "cell_type": "code",
   "execution_count": 3,
   "id": "0a13cbdf",
   "metadata": {},
   "outputs": [
    {
     "name": "stdout",
     "output_type": "stream",
     "text": [
      "  matsML, v1.3.0\n",
      "  *****\n",
      "  \n",
      "  Checking parameters\n",
      "    all passed                   True\n",
      " \n",
      "  Learning fingerprinted/featured data\n",
      "    algorithm                    gaussian process regression w/ scikit-learn\n",
      "    kernel                       Matern\n",
      "    nfold_cv                     5\n",
      "    optimizer                    fmin_l_bfgs_b\n",
      "    n_restarts_optimizer         0\n",
      "    noise_lb                     0.03\n",
      "    noise_ub                     100\n",
      "    rmse_cv                      False\n",
      "  Read data\n",
      "    data file                    data_lambda.csv\n",
      "    data size                    584\n",
      "    training size                100.0  %\n",
      "    test size                    0.0  %\n",
      "    x dimensionality             40\n",
      "    y dimensionality             1\n",
      "    y label(s)                   ['Lambda']\n",
      "  Scaling x                      minmax\n",
      "    xscaler saved in             xscaler.pkl\n",
      "  Scaling y                      logpos\n",
      "  Prepare train/test sets        random\n",
      "  Training model w/ cross validation\n",
      "    cv,rmse_train,rmse_test,rmse_opt: 0 0.068966 0.312211 0.312211\n",
      "    cv,rmse_train,rmse_test,rmse_opt: 1 0.085361 0.310039 0.310039\n",
      "    cv,rmse_train,rmse_test,rmse_opt: 2 0.082541 0.277294 0.277294\n",
      "    cv,rmse_train,rmse_test,rmse_opt: 3 0.093931 0.364798 0.277294\n",
      "    cv,rmse_train,rmse_test,rmse_opt: 4 0.085187 0.503576 0.277294\n",
      "  GPR model trained, now make predictions & invert scaling\n",
      "    unscaling y: logpos\n",
      "       rmse training     Lambda           0.144566\n",
      "  Predictions made & saved in \"training.csv\"\n",
      "  Plot results in \"training.csv\" & \"test.csv\"\n",
      "    training, (rmse & R2) = ( 0.145 & 0.953 )\n",
      "    showing Lambda\n"
     ]
    },
    {
     "data": {
      "image/png": "[encoded data removed]",
      "text/plain": [
       "<Figure size 432x432 with 1 Axes>"
      ]
     },
     "metadata": {
      "needs_background": "light"
     },
     "output_type": "display_data"
    }
   ],
   "source": [
    "from matsml.models import GPR\n",
    "\n",
    "# Model parameters\n",
    "nfold_cv = 5                     # Number of folds for cross validation\n",
    "model_file = 'model_gpr.pkl'     # Name of the model file to be created\n",
    "verbosity = 0\n",
    "rmse_cv = False\n",
    "n_restarts_optimizer = 0\n",
    "kernel = 'Matern'                # RBF, DotProduct, Matern\n",
    "noise_lb = 0.0300\n",
    "noise_ub = 100\n",
    "\n",
    "model_params={'nfold_cv':nfold_cv,'model_file':model_file,'verbosity':verbosity, \n",
    "              'n_restarts_optimizer':n_restarts_optimizer, 'rmse_cv':rmse_cv, \n",
    "              'kernel': kernel, 'noise_lb':noise_lb, 'noise_ub':noise_ub}\n",
    "\n",
    "model=GPR(data_params = data_params,model_params = model_params)\n",
    "model.train()\n",
    "model.plot(pdf_output=False)\n"
   ]
  },
  {
   "cell_type": "markdown",
   "id": "0a7550c3",
   "metadata": {},
   "source": [
    "### Omlog data and model training"
   ]
  },
  {
   "cell_type": "code",
   "execution_count": 4,
   "id": "1fcb9d18",
   "metadata": {},
   "outputs": [],
   "source": [
    "data_file = 'data_omlog.csv'\n",
    "id_col=['ind']                    # this is id column in the fingerprint data\n",
    "y_cols=['omlog']                  # this is y columns\n",
    "comment_cols=[]                   # other columns that are not id, not x, nor y columns\n",
    "\n",
    "n_trains = 1.00                   # 100% for training, 0% for validating\n",
    "sampling = 'random'               # way of train/test spliting. Random, stratified\n",
    "x_scaling='minmax'\n",
    "y_scaling='minmax'\n",
    "\n",
    "data_params = {'data_file': data_file, 'id_col': id_col,'y_cols': y_cols,\n",
    "               'comment_cols': comment_cols,'y_scaling': y_scaling,\n",
    "               'x_scaling': x_scaling, 'sampling': sampling, 'n_trains': n_trains}"
   ]
  },
  {
   "cell_type": "code",
   "execution_count": 5,
   "id": "05a867fa",
   "metadata": {},
   "outputs": [
    {
     "name": "stdout",
     "output_type": "stream",
     "text": [
      "  \n",
      "  Checking parameters\n",
      "    all passed                   True\n",
      " \n",
      "  Learning fingerprinted/featured data\n",
      "    algorithm                    gaussian process regression w/ scikit-learn\n",
      "    kernel                       Matern\n",
      "    nfold_cv                     5\n",
      "    optimizer                    fmin_l_bfgs_b\n",
      "    n_restarts_optimizer         3\n",
      "    noise_lb                     0.025\n",
      "    noise_ub                     100\n",
      "    rmse_cv                      False\n",
      "  Read data\n",
      "    data file                    data_omlog.csv\n",
      "    data size                    567\n",
      "    training size                100.0  %\n",
      "    test size                    0.0  %\n",
      "    x dimensionality             38\n",
      "    y dimensionality             1\n",
      "    y label(s)                   ['omlog']\n",
      "  Scaling x                      minmax\n",
      "    xscaler saved in             xscaler.pkl\n",
      "  Scaling y                      minmax\n",
      "  Prepare train/test sets        random\n",
      "  Training model w/ cross validation\n",
      "    cv,rmse_train,rmse_test,rmse_opt: 0 0.047413 0.088902 0.088902\n",
      "    cv,rmse_train,rmse_test,rmse_opt: 1 0.049560 0.081160 0.081160\n",
      "    cv,rmse_train,rmse_test,rmse_opt: 2 0.048238 0.094992 0.081160\n",
      "    cv,rmse_train,rmse_test,rmse_opt: 3 0.052725 0.091205 0.081160\n",
      "    cv,rmse_train,rmse_test,rmse_opt: 4 0.049675 0.096612 0.081160\n",
      "  GPR model trained, now make predictions & invert scaling\n",
      "    unscaling y: minmax\n",
      "       rmse training     omlog            110.175303\n",
      "  Predictions made & saved in \"training.csv\"\n",
      "  Plot results in \"training.csv\" & \"test.csv\"\n",
      "    training, (rmse & R2) = ( 110.175 & 0.943 )\n",
      "    showing omlog\n"
     ]
    },
    {
     "data": {
      "image/png": "[encoded data removed]",
      "text/plain": [
       "<Figure size 432x432 with 1 Axes>"
      ]
     },
     "metadata": {
      "needs_background": "light"
     },
     "output_type": "display_data"
    }
   ],
   "source": [
    "from matsml.models import GPR\n",
    "\n",
    "# Model parameters\n",
    "nfold_cv = 5                     # Number of folds for cross validation\n",
    "model_file = 'model_gpr.pkl'     # Name of the model file to be created\n",
    "verbosity = 0\n",
    "rmse_cv = False\n",
    "n_restarts_optimizer = 3\n",
    "kernel = 'Matern'                # RBF, DotProduct, Matern\n",
    "noise_lb = 0.0250\n",
    "noise_ub = 100\n",
    "\n",
    "model_params={'nfold_cv':nfold_cv,'model_file':model_file,'verbosity':verbosity,\n",
    "              'n_restarts_optimizer':n_restarts_optimizer, 'rmse_cv':rmse_cv,\n",
    "              'kernel': kernel, 'noise_lb':noise_lb, 'noise_ub':noise_ub}\n",
    "\n",
    "model=GPR(data_params = data_params,model_params = model_params)\n",
    "model.train()\n",
    "model.plot(pdf_output=False)\n"
   ]
  }
 ],
 "metadata": {
  "kernelspec": {
   "display_name": "Python 3",
   "language": "python",
   "name": "python3"
  },
  "language_info": {
   "codemirror_mode": {
    "name": "ipython",
    "version": 3
   },
   "file_extension": ".py",
   "mimetype": "text/x-python",
   "name": "python",
   "nbconvert_exporter": "python",
   "pygments_lexer": "ipython3",
   "version": "3.9.7"
  }
 },
 "nbformat": 4,
 "nbformat_minor": 5
}
