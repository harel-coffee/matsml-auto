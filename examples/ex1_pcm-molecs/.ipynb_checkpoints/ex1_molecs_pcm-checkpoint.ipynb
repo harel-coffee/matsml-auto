{
 "cells": [
  {
   "cell_type": "markdown",
   "metadata": {},
   "source": [
    "# Example 1: Learning molecules energy \n",
    "\n",
    "#### Huan Tran\n",
    "\n",
    "The main objective of this example is to demonstrate a generic workflow of materials, involving (1) obtaining a small dataset of molecules and their energy, (2) fingerprint them, (3) develop some ML models, and (4) use these models to make predictions. "
   ]
  },
  {
   "cell_type": "markdown",
   "metadata": {},
   "source": [
    "***\n",
    "### 1. Download data\n",
    "The dataset contains 1000 non-equilibrium structures of CH4, whose energy was computed using BigDFT package. It is available at www.matsml.org."
   ]
  },
  {
   "cell_type": "code",
   "execution_count": 1,
   "metadata": {
    "scrolled": true
   },
   "outputs": [
    {
     "name": "stdout",
     "output_type": "stream",
     "text": [
      "True\n",
      "         file_name     target\n",
      "0    CF4-00001.xyz -25.466963\n",
      "1    CF4-00002.xyz -25.357728\n",
      "2    CF4-00003.xyz -25.463676\n",
      "3    CF4-00004.xyz -25.312495\n",
      "4    CF4-00005.xyz -25.364009\n",
      "..             ...        ...\n",
      "395  CF4-00396.xyz -25.405787\n",
      "396  CF4-00397.xyz -25.487477\n",
      "397  CF4-00398.xyz -25.461510\n",
      "398  CF4-00399.xyz -25.223929\n",
      "399  CF4-00400.xyz -25.497948\n",
      "\n",
      "[400 rows x 2 columns]\n"
     ]
    }
   ],
   "source": [
    "import os\n",
    "import pandas as pd\n",
    "\n",
    "# get data\n",
    "data_url='https://www.matsml.org/data/molecs.tgz'\n",
    "os.system('wget -O molecs.tgz --no-check-certificate '+data_url)\n",
    "os.system('tar -xf molecs.tgz')\n",
    "\n",
    "# check necessary content\n",
    "print (os.path.isfile('molecs/sum_list.csv'))\n",
    "if os.path.isfile('molecs/sum_list.csv'):\n",
    "    print (pd.read_csv('molecs/sum_list.csv'))"
   ]
  },
  {
   "cell_type": "markdown",
   "metadata": {},
   "source": [
    "***\n",
    "### 2. Fingerprint the obtained data\n",
    "Coulomb matrix (CM) [M. Rupp, A. Tkatchenko, K.-R. Müller, and O. Anatole von Lilienfeld, <em>Fast and accurate modeling of molecular atomization energies with machine learning</em>, Phys. Rev. Lett., 108, 058301 (2012)] is perhaps one of the earliest fingerprints used in materials informatics. It was defined as an $N\\times N$ matrix for a molecule of $N$ atoms. The key advantage of CM is that it is invariant under rotations and translations, required ro represent materials structure as a whole. However, its size depends on the molecule size, making it not directly usable for machine learning. Normally, the eigenvalues of these matricies are computed and sorted, and then zero padding is used to make fixed-size vectors. Here, we defined a projection of these Coulomb matricies onto a set of Gaussian functions, covering the entire range of the Coulomn matrix element values. The results are also a set of fixed-size fingerprints, which are ready for learning."
   ]
  },
  {
   "cell_type": "code",
   "execution_count": 2,
   "metadata": {},
   "outputs": [
    {
     "name": "stdout",
     "output_type": "stream",
     "text": [
      "  matsML, version 1.0\n",
      "  *****\n",
      "  Atomic structure fingerprinting\n",
      "    sum_list                     /home/huan/work/matsml/examples/ex1_pcm-molecs/molecs/sum_list.csv\n",
      "    data_loc                     /home/huan/work/matsml/examples/ex1_pcm-molecs/molecs/\n",
      "    n_atoms_max                  6\n",
      "    struct_format                xyz\n",
      "    fp_type                      pcm_molecs\n",
      "    fp_dim                       100\n",
      "    fp_file                      fp.csv\n",
      "    verbosity                    0\n",
      "  Read input\n",
      "    num_structs                  400\n",
      "  Computing Coulomb matrix\n",
      "    [================================================= ] 100%\n",
      "  Projecting Coulomb matrix to create fingerprints\n",
      "    [================================================= ] 100%\n",
      "  Done fingerprinting, results saved in fp.csv\n",
      "Index(['id', 'target', 'pcm_0018', 'pcm_0019', 'pcm_0020', 'pcm_0021',\n",
      "       'pcm_0022', 'pcm_0023', 'pcm_0024', 'pcm_0025', 'pcm_0026', 'pcm_0027',\n",
      "       'pcm_0028', 'pcm_0029', 'pcm_0030', 'pcm_0031', 'pcm_0032', 'pcm_0033',\n",
      "       'pcm_0034', 'pcm_0035', 'pcm_0036', 'pcm_0037', 'pcm_0038', 'pcm_0039',\n",
      "       'pcm_0040', 'pcm_0041', 'pcm_0042', 'pcm_0043', 'pcm_0044', 'pcm_0045',\n",
      "       'pcm_0046', 'pcm_0047', 'pcm_0048', 'pcm_0049', 'pcm_0050', 'pcm_0051',\n",
      "       'pcm_0052', 'pcm_0053', 'pcm_0054', 'pcm_0055', 'pcm_0056', 'pcm_0057',\n",
      "       'pcm_0058', 'pcm_0059', 'pcm_0060', 'pcm_0061', 'pcm_0062', 'pcm_0063',\n",
      "       'pcm_0064', 'pcm_0065', 'pcm_0066', 'pcm_0067'],\n",
      "      dtype='object')\n"
     ]
    }
   ],
   "source": [
    "import pandas as pd\n",
    "from matsml.fingerprint import Fingerprint\n",
    "\n",
    "sum_list=os.path.join(os.getcwd(),'molecs/sum_list.csv')\n",
    "data_loc=os.path.join(os.getcwd(),'molecs/')\n",
    "n_atoms_max=6                          # max number of atoms in all of the structures to be fingerprinted\n",
    "fp_type='pcm_molecs'                   # projected Coulomb matrix for molecules\n",
    "struct_format='xyz'                    # atomic structure format \n",
    "fp_file='fp.csv'                       # fingerprinted data file name\n",
    "fp_dim=200                             # intended fingerprint dimensionality; the final number can be smaller \n",
    "verbosity=0                            # verbosity, 0 or 1\n",
    "\n",
    "data_params={'sum_list':sum_list,'data_loc':data_loc,'n_atoms_max':n_atoms_max,\n",
    "    'fp_file':fp_file,'struct_format':struct_format,'fp_type':fp_type,\n",
    "    'fp_dim':fp_dim,'verbosity':verbosity}\n",
    "\n",
    "fp=Fingerprint(data_params)\n",
    "\n",
    "# Compute fingerprint\n",
    "fp.get_fingerprint()\n",
    "\n",
    "# How does the fingerprinted data look like\n",
    "print(pd.read_csv('fp.csv').columns)"
   ]
  },
  {
   "cell_type": "markdown",
   "metadata": {},
   "source": [
    "***\n",
    "### 3. Train some ML models\n",
    "Having the fingerprinted data \"fp.csv\", whose fields shown above, it will now be learned. First, some specific information of the data is given. "
   ]
  },
  {
   "cell_type": "code",
   "execution_count": 3,
   "metadata": {},
   "outputs": [],
   "source": [
    "# data parameters for learning, note that this maybe different from data_params for the \n",
    "# above fingerprint step. We used the same data in \"fp.csv\" for all three algorithms below\n",
    "data_file='fp.csv'        # fingerprinted data file\n",
    "id_col=['id']             # column for data ID \n",
    "y_cols=['target']         # columns for (one or more) target properties\n",
    "comment_cols=[]           # comment columns, anything not counted into ID, fingerprints, and target\n",
    "n_trains=0.85             # 85% for training, 15% for validating\n",
    "sampling='random'         # method for train/test spliting\n",
    "x_scaling='minmax'        # method for x scaling\n",
    "y_scaling='minmax'        # method for y scaling\n",
    "\n",
    "# Dict of data parameters\n",
    "data_params={'data_file':data_file, 'id_col':id_col,'y_cols':y_cols,\n",
    "    'comment_cols':comment_cols,'y_scaling':y_scaling,'x_scaling':x_scaling,\n",
    "    'sampling':sampling, 'n_trains':n_trains}"
   ]
  },
  {
   "cell_type": "markdown",
   "metadata": {},
   "source": [
    "Then, three generic learning algorithms will be used. Depending on the algorithm, some method-specific parameters are needed so the model can be properly built and trained on the fingerprinted data.\n",
    "***\n",
    "#### 3a. Fully-connected NeuralNet"
   ]
  },
  {
   "cell_type": "code",
   "execution_count": 4,
   "metadata": {},
   "outputs": [
    {
     "name": "stdout",
     "output_type": "stream",
     "text": [
      " \n",
      "  Learning fingerprinted/featured data\n",
      "    algorithm                    fully connected NeuralNet w/ TensorFlow\n",
      "    layers                       [8, 8]\n",
      "    activ_funct                  tanh\n",
      "    epochs                       300\n",
      "    optimizer                    nadam\n",
      "    nfold_cv                     5\n",
      "  Reading data ... \n",
      "    data file                    fp.csv\n",
      "    data size                    400\n",
      "    training size                340 (85.0 %)\n",
      "    test size                    60 (15.0 %)\n",
      "    x dimensionality             50\n",
      "    y dimensionality             1\n",
      "    y label(s)                   ['target']\n",
      "  Scaling x                      minmax\n",
      "  Scaling y                      minmax\n",
      "  Prepare train/test sets        random\n",
      "  Building model                 FCNeuralNet\n",
      "  Training model w/ cross validation\n",
      "    cv,rmse_train,rmse_test,rmse_opt: 0 0.059998 0.056726 0.056726\n",
      "    cv,rmse_train,rmse_test,rmse_opt: 1 0.060184 0.117547 0.056726\n",
      "    cv,rmse_train,rmse_test,rmse_opt: 2 0.056156 0.073283 0.056726\n",
      "    cv,rmse_train,rmse_test,rmse_opt: 3 0.059437 0.059292 0.056726\n",
      "    cv,rmse_train,rmse_test,rmse_opt: 4 0.059192 0.063501 0.056726\n",
      "    Optimal ncv:  0 ; optimal NET saved\n",
      "  FCNeuralNet trained, now make predictions & invert scaling\n",
      "    Unscaling y: minmax\n",
      "       rmse training     target           0.02329\n",
      "    Unscaling y: minmax\n",
      "       rmse test         target           0.030929\n",
      "  Predictions made & saved in \"training.csv\" & \"test.csv\"\n"
     ]
    },
    {
     "ename": "NameError",
     "evalue": "name 'plot_train_test_preds' is not defined",
     "output_type": "error",
     "traceback": [
      "\u001b[0;31m---------------------------------------------------------------------------\u001b[0m",
      "\u001b[0;31mNameError\u001b[0m                                 Traceback (most recent call last)",
      "\u001b[0;32m<ipython-input-4-c56f5a5ca8e8>\u001b[0m in \u001b[0;36m<module>\u001b[0;34m\u001b[0m\n\u001b[1;32m     27\u001b[0m \u001b[0;34m\u001b[0m\u001b[0m\n\u001b[1;32m     28\u001b[0m \u001b[0;31m# Plot results\u001b[0m\u001b[0;34m\u001b[0m\u001b[0;34m\u001b[0m\u001b[0;34m\u001b[0m\u001b[0m\n\u001b[0;32m---> 29\u001b[0;31m \u001b[0mplot_train_test_preds\u001b[0m\u001b[0;34m(\u001b[0m\u001b[0;34m)\u001b[0m\u001b[0;34m\u001b[0m\u001b[0;34m\u001b[0m\u001b[0m\n\u001b[0m",
      "\u001b[0;31mNameError\u001b[0m: name 'plot_train_test_preds' is not defined"
     ]
    }
   ],
   "source": [
    "from matsml.models import FCNeuralNet\n",
    "\n",
    "# Model parameters\n",
    "layers=[8,8]                 # list of nodes in hidden layers\n",
    "epochs=300                   # Epochs\n",
    "nfold_cv=5                   # Number of folds for cross validation\n",
    "use_bias=True                # Use bias term or not\n",
    "model_file='model_nn.pkl'    # Name of the model file to be created\n",
    "verbosity=0                  # Verbosity, 0 or 1\n",
    "batch_size=32                # Default = 32\n",
    "loss='mse'\n",
    "metric='mse'\n",
    "activ_funct='tanh'           # Options: \"tanh\",\"relu\",\"sigmoid\",\"softmax\",\"softplus\",\"softsign\",\"selu\",\"elu\",\"exponential\"\n",
    "optimizer='nadam'            # options: \"SGD\",\"RMSprop\",\"Adam\",\"Adadelta\",\"Adagrad\",\"Adamax\",\"Nadam\",\"Ftrl\"\n",
    "\n",
    "# Dict of model parameters\n",
    "model_params={'layers':layers,'activ_funct':activ_funct,'epochs':epochs,\n",
    "    'nfold_cv':nfold_cv,'optimizer':optimizer,'use_bias':use_bias,\n",
    "    'model_file':model_file,'loss':loss,'metric':metric,\n",
    "    'batch_size':batch_size,'verbosity':verbosity,'rmse_cv':False}\n",
    "\n",
    "# Compile a model\n",
    "model=FCNeuralNet(data_params=data_params,model_params=model_params)\n",
    "\n",
    "# Train the model\n",
    "model.train()\n",
    "\n",
    "# Plot results\n",
    "model.plot(pdf=False)"
   ]
  },
  {
   "cell_type": "code",
   "execution_count": 7,
   "metadata": {},
   "outputs": [
    {
     "name": "stdout",
     "output_type": "stream",
     "text": [
      "\n",
      "  Plot results in \"training.csv\" & \"test.csv\"\n"
     ]
    },
    {
     "ename": "ValueError",
     "evalue": "Image size of 91459x8015 pixels is too large. It must be less than 2^16 in each direction.",
     "output_type": "error",
     "traceback": [
      "\u001b[0;31m---------------------------------------------------------------------------\u001b[0m",
      "\u001b[0;31mValueError\u001b[0m                                Traceback (most recent call last)",
      "\u001b[0;32m~/miniconda3/envs/tf/lib/python3.8/site-packages/IPython/core/formatters.py\u001b[0m in \u001b[0;36m__call__\u001b[0;34m(self, obj)\u001b[0m\n\u001b[1;32m    339\u001b[0m                 \u001b[0;32mpass\u001b[0m\u001b[0;34m\u001b[0m\u001b[0;34m\u001b[0m\u001b[0m\n\u001b[1;32m    340\u001b[0m             \u001b[0;32melse\u001b[0m\u001b[0;34m:\u001b[0m\u001b[0;34m\u001b[0m\u001b[0;34m\u001b[0m\u001b[0m\n\u001b[0;32m--> 341\u001b[0;31m                 \u001b[0;32mreturn\u001b[0m \u001b[0mprinter\u001b[0m\u001b[0;34m(\u001b[0m\u001b[0mobj\u001b[0m\u001b[0;34m)\u001b[0m\u001b[0;34m\u001b[0m\u001b[0;34m\u001b[0m\u001b[0m\n\u001b[0m\u001b[1;32m    342\u001b[0m             \u001b[0;31m# Finally look for special method names\u001b[0m\u001b[0;34m\u001b[0m\u001b[0;34m\u001b[0m\u001b[0;34m\u001b[0m\u001b[0m\n\u001b[1;32m    343\u001b[0m             \u001b[0mmethod\u001b[0m \u001b[0;34m=\u001b[0m \u001b[0mget_real_method\u001b[0m\u001b[0;34m(\u001b[0m\u001b[0mobj\u001b[0m\u001b[0;34m,\u001b[0m \u001b[0mself\u001b[0m\u001b[0;34m.\u001b[0m\u001b[0mprint_method\u001b[0m\u001b[0;34m)\u001b[0m\u001b[0;34m\u001b[0m\u001b[0;34m\u001b[0m\u001b[0m\n",
      "\u001b[0;32m~/miniconda3/envs/tf/lib/python3.8/site-packages/IPython/core/pylabtools.py\u001b[0m in \u001b[0;36m<lambda>\u001b[0;34m(fig)\u001b[0m\n\u001b[1;32m    248\u001b[0m \u001b[0;34m\u001b[0m\u001b[0m\n\u001b[1;32m    249\u001b[0m     \u001b[0;32mif\u001b[0m \u001b[0;34m'png'\u001b[0m \u001b[0;32min\u001b[0m \u001b[0mformats\u001b[0m\u001b[0;34m:\u001b[0m\u001b[0;34m\u001b[0m\u001b[0;34m\u001b[0m\u001b[0m\n\u001b[0;32m--> 250\u001b[0;31m         \u001b[0mpng_formatter\u001b[0m\u001b[0;34m.\u001b[0m\u001b[0mfor_type\u001b[0m\u001b[0;34m(\u001b[0m\u001b[0mFigure\u001b[0m\u001b[0;34m,\u001b[0m \u001b[0;32mlambda\u001b[0m \u001b[0mfig\u001b[0m\u001b[0;34m:\u001b[0m \u001b[0mprint_figure\u001b[0m\u001b[0;34m(\u001b[0m\u001b[0mfig\u001b[0m\u001b[0;34m,\u001b[0m \u001b[0;34m'png'\u001b[0m\u001b[0;34m,\u001b[0m \u001b[0;34m**\u001b[0m\u001b[0mkwargs\u001b[0m\u001b[0;34m)\u001b[0m\u001b[0;34m)\u001b[0m\u001b[0;34m\u001b[0m\u001b[0;34m\u001b[0m\u001b[0m\n\u001b[0m\u001b[1;32m    251\u001b[0m     \u001b[0;32mif\u001b[0m \u001b[0;34m'retina'\u001b[0m \u001b[0;32min\u001b[0m \u001b[0mformats\u001b[0m \u001b[0;32mor\u001b[0m \u001b[0;34m'png2x'\u001b[0m \u001b[0;32min\u001b[0m \u001b[0mformats\u001b[0m\u001b[0;34m:\u001b[0m\u001b[0;34m\u001b[0m\u001b[0;34m\u001b[0m\u001b[0m\n\u001b[1;32m    252\u001b[0m         \u001b[0mpng_formatter\u001b[0m\u001b[0;34m.\u001b[0m\u001b[0mfor_type\u001b[0m\u001b[0;34m(\u001b[0m\u001b[0mFigure\u001b[0m\u001b[0;34m,\u001b[0m \u001b[0;32mlambda\u001b[0m \u001b[0mfig\u001b[0m\u001b[0;34m:\u001b[0m \u001b[0mretina_figure\u001b[0m\u001b[0;34m(\u001b[0m\u001b[0mfig\u001b[0m\u001b[0;34m,\u001b[0m \u001b[0;34m**\u001b[0m\u001b[0mkwargs\u001b[0m\u001b[0;34m)\u001b[0m\u001b[0;34m)\u001b[0m\u001b[0;34m\u001b[0m\u001b[0;34m\u001b[0m\u001b[0m\n",
      "\u001b[0;32m~/miniconda3/envs/tf/lib/python3.8/site-packages/IPython/core/pylabtools.py\u001b[0m in \u001b[0;36mprint_figure\u001b[0;34m(fig, fmt, bbox_inches, **kwargs)\u001b[0m\n\u001b[1;32m    132\u001b[0m         \u001b[0mFigureCanvasBase\u001b[0m\u001b[0;34m(\u001b[0m\u001b[0mfig\u001b[0m\u001b[0;34m)\u001b[0m\u001b[0;34m\u001b[0m\u001b[0;34m\u001b[0m\u001b[0m\n\u001b[1;32m    133\u001b[0m \u001b[0;34m\u001b[0m\u001b[0m\n\u001b[0;32m--> 134\u001b[0;31m     \u001b[0mfig\u001b[0m\u001b[0;34m.\u001b[0m\u001b[0mcanvas\u001b[0m\u001b[0;34m.\u001b[0m\u001b[0mprint_figure\u001b[0m\u001b[0;34m(\u001b[0m\u001b[0mbytes_io\u001b[0m\u001b[0;34m,\u001b[0m \u001b[0;34m**\u001b[0m\u001b[0mkw\u001b[0m\u001b[0;34m)\u001b[0m\u001b[0;34m\u001b[0m\u001b[0;34m\u001b[0m\u001b[0m\n\u001b[0m\u001b[1;32m    135\u001b[0m     \u001b[0mdata\u001b[0m \u001b[0;34m=\u001b[0m \u001b[0mbytes_io\u001b[0m\u001b[0;34m.\u001b[0m\u001b[0mgetvalue\u001b[0m\u001b[0;34m(\u001b[0m\u001b[0;34m)\u001b[0m\u001b[0;34m\u001b[0m\u001b[0;34m\u001b[0m\u001b[0m\n\u001b[1;32m    136\u001b[0m     \u001b[0;32mif\u001b[0m \u001b[0mfmt\u001b[0m \u001b[0;34m==\u001b[0m \u001b[0;34m'svg'\u001b[0m\u001b[0;34m:\u001b[0m\u001b[0;34m\u001b[0m\u001b[0;34m\u001b[0m\u001b[0m\n",
      "\u001b[0;32m~/miniconda3/envs/tf/lib/python3.8/site-packages/matplotlib/backend_bases.py\u001b[0m in \u001b[0;36mprint_figure\u001b[0;34m(self, filename, dpi, facecolor, edgecolor, orientation, format, bbox_inches, pad_inches, bbox_extra_artists, backend, **kwargs)\u001b[0m\n\u001b[1;32m   2208\u001b[0m \u001b[0;34m\u001b[0m\u001b[0m\n\u001b[1;32m   2209\u001b[0m             \u001b[0;32mtry\u001b[0m\u001b[0;34m:\u001b[0m\u001b[0;34m\u001b[0m\u001b[0;34m\u001b[0m\u001b[0m\n\u001b[0;32m-> 2210\u001b[0;31m                 result = print_method(\n\u001b[0m\u001b[1;32m   2211\u001b[0m                     \u001b[0mfilename\u001b[0m\u001b[0;34m,\u001b[0m\u001b[0;34m\u001b[0m\u001b[0;34m\u001b[0m\u001b[0m\n\u001b[1;32m   2212\u001b[0m                     \u001b[0mdpi\u001b[0m\u001b[0;34m=\u001b[0m\u001b[0mdpi\u001b[0m\u001b[0;34m,\u001b[0m\u001b[0;34m\u001b[0m\u001b[0;34m\u001b[0m\u001b[0m\n",
      "\u001b[0;32m~/miniconda3/envs/tf/lib/python3.8/site-packages/matplotlib/backend_bases.py\u001b[0m in \u001b[0;36mwrapper\u001b[0;34m(*args, **kwargs)\u001b[0m\n\u001b[1;32m   1637\u001b[0m             \u001b[0mkwargs\u001b[0m\u001b[0;34m.\u001b[0m\u001b[0mpop\u001b[0m\u001b[0;34m(\u001b[0m\u001b[0marg\u001b[0m\u001b[0;34m)\u001b[0m\u001b[0;34m\u001b[0m\u001b[0;34m\u001b[0m\u001b[0m\n\u001b[1;32m   1638\u001b[0m \u001b[0;34m\u001b[0m\u001b[0m\n\u001b[0;32m-> 1639\u001b[0;31m         \u001b[0;32mreturn\u001b[0m \u001b[0mfunc\u001b[0m\u001b[0;34m(\u001b[0m\u001b[0;34m*\u001b[0m\u001b[0margs\u001b[0m\u001b[0;34m,\u001b[0m \u001b[0;34m**\u001b[0m\u001b[0mkwargs\u001b[0m\u001b[0;34m)\u001b[0m\u001b[0;34m\u001b[0m\u001b[0;34m\u001b[0m\u001b[0m\n\u001b[0m\u001b[1;32m   1640\u001b[0m \u001b[0;34m\u001b[0m\u001b[0m\n\u001b[1;32m   1641\u001b[0m     \u001b[0;32mreturn\u001b[0m \u001b[0mwrapper\u001b[0m\u001b[0;34m\u001b[0m\u001b[0;34m\u001b[0m\u001b[0m\n",
      "\u001b[0;32m~/miniconda3/envs/tf/lib/python3.8/site-packages/matplotlib/backends/backend_agg.py\u001b[0m in \u001b[0;36mprint_png\u001b[0;34m(self, filename_or_obj, metadata, pil_kwargs, *args)\u001b[0m\n\u001b[1;32m    507\u001b[0m             \u001b[0;34m*\u001b[0m\u001b[0mmetadata\u001b[0m\u001b[0;34m*\u001b[0m\u001b[0;34m,\u001b[0m \u001b[0mincluding\u001b[0m \u001b[0mthe\u001b[0m \u001b[0mdefault\u001b[0m \u001b[0;34m'Software'\u001b[0m \u001b[0mkey\u001b[0m\u001b[0;34m.\u001b[0m\u001b[0;34m\u001b[0m\u001b[0;34m\u001b[0m\u001b[0m\n\u001b[1;32m    508\u001b[0m         \"\"\"\n\u001b[0;32m--> 509\u001b[0;31m         \u001b[0mFigureCanvasAgg\u001b[0m\u001b[0;34m.\u001b[0m\u001b[0mdraw\u001b[0m\u001b[0;34m(\u001b[0m\u001b[0mself\u001b[0m\u001b[0;34m)\u001b[0m\u001b[0;34m\u001b[0m\u001b[0;34m\u001b[0m\u001b[0m\n\u001b[0m\u001b[1;32m    510\u001b[0m         mpl.image.imsave(\n\u001b[1;32m    511\u001b[0m             \u001b[0mfilename_or_obj\u001b[0m\u001b[0;34m,\u001b[0m \u001b[0mself\u001b[0m\u001b[0;34m.\u001b[0m\u001b[0mbuffer_rgba\u001b[0m\u001b[0;34m(\u001b[0m\u001b[0;34m)\u001b[0m\u001b[0;34m,\u001b[0m \u001b[0mformat\u001b[0m\u001b[0;34m=\u001b[0m\u001b[0;34m\"png\"\u001b[0m\u001b[0;34m,\u001b[0m \u001b[0morigin\u001b[0m\u001b[0;34m=\u001b[0m\u001b[0;34m\"upper\"\u001b[0m\u001b[0;34m,\u001b[0m\u001b[0;34m\u001b[0m\u001b[0;34m\u001b[0m\u001b[0m\n",
      "\u001b[0;32m~/miniconda3/envs/tf/lib/python3.8/site-packages/matplotlib/backends/backend_agg.py\u001b[0m in \u001b[0;36mdraw\u001b[0;34m(self)\u001b[0m\n\u001b[1;32m    400\u001b[0m     \u001b[0;32mdef\u001b[0m \u001b[0mdraw\u001b[0m\u001b[0;34m(\u001b[0m\u001b[0mself\u001b[0m\u001b[0;34m)\u001b[0m\u001b[0;34m:\u001b[0m\u001b[0;34m\u001b[0m\u001b[0;34m\u001b[0m\u001b[0m\n\u001b[1;32m    401\u001b[0m         \u001b[0;31m# docstring inherited\u001b[0m\u001b[0;34m\u001b[0m\u001b[0;34m\u001b[0m\u001b[0;34m\u001b[0m\u001b[0m\n\u001b[0;32m--> 402\u001b[0;31m         \u001b[0mself\u001b[0m\u001b[0;34m.\u001b[0m\u001b[0mrenderer\u001b[0m \u001b[0;34m=\u001b[0m \u001b[0mself\u001b[0m\u001b[0;34m.\u001b[0m\u001b[0mget_renderer\u001b[0m\u001b[0;34m(\u001b[0m\u001b[0mcleared\u001b[0m\u001b[0;34m=\u001b[0m\u001b[0;32mTrue\u001b[0m\u001b[0;34m)\u001b[0m\u001b[0;34m\u001b[0m\u001b[0;34m\u001b[0m\u001b[0m\n\u001b[0m\u001b[1;32m    403\u001b[0m         \u001b[0;31m# Acquire a lock on the shared font cache.\u001b[0m\u001b[0;34m\u001b[0m\u001b[0;34m\u001b[0m\u001b[0;34m\u001b[0m\u001b[0m\n\u001b[1;32m    404\u001b[0m         \u001b[0;32mwith\u001b[0m \u001b[0mRendererAgg\u001b[0m\u001b[0;34m.\u001b[0m\u001b[0mlock\u001b[0m\u001b[0;34m,\u001b[0m\u001b[0;31m \u001b[0m\u001b[0;31m\\\u001b[0m\u001b[0;34m\u001b[0m\u001b[0;34m\u001b[0m\u001b[0m\n",
      "\u001b[0;32m~/miniconda3/envs/tf/lib/python3.8/site-packages/matplotlib/backends/backend_agg.py\u001b[0m in \u001b[0;36mget_renderer\u001b[0;34m(self, cleared)\u001b[0m\n\u001b[1;32m    416\u001b[0m                           and getattr(self, \"_lastKey\", None) == key)\n\u001b[1;32m    417\u001b[0m         \u001b[0;32mif\u001b[0m \u001b[0;32mnot\u001b[0m \u001b[0mreuse_renderer\u001b[0m\u001b[0;34m:\u001b[0m\u001b[0;34m\u001b[0m\u001b[0;34m\u001b[0m\u001b[0m\n\u001b[0;32m--> 418\u001b[0;31m             \u001b[0mself\u001b[0m\u001b[0;34m.\u001b[0m\u001b[0mrenderer\u001b[0m \u001b[0;34m=\u001b[0m \u001b[0mRendererAgg\u001b[0m\u001b[0;34m(\u001b[0m\u001b[0mw\u001b[0m\u001b[0;34m,\u001b[0m \u001b[0mh\u001b[0m\u001b[0;34m,\u001b[0m \u001b[0mself\u001b[0m\u001b[0;34m.\u001b[0m\u001b[0mfigure\u001b[0m\u001b[0;34m.\u001b[0m\u001b[0mdpi\u001b[0m\u001b[0;34m)\u001b[0m\u001b[0;34m\u001b[0m\u001b[0;34m\u001b[0m\u001b[0m\n\u001b[0m\u001b[1;32m    419\u001b[0m             \u001b[0mself\u001b[0m\u001b[0;34m.\u001b[0m\u001b[0m_lastKey\u001b[0m \u001b[0;34m=\u001b[0m \u001b[0mkey\u001b[0m\u001b[0;34m\u001b[0m\u001b[0;34m\u001b[0m\u001b[0m\n\u001b[1;32m    420\u001b[0m         \u001b[0;32melif\u001b[0m \u001b[0mcleared\u001b[0m\u001b[0;34m:\u001b[0m\u001b[0;34m\u001b[0m\u001b[0;34m\u001b[0m\u001b[0m\n",
      "\u001b[0;32m~/miniconda3/envs/tf/lib/python3.8/site-packages/matplotlib/backends/backend_agg.py\u001b[0m in \u001b[0;36m__init__\u001b[0;34m(self, width, height, dpi)\u001b[0m\n\u001b[1;32m     94\u001b[0m         \u001b[0mself\u001b[0m\u001b[0;34m.\u001b[0m\u001b[0mwidth\u001b[0m \u001b[0;34m=\u001b[0m \u001b[0mwidth\u001b[0m\u001b[0;34m\u001b[0m\u001b[0;34m\u001b[0m\u001b[0m\n\u001b[1;32m     95\u001b[0m         \u001b[0mself\u001b[0m\u001b[0;34m.\u001b[0m\u001b[0mheight\u001b[0m \u001b[0;34m=\u001b[0m \u001b[0mheight\u001b[0m\u001b[0;34m\u001b[0m\u001b[0;34m\u001b[0m\u001b[0m\n\u001b[0;32m---> 96\u001b[0;31m         \u001b[0mself\u001b[0m\u001b[0;34m.\u001b[0m\u001b[0m_renderer\u001b[0m \u001b[0;34m=\u001b[0m \u001b[0m_RendererAgg\u001b[0m\u001b[0;34m(\u001b[0m\u001b[0mint\u001b[0m\u001b[0;34m(\u001b[0m\u001b[0mwidth\u001b[0m\u001b[0;34m)\u001b[0m\u001b[0;34m,\u001b[0m \u001b[0mint\u001b[0m\u001b[0;34m(\u001b[0m\u001b[0mheight\u001b[0m\u001b[0;34m)\u001b[0m\u001b[0;34m,\u001b[0m \u001b[0mdpi\u001b[0m\u001b[0;34m)\u001b[0m\u001b[0;34m\u001b[0m\u001b[0;34m\u001b[0m\u001b[0m\n\u001b[0m\u001b[1;32m     97\u001b[0m         \u001b[0mself\u001b[0m\u001b[0;34m.\u001b[0m\u001b[0m_filter_renderers\u001b[0m \u001b[0;34m=\u001b[0m \u001b[0;34m[\u001b[0m\u001b[0;34m]\u001b[0m\u001b[0;34m\u001b[0m\u001b[0;34m\u001b[0m\u001b[0m\n\u001b[1;32m     98\u001b[0m \u001b[0;34m\u001b[0m\u001b[0m\n",
      "\u001b[0;31mValueError\u001b[0m: Image size of 91459x8015 pixels is too large. It must be less than 2^16 in each direction."
     ]
    },
    {
     "data": {
      "text/plain": [
       "<Figure size 600x600 with 1 Axes>"
      ]
     },
     "metadata": {},
     "output_type": "display_data"
    }
   ],
   "source": [
    "from matsml.io import plot_train_test_preds\n",
    "plot_train_test_preds()"
   ]
  },
  {
   "cell_type": "markdown",
   "metadata": {},
   "source": [
    "***\n",
    "#### 3b. Kernel Ridge Regression"
   ]
  },
  {
   "cell_type": "code",
   "execution_count": null,
   "metadata": {},
   "outputs": [],
   "source": [
    "from matsml.models import KRR\n",
    "\n",
    "# Model parameters\n",
    "kernel = 'rbf'                 # Kernel\n",
    "nfold_cv=5                     # Number of folds for cross validation\n",
    "model_file='model_krr.pkl'     # Name of the model file to be created\n",
    "metric = 'mse'                 # Metric\n",
    "alpha = [-2,5]                 # hyper parameter range\n",
    "gamma = [-2,5]                 # hyper parameter range\n",
    "n_grids = 10\n",
    "\n",
    "# Dict of model parameters\n",
    "model_params={'kernel':kernel,'metric':metric,'nfold_cv':nfold_cv,\n",
    "    'model_file':model_file,'alpha':alpha,'gamma':gamma,'n_grids':n_grids}\n",
    "\n",
    "# Compile a model\n",
    "model = KRR(data_params=data_params,model_params=model_params)\n",
    "\n",
    "# Train the model\n",
    "model.train()\n",
    "\n",
    "# Plot results\n",
    "plot_result()"
   ]
  },
  {
   "cell_type": "markdown",
   "metadata": {},
   "source": [
    "***\n",
    "#### 3c. Gaussian Process Regression"
   ]
  },
  {
   "cell_type": "code",
   "execution_count": null,
   "metadata": {},
   "outputs": [],
   "source": [
    "from matsml.models import GPR\n",
    "\n",
    "# Model parameters\n",
    "nfold_cv=5                         # Number of folds for cross validation\n",
    "model_file='model_gpr.pkl'         # Name of the model file to be created\n",
    "verbosity=0\n",
    "rmse_cv=True                       # Compute CV RMSE or not\n",
    "n_restarts_optimizer=100           # Number of optimizer start\n",
    "\n",
    "# Dict of model parameters\n",
    "model_params={'metric':metric,'nfold_cv':nfold_cv,\n",
    "    'n_restarts_optimizer':n_restarts_optimizer,'model_file':model_file,\n",
    "    'verbosity':verbosity,'rmse_cv':rmse_cv}\n",
    "\n",
    "# Compile a model\n",
    "model=GPR(data_params=data_params,model_params=model_params)\n",
    "\n",
    "# Train the model\n",
    "model.train()\n",
    "\n",
    "# Plot results\n",
    "plot_result()"
   ]
  },
  {
   "cell_type": "code",
   "execution_count": null,
   "metadata": {},
   "outputs": [],
   "source": []
  }
 ],
 "metadata": {
  "kernelspec": {
   "display_name": "tf",
   "language": "python",
   "name": "tf"
  },
  "language_info": {
   "codemirror_mode": {
    "name": "ipython",
    "version": 3
   },
   "file_extension": ".py",
   "mimetype": "text/x-python",
   "name": "python",
   "nbconvert_exporter": "python",
   "pygments_lexer": "ipython3",
   "version": "3.8.11"
  }
 },
 "nbformat": 4,
 "nbformat_minor": 4
}
