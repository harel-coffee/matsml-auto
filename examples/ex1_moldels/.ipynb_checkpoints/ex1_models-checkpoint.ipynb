{
 "cells": [
  {
   "cell_type": "markdown",
   "metadata": {},
   "source": [
    "# Example 1: A quick look at 5 deterministic machine-learning models\n",
    "\n",
    "#### Huan Tran\n",
    "\n",
    "Some deterministic (non-probabilistic) ML models supported by matsML are introduced here. They models are\n",
    "1. Support Vector Regression\n",
    "2. Random Forest Regression\n",
    "3. Kernel Ridge Regression\n",
    "4. Gaussian Process Regression\n",
    "5. Fully-Connected Neural Net\n",
    "\n",
    "A simple dataset will be obtained from www.matsml.org for this example."
   ]
  },
  {
   "cell_type": "markdown",
   "metadata": {},
   "source": [
    "__Load data__\n",
    "\n",
    "This is a <em>fingerprinted</em> dataset, being ready for machine learning. It contains 192 compositions of hybrid organic-inorganic perovskites, each of them is represented by a fingerprint vector and the averaged band gap of multiple atomic structures predicted for this composition. The raw data leading to this dataset is available at https://www.nature.com/articles/sdata201757."
   ]
  },
  {
   "cell_type": "code",
   "execution_count": 1,
   "metadata": {
    "scrolled": true
   },
   "outputs": [
    {
     "name": "stdout",
     "output_type": "stream",
     "text": [
      "  matsML, v1.0.1\n",
      "  *****\n",
      "  Load requested dataset(s)\n",
      "  Data saved in fp_hoips_S1_1dest.csv.gz\n",
      "(192, 34)\n",
      "Index(['Unnamed: 0', 'ID', 'Ymean', 'MagpieData avg_dev GSvolume_pa',\n",
      "       'MatscholarElementData mean embedding 54',\n",
      "       'MatscholarElementData std_dev embedding 116',\n",
      "       'MatscholarElementData std_dev embedding 155',\n",
      "       'MatscholarElementData mean embedding 4',\n",
      "       'PymatgenData mean mendeleev_no',\n",
      "       'MatscholarElementData std_dev embedding 136',\n",
      "       'MatscholarElementData std_dev embedding 153',\n",
      "       'MatscholarElementData mean embedding 140',\n",
      "       'MatscholarElementData mean embedding 170', 'H1N4H1', 'H1N3H1',\n",
      "       'H1N3C3', 'N3C3N3', 'N3C3H1', 'H1C3C3', 'C3C3N3', 'C3N3C3', 'H1C4H1',\n",
      "       'H1C4C4', 'C4C4C4', 'C4C4N4', 'H1C4N4', 'C4N4H1', 'N4N3H1', 'H1N4N3',\n",
      "       'C4N4C4', 'H1N4O2', 'N4O2H1', 'C3C4H1', 'C4C3N3'],\n",
      "      dtype='object')\n"
     ]
    }
   ],
   "source": [
    "from matsml.data import Datasets\n",
    "import pandas as pd\n",
    "\n",
    "# obtain data\n",
    "data=Datasets(S1='fp_hoips_S1_1dest')\n",
    "data.load_dataset()\n",
    "\n",
    "# Have a look at the data fields. You will see \"ID\" is for the identification of the data points, \n",
    "# 'Ymean' is the target (the averaged band gap mentioned above), and the others are the components\n",
    "# of the fingeprint vector\n",
    "fp_data = pd.read_csv('fp_hoips_S1_1dest.csv.gz')\n",
    "print (fp_data.shape)\n",
    "print (fp_data.columns)"
   ]
  },
  {
   "cell_type": "markdown",
   "metadata": {},
   "source": [
    "__Essential parameters of the obtained dataset, given as a dict, and needed for ML models__"
   ]
  },
  {
   "cell_type": "code",
   "execution_count": 2,
   "metadata": {},
   "outputs": [],
   "source": [
    "# data parameters\n",
    "data_file ='fp_hoips_S1_1dest.csv.gz'\n",
    "id_col=['ID']\n",
    "y_cols=['Ymean']\n",
    "comment_cols=[]\n",
    "n_trains=0.9\n",
    "sampling='random'\n",
    "x_scaling='minmax'\n",
    "y_scaling='minmax'\n",
    "\n",
    "data_params={'data_file':data_file,'id_col':id_col,'y_cols':y_cols, 'comment_cols':comment_cols,\n",
    "    'y_scaling':y_scaling,'x_scaling':x_scaling,'sampling':sampling, 'n_trains':n_trains}"
   ]
  },
  {
   "cell_type": "markdown",
   "metadata": {},
   "source": [
    "__Model 1: Support Vector Regression__"
   ]
  },
  {
   "cell_type": "code",
   "execution_count": 3,
   "metadata": {},
   "outputs": [
    {
     "name": "stdout",
     "output_type": "stream",
     "text": [
      "  \n",
      "  Checking parameters\n",
      "    all passed                   True\n",
      " \n",
      "  Learning fingerprinted/featured data\n",
      "    algorithm                    support vector regression w/ scikit-learn\n",
      "    kernel                       rbf\n",
      "    regular_param                2\n",
      "    max_iter                     -1\n",
      "    nfold_cv                     5\n",
      "  Read data\n",
      "    data file                    fp_hoips_S1_1dest.csv.gz\n",
      "    data size                    192\n",
      "    training size                172 (89.6 %)\n",
      "    test size                    20 (10.4 %)\n",
      "    x dimensionality             32\n",
      "    y dimensionality             1\n",
      "    y label(s)                   ['Ymean']\n",
      "  Scaling x                      minmax\n",
      "    xscaler saved in             xscaler.pkl\n",
      "  Scaling y                      minmax\n",
      "  Prepare train/test sets        random\n",
      "  Training model w/ cross validation\n",
      "    cv,rmse_train,rmse_test,rmse_opt: 0 0.062320 0.078931 0.078931\n",
      "    cv,rmse_train,rmse_test,rmse_opt: 1 0.067054 0.072070 0.072070\n",
      "    cv,rmse_train,rmse_test,rmse_opt: 2 0.066908 0.073685 0.072070\n",
      "    cv,rmse_train,rmse_test,rmse_opt: 3 0.062854 0.077470 0.072070\n",
      "    cv,rmse_train,rmse_test,rmse_opt: 4 0.062729 0.061967 0.061967\n",
      "  RFR model trained and saved in \"model_svr.pkl\"\n",
      "  Now make predictions & invert scaling\n",
      "    unscaling y: minmax\n",
      "       rmse training     Ymean            0.269206\n",
      "    unscaling y: minmax\n",
      "       rmse test         Ymean            0.285963\n",
      "  Predictions made & saved in \"training.csv\" & \"test.csv\"\n",
      "  Plot results in \"training.csv\" & \"test.csv\"\n",
      "    training, (rmse & R2) = (0.269 & 0.933)\n",
      "    test, (rmse & R2) = (0.286 & 0.929)\n",
      "    showing Ymean\n"
     ]
    },
    {
     "data": {
      "image/png": "[encoded data removed]",
      "text/plain": [
       "<Figure size 432x432 with 1 Axes>"
      ]
     },
     "metadata": {
      "needs_background": "light"
     },
     "output_type": "display_data"
    }
   ],
   "source": [
    "from matsml.models import SVecR\n",
    "\n",
    "# Model parameters\n",
    "nfold_cv=5 \n",
    "model_file='model_svr.pkl'\n",
    "verbosity=0\n",
    "rmse_cv=False\n",
    "regular_param=2\n",
    "kernel='rbf'\n",
    "max_iter=-1\n",
    "\n",
    "model_params={'kernel':kernel,'nfold_cv':nfold_cv,'regular_param':regular_param, 'max_iter':max_iter,\n",
    "    'model_file':model_file,'verbosity':verbosity,'rmse_cv':rmse_cv}\n",
    "\n",
    "model=SVecR(data_params=data_params,model_params=model_params)\n",
    "model.train()\n",
    "model.plot(pdf_output=False)"
   ]
  },
  {
   "cell_type": "markdown",
   "metadata": {},
   "source": [
    "__Model 2: Random Forest Regression__"
   ]
  },
  {
   "cell_type": "code",
   "execution_count": 4,
   "metadata": {},
   "outputs": [
    {
     "name": "stdout",
     "output_type": "stream",
     "text": [
      "  \n",
      "  Checking parameters\n",
      "    all passed                   True\n",
      " \n",
      "  Learning fingerprinted/featured data\n",
      "    algorithm                    random forest regression w/ scikit-learn\n",
      "    nfold_cv                     5\n",
      "    n_estimators                 20\n",
      "    max_depth                    8\n",
      "    criterion                    mse\n",
      "    get_feature_importances      True\n",
      "    random_state                 11\n",
      "  Read data\n",
      "    data file                    fp_hoips_S1_1dest.csv.gz\n",
      "    data size                    192\n",
      "    training size                172 (89.6 %)\n",
      "    test size                    20 (10.4 %)\n",
      "    x dimensionality             32\n",
      "    y dimensionality             1\n",
      "    y label(s)                   ['Ymean']\n",
      "  Scaling x                      minmax\n",
      "    xscaler saved in             xscaler.pkl\n",
      "  Scaling y                      minmax\n",
      "  Prepare train/test sets        random\n",
      "  Training model w/ cross validation\n",
      "    cv,rmse_train,rmse_test,rmse_opt: 0 0.022399 0.046180 0.046180\n",
      "    cv,rmse_train,rmse_test,rmse_opt: 1 0.022101 0.046171 0.046171\n",
      "    cv,rmse_train,rmse_test,rmse_opt: 2 0.022216 0.062874 0.046171\n",
      "    cv,rmse_train,rmse_test,rmse_opt: 3 0.019279 0.061148 0.046171\n",
      "    cv,rmse_train,rmse_test,rmse_opt: 4 0.023358 0.054302 0.046171\n",
      "  RFR model trained and saved in \"model_rfr.pkl\"\n",
      "  Top 10 features by importance\n",
      "    MatscholarElementData std_dev embedding 116        importance: 0.426\n",
      "    MagpieData avg_dev GSvolume_pa                     importance: 0.214\n",
      "    MatscholarElementData std_dev embedding 136        importance: 0.095\n",
      "    MatscholarElementData mean embedding 4             importance: 0.079\n",
      "    MatscholarElementData mean embedding 54            importance: 0.063\n",
      "    MatscholarElementData std_dev embedding 155        importance: 0.042\n",
      "    MatscholarElementData mean embedding 170           importance: 0.025\n",
      "    MatscholarElementData std_dev embedding 153        importance: 0.022\n",
      "    MatscholarElementData mean embedding 140           importance: 0.017\n",
      "    PymatgenData mean mendeleev_no                     importance: 0.004\n",
      "  Now make predictions & invert scaling\n",
      "    unscaling y: minmax\n",
      "       rmse training     Ymean            0.123401\n",
      "    unscaling y: minmax\n",
      "       rmse test         Ymean            0.186584\n",
      "  Predictions made & saved in \"training.csv\" & \"test.csv\"\n",
      "  Plot results in \"training.csv\" & \"test.csv\"\n",
      "    training, (rmse & R2) = (0.123 & 0.986)\n",
      "    test, (rmse & R2) = (0.187 & 0.952)\n",
      "    showing Ymean\n"
     ]
    },
    {
     "data": {
      "image/png": "[encoded data removed]",
      "text/plain": [
       "<Figure size 432x432 with 1 Axes>"
      ]
     },
     "metadata": {
      "needs_background": "light"
     },
     "output_type": "display_data"
    }
   ],
   "source": [
    "from matsml.models import RFR\n",
    "\n",
    "# Model parameters\n",
    "nfold_cv=5\n",
    "model_file='model_rfr.pkl'\n",
    "verbosity=0\n",
    "rmse_cv=False\n",
    "n_estimators=20\n",
    "random_state=11\n",
    "criterion='mse'\n",
    "max_depth=8\n",
    "get_feature_importances=True\n",
    "\n",
    "model_params={'nfold_cv':nfold_cv,'n_estimators':n_estimators,'random_state':random_state,\n",
    "    'criterion':criterion,'max_depth':max_depth,'get_feature_importances':get_feature_importances,\n",
    "    'model_file':model_file,'verbosity':verbosity,'rmse_cv':rmse_cv}\n",
    "\n",
    "model=RFR(data_params=data_params,model_params=model_params)\n",
    "model.train()\n",
    "model.plot(pdf_output=False)"
   ]
  },
  {
   "cell_type": "markdown",
   "metadata": {},
   "source": [
    "__Model 3: Kernel Ridge Regression (KRR)__"
   ]
  },
  {
   "cell_type": "code",
   "execution_count": 5,
   "metadata": {},
   "outputs": [
    {
     "name": "stdout",
     "output_type": "stream",
     "text": [
      "  \n",
      "  Checking parameters\n",
      "    all passed                   True\n",
      " \n",
      "  Learning fingerprinted/featured data\n",
      "    algorithm                    kernel ridge regression w/ scikit-learn\n",
      "    kernel                       rbf\n",
      "    nfold_cv                     5\n",
      "    alpha                        [-2, 5]\n",
      "    gamma                        [-2, 5]\n",
      "    number of alpha/gamma grids  10\n",
      "  Read data\n",
      "    data file                    fp_hoips_S1_1dest.csv.gz\n",
      "    data size                    192\n",
      "    training size                172 (89.6 %)\n",
      "    test size                    20 (10.4 %)\n",
      "    x dimensionality             32\n",
      "    y dimensionality             1\n",
      "    y label(s)                   ['Ymean']\n",
      "  Scaling x                      minmax\n",
      "    xscaler saved in             xscaler.pkl\n",
      "  Scaling y                      minmax\n",
      "  Prepare train/test sets        random\n",
      "  Building model                 KRR\n",
      "  Training model w/ cross validation\n",
      "  KRR model trained, now make predictions & invert scaling\n",
      "    unscaling y: minmax\n",
      "       rmse training     Ymean            0.186155\n",
      "    unscaling y: minmax\n",
      "       rmse test         Ymean            0.317096\n",
      "  Predictions made & saved in \"training.csv\" & \"test.csv\"\n",
      "  Plot results in \"training.csv\" & \"test.csv\"\n",
      "    training, (rmse & R2) = (0.186 & 0.967)\n",
      "    test, (rmse & R2) = (0.317 & 0.920)\n",
      "    showing Ymean\n"
     ]
    },
    {
     "data": {
      "image/png": "[encoded data removed]",
      "text/plain": [
       "<Figure size 432x432 with 1 Axes>"
      ]
     },
     "metadata": {
      "needs_background": "light"
     },
     "output_type": "display_data"
    }
   ],
   "source": [
    "from matsml.models import KRR\n",
    "\n",
    "# Model parameters\n",
    "nfold_cv = 5\n",
    "model_file = 'model_krr.pkl'\n",
    "alpha = [-2,5]\n",
    "gamma = [-2,5]\n",
    "n_grids = 10\n",
    "kernel = 'rbf'\n",
    "\n",
    "model_params={'kernel':kernel,'nfold_cv':nfold_cv,'model_file':model_file,'alpha':alpha,\n",
    "    'gamma':gamma,'n_grids':n_grids}\n",
    "\n",
    "model = KRR(data_params=data_params,model_params=model_params)\n",
    "model.train()\n",
    "model.plot(pdf_output=False)"
   ]
  },
  {
   "cell_type": "markdown",
   "metadata": {},
   "source": [
    "__Model 4: Gaussian Process Regression__"
   ]
  },
  {
   "cell_type": "code",
   "execution_count": 6,
   "metadata": {},
   "outputs": [
    {
     "name": "stdout",
     "output_type": "stream",
     "text": [
      "  \n",
      "  Checking parameters\n",
      "    all passed                   True\n",
      " \n",
      "  Learning fingerprinted/featured data\n",
      "    algorithm                    gaussian process regression w/ scikit-learn\n",
      "    nfold_cv                     5\n",
      "    optimizer                    fmin_l_bfgs_b\n",
      "    n_restarts_optimizer         100\n",
      "    rmse_cv                      True\n",
      "  Read data\n",
      "    data file                    fp_hoips_S1_1dest.csv.gz\n",
      "    data size                    192\n",
      "    training size                172 (89.6 %)\n",
      "    test size                    20 (10.4 %)\n",
      "    x dimensionality             32\n",
      "    y dimensionality             1\n",
      "    y label(s)                   ['Ymean']\n",
      "  Scaling x                      minmax\n",
      "    xscaler saved in             xscaler.pkl\n",
      "  Scaling y                      minmax\n",
      "  Prepare train/test sets        random\n",
      "  Training model w/ cross validation\n",
      "    cv,rmse_train,rmse_test,rmse_opt: 0 0.020118 0.034120 0.034120\n",
      "    unscaling y: minmax\n",
      "       rmse cv_test      Ymean            0.146779\n",
      "    cv,rmse_train,rmse_test,rmse_opt: 1 0.016859 0.040843 0.034120\n",
      "    unscaling y: minmax\n",
      "       rmse cv_test      Ymean            0.175702\n",
      "    cv,rmse_train,rmse_test,rmse_opt: 2 0.019410 0.038437 0.034120\n",
      "    unscaling y: minmax\n",
      "       rmse cv_test      Ymean            0.165348\n",
      "    cv,rmse_train,rmse_test,rmse_opt: 3 0.018702 0.031402 0.031402\n",
      "    unscaling y: minmax\n",
      "       rmse cv_test      Ymean            0.135085\n",
      "    cv,rmse_train,rmse_test,rmse_opt: 4 0.020163 0.032842 0.031402\n",
      "    unscaling y: minmax\n",
      "       rmse cv_test      Ymean            0.141281\n",
      "  GPR model trained, now make predictions & invert scaling\n",
      "    unscaling y: minmax\n",
      "       rmse training     Ymean            0.087482\n",
      "    unscaling y: minmax\n",
      "       rmse test         Ymean            0.09733\n",
      "  Predictions made & saved in \"training.csv\" & \"test.csv\"\n",
      "  Plot results in \"training.csv\" & \"test.csv\"\n",
      "    training, (rmse & R2) = (0.087 & 0.993)\n",
      "    test, (rmse & R2) = (0.097 & 0.991)\n",
      "    showing Ymean\n"
     ]
    },
    {
     "data": {
      "image/png": "[encoded data removed]",
      "text/plain": [
       "<Figure size 432x432 with 1 Axes>"
      ]
     },
     "metadata": {
      "needs_background": "light"
     },
     "output_type": "display_data"
    }
   ],
   "source": [
    "from matsml.models import GPR\n",
    "\n",
    "# Model parameters\n",
    "nfold_cv=5\n",
    "model_file='model_gpr.pkl'\n",
    "verbosity=0\n",
    "rmse_cv=True\n",
    "n_restarts_optimizer=100\n",
    "\n",
    "model_params={'nfold_cv':nfold_cv,'n_restarts_optimizer':n_restarts_optimizer,'model_file':model_file,\n",
    "    'verbosity':verbosity,'rmse_cv':rmse_cv}\n",
    "\n",
    "model=GPR(data_params=data_params,model_params=model_params)\n",
    "model.train()\n",
    "model.plot(pdf_output=False)"
   ]
  },
  {
   "cell_type": "markdown",
   "metadata": {},
   "source": [
    "__Model 5: Fully-Connected Neural Net__"
   ]
  },
  {
   "cell_type": "code",
   "execution_count": null,
   "metadata": {},
   "outputs": [
    {
     "name": "stdout",
     "output_type": "stream",
     "text": [
      "  \n",
      "  Checking parameters\n",
      "    all passed                   True\n",
      " \n",
      "  Learning fingerprinted/featured data\n",
      "    algorithm                    fully connected NeuralNet w/ TensorFlow\n",
      "    layers                       [5, 5]\n",
      "    activ_funct                  elu\n",
      "    epochs                       300\n",
      "    optimizer                    nadam\n",
      "    nfold_cv                     5\n",
      "  Read data\n",
      "    data file                    fp_hoips_S1_1dest.csv.gz\n",
      "    data size                    192\n",
      "    training size                172 (89.6 %)\n",
      "    test size                    20 (10.4 %)\n",
      "    x dimensionality             32\n",
      "    y dimensionality             1\n",
      "    y label(s)                   ['Ymean']\n",
      "  Scaling x                      minmax\n",
      "    xscaler saved in             xscaler.pkl\n",
      "  Scaling y                      minmax\n",
      "  Prepare train/test sets        random\n",
      "  Building model                 FCNN\n",
      "  Training model w/ cross validation\n",
      "    cv,rmse_train,rmse_test,rmse_opt: 0 0.046565 0.058864 0.058864\n",
      "    cv,rmse_train,rmse_test,rmse_opt: 1 0.032680 0.040572 0.040572\n"
     ]
    }
   ],
   "source": [
    "from matsml.models import FCNN\n",
    "\n",
    "# model parameters\n",
    "layers=[5,5]\n",
    "epochs=300\n",
    "nfold_cv=5\n",
    "use_bias=True\n",
    "model_file='model_fcnn.pkl'\n",
    "loss='mse'\n",
    "verbosity=0\n",
    "batch_size=32\n",
    "activ_funct='elu'\n",
    "optimizer='nadam'\n",
    "\n",
    "model_params={'layers':layers,'activ_funct':activ_funct,'epochs':epochs,'nfold_cv':nfold_cv,\n",
    "    'optimizer':optimizer,'use_bias':use_bias,'model_file':model_file,'loss':loss,\n",
    "    'batch_size':batch_size,'verbosity':verbosity,'rmse_cv':False}\n",
    "\n",
    "model=FCNN(data_params=data_params,model_params=model_params)\n",
    "model.train()\n",
    "model.plot(pdf_output=False)"
   ]
  }
 ],
 "metadata": {
  "kernelspec": {
   "display_name": "Python 3",
   "language": "python",
   "name": "python3"
  },
  "language_info": {
   "codemirror_mode": {
    "name": "ipython",
    "version": 3
   },
   "file_extension": ".py",
   "mimetype": "text/x-python",
   "name": "python",
   "nbconvert_exporter": "python",
   "pygments_lexer": "ipython3",
   "version": "3.9.7"
  }
 },
 "nbformat": 4,
 "nbformat_minor": 4
}
